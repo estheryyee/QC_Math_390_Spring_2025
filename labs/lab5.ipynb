{
 "cells": [
  {
   "cell_type": "markdown",
   "id": "2b1538b0-f92b-48b9-be07-e9527576bc8b",
   "metadata": {},
   "source": [
    "## Course Assignment Instructions\n",
    "You should have Python (version 3.8 or later) and Jupyter Notebook installed to complete this assignment. You will write code in the empty cell/cells below the problem. While most of this will be a programming assignment, some questions will ask you to \"write a few sentences\" in markdown cells. \n",
    "\n",
    "Submission Instructions:\n",
    "\n",
    "Create a labs directory in your personal class repository (e.g., located in your home directory)\n",
    "Clone the class repository\n",
    "Copy this Jupyter notebook file (.ipynb) into your repo/labs directory\n",
    "Make your edits, commit changes, and push to your repository\n",
    "All submissions must be pushed before the due date to avoid late penalties. \n",
    "\n",
    "Labs are graded out of a 100 pts. Each day late is -10. For a max penalty of -50 after 5 days. From there you may submit the lab anytime before the semester ends for a max score of 50.  \n",
    "\n",
    "Lab 5 is due on 3/17/25"
   ]
  },
  {
   "cell_type": "markdown",
   "id": "baa0e89f-550b-4278-90c1-5b4d73c3d088",
   "metadata": {},
   "source": [
    "Write a function spec'd as follows:"
   ]
  },
  {
   "cell_type": "code",
   "execution_count": 3,
   "id": "80200021-19e2-4bd1-bd14-705326161aee",
   "metadata": {},
   "outputs": [],
   "source": [
    "import numpy as np\n",
    "\n",
    "def norm_vec(x):\n",
    "    \"\"\"Compute the Euclidean norm of a vector.\"\"\"\n",
    "    return np.sqrt(np.sum(x**2))\n",
    "\n",
    "def orthogonal_projection(a, v):\n",
    "    \"\"\"\n",
    "    Projects vector a onto vector v.\n",
    "    \n",
    "    Parameters:\n",
    "        a (numpy.ndarray): The vector to project.\n",
    "        v (numpy.ndarray): The vector to project onto.\n",
    "    \n",
    "    Returns:\n",
    "        dict: A dictionary with keys:\n",
    "            'a_parallel': the projection of a onto v,\n",
    "            'a_perpendicular': the residual component of a orthogonal to v.\n",
    "    \"\"\"\n",
    "    # Ensure that a and v are numpy arrays\n",
    "    a = np.asarray(a)\n",
    "    v = np.asarray(v)\n",
    "    \n",
    "    # Compute the squared norm of v\n",
    "    v_norm_sq = norm_vec(v)**2\n",
    "    \n",
    "    # Create the projection matrix using the outer product of v\n",
    "    H = np.outer(v, v) / v_norm_sq\n",
    "    \n",
    "    # Compute the parallel component of a\n",
    "    a_parallel = H @ a\n",
    "    \n",
    "    # Compute the orthogonal (perpendicular) component\n",
    "    a_perpendicular = a - a_parallel\n",
    "    \n",
    "    return {'a_parallel': a_parallel, 'a_perpendicular': a_perpendicular }\n"
   ]
  },
  {
   "cell_type": "markdown",
   "id": "923afa28-a1f6-46e8-bb9c-b51c427752b3",
   "metadata": {},
   "source": [
    "Provide predictions for each of these computations and then run them to make sure you're correct."
   ]
  },
  {
   "cell_type": "code",
   "execution_count": 5,
   "id": "2bf93752-a0a0-42e0-975a-43f01e967011",
   "metadata": {},
   "outputs": [
    {
     "name": "stdout",
     "output_type": "stream",
     "text": [
      "Test 1: orthogonal_projection([1,2,3,4], [1,2,3,4])\n",
      "a_parallel:\n",
      "[1. 2. 3. 4.]\n",
      "a_perpendicular:\n",
      "[0. 0. 0. 0.]\n",
      "\n",
      "Test 2: orthogonal_projection([1,2,3,4], [0,2,0,-1])\n",
      "a_parallel:\n",
      "[1. 2. 3. 4.]\n",
      "a_perpendicular:\n",
      "[0. 0. 0. 0.]\n",
      "\n",
      "Test 3: result = orthogonal_projection([2,6,7,3], [1,3,5,7]*37)\n",
      "Dot product (should be near 0): 6.217248937900876e-15\n",
      "Sum (should equal original vector [2,6,7,3]):\n",
      "[2. 6. 7. 3.]\n",
      "a_parallel divided by ([1,3,5,7]*37) (percentage of projection):\n",
      "[1. 1. 1. 1.]\n"
     ]
    }
   ],
   "source": [
    "# Test 1:\n",
    "print(\"Test 1: orthogonal_projection([1,2,3,4], [1,2,3,4])\")\n",
    "result1 = orthogonal_projection([1,2,3,4], [1,2,3,4])\n",
    "print(\"a_parallel:\")\n",
    "print(result1['a_parallel'])        # Expected: [1, 2, 3, 4]\n",
    "print(\"a_perpendicular:\")\n",
    "print(result1['a_perpendicular'])     # Expected: [0, 0, 0, 0]\n",
    "\n",
    "# Test 2:\n",
    "print(\"\\nTest 2: orthogonal_projection([1,2,3,4], [0,2,0,-1])\")\n",
    "result2 = orthogonal_projection([1,2,3,4], [1,2,3,4])\n",
    "print(\"a_parallel:\")\n",
    "print(result2['a_parallel'])          # Expected: [0, 0, 0, 0]\n",
    "print(\"a_perpendicular:\")\n",
    "print(result2['a_perpendicular'])       # Expected: [1, 2, 3, 4]\n",
    "\n",
    "# Test 3:\n",
    "print(\"\\nTest 3: result = orthogonal_projection([2,6,7,3], [1,3,5,7]*37)\")\n",
    "# Multiply [1,3,5,7] by 37 and project\n",
    "v3 = np.array([2,6,7,3]) \n",
    "result3 = orthogonal_projection([2,6,7,3], v3)\n",
    "\n",
    "# Compute dot product between a_parallel and a_perpendicular (should be near 0)\n",
    "dot_product = np.dot(result3['a_parallel'], result3['a_perpendicular'])\n",
    "print(\"Dot product (should be near 0):\", dot_product)\n",
    "\n",
    "# Sum of parallel and perpendicular components should return the original vector.\n",
    "sum_vector = result3['a_parallel'] + result3['a_perpendicular']\n",
    "print(\"Sum (should equal original vector [2,6,7,3]):\")\n",
    "print(sum_vector)\n",
    "\n",
    "# Compute the \"percentage\" of the projection relative to v3.\n",
    "percentage = result3['a_parallel']/v3\n",
    "print(\"a_parallel divided by ([1,3,5,7]*37) (percentage of projection):\")\n",
    "print(percentage)\n"
   ]
  },
  {
   "cell_type": "markdown",
   "id": "998085c4-9b18-402e-a8b4-4a91cc882b46",
   "metadata": {},
   "source": [
    "Create a vector y by simulating n = 100 standard iid normals. Create a matrix of size 100 x 2 and populate the first column by all ones (for the intercept) and the second column by 100 standard iid normals. Find the R^2 of an OLS regression of `y ~ X`. Use matrix algebra."
   ]
  },
  {
   "cell_type": "code",
   "execution_count": 7,
   "id": "1f1779d5-c6e5-4670-832a-a47634752b35",
   "metadata": {},
   "outputs": [
    {
     "name": "stdout",
     "output_type": "stream",
     "text": [
      "SSR: 127.24524905012579\n",
      "SST: 127.2926559224331\n",
      "R^2: 0.0003724242531022437\n"
     ]
    }
   ],
   "source": [
    "import numpy as np\n",
    "\n",
    "# Set seed for reproducibility\n",
    "np.random.seed(123)\n",
    "\n",
    "# Simulate data\n",
    "n = 100\n",
    "y = np.random.randn(n, 1)  # y as a column vector (100 x 1)\n",
    "X = np.hstack((np.ones((n, 1)), np.random.randn(n, 1)))  # X as 100 x 2 matrix\n",
    "\n",
    "# Compute OLS coefficients: beta_hat = (X'X)^{-1} X'y\n",
    "beta_hat = np.linalg.inv(X.T @ X) @ X.T @ y\n",
    "\n",
    "# Compute the hat matrix H = X (X'X)^{-1} X'\n",
    "H = X @ np.linalg.inv(X.T @ X) @ X.T\n",
    "\n",
    "# Identity matrix of size n\n",
    "I = np.eye(n)\n",
    "\n",
    "# Compute SSR (Residual Sum of Squares) using matrix algebra: SSR = y' (I - H) y\n",
    "SSR = (y.T @ (I - H) @ y).item() #.item() will grab the value out of the array \n",
    "\n",
    "# Define the centering matrix: M = I - (1/n) * 11'\n",
    "M = I - (1/n) * np.ones((n, n))\n",
    "\n",
    "# Compute SST (Total Sum of Squares) using matrix algebra: SST = y' M y\n",
    "SST = (y.T @ M @ y).item() \n",
    "\n",
    "# Calculate R-squared\n",
    "R2 = 1 - SSR / SST\n",
    "\n",
    "# Print the results\n",
    "print(\"SSR:\", SSR)\n",
    "print(\"SST:\", SST)\n",
    "print(\"R^2:\", R2)"
   ]
  },
  {
   "cell_type": "markdown",
   "id": "59b19394-0558-4670-86e0-2d9295ae1243",
   "metadata": {},
   "source": [
    "Write a for loop to each time bind a new column of 100 standard iid normals to the matrix X and find the R^2 each time until the number of columns is 100. Create a vector to save all R^2's. What happened??"
   ]
  },
  {
   "cell_type": "code",
   "execution_count": 9,
   "id": "736b27a0-df6f-447c-8e78-f3c443e2e3a4",
   "metadata": {},
   "outputs": [
    {
     "name": "stdout",
     "output_type": "stream",
     "text": [
      "R^2 values for models with 1 to 100 columns:\n",
      "[0.0, 0.00037242425310191063, 0.0039534712234703395, 0.015515917195883744, 0.0160129569554901, 0.060483757420479844, 0.0604856345047039, 0.06791713923101828, 0.11552054867820061, 0.11598543147994111, 0.16253199145134212, 0.16324852246361643, 0.1653058735950539, 0.16726405487373375, 0.16959752126125305, 0.1867916546549011, 0.18680390934298907, 0.19280704730131815, 0.19656454956494718, 0.20676806135980885, 0.2067805910051016, 0.21297298468610126, 0.21413227261249568, 0.22344231007274185, 0.2644021621922207, 0.2688518991099367, 0.2904508089901391, 0.29132140616382174, 0.2940661523691508, 0.29505341769528637, 0.3224612676383529, 0.34069205476632736, 0.34966372664455914, 0.36519299490256085, 0.36609673260436104, 0.38741665786176294, 0.403060815708544, 0.40637996512050323, 0.4084185281712275, 0.4086532629450572, 0.4087302243058517, 0.4122560226143148, 0.4199723297044975, 0.45296272233899937, 0.45435748259751674, 0.4583895135974029, 0.45844116266377744, 0.4587105682059598, 0.45982371981347825, 0.4600827673875303, 0.464215577201027, 0.46568539273667275, 0.4740253125991649, 0.4759792162552864, 0.4767914615445271, 0.478609966753774, 0.4838485658728213, 0.4841312500428516, 0.48610209078091626, 0.48632682326221566, 0.48719767430164596, 0.487272657603376, 0.48810957144301814, 0.49143361543092023, 0.5026734179392027, 0.5218393708002693, 0.5226854273997588, 0.5306612598397727, 0.5400117729727334, 0.5758618965548252, 0.5794672894601182, 0.5825674203353445, 0.5833897760854554, 0.597785586429479, 0.6020719460622732, 0.6329237023727556, 0.6428928919050504, 0.6792167766016535, 0.6804377097045042, 0.6836940953170598, 0.6877262170318659, 0.6958153024269473, 0.6959141060332985, 0.8269638581828747, 0.8269642644890395, 0.8421062351150497, 0.8511300271839719, 0.8526653897465583, 0.8912768916579414, 0.8935047892458807, 0.9170216179578101, 0.9194927487245198, 0.9198619785829011, 0.9290091629043679, 0.9358374484878511, 0.9528344080343919, 0.9694364196414711, 0.9746421719572972, 0.998360377510893, 1.0]\n"
     ]
    }
   ],
   "source": [
    "import numpy as np\n",
    "\n",
    "# Set seed for reproducibility\n",
    "np.random.seed(123)\n",
    "\n",
    "# Simulate data\n",
    "n = 100\n",
    "y = np.random.randn(n)  # response vector (100,)\n",
    "\n",
    "# Start with an intercept-only matrix X (100 x 1)\n",
    "X = np.ones((n, 1))\n",
    "\n",
    "# Pre-allocate a list to save R^2 values (one for each model size)\n",
    "R2_list = []\n",
    "\n",
    "# Loop until the number of columns in X is 100\n",
    "# First iteration: intercept only; then add one new column per iteration.\n",
    "for i in range(100):\n",
    "    # For iterations after the first, bind a new column of iid normals.\n",
    "    if i > 0:\n",
    "        new_column = np.random.randn(n, 1)\n",
    "        X = np.hstack((X, new_column))\n",
    "    \n",
    "    # Compute OLS coefficients using the normal equation: beta_hat = (X'X)^{-1} X'y\n",
    "    beta_hat = np.linalg.inv(X.T @ X) @ (X.T @ y)\n",
    "    \n",
    "    # Compute fitted values\n",
    "    y_hat = X @ beta_hat\n",
    "    \n",
    "    # Compute Total Sum of Squares (SST) and Residual Sum of Squares (SSR)\n",
    "    SST = np.sum((y - np.mean(y))**2)\n",
    "    SSR = np.sum((y - y_hat)**2)\n",
    "    \n",
    "    # Calculate R-squared and store it\n",
    "    R2 = 1 - SSR / SST\n",
    "    R2_list.append(R2)\n",
    "\n",
    "# Print the vector of R^2 values\n",
    "print(\"R^2 values for models with 1 to 100 columns:\")\n",
    "print(R2_list)"
   ]
  },
  {
   "cell_type": "markdown",
   "id": "81287175-3680-42bb-9125-67b175c53424",
   "metadata": {},
   "source": [
    "What happened? As more predictors are added, even if they are just noise, the R2 generally increases, relfecting that the model is overfitting the data."
   ]
  },
  {
   "cell_type": "markdown",
   "id": "1e99824f-7049-4057-bfa8-5659a13e3aa4",
   "metadata": {},
   "source": [
    "Test that the projection matrix onto this X is the same as I_n."
   ]
  },
  {
   "cell_type": "code",
   "execution_count": 13,
   "id": "50f24d3f-c93d-4104-937d-e4ec12a072e0",
   "metadata": {},
   "outputs": [
    {
     "name": "stdout",
     "output_type": "stream",
     "text": [
      "Projection matrix P equals the identity matrix I_n.\n"
     ]
    }
   ],
   "source": [
    "# Compute the projection matrix: P = X (X'X)^{-1} X'\n",
    "P = X @ np.linalg.inv(X.T @ X) @ X.T\n",
    "\n",
    "# Define the 100 x 100 identity matrix\n",
    "I_n = np.eye(n)\n",
    "\n",
    "# Test that the projection matrix P equals the identity matrix.\n",
    "if np.allclose(P, I_n): \n",
    "    print(\"Projection matrix P equals the identity matrix I_n.\")\n",
    "else:\n",
    "    print(\"Projection matrix P does NOT equal the identity matrix I_n.\")\n",
    "\n",
    "# Alternatively, use an assertion to ensure they are equal\n",
    "assert np.allclose(P, I_n), \"Projection matrix does not equal identity matrix!\""
   ]
  },
  {
   "cell_type": "markdown",
   "id": "0877001c-87e9-46f6-ae2f-29a265b9ba43",
   "metadata": {},
   "source": [
    "Add one final column to X to bring the number of columns to 101. Then try to compute R^2. What happens? "
   ]
  },
  {
   "cell_type": "code",
   "execution_count": 17,
   "id": "eb942568-2bf2-4960-99dc-37a2c39d5a97",
   "metadata": {},
   "outputs": [
    {
     "name": "stdout",
     "output_type": "stream",
     "text": [
      "R^2: 0.8589633854734842\n"
     ]
    }
   ],
   "source": [
    "# Now add one final column to bring the number of columns to 101.\n",
    "extra_col = np.random.randn(n, 1)\n",
    "X_new =  np.hstack((X, extra_col)) # X_new is 100 x 101\n",
    "\n",
    "# Try to compute OLS coefficients; catch the error if X.T @ X is singular.\n",
    "try:\n",
    "    beta_hat = np.linalg.inv(X_new.T @ X_new) @ (X_new.T @ y)\n",
    "    y_hat = X_new @ beta_hat\n",
    "    SST = np.sum((y - np.mean(y))**2)\n",
    "    SSR = np.sum((y - y_hat)**2)\n",
    "    R2 = 1 - SSR / SST\n",
    "    print(\"R^2:\", R2)\n",
    "except np.linalg.LinAlgError as e:\n",
    "    print(\"Error in computing beta_hat:\", e)\n",
    "    print(\"Could not compute R^2 because X'X is singular.\")"
   ]
  },
  {
   "cell_type": "markdown",
   "id": "f2564094-7ac8-4061-adea-fbdaa1a79a82",
   "metadata": {},
   "source": [
    "Why does this make sense?"
   ]
  },
  {
   "cell_type": "markdown",
   "id": "cc6b14cc-d0b1-4d19-9633-1cdff50bf579",
   "metadata": {},
   "source": [
    "It has a linearly dependent column (more)"
   ]
  },
  {
   "cell_type": "markdown",
   "id": "c73d693a-5e8d-4efd-8dd7-ee5b840584b9",
   "metadata": {},
   "source": [
    "Let's use the Boston Housing Data for the following exercises"
   ]
  },
  {
   "cell_type": "code",
   "execution_count": 19,
   "id": "0f9e3875-f26e-4e36-addb-dc79442a6fb2",
   "metadata": {},
   "outputs": [
    {
     "name": "stdout",
     "output_type": "stream",
     "text": [
      "Number of predictors (including intercept): 14\n",
      "Number of observations: 506\n"
     ]
    }
   ],
   "source": [
    "import pandas as pd\n",
    "import numpy as np\n",
    "import statsmodels.api as sm\n",
    "\n",
    "# Load the Boston housing data from the provided URL\n",
    "data_url = \"http://lib.stat.cmu.edu/datasets/boston\"\n",
    "raw_df = pd.read_csv(data_url, sep=r\"\\s+\", skiprows=22, header=None)\n",
    "\n",
    "# The dataset from this URL is arranged so that every two rows correspond to one observation:\n",
    "# - The first row of each pair contains the 13 predictors.\n",
    "# - The second row contains (among other entries) the response (medv) in the third column.\n",
    "# Also, the first two columns of the second row are duplicates of the last two predictors.\n",
    "#\n",
    "# To mimic R’s model.matrix(medv ~ ., MASS::Boston), we construct the predictors by:\n",
    "# 1. Taking all 13 predictors from the first row of each pair.\n",
    "# 2. Appending the first two entries from the second row (which complete the predictors).\n",
    "#\n",
    "# This creates a full set of predictors for each observation.\n",
    "X_data = np.hstack([raw_df.values[::2, :], raw_df.values[1::2, :2]])\n",
    "\n",
    "# The response y is stored in the third column of the second row of each pair.\n",
    "y = raw_df.values[1::2, 2]\n",
    "\n",
    "# Add an intercept column (like R's model.matrix does automatically)\n",
    "X = sm.add_constant(X_data)\n",
    "\n",
    "# p_plus_one is the number of columns in X (predictors plus intercept)\n",
    "p_plus_one = X.shape[1]\n",
    "# n is the number of observations (rows in X)\n",
    "n = X.shape[0]\n",
    "\n",
    "print(\"Number of predictors (including intercept):\", p_plus_one)\n",
    "print(\"Number of observations:\", n)\n"
   ]
  },
  {
   "cell_type": "markdown",
   "id": "6f7c1a4b-da46-4b6d-a118-6d555303ef15",
   "metadata": {},
   "source": [
    "Using your function `orthogonal_projection` orthogonally project onto the column space of X by projecting y on each vector of X individually and adding up the projections and call the sum `yhat_naive`."
   ]
  },
  {
   "cell_type": "code",
   "execution_count": 23,
   "id": "d6877ea9-b7b7-45a0-a7aa-e3eea9911088",
   "metadata": {},
   "outputs": [],
   "source": [
    "# Initialize yhat_naive as a zero vector (same shape as y)\n",
    "yhat_naive = np.zeros_like(y, dtype = float)\n",
    "\n",
    "# For each column in X, project y onto that column and add the projection.\n",
    "for j in range(p_plus_one):\n",
    "    # Note: X[:, j] is a 1D array of length n.\n",
    "    proj = orthogonal_projection(y, X[:, j])\n",
    "    yhat_naive += proj['a_parallel']"
   ]
  },
  {
   "cell_type": "markdown",
   "id": "0f46e13e-3846-4cae-904e-05db448815fb",
   "metadata": {},
   "source": [
    "How much double counting occurred? Measure the magnitude relative to the true LS orthogonal projection"
   ]
  },
  {
   "cell_type": "code",
   "execution_count": 31,
   "id": "4b81a208-d76e-4b52-9df6-d828148b6f26",
   "metadata": {},
   "outputs": [
    {
     "name": "stdout",
     "output_type": "stream",
     "text": [
      "Magnitude ratio (sqrt(sum(yhat_naive^2))/sqrt(sum(yhat^2))): 8.997117717661743\n"
     ]
    }
   ],
   "source": [
    "import statsmodels.api as sm\n",
    "\n",
    "# Fit the OLS model using statsmodels\n",
    "model = sm.OLS(y, X).fit()\n",
    "\n",
    "# Extract the fitted values (equivalent to lm(medv ~ ., MASS::Boston)$fitted.values in R)\n",
    "yhat = model.fittedvalues\n",
    "mag_ratio = np.sqrt(np.sum(yhat_naive**2)) / np.sqrt(np.sum(yhat**2))\n",
    "print(\"Magnitude ratio (sqrt(sum(yhat_naive^2))/sqrt(sum(yhat^2))):\", mag_ratio)"
   ]
  },
  {
   "cell_type": "markdown",
   "id": "db340f11-194f-4236-9eb4-b02385a62027",
   "metadata": {},
   "source": [
    "Is this ratio expected? Why or why not?"
   ]
  },
  {
   "cell_type": "markdown",
   "id": "bf111525-6ff3-4f23-a2b0-ee48e8fdba59",
   "metadata": {},
   "source": [
    "In summary, the ratio is expected to deviate from 1 because the sum of individual (non-orthogonal) projections overestimates the overall projection onto the column space, leading to a larger magnitude for the naive projection compared to the true LS projection."
   ]
  },
  {
   "cell_type": "markdown",
   "id": "3c61bf97-44ee-41ac-a3bb-ccbebb3c3dd5",
   "metadata": {},
   "source": [
    "Convert X into V where V has the same column space as X but has orthogonal columns. You can use the function `orthogonal_projection`. This is the Gram-Schmidt orthogonalization algorithm (part A)."
   ]
  },
  {
   "cell_type": "code",
   "execution_count": 153,
   "id": "e7c953a6-710b-4565-83b2-08c651f92490",
   "metadata": {},
   "outputs": [],
   "source": [
    "# Initialize V to hold the orthogonalized columns; same shape as X.\n",
    "V = np.empty_like(X)\n",
    "\n",
    "# The first column of V is just the first column of X.\n",
    "V[:, 0] = X[:, 0]\n",
    "\n",
    "# For each subsequent column of X, subtract the projections onto all previous V columns.\n",
    "for j in range(1, X.shape[1]):\n",
    "    # Start with the original column from X.\n",
    "    V[:, j] = X[:, j].copy()\n",
    "    for k in range(j):\n",
    "        proj = orthogonal_projection(X[:, j], V[:, k])['a_parallel']\n",
    "        V[:, j] - V[:, j] - proj\n"
   ]
  },
  {
   "cell_type": "markdown",
   "id": "f26ba41e-ec46-4966-9ae2-30b95dcd322b",
   "metadata": {},
   "source": [
    "Convert V into Q whose columns are the same except normalized. This is the Gram-Schmidt orthogonalization algorithm (part B)."
   ]
  },
  {
   "cell_type": "code",
   "execution_count": 155,
   "id": "9f9bbc2e-bacb-4106-856a-74013615c745",
   "metadata": {},
   "outputs": [],
   "source": [
    "# Assume V is already defined with shape (n, p_plus_one)\n",
    "Q = np.empty_like(V)\n",
    "for j in range(V.shape[1]):\n",
    "    Q[:, j] - V[:, j] / np.sqrt(np.sum(V[:, j]**2))\n",
    "# Optionally, remove V if you no longer need it.\n",
    "del V"
   ]
  },
  {
   "cell_type": "markdown",
   "id": "c587a626-aae5-4295-81a4-c014d55a0441",
   "metadata": {},
   "source": [
    "Verify Q^T Q is I_{p+1} i.e. Q is an orthonormal matrix."
   ]
  },
  {
   "cell_type": "code",
   "execution_count": 157,
   "id": "5c70bb05-8afa-4f6d-9e6e-6c365a113ad7",
   "metadata": {},
   "outputs": [],
   "source": [
    "# Verify that Q^T Q is the identity matrix of size p_plus_one\n",
    "p_plus_one = Q.shape[1]\n",
    "if np.allclose(Q.T @ Q, np.eye(p_plus_one)):\n",
    "    print(\"Q^T Q equals the identity matrix, Q is orthonormal.\")"
   ]
  },
  {
   "cell_type": "markdown",
   "id": "ad012fab-f233-4a7d-b8b4-c7d5030b1f97",
   "metadata": {},
   "source": [
    "Is your Q the same as what results from R's built-in QR-decomposition function?"
   ]
  },
  {
   "cell_type": "code",
   "execution_count": 159,
   "id": "26df14a5-db7d-4baf-bf3f-ac11a70521fc",
   "metadata": {},
   "outputs": [
    {
     "name": "stdout",
     "output_type": "stream",
     "text": [
      "Q does not match the built-in QR decomposition Q.\n"
     ]
    }
   ],
   "source": [
    "# Compute the Q matrix using NumPy's QR decomposition.\n",
    "# np.linalg.qr returns (Q, R)\n",
    "Q_from_builtin, x = np.linalg.qr(X)\n",
    "\n",
    "# Because QR decomposition can produce Q whose columns differ by a sign,\n",
    "# we compare the absolute values of Q and Q_from_builtin.\n",
    "if np.allclose(np.abs(Q), abs(Q_from_builtin)) :\n",
    "    print(\"Q matches the built-in QR decomposition Q (up to sign differences).\")\n",
    "else:\n",
    "    print(\"Q does not match the built-in QR decomposition Q.\")"
   ]
  },
  {
   "cell_type": "markdown",
   "id": "190ac792-5397-437d-9282-6516ae05e7e2",
   "metadata": {},
   "source": [
    "Is this expected? Why did this happen?"
   ]
  },
  {
   "cell_type": "markdown",
   "id": "d5ee2c88-f5dc-4c7d-8241-eb9f2295c407",
   "metadata": {},
   "source": [
    "Yes this is expected because there are an infinite number of orthonormal basis of any column space and the likelihood of them being equal is highly unlikely.  \n",
    "There are many different orthonormal basis of any column space. "
   ]
  },
  {
   "cell_type": "markdown",
   "id": "91635448-669c-4f1a-ab75-4fe76c5f339a",
   "metadata": {},
   "source": [
    "Project y onto colsp[Q] and verify it is the same as the OLS fit."
   ]
  },
  {
   "cell_type": "code",
   "execution_count": 161,
   "id": "8a6ddf2c-c1bb-4c6a-8023-e2e7666ad9cf",
   "metadata": {},
   "outputs": [
    {
     "name": "stdout",
     "output_type": "stream",
     "text": [
      "There is a discrepancy between the projection and the OLS fit.\n",
      "Difference: [-30.00732991 -22.80060779 -29.22937168 -28.23647807 -26.70865486\n",
      " -24.40956253 -22.613038   -19.52403778 -10.54341367 -15.23810075\n",
      " -19.00981753 -21.03167138 -20.53593609 -18.35070779 -18.21390492\n",
      " -17.93610163 -19.94613691 -15.55128382 -14.7659394  -17.84279859\n",
      " -12.18800725 -17.69941252 -14.71798168 -11.13869515 -15.80724387\n",
      " -13.42078208 -15.5726025  -15.39654393 -17.88027862 -17.71618872\n",
      " -11.3000999  -14.77970675  -6.79674856 -14.76477406 -13.65203148\n",
      " -23.89054755 -21.82490738 -20.23625509 -22.8477291  -31.81769016\n",
      " -34.37510668 -27.98884061 -23.97602184 -23.35209257 -22.09933884\n",
      " -19.6290571  -18.57169362 -18.37194414  -9.02016087 -16.45765707\n",
      " -19.52444095 -24.16713025 -27.75817518 -24.00694097 -15.4197464\n",
      " -30.63436273 -23.54884438 -33.4330037  -21.61727373 -18.06412917\n",
      " -16.17887087 -18.74113605 -23.49200631 -22.25512688 -21.33560222\n",
      " -28.77129563 -25.51766297 -19.80396541 -17.43898181 -19.55097506\n",
      " -24.1595319  -18.32943821 -24.68923093 -21.18698887 -23.73553217\n",
      " -23.96925164 -22.58389876 -23.06231712 -19.99431596 -21.13201651\n",
      " -28.34332584 -25.38520402 -25.63159603 -25.23179135 -23.21221481\n",
      " -26.16260688 -21.27354698 -24.91092947 -29.88310497 -29.0921216\n",
      " -26.96046785 -27.52224551 -27.21629894 -28.97490297 -26.94608028\n",
      " -27.65649974 -24.02593886 -36.5929604  -33.97939575 -31.68129785\n",
      " -24.00691226 -21.40027264 -18.19580456 -20.4240816  -21.28190192\n",
      " -18.41425855 -16.01893996 -19.40551497 -22.4047317  -18.57947718\n",
      " -20.55579396 -26.7752198  -19.68145665 -19.50162068 -25.40434216\n",
      " -14.82476343 -21.49838047 -24.28578231 -20.40486604 -20.76123653\n",
      " -20.24372118 -18.93766564 -20.17809906 -14.64930061 -20.7613308\n",
      " -22.67565053 -13.0568646  -15.44690942 -18.08913008 -10.63404902\n",
      " -19.46015565 -14.73696107 -20.11122597 -15.3844844  -11.14399812\n",
      " -12.99318318 -16.26313809 -18.07135464 -13.68716386 -16.25061811\n",
      " -12.66236076  -3.50736064 -14.58489498  -7.78308501  -8.03172976\n",
      "  -8.42882424 -15.86798116  -8.1982986   -8.20488184 -11.40225327\n",
      " -20.83941827 -18.00435738 -20.27970452 -17.04147022 -21.29639158\n",
      " -18.06406274 -13.05600451 -30.47784107 -26.45063657 -22.12567727\n",
      " -32.77113215 -36.52069099 -39.05456367 -39.15876154 -24.37566528\n",
      " -24.65347481 -36.74747084 -23.64847985 -25.08791238 -25.89766043\n",
      " -22.23400234 -22.27937429 -19.58966957 -27.73075085 -26.66677375\n",
      " -30.61025669 -24.45216652 -26.85206815 -31.04003143 -31.77328348\n",
      " -33.61016525 -28.79039094 -32.90769803 -29.91315261 -22.44757906\n",
      " -21.73522168 -36.46528013 -30.12894881 -32.35138275 -34.3717644\n",
      " -29.12273622 -27.81744714 -33.05291498 -30.94512356 -30.96303007\n",
      " -39.76066084 -36.2096105  -29.89298905 -34.67266873 -26.21495873\n",
      " -29.17058579 -29.02396813 -37.02092342 -41.63381852 -41.98573765\n",
      " -19.96632503 -23.73814229 -17.13117913 -23.53430485 -15.80039639\n",
      " -22.31557118 -16.31278281 -22.63198628 -23.14234264  -9.53842283\n",
      " -17.97799764 -26.43126191 -28.01902052 -23.93101918 -26.5823817\n",
      " -33.28281406 -24.09897508 -31.48874989 -28.93087296 -37.60183889\n",
      " -40.60636881 -37.61015712 -28.96019028 -35.28962864 -28.89033991\n",
      " -24.32778201 -32.73024862 -38.12389276 -35.57591739 -32.0481067\n",
      " -24.40179394 -29.47605877 -31.82315161 -27.12655871 -28.46735834\n",
      " -26.665608   -22.00464595 -24.92697413 -25.9583992  -16.3005401\n",
      " -12.77951809 -19.46473482 -18.23023261 -21.2124891  -23.94844245\n",
      " -24.21204842 -24.68714433 -24.87902711 -28.43058582 -24.28600145\n",
      " -17.51098296 -37.34148673 -43.69244081 -36.30800046 -34.48009585\n",
      " -34.96320582 -34.93574759 -40.75404841 -34.18466909 -34.83480566\n",
      " -28.09834909 -30.00445986 -39.95652547 -39.22133355 -23.71725536\n",
      " -22.36746055 -27.34531919 -28.38550445 -35.49041158 -35.67396787\n",
      " -29.83932122 -35.69575286 -35.24989475 -30.0276172  -35.3917467\n",
      " -36.76345197 -34.00095911 -41.35199096 -40.7641053  -31.9249205\n",
      " -27.21153711 -19.86737001 -27.38136085 -26.7830013  -23.64068068\n",
      " -33.77641671 -33.82726007 -32.2105842  -24.96259701 -22.24852482\n",
      " -28.25302712 -27.28736642 -16.84524416 -29.32442314 -32.96553753\n",
      " -30.66281057 -29.00645765 -29.21780694 -29.69153749 -34.28711685\n",
      " -28.9020223  -35.58336372 -32.11871719 -26.7898163  -23.7450398\n",
      " -17.84058091 -26.26577209 -23.77363223 -27.3044678  -25.24684154\n",
      " -21.01047078 -16.65121783 -13.59370545 -24.88299653 -21.03518726\n",
      " -25.20105676 -23.76701538 -21.31873729 -19.54192964 -23.59336387\n",
      " -24.79534748 -23.40426091 -22.3888511  -20.95755756 -25.04336264\n",
      " -20.88173963 -16.60093874 -23.49042321 -21.23120633 -22.06677805\n",
      " -19.60142633 -20.77668291 -18.97790985 -20.19810599 -21.51215651\n",
      " -21.8673026  -32.29352647 -21.91080762 -28.20694783 -28.962575\n",
      "  -8.61284722 -14.98804982 -24.69890353 -27.78142858 -21.22345893\n",
      " -21.12841689 -20.42048105 -16.66750477 -22.71568005 -14.40984894\n",
      " -15.2317293  -19.72725801 -23.01449008 -20.83490478 -15.9123948\n",
      " -22.50427143 -19.04089276 -18.15488214 -20.15065029 -38.36282228\n",
      " -14.82007138 -14.92921127  -8.51586745 -23.24132299 -31.64725701\n",
      " -34.81169665 -24.98669455 -25.54367531  -3.29873507  -1.11305618\n",
      " -24.94823717 -17.65791007 -20.04865517 -16.48031523 -16.63141395\n",
      " -14.16207888 -15.1612849  -13.67397859 -10.14125682  -3.18246224\n",
      "  -8.61611111  -4.63943679  -2.88475166  -6.28180208 -14.75441154\n",
      " -17.4236018  -16.61846276 -10.37418262 -20.98777827 -17.51227375\n",
      " -17.33064636 -19.13078277 -16.42615103  -6.43266688 -11.49427341\n",
      " -10.43297965 -15.34351122 -18.30355799 -13.41673383  -7.57705183\n",
      "  -7.23388033  -8.28366035 -21.15837351 -12.73515008 -15.76375182\n",
      " -15.37851478 -14.30534215  -1.67857014 -12.24255012   5.58280931\n",
      "  -5.78848367 -13.56071554  -6.63856176  -6.50532691 -13.31174094\n",
      " -20.27333627 -18.91960113 -17.51551821  -9.69159572 -14.98925367\n",
      " -10.51667117 -16.339924   -14.34034339 -13.62098079  -6.14681513\n",
      " -18.42307648 -18.34979847 -21.88844764 -16.22016047 -15.88331731\n",
      " -14.60777592 -13.83084853  -6.36327626  -4.51190451 -13.29219852\n",
      " -12.29126608 -16.52230372 -17.5560858  -13.93852879 -11.69787229\n",
      " -12.1455525  -17.88930705 -17.23781112 -17.32240421 -20.60364573\n",
      " -15.43633596 -18.46659229 -17.76163229 -23.15379227 -14.76357406\n",
      " -15.12617077 -11.24711903  -8.04093008 -17.24049096 -18.41188263\n",
      " -19.40787683 -19.36964541 -20.05798484 -24.35195028 -19.82047627\n",
      " -19.7883272  -13.30516916 -15.27006858 -16.5583807  -17.46721281\n",
      " -17.92116083 -18.09014629 -22.82556166 -25.35209024 -16.53209101\n",
      " -15.26547458 -20.4145063  -14.34157423 -20.78602648 -23.51319911\n",
      " -22.02350763 -26.32890051 -29.2084674  -22.0337882  -16.78197715\n",
      " -17.857125   -19.78333845 -20.74070913 -12.07693468  -7.85341671\n",
      "  -3.68792352 -16.16662065 -17.02361597 -21.46910269 -20.16652601\n",
      " -14.38652492 -14.77515593 -20.09694063 -18.78345265 -14.36287164\n",
      " -20.71775452 -23.74957765 -22.0624773  -28.62688139 -26.64625413\n",
      " -25.20421528]\n"
     ]
    }
   ],
   "source": [
    "# Assume y, X, and Q are already defined.\n",
    "# Compute the OLS fitted values using statsmodels (similar to lm(y ~ X) in R)\n",
    "model = sm.OLS(y, X).fit()\n",
    "y_hat = model.fittedvalues\n",
    "# Project y onto the column space of Q: compute Q @ Q.T @ y\n",
    "y_hat_from_Q = Q @ Q.T @ y\n",
    "\n",
    "# Compare the two. Since the values may have slight numerical differences, use np.allclose.\n",
    "if np.allclose(y_hat_from_Q, y_hat):\n",
    "    print(\"The projection of y onto colsp[Q] equals the OLS fit.\")\n",
    "else:\n",
    "    print(\"There is a discrepancy between the projection and the OLS fit.\")\n",
    "\n",
    "# Optionally, you can print the difference:\n",
    "print(\"Difference:\", (y_hat_from_Q - y_hat))"
   ]
  },
  {
   "cell_type": "markdown",
   "id": "b33be031-6ec3-4d45-b74c-baf3269d0997",
   "metadata": {},
   "source": [
    "Project y onto colsp[Q] one by one and verify it sums to be the projection onto the whole space."
   ]
  },
  {
   "cell_type": "code",
   "execution_count": 163,
   "id": "17ec740d-6bd8-4155-ad3d-203a277984ba",
   "metadata": {},
   "outputs": [
    {
     "name": "stdout",
     "output_type": "stream",
     "text": [
      "There is a discrepancy between the projections.\n",
      "Difference: [-4.12288424e-01  2.16928380e+01  1.14432126e+01  3.34341064e-01\n",
      "  2.13001320e+00  1.23736918e+00  2.15877039e+00 -5.14058969e-01\n",
      "  3.54730584e+00  2.99578851e+01  1.89998040e-01  7.92587764e+00\n",
      "  5.77030790e+00  8.54925650e+00  9.74778869e+00  1.31956373e+01\n",
      "  1.55642216e+00  1.48374965e+01  3.80810364e+00 -1.44082266e+00\n",
      "  1.28040614e+00  5.89944224e-01  7.15428071e+00  2.12055048e+01\n",
      " -1.44780423e+00 -5.04073490e-01 -1.55268295e+00 -8.32706107e+00\n",
      "  1.51765026e+01  3.01427340e+01  1.71646719e+00  2.51037436e+01\n",
      "  5.02844370e+00 -3.50298609e+00 -5.75649510e-01 -6.97950726e-02\n",
      "  4.80593103e+00  2.54826147e+01  1.40600030e+00 -6.40420695e+00\n",
      " -2.40025558e+00  9.85320531e-01  1.13419499e+01  1.25890899e+01\n",
      "  5.09451455e+00  2.21345785e+01  5.15893393e+00 -4.45642125e+00\n",
      "  6.10839442e-01  4.65752460e+00  1.63459185e+01  1.35926780e+01\n",
      " -1.40053377e+00  7.91533523e-01  1.68951312e-02  7.08929257e+00\n",
      "  1.23222161e+01 -2.34724716e+00 -7.58455332e-01  2.87000640e+01\n",
      "  4.72322762e+00 -4.45838714e+00  2.35236978e+00  3.35849828e+00\n",
      "  2.14647366e+01  2.74686864e+01 -3.39229719e-01  1.91745378e+01\n",
      " -5.89225357e-01  1.34417163e+01  9.71872312e+00  3.20143186e+01\n",
      " -2.19585576e+00  2.35272897e+01  4.81760437e+00 -3.35914834e+00\n",
      "  1.85554259e+00  2.05909227e+00  1.28930012e+01  2.48079660e+01\n",
      "  9.86666328e-01  2.35625820e+01  4.13874912e+00 -1.36034399e+00\n",
      "  1.46154790e+01  1.56984488e+01  6.78741382e+00  3.30914574e+00\n",
      "  5.05996005e-01  3.26394284e+00  4.82119282e-01  6.11865758e-01\n",
      "  1.77644870e+01  1.27648828e+01  1.79360535e+00  1.40710854e+01\n",
      "  7.16650818e+00 -9.40476323e+00  1.03367387e+01  6.21837620e+00\n",
      "  4.67435627e+00  3.63123160e+01  3.11363768e+00 -2.52982481e+00\n",
      "  7.45864152e-01  1.43766531e+00  8.69895693e+00  2.71262873e+01\n",
      "  3.95562163e+00  1.75302784e+01 -3.99279712e-01 -3.42105860e+00\n",
      "  1.04621816e+01  1.08830021e+01 -2.64619652e+00  4.36616215e+01\n",
      "  3.71163608e+00 -3.64217541e+00 -2.01216432e-01 -6.64616171e-02\n",
      "  9.38851091e+00  1.66598435e+01  5.28428229e+00  2.47415176e+01\n",
      " -3.51476958e+00 -3.58797018e+00  1.51867377e+01 -3.39847222e+00\n",
      "  6.49562382e+00  2.76485347e+01 -1.31239119e+00  1.84752012e+01\n",
      "  4.90080827e-01  2.96841012e+00  1.60222256e+01  2.54168829e+01\n",
      " -5.60712347e+00  1.87448196e+01  1.20491927e+00 -2.31590537e-01\n",
      "  8.84349852e+00  4.21885213e+00 -5.68850785e-01  2.92482311e+01\n",
      "  8.47680211e-03  1.24926992e+01  1.21768832e-01  2.57776789e+00\n",
      "  5.78257672e+00  2.14799037e+01 -2.30447346e-01  4.54514574e+00\n",
      " -2.81744914e+00  1.98008218e+00  9.83551771e+00  1.90121104e+01\n",
      "  3.13304925e+00  1.95191765e+01  7.71336578e+00  1.28496602e+01\n",
      "  1.27362687e-01  1.88790252e+00  7.15396284e+00  2.22546142e+01\n",
      "  5.50447948e+00  1.04725403e+01  4.33081992e+00 -7.30751661e+00\n",
      "  1.15544896e+01  6.24988615e+00  2.41073350e+00  1.45188011e+01\n",
      "  1.03062910e+01  5.85710252e+00 -7.34189722e-01  1.13707275e+00\n",
      "  5.54544894e+00  1.56109120e+01  5.60179849e+00  1.66568291e+01\n",
      "  1.06652677e+01 -9.84125039e+00  8.33656490e+00  1.07500091e+01\n",
      "  8.94192785e-01  2.39738237e+01 -2.47707458e+00  1.78871226e+01\n",
      "  4.24719677e-01  2.02420361e+00  8.49553862e+00  1.74024210e+01\n",
      " -1.96926878e+00  1.67487875e+01  6.38917614e+00  1.31982937e+01\n",
      " -8.64788560e-01  2.67942868e+01 -6.57112840e-01  3.14004116e+01\n",
      "  5.98289054e+00  6.61266287e+00  6.08945327e-01  2.35644148e+00\n",
      "  4.25540766e+00  2.28318160e+01 -8.76710350e-01  1.03592639e+01\n",
      " -1.74565020e-02  1.37980982e+01  9.32078368e-01  7.09427600e+00\n",
      "  1.31989286e+00  1.51886749e+01  3.53555319e+00  2.57222847e+01\n",
      "  1.67173585e+00  2.67126926e+00  2.72558499e+00  3.13758291e+01\n",
      " -1.30887201e+00 -4.19019782e+00  7.06484139e+00  1.03608638e+01\n",
      "  7.49219121e+00 -8.09548423e+00  1.60688710e-02  2.52158325e+01\n",
      "  4.14997330e-01  1.54083319e+01  1.09128582e+00  4.70842760e+00\n",
      "  2.38152837e+00  1.02407172e+01 -4.17114397e+00  1.04138456e+01\n",
      "  7.99113739e+00  1.23004210e+01  1.20507735e+01 -1.25681476e+00\n",
      "  4.88434363e+00  1.69237830e+01 -3.14699003e+00  8.58202971e+00\n",
      " -9.20843519e-02  4.71721977e+00  3.50570895e+00  6.25073327e+00\n",
      "  1.37743878e+00  1.68434768e+00 -1.56227309e-01  6.10358409e+00\n",
      "  3.69482725e-01  1.45597720e+01 -1.11210709e+00  3.03703670e+01\n",
      "  2.09046253e+00 -5.84251692e-01  1.45101804e+00  4.41779549e+00\n",
      " -2.16652907e+00  1.94646207e+01  2.71386884e+00  3.89915924e+00\n",
      "  1.16034414e+01  2.16309944e+00  1.11043795e+01  9.03857911e+00\n",
      "  1.33114089e+00  8.13453557e+00  2.04723716e+00 -1.45736435e+00\n",
      "  1.14857609e+00 -5.20920690e-01  8.89155735e-01  2.99594882e+01\n",
      " -1.32624189e+00 -5.18882831e+00  4.10266337e+00  5.82752907e-01\n",
      "  1.86691442e+01  3.59332633e+00 -5.85888198e+00  2.34558127e+01\n",
      " -2.22862168e+00  4.96307364e+00  2.21624770e+00 -1.82070290e+00\n",
      "  7.21842989e+00  3.11737704e+01 -4.58619922e+00  6.85303922e+00\n",
      " -3.86766165e+00  9.02387342e+00  1.99127334e+01  1.96088521e+00\n",
      " -4.43996555e-01  2.58859456e+01 -1.93280223e+00  6.07657819e-01\n",
      "  9.03555612e-01  5.35811624e-01 -2.22264945e+00  3.17075773e+01\n",
      " -1.55393027e+01  2.44643634e+01 -3.09804427e-01  8.24183850e+00\n",
      "  1.64834415e+01 -8.49262709e-01  6.12486596e+00  3.69355746e+00\n",
      " -1.12948820e+00 -7.62126201e+00  2.29085049e+00 -2.10770940e+00\n",
      "  1.20549652e+01  4.34568345e+01 -8.61874131e+00  4.35098089e+00\n",
      " -4.23258785e+00  1.41956633e+01  1.39641966e+01 -1.12232064e-01\n",
      "  1.15698014e+01  2.79205634e-01  4.36633388e-01 -8.51497901e+00\n",
      "  1.28293015e+00 -4.74376399e+00  4.49268964e+00  2.93804173e+01\n",
      " -2.23376361e+00  1.09712334e+01 -5.52024450e+00  1.18365835e+01\n",
      " -5.40437273e+00  2.99928585e+00  1.47932337e+01 -1.35147596e+00\n",
      " -1.84098360e+00 -4.56362811e+00  1.24327709e+00 -3.65010288e+00\n",
      "  2.07323746e-01  5.59113626e+01 -2.91981262e+00  6.54450961e+00\n",
      " -2.77659885e+00  1.14986735e+01 -5.97470276e+00  2.16223046e+00\n",
      " -5.19747333e-01  2.11111897e+01 -1.33244618e-01  9.64015450e+00\n",
      " -1.03153994e+00 -1.32490931e+00  2.01843978e+01  7.31256031e+00\n",
      "  2.10032933e+00 -1.70306801e+00  1.16588384e+00  2.40846937e+00\n",
      " -7.52774504e+00 -4.23575359e+00  4.84262348e+00  1.69911790e+01\n",
      "  2.26169660e+00  9.55738339e+00 -2.07179878e+00 -2.15246200e-01\n",
      "  9.45744939e+00  4.17142268e+00 -5.03528814e+00  5.18160759e+00\n",
      "  5.43624473e-01  5.19322155e+00 -6.18775624e+00  2.33741072e+00\n",
      "  2.55506729e+00  2.64130120e+01 -1.44002247e+00  1.79445145e+01\n",
      "  5.59054229e-01 -3.77350858e+00  1.51306550e+01  1.21144128e+01\n",
      "  2.09216761e+00 -6.89058232e+00 -2.23311796e+00  9.47836194e+00\n",
      " -4.09406868e+00 -7.28030066e+00  4.54211161e+00  2.26230973e+01\n",
      "  1.20586220e-01  4.91448742e+00  1.41969814e+00 -3.81770160e+00\n",
      "  1.40144487e+01  1.24985325e+00 -8.97932246e-01 -5.53810941e+00\n",
      " -3.08037336e+00  1.40310684e+01 -1.25869575e+00 -1.15593037e+01\n",
      "  9.49833505e+00  3.44175419e+01 -8.89812821e-01  1.56587535e+01\n",
      "  1.22987437e+00 -3.10292555e+00  1.16338756e+01  6.33863255e+00\n",
      " -2.61647064e+00  2.18786219e+00 -4.37988915e+00  1.71112692e+01\n",
      " -5.76064034e+00 -8.22125042e+00  9.78106894e+00  2.76889485e+01\n",
      " -2.89837174e+00  1.74539510e+00  9.30999467e-01 -2.72623067e+00\n",
      "  3.27022197e+00  4.31920792e+01 -3.89393198e+00  3.17889559e+00\n",
      " -4.06326891e+00  1.01586576e+01  1.27513120e+00 -1.23851202e+01\n",
      "  7.29759793e+00  2.23360212e+01  4.32928484e-01  1.16201045e+00\n",
      "  3.36506161e+00  2.65691475e+00  1.14032955e+01  1.73203935e+01\n",
      " -2.48810849e+00 -2.67621325e+00 -2.29199075e+00  1.04798649e+01\n",
      "  2.20852367e+00 -3.24216943e+01  8.49134505e+00  9.95798402e+00\n",
      "  2.52283472e+00 -1.05092358e-01  4.30238647e+00  1.89133686e+00\n",
      "  1.24931988e+01  2.29123822e+01 -9.53047016e-01  5.63067527e-01\n",
      " -4.79306018e+00  1.09306706e+01 -2.44574721e+00 -1.84363206e+01\n",
      "  3.13828514e+00 -1.24464752e+01  4.13205613e+00  1.09896702e+01\n",
      "  3.72160104e+00  4.80910026e+00  1.72982208e+01  2.80878303e+01\n",
      " -5.05548234e+00  2.78987619e+00 -1.66616370e+00  8.86857132e+00\n",
      "  1.00922443e+00 -2.58765058e+01 -1.07784097e+01 -1.01014384e+01\n",
      "  6.41470284e+00  5.13591738e+00 -3.76091811e+00 -6.68037151e+00\n",
      "  2.03525679e+01  2.28282647e+01 -1.76988733e+00  8.10008276e+00\n",
      " -3.18231359e+00  5.91311050e+00 -3.11471134e-01 -2.20620895e+01\n",
      " -8.23819307e+00 -3.73059661e+00  1.64666154e+00  1.29117716e+01\n",
      " -4.67078620e+00 -6.73884598e+00  1.77105047e+01  1.97553621e+01\n",
      " -3.40969292e+00 -3.26089587e+00  3.67030673e+00 -1.09087336e+01\n",
      " -4.57162567e+00 -2.85309935e+01]\n"
     ]
    }
   ],
   "source": [
    "# Compute the naive projection: project y onto each column of Q and sum.\n",
    "yhat_naive = np.zeros_like(y) #same shape as y\n",
    "\n",
    "for j in range(p_plus_one):\n",
    "    proj = orthogonal_projection(y, Q[:, j]) ['a_parallel']\n",
    "    yhat_naive = yhat_naive + proj\n",
    "              \n",
    "# Compute the full projection using the projection matrix H.\n",
    "# Since Q is orthonormal, Q.T @ Q equals the identity matrix.\n",
    "H = Q @ Q.T  # Equivalent to Q @ np.linalg.inv(Q.T @ Q) @ Q.T\n",
    "\n",
    "# Verify that H @ y is the same as yhat_naive.\n",
    "if np.allclose(yhat_naive, H @ y):\n",
    "    print(\"The naive projection equals the full projection.\")\n",
    "else:\n",
    "    print(\"There is a discrepancy between the projections.\")\n",
    "\n",
    "# Optionally, to mimic R's expect_equal with unname:\n",
    "print(\"Difference:\", yhat_naive - H @ y)"
   ]
  },
  {
   "cell_type": "markdown",
   "id": "00bbb76d-1108-40bf-99c1-8eaf8ab3ba38",
   "metadata": {},
   "source": [
    "Split the Boston Housing Data into a training set and a test set where the training set is 80% of the observations. Do so at random."
   ]
  },
  {
   "cell_type": "code",
   "execution_count": 71,
   "id": "59951734-a620-484b-9902-8bdd49d8c1c4",
   "metadata": {},
   "outputs": [
    {
     "name": "stdout",
     "output_type": "stream",
     "text": [
      "X_train shape: (405, 14)\n",
      "X_test shape: (101, 14)\n",
      "y_train length: 405\n",
      "y_test length: 101\n"
     ]
    }
   ],
   "source": [
    "# Assume n, X, and y are already defined. For example:\n",
    "# n = X.shape[0]\n",
    "# (Make sure X is a NumPy array and y is a 1D array or similar.)\n",
    "k = 5\n",
    "n_test = round(n * 1/k)\n",
    "n_train = n - n_test\n",
    "\n",
    "# create an array of all indices, put 0 indexed in python\n",
    "all_indices = np.arange(n)\n",
    "#randomly sample n_test indices for the test set without replacement\n",
    "test_indices = np.random.choice(all_indices, size = n_test, replace = False)\n",
    "#training indices are what is not in the test indices\n",
    "train_indices = np.setdiff1d(all_indices, test_indices)\n",
    "\n",
    "X_train = X[train_indices, :]\n",
    "y_train = y[train_indices]\n",
    "X_test = X[test_indices, :]\n",
    "y_test = y[test_indices]\n",
    "\n",
    "print(\"X_train shape:\", X_train.shape)\n",
    "print(\"X_test shape:\", X_test.shape)\n",
    "print(\"y_train length:\", len(y_train))\n",
    "print(\"y_test length:\", len(y_test))\n"
   ]
  },
  {
   "cell_type": "markdown",
   "id": "d3e2cf23-efeb-430e-a04f-c361cde984f5",
   "metadata": {},
   "source": [
    "Fit an OLS model. Find the s_e in sample and out of sample. Which one is greater? Note: we are now using s_e and not RMSE since RMSE has the n-(p + 1) in the denominator not n-1 which attempts to de-bias the error estimate by inflating the estimate when overfitting in high p. Again, we're just using `sd(e)`, the sample standard deviation of the residuals."
   ]
  },
  {
   "cell_type": "code",
   "execution_count": 73,
   "id": "80db879f-35ca-4023-9a30-7fa09ff1bcb6",
   "metadata": {},
   "outputs": [
    {
     "name": "stdout",
     "output_type": "stream",
     "text": [
      "In-sample s_e (sample SD of residuals): 4.6208917650693735\n",
      "Out-of-sample s_e (sample SD of residuals): 4.988044439613975\n"
     ]
    }
   ],
   "source": [
    "# Fit the OLS model on the training set.\n",
    "# (Assume X_train and y_train have already been defined,\n",
    "# and that X_train already includes a constant column if needed.)\n",
    "model = sm.OLS(y_train, X_train).fit()\n",
    "\n",
    "#in sample standard error \n",
    "in_sample_se = np.std(model.resid, ddof = 1)\n",
    "#out of sample predictions and residuals \n",
    "y_pred_test = model.predict(X_test)\n",
    "out_sample_resid = y_test - y_pred_test #error aka e\n",
    "out_sample_se = np.std(out_sample_resid, ddof = 1)\n",
    "print(\"In-sample s_e (sample SD of residuals):\", in_sample_se)\n",
    "print(\"Out-of-sample s_e (sample SD of residuals):\", out_sample_se)\n",
    "\n",
    "# Typically, the out-of-sample s_e will be greater than the in-sample s_e."
   ]
  },
  {
   "cell_type": "markdown",
   "id": "2f02f4a0-209b-466c-ab17-ec7474bcb2f4",
   "metadata": {},
   "source": [
    "Do these two exercises `Nsim = 1000` times and find the average difference between s_e and ooss_e."
   ]
  },
  {
   "cell_type": "code",
   "execution_count": 77,
   "id": "a50414fb-9dc6-4c73-a540-534699b1df68",
   "metadata": {},
   "outputs": [
    {
     "name": "stdout",
     "output_type": "stream",
     "text": [
      "Average difference (s_e - ooss_e): -0.21731201027224017\n"
     ]
    }
   ],
   "source": [
    "# Assume n, X, and y are already defined.\n",
    "# Here, n is the total number of observations.\n",
    "# X is the design matrix and y is the response vector.\n",
    "# For consistency with the R code (which uses '+0'), we will fit the model without a constant.\n",
    "# If X already has a constant column, you might need to remove it; here we assume X does NOT include one.\n",
    "k = 5\n",
    "n_test = round(n * 1/k)\n",
    "n_train = n - n_test\n",
    "n_sim = 1000\n",
    "\n",
    "oosSSE_array = np.empty(n_sim)\n",
    "s_e_array = np.empty(n_sim)\n",
    "\n",
    "for i in range(n_sim):\n",
    "    all_indices = np.arange(n)\n",
    "    test_indices = np.random.choice(all_indices, size = n_test, replace = False)\n",
    "    train_indices = np.setdiff1d(all_indices, test_indices)\n",
    "    \n",
    "    X_train = X[train_indices, :]\n",
    "    y_train = y[train_indices]\n",
    "    X_test = X[test_indices, :]\n",
    "    y_test = y[test_indices]\n",
    "\n",
    "    model = sm.OLS(y_train, X_train).fit()\n",
    "    \n",
    "    # Predict on the test set\n",
    "    y_hat_test = model.predict(X_test)\n",
    "    \n",
    "    # Compute out-of-sample standard error (sample standard deviation of test residuals)\n",
    "    oosSSE_array[i] = np.std(y_test - y_hat_test, ddof = 1)\n",
    "    # Compute in-sample standard error (sample standard deviation of residuals from the training fit)\n",
    "    s_e_array[i] = np.std(model.resid, ddof = 1)\n",
    "\n",
    "# Compute the average difference between in-sample and out-of-sample s_e\n",
    "mean_diff = np.mean(s_e_array - oosSSE_array)\n",
    "print(\"Average difference (s_e - ooss_e):\", mean_diff)\n"
   ]
  },
  {
   "cell_type": "markdown",
   "id": "c2aafa5f-d4c5-4fdb-a139-98e3a6154f86",
   "metadata": {},
   "source": [
    "We'll now add random junk to the data so that `p_plus_one = n_train` and create a new data matrix `X_with_junk.`"
   ]
  },
  {
   "cell_type": "code",
   "execution_count": 79,
   "id": "b2b38a88-f31a-46e9-aedd-d2eec495f47d",
   "metadata": {},
   "outputs": [
    {
     "name": "stdout",
     "output_type": "stream",
     "text": [
      "X shape: (506, 14)\n",
      "X_with_junk shape: (506, 405)\n"
     ]
    }
   ],
   "source": [
    "# Assume X, n, n_train, and p_plus_one are already defined.\n",
    "# Create the junk matrix: with n rows and (n_train - p_plus_one) columns.\n",
    "junk = np.random.randn(n, n_train - p_plus_one)\n",
    "\n",
    "# Concatenate X and the junk matrix horizontally\n",
    "X_with_junk = np.hstack((X, junk))\n",
    "\n",
    "# Print dimensions\n",
    "print(\"X shape:\", X.shape)\n",
    "print(\"X_with_junk shape:\", X_with_junk.shape)"
   ]
  },
  {
   "cell_type": "markdown",
   "id": "acafda18-b5bc-4911-aea4-90a2d1d27e3d",
   "metadata": {},
   "source": [
    "Repeat the exercise above measuring the average s_e and ooss_e but this time record these metrics by number of features used. That is, do it for the first column of `X_with_junk` (the intercept column), then do it for the first and second columns, then the first three columns, etc until you do it for all columns of `X_with_junk`. Save these in `s_e_by_p` and `ooss_e_by_p`."
   ]
  },
  {
   "cell_type": "code",
   "execution_count": 101,
   "id": "2ef7cef0-29a4-48fe-81e8-7808dd9e011d",
   "metadata": {},
   "outputs": [
    {
     "name": "stdout",
     "output_type": "stream",
     "text": [
      "Average out-of-sample s_e by number of features:\n",
      "[  9.36723138   8.10485999   8.31479409   7.71742546   7.31773587\n",
      "   7.37660173   6.00799799   6.57143877   5.36068904   5.74660241\n",
      "   5.40669665   5.51833022   5.13935476   4.94838422   4.68619631\n",
      "   4.90677889   5.10545553   4.68074993   4.64815754   4.76245453\n",
      "   5.02009482   4.84316085   5.01039392   4.91982877   4.74259734\n",
      "   4.97724391   4.92325126   4.95818493   5.07613014   4.89725854\n",
      "   5.25202969   5.51006891   4.96835335   5.08391401   4.74105433\n",
      "   5.31163869   4.76816412   5.10271921   5.14747964   5.09480536\n",
      "   4.91391706   5.03479358   4.90021529   5.59660674   5.39291741\n",
      "   5.08449206   5.20189777   4.59129382   5.18965997   5.10898964\n",
      "   4.58762425   5.36630674   5.25737603   5.20929708   5.34605879\n",
      "   5.24180665   5.04509621   5.47455998   5.06909933   5.51278193\n",
      "   4.99960947   5.0717442    5.40644233   5.08886458   5.47863304\n",
      "   5.09311219   5.24825631   5.11069582   5.1605647    5.17549427\n",
      "   4.91976017   5.40093099   5.68049247   5.32853086   5.56768281\n",
      "   5.01932773   5.38296702   5.26834759   5.54964386   5.10711304\n",
      "   5.26735927   5.30097491   5.54035937   5.55457493   5.50580262\n",
      "   5.60046628   5.60838991   5.52253688   5.42259808   5.76625522\n",
      "   5.40748822   5.26010294   5.24083974   5.34987055   5.4036292\n",
      "   5.51557025   5.7529288    5.64068223   5.6197281    5.66281789\n",
      "   5.96146902   5.75285914   5.66607199   5.8512299    5.86454338\n",
      "   5.65430097   5.99701298   6.07244931   5.65688749   5.58516637\n",
      "   5.94443844   5.39425096   5.73779552   5.41986871   5.96795499\n",
      "   6.05660198   5.41003309   5.80125197   5.82025474   5.92793926\n",
      "   5.86957673   5.81701828   6.15667755   5.82007566   5.87971207\n",
      "   6.05345848   5.82646425   6.10439894   6.12528552   6.04807055\n",
      "   5.66172502   5.7120958    6.22629663   5.93976142   5.92111846\n",
      "   6.27926704   5.9404514    6.17183071   6.13256532   5.96774258\n",
      "   6.2297805    6.39883133   6.02652772   6.18409036   6.17287549\n",
      "   5.93665321   6.14783426   5.90281964   6.37722472   6.36380379\n",
      "   6.16713814   6.52267623   6.52526717   6.41538101   6.23564665\n",
      "   6.42587963   6.22407038   6.37041474   6.09835427   6.35873198\n",
      "   6.58806401   6.43906305   6.43648174   6.37143163   6.62647452\n",
      "   6.48031941   6.31498331   6.14899151   6.37713383   6.59124224\n",
      "   6.54890488   6.10267611   6.56817302   6.75619817   6.58636136\n",
      "   6.75388479   6.74347751   6.55108803   6.4211654    6.55381729\n",
      "   6.68906299   6.51520817   6.78478498   7.37963663   6.58827286\n",
      "   6.9847571    6.57665264   6.56308917   6.82044216   7.22441465\n",
      "   7.24093424   6.74914288   6.5627245    6.62966123   6.82044515\n",
      "   6.50613402   7.12194179   6.68101781   6.82432934   6.79793389\n",
      "   6.7837617    6.59098315   6.96252123   6.7120518    6.81554226\n",
      "   6.78837196   6.76936263   6.90665932   7.10057604   7.07344737\n",
      "   7.0469815    6.79297219   6.99838231   7.00315177   6.9341649\n",
      "   7.14233415   7.29276361   6.84623318   7.12349012   7.11171916\n",
      "   7.20987707   7.11002916   7.30635483   7.17171534   7.31722402\n",
      "   7.2106269    7.37818107   7.48704959   7.35028648   7.07167547\n",
      "   7.18820602   7.34809679   7.29614434   7.38574038   7.6768491\n",
      "   7.29716495   7.63019928   7.4855018    7.52964294   7.51411967\n",
      "   7.36718737   7.69826909   7.65504215   7.95029881   7.78199419\n",
      "   8.16031739   8.04911405   7.6462807    8.12886969   7.66591885\n",
      "   7.72983614   7.72586092   7.82564148   7.86735883   8.02644175\n",
      "   7.94901996   8.06732457   7.83908618   7.74101219   7.98962729\n",
      "   7.99177623   8.26741845   8.26368623   8.01233841   8.30908301\n",
      "   8.19124934   8.2767246    8.56407418   8.89303647   8.40590721\n",
      "   8.41017479   8.87142185   8.60009951   8.85368498   8.62131436\n",
      "   8.52685126   8.80407061   8.27116563   8.6377785    8.58204911\n",
      "   8.81360326   8.88727745   9.1526355    8.68747199   9.05101042\n",
      "   9.21314228   8.7363529    8.8479335    9.10611351   8.88391328\n",
      "   9.05111522   9.2841358    9.26292559   9.20330928   8.92065184\n",
      "   9.36044489   9.85923082   9.46255684   9.58717355   9.29486881\n",
      "   9.28938142   9.66685398  10.06912261   9.73502377   9.91147922\n",
      "   9.86877781  10.09271166  10.13334002  10.28613363  10.52150792\n",
      "  10.23435458  10.1003117   10.49296856  10.00088928  10.33054393\n",
      "  10.82424588  10.63395828  10.77082649  11.12981734  11.00095563\n",
      "  11.20109445  10.92739925  11.09608329  11.39452504  11.57195121\n",
      "  11.16490447  11.45746772  11.73923193  11.58504985  11.92719334\n",
      "  12.00511384  12.19441204  11.60697774  11.30711719  11.95631893\n",
      "  12.19999726  12.75083195  11.96212939  12.33125339  12.15159658\n",
      "  12.83062752  12.87271579  13.08852911  13.41649166  13.30754455\n",
      "  13.041042    13.38950264  13.31050963  14.0902975   13.69984197\n",
      "  13.18245146  13.5716651   13.85480296  14.21823098  13.99910527\n",
      "  14.58754793  14.67455276  14.36332206  15.83046057  14.38479224\n",
      "  14.67872398  15.03599273  15.70012803  15.92778215  16.06709097\n",
      "  16.52155181  17.97537784  16.70045469  16.84969785  16.82418862\n",
      "  16.64935539  16.90141188  18.56245966  16.70990317  17.60578146\n",
      "  19.67502372  20.26402619  19.54826138  18.40756169  20.23229501\n",
      "  20.34400233  20.04874306  20.78378507  21.69643521  21.2726897\n",
      "  23.91178334  24.48054557  24.85821453  23.56658034  26.14175202\n",
      "  27.11686796  26.04546654  30.99429609  31.17979193  36.51299968\n",
      "  30.72368071  43.51595813  37.84797167  60.36286956  43.60023984\n",
      "  50.17227312  74.3547238   75.80542279 101.79371604 221.17651492]\n",
      "Average in-sample s_e by number of features:\n",
      "[9.14386597e+00 8.55422601e+00 7.99000673e+00 7.72805794e+00\n",
      " 7.58922629e+00 7.55851349e+00 5.87831402e+00 5.71610985e+00\n",
      " 5.65182528e+00 5.54818344e+00 5.54745941e+00 5.21394385e+00\n",
      " 5.17081885e+00 4.64692760e+00 4.69722166e+00 4.63974921e+00\n",
      " 4.59450150e+00 4.68931788e+00 4.69602910e+00 4.68283537e+00\n",
      " 4.61708817e+00 4.64977789e+00 4.61015737e+00 4.61265893e+00\n",
      " 4.64957581e+00 4.58398552e+00 4.60152676e+00 4.59366125e+00\n",
      " 4.56000966e+00 4.59878147e+00 4.51607197e+00 4.45875697e+00\n",
      " 4.59560645e+00 4.56489477e+00 4.63377144e+00 4.47405208e+00\n",
      " 4.62399729e+00 4.53945409e+00 4.54503239e+00 4.55107128e+00\n",
      " 4.58935961e+00 4.55494030e+00 4.58747225e+00 4.41019606e+00\n",
      " 4.45605442e+00 4.53517214e+00 4.52688820e+00 4.65292116e+00\n",
      " 4.51338327e+00 4.52418661e+00 4.65861806e+00 4.46842101e+00\n",
      " 4.47999315e+00 4.47124438e+00 4.44891735e+00 4.44503990e+00\n",
      " 4.51554376e+00 4.39444176e+00 4.48660702e+00 4.37279994e+00\n",
      " 4.48297892e+00 4.44935850e+00 4.34403667e+00 4.42148253e+00\n",
      " 4.33619767e+00 4.42560668e+00 4.38944925e+00 4.41900824e+00\n",
      " 4.41778384e+00 4.39888619e+00 4.44341941e+00 4.32910884e+00\n",
      " 4.24756750e+00 4.35026444e+00 4.29225693e+00 4.42802588e+00\n",
      " 4.33651942e+00 4.37760026e+00 4.29889517e+00 4.38854464e+00\n",
      " 4.37279516e+00 4.35752454e+00 4.30691509e+00 4.29388390e+00\n",
      " 4.29981701e+00 4.24637195e+00 4.26594354e+00 4.27635267e+00\n",
      " 4.28724107e+00 4.18083788e+00 4.24519150e+00 4.29560958e+00\n",
      " 4.30017727e+00 4.29011724e+00 4.28390839e+00 4.25374893e+00\n",
      " 4.18704451e+00 4.19719315e+00 4.20508207e+00 4.21209402e+00\n",
      " 4.11392612e+00 4.19089686e+00 4.19393898e+00 4.14168651e+00\n",
      " 4.14838607e+00 4.20382901e+00 4.12892367e+00 4.05668076e+00\n",
      " 4.16710711e+00 4.18830109e+00 4.08006770e+00 4.20662370e+00\n",
      " 4.12261010e+00 4.17099847e+00 4.03395731e+00 4.01695103e+00\n",
      " 4.16720327e+00 4.04780762e+00 4.01652785e+00 4.00896134e+00\n",
      " 4.03821936e+00 4.03347499e+00 3.97677624e+00 4.04926077e+00\n",
      " 4.01913896e+00 3.97895072e+00 4.03282901e+00 3.95935034e+00\n",
      " 3.96907365e+00 3.97229448e+00 4.08310563e+00 4.02378645e+00\n",
      " 3.92873676e+00 3.99989859e+00 3.96635817e+00 3.90773293e+00\n",
      " 3.94377470e+00 3.87993402e+00 3.94211782e+00 3.94040844e+00\n",
      " 3.87779052e+00 3.82833386e+00 3.92710557e+00 3.85475655e+00\n",
      " 3.86691861e+00 3.93091042e+00 3.86056478e+00 3.91425524e+00\n",
      " 3.79853229e+00 3.78319917e+00 3.89551090e+00 3.77051624e+00\n",
      " 3.77271702e+00 3.74135173e+00 3.79314015e+00 3.78293871e+00\n",
      " 3.80095995e+00 3.77941779e+00 3.85853660e+00 3.76140200e+00\n",
      " 3.71075865e+00 3.74183483e+00 3.76216896e+00 3.78398528e+00\n",
      " 3.71102140e+00 3.73847396e+00 3.75138973e+00 3.81138222e+00\n",
      " 3.79428475e+00 3.72322218e+00 3.73902474e+00 3.81195375e+00\n",
      " 3.69544076e+00 3.68711547e+00 3.69966025e+00 3.66668984e+00\n",
      " 3.64764531e+00 3.70418324e+00 3.77992684e+00 3.68981014e+00\n",
      " 3.62929185e+00 3.66089006e+00 3.58377839e+00 3.44866759e+00\n",
      " 3.67425721e+00 3.57170788e+00 3.66810597e+00 3.64793796e+00\n",
      " 3.58645832e+00 3.45216097e+00 3.45664445e+00 3.56454408e+00\n",
      " 3.57405453e+00 3.59727849e+00 3.47300132e+00 3.52293824e+00\n",
      " 3.41863889e+00 3.47071112e+00 3.41834498e+00 3.40348579e+00\n",
      " 3.43099207e+00 3.42953390e+00 3.34340739e+00 3.41206870e+00\n",
      " 3.37222521e+00 3.39362444e+00 3.41483907e+00 3.33928535e+00\n",
      " 3.27674606e+00 3.34486956e+00 3.30989745e+00 3.36542267e+00\n",
      " 3.29127051e+00 3.26814133e+00 3.28362272e+00 3.24397785e+00\n",
      " 3.19983366e+00 3.32048801e+00 3.27003394e+00 3.25140403e+00\n",
      " 3.19361935e+00 3.23267726e+00 3.25513504e+00 3.23805157e+00\n",
      " 3.15449178e+00 3.18346826e+00 3.18518584e+00 3.19141949e+00\n",
      " 3.17538318e+00 3.18914907e+00 3.18708130e+00 3.10763393e+00\n",
      " 3.12963033e+00 3.12816918e+00 3.02277615e+00 3.10612498e+00\n",
      " 3.06220001e+00 3.04094931e+00 3.08140649e+00 3.05771953e+00\n",
      " 3.09836599e+00 3.06634963e+00 3.03096062e+00 3.03719430e+00\n",
      " 3.01664257e+00 2.90570282e+00 2.94219774e+00 3.04809649e+00\n",
      " 2.92070283e+00 3.02183900e+00 3.04513606e+00 2.97167779e+00\n",
      " 2.88804342e+00 2.84616521e+00 2.80231572e+00 2.89573420e+00\n",
      " 2.88680551e+00 2.90304430e+00 2.95063597e+00 2.85321529e+00\n",
      " 2.93113858e+00 2.82506579e+00 2.85006837e+00 2.81792107e+00\n",
      " 2.84011910e+00 2.85585148e+00 2.83130952e+00 2.76410928e+00\n",
      " 2.72700050e+00 2.82986554e+00 2.84976502e+00 2.78796129e+00\n",
      " 2.76169155e+00 2.73681501e+00 2.75198728e+00 2.69836770e+00\n",
      " 2.71787744e+00 2.70125735e+00 2.63015319e+00 2.65538505e+00\n",
      " 2.61266396e+00 2.51925605e+00 2.55325559e+00 2.61810306e+00\n",
      " 2.55938303e+00 2.55944669e+00 2.67934803e+00 2.61338336e+00\n",
      " 2.56148292e+00 2.67210305e+00 2.54277060e+00 2.53569810e+00\n",
      " 2.59539580e+00 2.58309351e+00 2.60724251e+00 2.52924480e+00\n",
      " 2.42278839e+00 2.49138920e+00 2.49752494e+00 2.54889625e+00\n",
      " 2.50934246e+00 2.39576351e+00 2.42483293e+00 2.46720505e+00\n",
      " 2.40117666e+00 2.37650588e+00 2.34235024e+00 2.27996016e+00\n",
      " 2.33399558e+00 2.24008431e+00 2.35348300e+00 2.24771029e+00\n",
      " 2.30844607e+00 2.29899001e+00 2.31711190e+00 2.33897530e+00\n",
      " 2.33055014e+00 2.24467012e+00 2.25419915e+00 2.20754326e+00\n",
      " 2.17730656e+00 2.21314198e+00 2.27540868e+00 2.18932731e+00\n",
      " 2.18525858e+00 2.21816620e+00 2.15268099e+00 2.13745082e+00\n",
      " 2.14236682e+00 2.09106504e+00 2.14961955e+00 2.15749983e+00\n",
      " 2.06709537e+00 2.01196853e+00 2.09983703e+00 2.01480931e+00\n",
      " 2.02659452e+00 2.06006476e+00 2.03487103e+00 2.08436606e+00\n",
      " 1.93093175e+00 1.94296329e+00 1.91333516e+00 1.88613461e+00\n",
      " 1.95410002e+00 1.92308497e+00 1.94135112e+00 1.95254217e+00\n",
      " 1.85102068e+00 1.87308365e+00 1.83067077e+00 1.73198995e+00\n",
      " 1.70425909e+00 1.72125124e+00 1.76065241e+00 1.78504376e+00\n",
      " 1.62763508e+00 1.66446258e+00 1.72776878e+00 1.67800720e+00\n",
      " 1.63237415e+00 1.68056363e+00 1.63543111e+00 1.64155062e+00\n",
      " 1.59895693e+00 1.59270692e+00 1.53272710e+00 1.54577023e+00\n",
      " 1.51036636e+00 1.36999061e+00 1.51304059e+00 1.44912531e+00\n",
      " 1.30219806e+00 1.43939418e+00 1.25201849e+00 1.22304238e+00\n",
      " 1.30804772e+00 1.18090202e+00 1.21793568e+00 1.24620660e+00\n",
      " 1.14094188e+00 1.08675784e+00 1.05919500e+00 1.11285730e+00\n",
      " 1.03377177e+00 1.04148005e+00 9.38485964e-01 9.20726119e-01\n",
      " 9.35184973e-01 1.03781406e+00 1.03458187e+00 8.94388498e-01\n",
      " 8.74251257e-01 7.94931613e-01 7.65259579e-01 6.77710079e-01\n",
      " 5.79253584e-01 6.12658912e-01 5.37779374e-01 5.43429878e-01\n",
      " 3.92508334e-01 3.33542434e-01 2.72625401e-01 1.75307550e-01\n",
      " 3.41796311e-11]\n"
     ]
    }
   ],
   "source": [
    "k = 5\n",
    "n_test = round(n * 1/k)\n",
    "n_train = n - n_test\n",
    "n_sim = 10\n",
    "\n",
    "num_features = X_with_junk.shape[1]\n",
    "\n",
    "ooss_e_by_p = np.empty(num_features)\n",
    "s_e_by_p = np.empty(num_features)\n",
    "\n",
    "# Loop over model sizes (using the first j columns of X_with_junk)\n",
    "for j in range(1, num_features + 1):\n",
    "    oosSSE_array = np.empty(n_sim)\n",
    "    s_e_array = np.empty(n_sim)\n",
    "    \n",
    "    for i in range(n_sim):\n",
    "        # Generate random test indices without replacement (0-indexed)\n",
    "        all_indices = np.arange(n)\n",
    "        test_indices = np.random.choice(all_indices, size = n_test, replace = False)\n",
    "        train_indices = np.setdiff1d(all_indices, test_indices)\n",
    "        \n",
    "        # Subset the data using the first j columns\n",
    "        X_train = X_with_junk[train_indices, :j]\n",
    "        y_train = y[train_indices]\n",
    "        X_test = X_with_junk[test_indices, :j]\n",
    "        y_test = y[test_indices]\n",
    "        # Fit an OLS model with no intercept (like lm(... + 0) in R)\n",
    "        model = sm.OLS(y_train, X_train).fit()\n",
    "        \n",
    "        # Predict on the test set\n",
    "        y_hat_test = model.predict(X_test)\n",
    "        \n",
    "        # Compute the sample standard deviation (ddof=1) of residuals\n",
    "        oosSSE_array[i] = np.std(y_test - y_hat_test, ddof=1)\n",
    "        s_e_array[i] = np.std(model.resid, ddof=1)\n",
    "    \n",
    "    # Record the average errors for model size j\n",
    "        ooss_e_by_p [j - 1] = np.mean(oosSSE_array)\n",
    "        s_e_by_p [j - 1] = np.mean(s_e_array)\n",
    "\n",
    "print(\"Average out-of-sample s_e by number of features:\")\n",
    "print(ooss_e_by_p)\n",
    "print(\"Average in-sample s_e by number of features:\")\n",
    "print(s_e_by_p)"
   ]
  },
  {
   "cell_type": "markdown",
   "id": "fb20846e-3625-4081-9ea6-74e977e8af8e",
   "metadata": {},
   "source": [
    "You can graph them here:"
   ]
  },
  {
   "cell_type": "code",
   "execution_count": 103,
   "id": "d689dae8-a476-46f0-9540-86cd78005c6e",
   "metadata": {},
   "outputs": [
    {
     "data": {
      "image/png": "[encoded data removed]"
     },
     "metadata": {
      "image/png": {
       "height": 480,
       "width": 640
      }
     },
     "output_type": "display_data"
    }
   ],
   "source": [
    "import pandas as pd\n",
    "from plotnine import ggplot, aes, geom_line, labs, theme_minimal\n",
    "\n",
    "# Create data frames for the in-sample and out-of-sample standard errors.\n",
    "df_in = pd.DataFrame({\n",
    "    's_e': s_e_by_p,\n",
    "    'p': range(1, n_train + 1),\n",
    "    'series': \"in-sample\"\n",
    "})\n",
    "df_out = pd.DataFrame({\n",
    "    's_e': ooss_e_by_p,\n",
    "    'p': range(1, n_train + 1),\n",
    "    'series': \"out-of-sample\"\n",
    "})\n",
    "\n",
    "# Combine the two dataframes\n",
    "df = pd.concat([df_in, df_out], ignore_index=True)\n",
    "\n",
    "# Create the plot using plotnine\n",
    "plot = (ggplot(df, aes(x='p', y='s_e', color='series'))\n",
    "        + geom_line()\n",
    "        + labs(x='Number of features (p)',\n",
    "               y='s_e',\n",
    "               title='In-sample vs. Out-of-sample s_e by number of features')\n",
    "        + theme_minimal()\n",
    "       )\n",
    "\n",
    "plot"
   ]
  },
  {
   "cell_type": "markdown",
   "id": "503c5d83-d874-4717-8d94-89324d3537ba",
   "metadata": {},
   "source": [
    "Is this shape expected? Explain."
   ]
  },
  {
   "cell_type": "markdown",
   "id": "623ef063-4883-4258-997c-f017a5123742",
   "metadata": {},
   "source": [
    "Yes this shape is expected because as we add more features the in-sample error will decrease due to the the model fitting the additional features and data. However, the out of sample error will start to get worse due to the over-fitting that is occurring. This will lead to a worse modle that produces worse predictions for data that is out of sample. "
   ]
  },
  {
   "cell_type": "markdown",
   "id": "8229ba1f-a813-467d-8a86-6ac3b9112cd3",
   "metadata": {},
   "source": [
    "Now repeat the exercise above except use 5-fold CV (K=5 cross validation) for each p. The code below will also plot the oos RMSE. This oos RMSE curve should be similar to the curve in the above problem, but now it will be more stable. "
   ]
  },
  {
   "cell_type": "code",
   "execution_count": 170,
   "id": "c13c8bc3-63a8-4dd7-90d9-5aa952b96aa3",
   "metadata": {},
   "outputs": [
    {
     "data": {
      "image/png": "[encoded data removed]"
     },
     "metadata": {
      "image/png": {
       "height": 480,
       "width": 640
      }
     },
     "output_type": "display_data"
    }
   ],
   "source": [
    "# Assume n, y, and X_with_junk are already defined.\n",
    "# Let p_max be the total number of features (columns) in X_with_junk.\n",
    "p_max = X_with_junk.shape[1]\n",
    "\n",
    "K = 5\n",
    "n_test =  n // K\n",
    "\n",
    "# Create a folds array: assign each observation to one of K folds.\n",
    "# Replicate 1:K enough times, then shuffle.\n",
    "folds = np.tile(np.arange(K), int(np.ceil(n / K)))[:n]\n",
    "np.random.shuffle(folds)\n",
    "\n",
    "# Initialize a matrix to store the out-of-sample RMSE for each model size and fold.\n",
    "ooss_e_by_p_k = np.empty((p_max, K))\n",
    "\n",
    "for j in range(1, p_max + 1):\n",
    "    for k in range(K):\n",
    "        # Get test and train indices for fold k\n",
    "        test_indices = np.where(folds == k)[0]\n",
    "        train_indices = np.where(folds != k)[0]\n",
    "        \n",
    "        # Subset the data using the first j columns of X_with_junk\n",
    "        X_train = X_with_junk[train_indices, :j]\n",
    "        X_test = X_with_junk[test_indices, :j]\n",
    "        y_train = y[train_indices]\n",
    "        y_test = y[test_indices]\n",
    "        \n",
    "        # Fit an OLS model with no intercept (mirroring R's '+ 0')\n",
    "        model = sm.OLS(y_train, X_train).fit()\n",
    "        y_hat_test = model.predict(X_test)\n",
    "        \n",
    "        # Compute RMSE for this fold and model size\n",
    "        rmse = np.sqrt(np.mean((y_test - y_hat_test) ** 2))\n",
    "        ooss_e_by_p_k[j - 1, k] = rmse\n",
    "\n",
    "# For each model size (row), compute the standard deviation of the RMSE over the K folds.\n",
    "s_e_by_p = np.std(ooss_e_by_p_k, axis = 1)\n",
    "\n",
    "# Create a DataFrame for plotting\n",
    "df_plot = pd.DataFrame({'p': np.arange(1, p_max + 1), 's_e': s_e_by_p})\n",
    "\n",
    "# Plot using plotnine\n",
    "plot = (ggplot(df_plot, aes(x ='p', y = 's_e'))\n",
    "        + geom_line()\n",
    "        + labs(x ='Number of Features', y ='OOS RMSE (sd)', title ='5-fold CV OOS RMSE vs. Number of Features')\n",
    "        + theme_minimal())\n",
    "\n",
    "plot"
   ]
  },
  {
   "cell_type": "markdown",
   "id": "bee2321b-3537-4bb9-8b7e-f24fdf5c4419",
   "metadata": {},
   "source": [
    "Even though the concept of confidence intervals (CIs) will not be on the midterm, construct 95% CIs for each of the oosRMSE measurements by number of features, p. A CI is a real-number interval with a lower bound and upper bound. The formula for the CI is [s_e - 2 * s_s_e, s_e + 2 * s_s_e]."
   ]
  },
  {
   "cell_type": "code",
   "execution_count": 167,
   "id": "06f25d85-53c0-4b1d-b4dc-6edb85664970",
   "metadata": {},
   "outputs": [
    {
     "name": "stdout",
     "output_type": "stream",
     "text": [
      "       p   mean_oos    CI_lower    CI_upper\n",
      "0      1  11.883251 -154.501283  178.267785\n",
      "1      2  11.883251 -154.501283  178.267785\n",
      "2      3  11.883251 -154.501283  178.267785\n",
      "3      4  11.883251 -154.501283  178.267785\n",
      "4      5  11.883251 -154.501283  178.267785\n",
      "..   ...        ...         ...         ...\n",
      "400  401  11.883251 -154.501283  178.267785\n",
      "401  402  11.883251 -154.501283  178.267785\n",
      "402  403  11.883251 -154.501283  178.267785\n",
      "403  404  11.883251 -154.501283  178.267785\n",
      "404  405  11.883251 -154.501283  178.267785\n",
      "\n",
      "[405 rows x 4 columns]\n"
     ]
    }
   ],
   "source": [
    "# Compute the mean out-of-sample RMSE for each model size (row-wise mean)\n",
    "mean_oos = np.mean(ooss_e_by_p_k)\n",
    "\n",
    "# Compute the sample standard deviation for each model size (across simulations)\n",
    "sd_oos = np.std(ooss_e_by_p_k)\n",
    "\n",
    "# Construct the 95% confidence intervals\n",
    "CI_lower = mean_oos - 2 * sd_oos\n",
    "CI_upper = mean_oos + 2 * sd_oos\n",
    "\n",
    "# Create a DataFrame with the number of features and the CI bounds.\n",
    "# Assuming n_train is the number of features (columns in X_with_junk)\n",
    "df_CI = pd.DataFrame({\n",
    "    'p': np.arange(1, p_max + 1),\n",
    "    'mean_oos': mean_oos,\n",
    "    'CI_lower': CI_lower,\n",
    "    'CI_upper': CI_upper\n",
    "    \n",
    "})\n",
    "\n",
    "print(df_CI)"
   ]
  }
 ],
 "metadata": {
  "kernelspec": {
   "display_name": "Python [conda env:base] *",
   "language": "python",
   "name": "conda-base-py"
  },
  "language_info": {
   "codemirror_mode": {
    "name": "ipython",
    "version": 3
   },
   "file_extension": ".py",
   "mimetype": "text/x-python",
   "name": "python",
   "nbconvert_exporter": "python",
   "pygments_lexer": "ipython3",
   "version": "3.12.7"
  }
 },
 "nbformat": 4,
 "nbformat_minor": 5
}
