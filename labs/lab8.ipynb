{
 "cells": [
  {
   "cell_type": "markdown",
   "id": "497991d0-557d-42c4-a202-2a069446753d",
   "metadata": {},
   "source": [
    "## Course Assignment Instructions\n",
    "You should have Python (version 3.8 or later) and Jupyter Notebook installed to complete this assignment. You will write code in the empty cell/cells below the problem. While most of this will be a programming assignment, some questions will ask you to \"write a few sentences\" in markdown cells. \n",
    "\n",
    "Submission Instructions:\n",
    "\n",
    "Create a labs directory in your personal class repository (e.g., located in your home directory)\n",
    "Clone the class repository\n",
    "Copy this Jupyter notebook file (.ipynb) into your repo/labs directory\n",
    "Make your edits, commit changes, and push to your repository\n",
    "All submissions must be pushed before the due date to avoid late penalties. \n",
    "\n",
    "Labs are graded out of a 100 pts. Each day late is -10. For a max penalty of -50 after 5 days. From there you may submit the lab anytime before the semester ends for a max score of 50.  \n",
    "\n",
    "Lab 8 is due on 4/28/25"
   ]
  },
  {
   "cell_type": "markdown",
   "id": "ff97c825-1d37-446d-91e5-d231f2083b8c",
   "metadata": {},
   "source": [
    "## Model Selection with Three Splits: Select from M models\n",
    "\n",
    "We employ the diamonds dataset and specify M models nested from simple to more complex. We store the models as strings in a list (i.e. a hashset) ... Create log and polynomial transformations of the following features (carat, x, y, z, depth, and table). In order to use the formulas with logs we need to eliminate rows with zeros in those measurements."
   ]
  },
  {
   "cell_type": "code",
   "execution_count": 4,
   "id": "a0d76806-4399-4759-8a56-9b6ba16eab85",
   "metadata": {},
   "outputs": [
    {
     "name": "stdout",
     "output_type": "stream",
     "text": [
      "Total number of model formulas: 17\n",
      "1: price ~ carat\n",
      "2: price ~ carat + cut\n",
      "3: price ~ carat + cut + color\n",
      "4: price ~ carat + cut + color + clarity\n",
      "5: price ~ carat + cut + color + clarity + x + y + z\n",
      "6: price ~ carat + cut + color + clarity + x + y + z + depth\n",
      "7: price ~ carat + cut + color + clarity + x + y + z + depth + table\n",
      "8: price ~ carat * (cut + color + clarity) + x + y + z + depth + table\n",
      "9: price ~ (carat + x + y + z) * (cut + color + clarity) + depth + table\n",
      "10: price ~ (carat + x + y + z + depth + table) * (cut + color + clarity)\n",
      "11: price ~ (carat_sq + x + y + z + depth + table) * (cut + color + clarity)\n",
      "12: price ~ (carat_sq + x_sq + y_sq + z_sq + depth + table) * (cut + color + clarity)\n",
      "13: price ~ (carat_sq + x_sq + y_sq + z_sq + depth_sq + table_sq) * (cut + color + clarity)\n",
      "14: price ~ (carat_sq + x_sq + y_sq + z_sq + depth_sq + table_sq + log_carat + log_x + log_y + log_z) * (cut + color + clarity)\n",
      "15: price ~ (carat_sq + x_sq + y_sq + z_sq + depth_sq + table_sq + log_carat + log_x + log_y + log_z + log_depth) * (cut + color + clarity)\n",
      "16: price ~ (carat_sq + x_sq + y_sq + z_sq + depth_sq + table_sq + log_carat + log_x + log_y + log_z + log_depth + log_table) * (cut + color + clarity)\n",
      "17: price ~ (carat_sq + x_sq + y_sq + z_sq + depth_sq + table_sq + log_carat + log_x + log_y + log_z + log_depth + log_table) * (cut + color + clarity + carat_sq + x_sq + y_sq + z_sq + depth_sq + table_sq + log_carat + log_x + log_y + log_z + log_depth + log_table)\n"
     ]
    }
   ],
   "source": [
    "import numpy as np\n",
    "import pandas as pd\n",
    "import statsmodels.formula.api as smf\n",
    "from plotnine.data import diamonds\n",
    "\n",
    "# Load the diamonds dataset and create a copy\n",
    "diamonds = diamonds.copy()\n",
    "\n",
    "# Filter to remove rows with non-positive values in the specified columns\n",
    "diamonds_cleaned = diamonds.loc[\n",
    "    (diamonds[\"carat\"] > 0) &\n",
    "    (diamonds[\"x\"] > 0) &\n",
    "    (diamonds[\"y\"] > 0) &\n",
    "    (diamonds[\"z\"] > 0) &\n",
    "    (diamonds[\"depth\"] > 0) &\n",
    "    (diamonds[\"table\"] > 0)   \n",
    "   ].copy()\n",
    "\n",
    "# Add polynomial (squared) features\n",
    "diamonds_cleaned['carat_sq'] = diamonds_cleaned['carat'] ** 2\n",
    "diamonds_cleaned['x_sq'] = diamonds_cleaned['x'] ** 2\n",
    "diamonds_cleaned['y_sq'] = diamonds_cleaned['y'] ** 2\n",
    "diamonds_cleaned['z_sq'] =  diamonds_cleaned['z'] ** 2\n",
    "diamonds_cleaned['depth_sq'] = diamonds_cleaned['depth'] ** 2\n",
    "diamonds_cleaned['table_sq'] = diamonds_cleaned['table'] ** 2\n",
    "\n",
    "# Add log-transformed features (add small constant to avoid log(0))\n",
    "epsilon = 1e-6\n",
    "diamonds_cleaned['log_carat'] = np.log(diamonds_cleaned['carat'] + epsilon)\n",
    "diamonds_cleaned['log_x'] = np.log(diamonds_cleaned['x'] + epsilon)\n",
    "diamonds_cleaned['log_y'] = np.log(diamonds_cleaned['y'] + epsilon)\n",
    "diamonds_cleaned['log_z'] = np.log(diamonds_cleaned['z'] + epsilon)\n",
    "diamonds_cleaned['log_depth'] = np.log(diamonds_cleaned['depth'] + epsilon)\n",
    "diamonds_cleaned['log_table'] = np.log(diamonds_cleaned['table'] + epsilon)\n",
    "\n",
    "# Model formulas (now referencing the precomputed columns)\n",
    "model_formulas = [\n",
    "    \"carat\",\n",
    "    \"carat + cut\",\n",
    "    \"carat + cut + color\",\n",
    "    \"carat + cut + color + clarity\",\n",
    "    \"carat + cut + color + clarity + x + y + z\",\n",
    "    \"carat + cut + color + clarity + x + y + z + depth\",\n",
    "    \"carat + cut + color + clarity + x + y + z + depth + table\",\n",
    "    \"carat * (cut + color + clarity) + x + y + z + depth + table\",\n",
    "    \"(carat + x + y + z) * (cut + color + clarity) + depth + table\",\n",
    "    \"(carat + x + y + z + depth + table) * (cut + color + clarity)\",\n",
    "    \"(carat_sq + x + y + z + depth + table) * (cut + color + clarity)\",\n",
    "    \"(carat_sq + x_sq + y_sq + z_sq + depth + table) * (cut + color + clarity)\",\n",
    "    \"(carat_sq + x_sq + y_sq + z_sq + depth_sq + table_sq) * (cut + color + clarity)\",\n",
    "    \"(carat_sq + x_sq + y_sq + z_sq + depth_sq + table_sq + log_carat + log_x + log_y + log_z) * (cut + color + clarity)\",\n",
    "    \"(carat_sq + x_sq + y_sq + z_sq + depth_sq + table_sq + log_carat + log_x + log_y + log_z + log_depth) * (cut + color + clarity)\",\n",
    "    \"(carat_sq + x_sq + y_sq + z_sq + depth_sq + table_sq + log_carat + log_x + log_y + log_z + log_depth + log_table) * (cut + color + clarity)\",\n",
    "    \"(carat_sq + x_sq + y_sq + z_sq + depth_sq + table_sq + log_carat + log_x + log_y + log_z + log_depth + log_table) * (cut + color + clarity + carat_sq + x_sq + y_sq + z_sq + depth_sq + table_sq + log_carat + log_x + log_y + log_z + log_depth + log_table)\"\n",
    "]\n",
    "\n",
    "# Prefix with 'price ~' for statsmodels compatibility\n",
    "model_formulas = [f\"price ~ {f}\" for f in model_formulas]\n",
    "\n",
    "# Number of formulas\n",
    "M = len(model_formulas)\n",
    "print(f\"Total number of model formulas: {M}\")\n",
    "\n",
    "# Preview\n",
    "for i, formula in enumerate(model_formulas):\n",
    "    print(f\"{i+1}: {formula}\")"
   ]
  },
  {
   "cell_type": "markdown",
   "id": "07544540-3e75-4b8e-a0f6-1262cd8a447e",
   "metadata": {},
   "source": [
    "Split the data into train, select and test. Each set should have 1/3 of the total data."
   ]
  },
  {
   "cell_type": "code",
   "execution_count": 6,
   "id": "5e679024-6c61-4648-942f-125e92da2d72",
   "metadata": {},
   "outputs": [
    {
     "name": "stdout",
     "output_type": "stream",
     "text": [
      "Train size:  17973\n",
      "Select size: 17973\n",
      "Test size:   17974\n"
     ]
    }
   ],
   "source": [
    "import pandas as pd\n",
    "from sklearn.model_selection import train_test_split\n",
    "\n",
    "\n",
    "# First split: ~1/3 (train), ~2/3 (temp)\n",
    "diamonds_train, temp = train_test_split(diamonds_cleaned, test_size=2/3, random_state=1)\n",
    "\n",
    "# Second split: from temp, split half (~1/3 overall) for select and half (~1/3 overall) for test\n",
    "diamonds_select, diamonds_test = train_test_split(temp, test_size=0.5, random_state=1)\n",
    "\n",
    "print(f\"Train size:  {len(diamonds_train)}\")\n",
    "print(f\"Select size: {len(diamonds_select)}\")\n",
    "print(f\"Test size:   {len(diamonds_test)}\")"
   ]
  },
  {
   "cell_type": "markdown",
   "id": "5a17ca49-51d9-4c0d-8498-638709375336",
   "metadata": {},
   "source": [
    "Find the oosRMSE on the select set for each model. Save the number of df in each model while you're doing this as we'll need it for later"
   ]
  },
  {
   "cell_type": "code",
   "execution_count": 8,
   "id": "55b80980-eef8-4d71-9286-4ae447333408",
   "metadata": {},
   "outputs": [
    {
     "name": "stdout",
     "output_type": "stream",
     "text": [
      "    model_index                                            formula  \\\n",
      "0             1                                      price ~ carat   \n",
      "1             2                                price ~ carat + cut   \n",
      "2             3                        price ~ carat + cut + color   \n",
      "3             4              price ~ carat + cut + color + clarity   \n",
      "4             5  price ~ carat + cut + color + clarity + x + y + z   \n",
      "5             6  price ~ carat + cut + color + clarity + x + y ...   \n",
      "6             7  price ~ carat + cut + color + clarity + x + y ...   \n",
      "7             8  price ~ carat * (cut + color + clarity) + x + ...   \n",
      "8             9  price ~ (carat + x + y + z) * (cut + color + c...   \n",
      "9            10  price ~ (carat + x + y + z + depth + table) * ...   \n",
      "10           11  price ~ (carat_sq + x + y + z + depth + table)...   \n",
      "11           12  price ~ (carat_sq + x_sq + y_sq + z_sq + depth...   \n",
      "12           13  price ~ (carat_sq + x_sq + y_sq + z_sq + depth...   \n",
      "13           14  price ~ (carat_sq + x_sq + y_sq + z_sq + depth...   \n",
      "14           15  price ~ (carat_sq + x_sq + y_sq + z_sq + depth...   \n",
      "15           16  price ~ (carat_sq + x_sq + y_sq + z_sq + depth...   \n",
      "16           17  price ~ (carat_sq + x_sq + y_sq + z_sq + depth...   \n",
      "\n",
      "       oosRMSE   df  \n",
      "0     1.174444    2  \n",
      "1     0.379739    6  \n",
      "2     0.280339   12  \n",
      "3     7.205514   19  \n",
      "4     0.997104   22  \n",
      "5     1.512921   23  \n",
      "6     1.198682   24  \n",
      "7     0.916606   41  \n",
      "8     0.570894   92  \n",
      "9     5.629407  126  \n",
      "10    3.928197  126  \n",
      "11    1.534152  126  \n",
      "12    1.008178  126  \n",
      "13   45.841663  198  \n",
      "14   47.628308  216  \n",
      "15   47.304560  234  \n",
      "16  186.298053  300  \n"
     ]
    }
   ],
   "source": [
    "results_list = []\n",
    "\n",
    "for i, formula in enumerate(model_formulas, start=1):\n",
    "    #Fit on train\n",
    "    model = smf.ols(formula = formula, data = diamonds_train).fit()\n",
    "    #Predict on select\n",
    "    preds = model.predict(diamonds_select)\n",
    "    \n",
    "    #Compute oosRMSE\n",
    "    actual = diamonds_select['price']\n",
    "    rmse = np.sqrt(np.mean(preds - actual)**2)\n",
    "    \n",
    "    #Degrees of freedom\n",
    "    #number of parameters\n",
    "    df_params = len(model.params)\n",
    "\n",
    "    #Store results\n",
    "    results_list.append({'model_index': i, 'formula' : formula, 'oosRMSE': rmse, 'df': df_params})\n",
    "\n",
    "\n",
    "results_df = pd.DataFrame(results_list)\n",
    "print(results_df)"
   ]
  },
  {
   "cell_type": "markdown",
   "id": "26f25184-dbfe-4da0-b3a8-c0cb1a7a166b",
   "metadata": {},
   "source": [
    "Plot the oosRMSE by model complexity (df in model)"
   ]
  },
  {
   "cell_type": "code",
   "execution_count": 9,
   "id": "8ae54460-765f-476b-abff-b8810af8d945",
   "metadata": {},
   "outputs": [
    {
     "data": {
      "image/png": "[encoded data removed]"
     },
     "metadata": {
      "image/png": {
       "height": 480,
       "width": 640
      }
     },
     "output_type": "display_data"
    }
   ],
   "source": [
    "from plotnine import ggplot, aes, geom_point, geom_line, theme_bw, labs\n",
    "\n",
    "\n",
    "plot = (ggplot(results_df, aes(x='df', y='oosRMSE')) +\n",
    "     geom_point() + \n",
    "     geom_line() + \n",
    "     labs(title=\"Out-of-Sample RMSE by Model Complexity\", x=\"Degrees of Freedom (df)\", y=\"Out-of-Sample RMSE\") +\n",
    "     theme_bw())\n",
    "\n",
    "plot"
   ]
  },
  {
   "cell_type": "markdown",
   "id": "06922956-adf0-4844-95fa-1c169b712c0a",
   "metadata": {},
   "source": [
    "Select the best model by oosRMSE and find its oosRMSE on the test set."
   ]
  },
  {
   "cell_type": "code",
   "execution_count": 12,
   "id": "65f34647-cb9d-44f3-a03e-ace40599214d",
   "metadata": {},
   "outputs": [
    {
     "name": "stdout",
     "output_type": "stream",
     "text": [
      "Best model row:\n",
      " model_index                              3\n",
      "formula        price ~ carat + cut + color\n",
      "oosRMSE                           0.280339\n",
      "df                                      12\n",
      "Name: 2, dtype: object\n",
      "Best model formula: price ~ carat + cut + color\n",
      "oosRMSE on the test set: 11.927269661845308\n"
     ]
    }
   ],
   "source": [
    "#Identify best model by oosRMSE\n",
    "best_row = results_df.loc[results_df['oosRMSE'].idxmin()]\n",
    "best_formula = best_row['formula']\n",
    "\n",
    "print(\"Best model row:\\n\", best_row)\n",
    "print(\"Best model formula:\", best_formula)\n",
    "\n",
    "#Fit the best model on train\n",
    "best_model = smf.ols(formula = best_formula, data = diamonds_train).fit()\n",
    "\n",
    "#Evaluate RMSE on the test set\n",
    "preds_test = best_model.predict(diamonds_test)\n",
    "test_actual = diamonds_test['price']\n",
    "test_oosRMSE = np.sqrt(np.mean(preds_test - test_actual)**2)\n",
    "\n",
    "print(\"oosRMSE on the test set:\", test_oosRMSE)"
   ]
  },
  {
   "cell_type": "markdown",
   "id": "ef4d3246-7432-4cbe-9596-f777d942f27a",
   "metadata": {},
   "source": [
    "Did we overfit the select set? Discuss why or why not."
   ]
  },
  {
   "cell_type": "markdown",
   "id": "a3991d12-6788-4205-b474-12215acb3c7f",
   "metadata": {},
   "source": [
    "Yes, because we choose the better model from the select. "
   ]
  },
  {
   "cell_type": "markdown",
   "id": "0e34cbe1-1eab-456d-b65d-c562d1044a90",
   "metadata": {},
   "source": [
    "Create the final model object `g_final`."
   ]
  },
  {
   "cell_type": "code",
   "execution_count": 14,
   "id": "2ec4be25-bcf2-4e19-bbd0-40922fd4edbf",
   "metadata": {},
   "outputs": [
    {
     "name": "stdout",
     "output_type": "stream",
     "text": [
      "Best formula: price ~ carat + cut + color\n",
      "Final model trained on train+select data.\n",
      "oosRMSE on Test Set: 1430.838109425018\n"
     ]
    }
   ],
   "source": [
    "#Identify best formula\n",
    "best_row = results_df.loc[results_df['oosRMSE'].idxmin()]\n",
    "best_formula = best_row['formula']\n",
    "print(\"Best formula:\", best_formula)\n",
    "\n",
    "#Combine train and select data\n",
    "diamonds_train_select = pd.concat([diamonds_train, diamonds_select], ignore_index = True)\n",
    "\n",
    "#Fit final model on train+select\n",
    "g_final = smf.ols(formula = best_formula, data = diamonds_train_select).fit()\n",
    "\n",
    "#Evaluate on test\n",
    "test_preds = g_final.predict(diamonds_test)\n",
    "test_actual = diamonds_test[\"price\"]\n",
    "test_oosRMSE = np.sqrt(np.mean((test_preds - test_actual) ** 2))\n",
    "\n",
    "print(\"Final model trained on train+select data.\")\n",
    "print(\"oosRMSE on Test Set:\", test_oosRMSE)"
   ]
  },
  {
   "cell_type": "markdown",
   "id": "ae476a12-0e4b-42dc-a9e5-f51a0d281b64",
   "metadata": {},
   "source": [
    "## Model Selection with Three Splits: Hyperparameter selection\n",
    "\n",
    "We will use an algorithm that I historically taught in 324W but now moved to 343 so I can teach it more deeply using the Bayesian topics from 341. The regression algorithm is called \"ridge\" and it involves solving for the slope vector via:\n",
    "\n",
    "b_ridge := (X^T X + lambda I_(p+1))^-1 X^T y\n",
    "\n",
    "Note how if lambda = 0, this is the same algorithm as OLS. If lambda becomes very large then b_ridge is pushed towards all zeroes. So ridge is good at weighting only features that matter.\n",
    "\n",
    "However, lambda is a hyperparameter >= 0 that needs to be selected.\n",
    "\n",
    "We will work with the boston housing dataset except we will add 250 garbage features consisting of iid N(0,1) realizations. We will also standardize the columns so they're all xbar = 0 and s_x = 1. This is shown to be important in 343."
   ]
  },
  {
   "cell_type": "code",
   "execution_count": 16,
   "id": "36571395-7310-4fda-bd16-eb73a8abc38e",
   "metadata": {},
   "outputs": [
    {
     "name": "stdout",
     "output_type": "stream",
     "text": [
      "df_X_final shape: (506, 264)\n",
      "First 5 rows:\n",
      " <bound method NDFrame.head of      Intercept      crim        zn     indus      chas       nox        rm  \\\n",
      "0          1.0 -0.419367  0.284548 -1.286636 -0.272329 -0.144075  0.413263   \n",
      "1          1.0 -0.416927 -0.487240 -0.592794 -0.272329 -0.739530  0.194082   \n",
      "2          1.0 -0.416929 -0.487240 -0.592794 -0.272329 -0.739530  1.281446   \n",
      "3          1.0 -0.416338 -0.487240 -1.305586 -0.272329 -0.834458  1.015298   \n",
      "4          1.0 -0.412074 -0.487240 -1.305586 -0.272329 -0.834458  1.227362   \n",
      "..         ...       ...       ...       ...       ...       ...       ...   \n",
      "501        1.0 -0.412820 -0.487240  0.115624 -0.272329  0.157968  0.438881   \n",
      "502        1.0 -0.414839 -0.487240  0.115624 -0.272329  0.157968 -0.234316   \n",
      "503        1.0 -0.413038 -0.487240  0.115624 -0.272329  0.157968  0.983986   \n",
      "504        1.0 -0.407361 -0.487240  0.115624 -0.272329  0.157968  0.724955   \n",
      "505        1.0 -0.414590 -0.487240  0.115624 -0.272329  0.157968 -0.362408   \n",
      "\n",
      "          age       dis       rad  ...  garb_241  garb_242  garb_243  \\\n",
      "0   -0.119895  0.140075 -0.981871  ... -0.479525 -0.394984 -0.001421   \n",
      "1    0.366803  0.556609 -0.867024  ... -0.073263  0.590498 -0.395240   \n",
      "2   -0.265549  0.556609 -0.867024  ...  0.110388  0.987957 -1.484408   \n",
      "3   -0.809088  1.076671 -0.752178  ...  0.201711 -0.195166  0.368116   \n",
      "4   -0.510674  1.076671 -0.752178  ...  0.251128 -0.831994  0.685316   \n",
      "..        ...       ...       ...  ...       ...       ...       ...   \n",
      "501  0.018654 -0.625178 -0.981871  ... -0.834504  0.934292  0.340146   \n",
      "502  0.288648 -0.715931 -0.981871  ...  0.303199  0.459967 -1.416957   \n",
      "503  0.796661 -0.772919 -0.981871  ...  0.481914 -1.253537 -0.053447   \n",
      "504  0.736268 -0.667776 -0.981871  ... -0.028818 -0.556684 -0.130336   \n",
      "505  0.434302 -0.612640 -0.981871  ... -1.120540 -0.899583 -1.042705   \n",
      "\n",
      "     garb_244  garb_245  garb_246  garb_247  garb_248  garb_249  garb_250  \n",
      "0   -1.373741 -0.845360  0.628290  0.616134 -0.347348  1.757840 -1.324878  \n",
      "1    0.409827 -1.557706 -0.854806  0.526492 -2.119620 -1.108260 -0.059656  \n",
      "2   -0.617136 -0.128922 -0.756063  0.528775  0.094430  0.295183 -0.754636  \n",
      "3    0.666806  1.290670 -0.152212 -2.279148  0.021693  0.327205 -0.225899  \n",
      "4   -0.746165  1.867336  0.720143 -1.270903  1.828019 -0.243534 -0.756857  \n",
      "..        ...       ...       ...       ...       ...       ...       ...  \n",
      "501  1.405365 -1.222152 -0.140191 -1.125593  0.762232  0.633922 -0.854915  \n",
      "502  1.306503  0.636154 -0.233037 -0.780796  0.193901  0.017485  0.428901  \n",
      "503  0.082296  0.233543  2.155466 -0.724113  0.019698 -0.595493  1.394672  \n",
      "504  0.258450  0.584476 -0.829861 -0.746861  1.480910  0.524492  1.300108  \n",
      "505  0.575781  0.478521 -0.281135 -0.226220  0.065364  0.467574  0.659104  \n",
      "\n",
      "[506 rows x 264 columns]>\n"
     ]
    }
   ],
   "source": [
    "import statsmodels.api as sm\n",
    "\n",
    "#Read the Boston Housing CSV (exported from R)\n",
    "df = pd.read_csv('boston_housing_data.csv')\n",
    "\n",
    "#y is the response\n",
    "y = df['medv'].values\n",
    "\n",
    "#X_data: mimic model.matrix(medv ~ ., MASS::Boston):\n",
    "# Drop 'medv' and add an intercept column\n",
    "X_data = df.drop(columns = 'medv')\n",
    "X_data_with_const = sm.add_constant(X_data)\n",
    "\n",
    "#Add 250 garbage features\n",
    "np.random.seed(1)\n",
    "n = X_data_with_const.shape[0]\n",
    "p_garbage = 250\n",
    "garbage_matrix = np.random.randn(n, p_garbage)\n",
    "\n",
    "# Combine the real predictors + garbage into a single DataFrame\n",
    "df_X = pd.concat([pd.DataFrame(X_data_with_const), pd.DataFrame(garbage_matrix)], axis = 1)\n",
    "\n",
    "#Standardize each column: (x_j - mean_j)/sd_j, matching R's default sample sd (ddof=1)\n",
    "means = df_X.mean(axis = 0)\n",
    "stds  = df_X.std(axis = 0, ddof = 1)\n",
    "df_X_std = (df_X - means) / stds\n",
    "\n",
    "#The first column is our intercept, but standardizing sets it to 0, so reset it to 1\n",
    "df_X_std.iloc[:, 0] = 1.0\n",
    "\n",
    "#Name the columns\n",
    "orig_columns = [\"Intercept\"] + list(X_data.columns)\n",
    "garb_columns = [f\"garb_{i+1}\" for i in range(p_garbage)]\n",
    "df_X_std.columns = orig_columns + garb_columns\n",
    "\n",
    "# 7) df_X_final is now your final DataFrame of predictors\n",
    "df_X_final = df_X_std.copy()\n",
    "\n",
    "print(\"df_X_final shape:\", df_X_final.shape)\n",
    "print(\"First 5 rows:\\n\",df_X_final.head)"
   ]
  },
  {
   "cell_type": "markdown",
   "id": "4e271344-b4c7-4b16-b8bb-25ddfe9d9d4c",
   "metadata": {},
   "source": [
    "Now we split it into 300 train, 100 select and 106 test. "
   ]
  },
  {
   "cell_type": "code",
   "execution_count": 18,
   "id": "589d0d33-db95-4db8-8ee3-c3c8c26fc310",
   "metadata": {},
   "outputs": [
    {
     "name": "stdout",
     "output_type": "stream",
     "text": [
      "Train set X: (300, 264) y: (300,)\n",
      "Select set X: (100, 264) y: (100,)\n",
      "Test set X:   (106, 264) y: (106,)\n"
     ]
    }
   ],
   "source": [
    "from sklearn.model_selection import train_test_split\n",
    "\n",
    "# First split: 300 for train, remainder (206) for temp\n",
    "X_train, X_temp, y_train, y_temp = train_test_split(\n",
    "    df_X_final,\n",
    "    y,\n",
    "    test_size = 206,\n",
    "    random_state = 1\n",
    "\n",
    ")\n",
    "\n",
    "#From the remaining 206, split out 100 for select and 106 for test\n",
    "X_select, X_test, y_select, y_test = train_test_split(\n",
    "   X_temp,\n",
    "    y_temp,\n",
    "    test_size = 106,\n",
    "    random_state = 1\n",
    ")\n",
    "\n",
    "#Print shapes to verify (should be 300 / 100 / 106)\n",
    "print(\"Train set X:\", X_train.shape , \"y:\", y_train.shape)\n",
    "print(\"Select set X:\", X_select.shape, \"y:\", y_select.shape)\n",
    "print(\"Test set X:  \", X_test.shape,  \"y:\",  y_test.shape)"
   ]
  },
  {
   "cell_type": "markdown",
   "id": "9a47f5fe-6c70-4365-8a5e-8b978e6f7548",
   "metadata": {},
   "source": [
    "We now create a grid of M = 200 models indexed by lambda. The lowest lambda should be zero (which is OLS) and the highest lambda can be 100."
   ]
  },
  {
   "cell_type": "code",
   "execution_count": 20,
   "id": "29593ef3-a3c6-43c9-82d4-27e1ffb3a150",
   "metadata": {},
   "outputs": [],
   "source": [
    "M = 200\n",
    "lambda_grid = np.linspace(0, 100, num = M)"
   ]
  },
  {
   "cell_type": "markdown",
   "id": "fdc0c65b-55a7-4a16-acd4-094e20d73aea",
   "metadata": {},
   "source": [
    "Now find the oosRMSE on the select set on all models each with their own lambda value."
   ]
  },
  {
   "cell_type": "code",
   "execution_count": 22,
   "id": "6c768248-a24a-4343-801e-dce9fe4fcac0",
   "metadata": {},
   "outputs": [
    {
     "name": "stdout",
     "output_type": "stream",
     "text": [
      "[13.53734094 12.44441538 11.76392353 11.30554565 10.98137582 10.74410092\n",
      " 10.56595405 10.42963657 10.32386718 10.24101089 10.17573733 10.12422462\n",
      " 10.08366818 10.05196758 10.02752098 10.00908688  9.995689    9.98654941\n",
      "  9.9810409   9.97865219  9.97896241  9.98162195  9.98633795  9.99286321\n",
      " 10.00098758 10.01053128 10.02133949 10.03327821 10.0462308  10.06009525\n",
      " 10.07478194 10.09021179 10.10631473 10.12302846 10.14029738 10.1580717\n",
      " 10.1763067  10.19496209 10.21400147 10.23339187 10.25310335 10.27310866\n",
      " 10.29338294 10.31390345 10.33464937 10.35560158 10.37674252 10.39805598\n",
      " 10.41952704 10.44114188 10.46288774 10.48475277 10.50672598 10.52879716\n",
      " 10.55095682 10.5731961  10.59550674 10.61788106 10.64031184 10.66279236\n",
      " 10.68531631 10.70787778 10.73047125 10.75309151 10.77573368 10.79839317\n",
      " 10.82106567 10.84374712 10.86643371 10.88912182 10.91180806 10.93448925\n",
      " 10.95716234 10.97982451 11.00247305 11.02510543 11.04771925 11.07031223\n",
      " 11.09288224 11.11542725 11.13794533 11.16043468 11.18289358 11.20532041\n",
      " 11.22771363 11.25007178 11.2723935  11.29467749 11.3169225  11.33912739\n",
      " 11.36129104 11.38341242 11.40549054 11.42752447 11.44951332 11.47145628\n",
      " 11.49335255 11.51520139 11.53700211 11.55875404 11.58045656 11.60210909\n",
      " 11.62371107 11.64526199 11.66676136 11.68820873 11.70960366 11.73094575\n",
      " 11.75223463 11.77346995 11.79465138 11.81577861 11.83685137 11.85786938\n",
      " 11.87883241 11.89974024 11.92059266 11.94138948 11.96213052 11.98281564\n",
      " 12.00344469 12.02401754 12.04453409 12.06499423 12.08539788 12.10574496\n",
      " 12.12603541 12.14626918 12.16644622 12.18656651 12.20663003 12.22663676\n",
      " 12.2465867  12.26647986 12.28631624 12.30609589 12.32581881 12.34548506\n",
      " 12.36509467 12.38464769 12.40414418 12.42358421 12.44296785 12.46229516\n",
      " 12.48156622 12.50078113 12.51993997 12.53904284 12.55808983 12.57708105\n",
      " 12.5960166  12.6148966  12.63372116 12.65249041 12.67120445 12.68986342\n",
      " 12.70846745 12.72701666 12.74551119 12.76395118 12.78233676 12.80066809\n",
      " 12.81894529 12.83716853 12.85533794 12.87345367 12.89151589 12.90952474\n",
      " 12.92748038 12.94538297 12.96323266 12.98102962 12.998774   13.01646598\n",
      " 13.03410572 13.05169337 13.06922911 13.0867131  13.10414552 13.12152653\n",
      " 13.13885631 13.15613501 13.17336283 13.19053992 13.20766646 13.22474262\n",
      " 13.24176858 13.25874451 13.27567059 13.29254699 13.30937389 13.32615146\n",
      " 13.34287988 13.35955933 13.37618998 13.392772   13.40930558 13.4257909\n",
      " 13.44222812 13.45861743]\n"
     ]
    }
   ],
   "source": [
    "from sklearn.linear_model import Ridge\n",
    "\n",
    "M = len(lambda_grid)\n",
    "oosRMSE_list = []\n",
    "\n",
    "for lam in lambda_grid:\n",
    "    #Fit a Ridge regression model with alpha=lamba\n",
    "    #Note:alpha here corresponds to lambda in R\n",
    "    #Note: If your X_train does NOT have an intercept column, set fit_intercept=True, else fit_intercept=False\n",
    "    ridge_model = Ridge(alpha = lam, fit_intercept = False)\n",
    "    ridge_model.fit(X_train, y_train)\n",
    "    \n",
    "    #Predict on the select set\n",
    "    preds = ridge_model.predict(X_select)\n",
    "    \n",
    "    #Compute out-of-sample RMSE\n",
    "    mse = np.mean((preds - y_select)**2)\n",
    "    rmse = np.sqrt(mse)\n",
    "    oosRMSE_list.append(rmse)\n",
    "    \n",
    "\n",
    "oosRMSE_array = np.array(oosRMSE_list)\n",
    "print(oosRMSE_array)"
   ]
  },
  {
   "cell_type": "markdown",
   "id": "5f611532-7c0e-4fae-8920-e2e95ca1b8bb",
   "metadata": {},
   "source": [
    "Plot the oosRMSE by the value of lambda."
   ]
  },
  {
   "cell_type": "code",
   "execution_count": 26,
   "id": "4c88e063-7ffa-4b6b-b208-5c6779d40291",
   "metadata": {},
   "outputs": [
    {
     "data": {
      "image/png": "[encoded data removed]"
     },
     "metadata": {
      "image/png": {
       "height": 480,
       "width": 640
      }
     },
     "output_type": "display_data"
    }
   ],
   "source": [
    "import pandas as pd\n",
    "from plotnine import ggplot, aes, geom_point, geom_line, labs, theme_bw\n",
    "\n",
    "results_df = pd.DataFrame({\n",
    "    'lambda': lambda_grid,\n",
    "    'oosRMSE': oosRMSE_array\n",
    "})\n",
    "\n",
    "plot = (ggplot(results_df, aes(x='lambda', y='oosRMSE'))\n",
    "        + geom_point()\n",
    "        + geom_line()\n",
    "        + labs(title=\"Out-of-sample RMSE vs. Lambda\", x=\"Lambda\", y=\"OOS RMSE\")\n",
    "        + theme_bw())\n",
    "plot"
   ]
  },
  {
   "cell_type": "markdown",
   "id": "3d85f558-a490-4687-9477-8aba992a5bb2",
   "metadata": {},
   "source": [
    "Select the model with the best oosRMSE on the select set and find its oosRMSE on the test set."
   ]
  },
  {
   "cell_type": "code",
   "execution_count": 28,
   "id": "5f217db6-ba07-48c0-bc17-db064acbe21f",
   "metadata": {},
   "outputs": [
    {
     "name": "stdout",
     "output_type": "stream",
     "text": [
      "Best lambda: 9.547738693467336\n",
      "Test-set RMSE: 10.460849114434518\n"
     ]
    }
   ],
   "source": [
    "#Identify the best lambda (lowest oosRMSE on the select set)\n",
    "best_idx = np.argmin(oosRMSE_array)\n",
    "best_lambda = lambda_grid[best_idx]\n",
    "print(\"Best lambda:\", best_lambda)\n",
    "\n",
    "#Refit on train set with that lambda\n",
    "ridge_best = Ridge(alpha = best_lambda, fit_intercept = False)\n",
    "ridge_best.fit(X_train, y_train)\n",
    "\n",
    "#Evaluate on the test set\n",
    "preds_test = ridge_best.predict(X_test)\n",
    "test_oosRMSE = np.sqrt(np.mean((preds_test - y_test)**2))\n",
    "print(\"Test-set RMSE:\", test_oosRMSE)"
   ]
  },
  {
   "cell_type": "markdown",
   "id": "3b4ca216-0f5c-4b03-aa9e-17545372d36c",
   "metadata": {},
   "source": [
    "Create the final model object `g_final`."
   ]
  },
  {
   "cell_type": "code",
   "execution_count": 30,
   "id": "fa2539dd-8fc0-41c6-8b01-34a3484937d2",
   "metadata": {
    "scrolled": true
   },
   "outputs": [
    {
     "name": "stdout",
     "output_type": "stream",
     "text": [
      "Final model coefficients:\n",
      "Intercept    21.888387\n",
      "crim         -0.440957\n",
      "zn            1.659766\n",
      "indus         0.482797\n",
      "chas          0.598480\n",
      "               ...    \n",
      "garb_246     -0.020711\n",
      "garb_247     -0.639872\n",
      "garb_248     -0.118778\n",
      "garb_249     -0.075556\n",
      "garb_250     -0.154029\n",
      "Length: 264, dtype: float64\n",
      "Test-set RMSE: 8.517922621131955\n"
     ]
    }
   ],
   "source": [
    "# Convert X_train to DataFrame if needed (preserve columns if they exist, otherwise create generic ones)\n",
    "if not isinstance(X_train, pd.DataFrame):\n",
    "    X_train = pd.DataFrame(X_train, columns=[f\"X{i}\" for i in range(X_train.shape[1])])\n",
    "if not isinstance(X_select, pd.DataFrame):\n",
    "    X_select = pd.DataFrame(X_select, columns=X_train.columns)\n",
    "if not isinstance(X_test, pd.DataFrame):\n",
    "    X_test = pd.DataFrame(X_test, columns=X_train.columns)\n",
    "\n",
    "#Convert y_train, y_select, and y_test to Series if needed\n",
    "if not isinstance(y_train, pd.Series):\n",
    "    y_train = pd.Series(y_train, name=\"y\")\n",
    "if not isinstance(y_select, pd.Series):\n",
    "    y_select = pd.Series(y_select, name=\"y\")\n",
    "if not isinstance(y_test, pd.Series):\n",
    "    y_test = pd.Series(y_test, name=\"y\")\n",
    "\n",
    "#Combine the train and select sets (keeping them as DataFrames/Series)\n",
    "X_train_select =  pd.concat([X_train, X_select], axis = 0)\n",
    "y_train_select = pd.concat([y_train, y_select], axis = 0)\n",
    "\n",
    "# Fit the final Ridge model on the combined train+select data. X_train_select already includes an intercept column\n",
    "ridge_final = Ridge(alpha = best_lambda, fit_intercept= False)\n",
    "ridge_final.fit(X_train_select, y_train_select)\n",
    "g_final = ridge_final  # final model object\n",
    "\n",
    "# Display the final model coefficients with their feature names.\n",
    "coef_series = pd.Series(g_final.coef_, index= X_train_select.columns)\n",
    "print(\"Final model coefficients:\")\n",
    "print(coef_series)\n",
    "\n",
    "# Evaluate on the test set (which is also a DataFrame)\n",
    "preds_test = g_final.predict(X_test)\n",
    "test_oosRMSE = np.sqrt(np.mean((preds_test - y_test)**2))\n",
    "print(\"Test-set RMSE:\", test_oosRMSE)"
   ]
  },
  {
   "cell_type": "markdown",
   "id": "1bba0d8d-2481-4284-b9f0-2ae69d87c9a4",
   "metadata": {},
   "source": [
    "## Model Selection with Three Splits: Forward stepwise modeling\n",
    "\n",
    "We will use the adult data"
   ]
  },
  {
   "cell_type": "code",
   "execution_count": 32,
   "id": "9a2aa4eb-471b-46d8-a12a-782c07d2d9e5",
   "metadata": {},
   "outputs": [
    {
     "name": "stdout",
     "output_type": "stream",
     "text": [
      "Number of observations after dropping missing values: 30162\n",
      "Number of features after dropping education: 14\n",
      "   age         workclass  fnlwgt  education_num      marital_status  \\\n",
      "0   39         State-gov   77516             13       Never-married   \n",
      "1   50  Self-emp-not-inc   83311             13  Married-civ-spouse   \n",
      "2   38           Private  215646              9            Divorced   \n",
      "3   53           Private  234721              7  Married-civ-spouse   \n",
      "4   28           Private  338409             13  Married-civ-spouse   \n",
      "\n",
      "          occupation   relationship   race     sex  capital_gain  \\\n",
      "0       Adm-clerical  Not-in-family  White    Male          2174   \n",
      "1    Exec-managerial        Husband  White    Male             0   \n",
      "2  Handlers-cleaners  Not-in-family  White    Male             0   \n",
      "3  Handlers-cleaners        Husband  Black    Male             0   \n",
      "4     Prof-specialty           Wife  Black  Female             0   \n",
      "\n",
      "   capital_loss  hours_per_week native_country income  \n",
      "0             0              40  United-States  <=50K  \n",
      "1             0              13  United-States  <=50K  \n",
      "2             0              40  United-States  <=50K  \n",
      "3             0              40  United-States  <=50K  \n",
      "4             0              40           Cuba  <=50K  \n"
     ]
    }
   ],
   "source": [
    "#Import the data from the CSV file\n",
    "adult = pd.read_csv(\"adult_data.csv\")\n",
    "\n",
    "#Remove observations with any missing values (similar to na.omit in R)\n",
    "adult = adult.dropna()\n",
    "\n",
    "#Check the number of observations\n",
    "n = adult.shape[0]\n",
    "\n",
    "print(\"Number of observations after dropping missing values:\", n)\n",
    "\n",
    "#Remove the \"education\" column (which is duplicative with education-num)\n",
    "if \"education\" in adult.columns:\n",
    "    adult = adult.drop(columns=[\"education\"])\n",
    "else:\n",
    "    print(\"Column 'education' not found; please check column names.\")\n",
    "\n",
    "p = adult.shape[1]\n",
    "print(\"Number of features after dropping education:\", p)\n",
    "\n",
    "#Inspect the first few rows\n",
    "print(adult.head())"
   ]
  },
  {
   "cell_type": "markdown",
   "id": "ddb6638c-ba94-45d6-8eb7-9f8f04d83eb9",
   "metadata": {},
   "source": [
    "To implement forward stepwise, we need a \"full model\" that contains anything and everything we can possible want to use as transformed predictors. Let's first create log features of all the numeric features. Instead of pure log, use log(value + epsilon) to handle possible zeroes."
   ]
  },
  {
   "cell_type": "code",
   "execution_count": 34,
   "id": "5fee285d-25a8-4a12-b77b-a623947d87a2",
   "metadata": {},
   "outputs": [
    {
     "name": "stdout",
     "output_type": "stream",
     "text": [
      "                age        fnlwgt  education_num  capital_gain  capital_loss  \\\n",
      "count  30162.000000  3.016200e+04   30162.000000  30162.000000  30162.000000   \n",
      "mean      38.437902  1.897938e+05      10.121312   1092.007858     88.372489   \n",
      "std       13.134665  1.056530e+05       2.549995   7406.346497    404.298370   \n",
      "min       17.000000  1.376900e+04       1.000000      0.000000      0.000000   \n",
      "25%       28.000000  1.176272e+05       9.000000      0.000000      0.000000   \n",
      "50%       37.000000  1.784250e+05      10.000000      0.000000      0.000000   \n",
      "75%       47.000000  2.376285e+05      13.000000      0.000000      0.000000   \n",
      "max       90.000000  1.484705e+06      16.000000  99999.000000   4356.000000   \n",
      "\n",
      "       hours_per_week  \n",
      "count    30162.000000  \n",
      "mean        40.931238  \n",
      "std         11.979984  \n",
      "min          1.000000  \n",
      "25%         40.000000  \n",
      "50%         40.000000  \n",
      "75%         45.000000  \n",
      "max         99.000000  \n",
      "   age         workclass  fnlwgt  education_num      marital_status  \\\n",
      "0   39         State-gov   77516             13       Never-married   \n",
      "1   50  Self-emp-not-inc   83311             13  Married-civ-spouse   \n",
      "2   38           Private  215646              9            Divorced   \n",
      "3   53           Private  234721              7  Married-civ-spouse   \n",
      "4   28           Private  338409             13  Married-civ-spouse   \n",
      "\n",
      "          occupation   relationship   race     sex  capital_gain  \\\n",
      "0       Adm-clerical  Not-in-family  White    Male          2174   \n",
      "1    Exec-managerial        Husband  White    Male             0   \n",
      "2  Handlers-cleaners  Not-in-family  White    Male             0   \n",
      "3  Handlers-cleaners        Husband  Black    Male             0   \n",
      "4     Prof-specialty           Wife  Black  Female             0   \n",
      "\n",
      "   capital_loss  hours_per_week native_country income   log_age  log_fnlwgt  \\\n",
      "0             0              40  United-States  <=50K  3.663562   11.258240   \n",
      "1             0              13  United-States  <=50K  3.912023   11.330336   \n",
      "2             0              40  United-States  <=50K  3.637586   12.281393   \n",
      "3             0              40  United-States  <=50K  3.970292   12.366153   \n",
      "4             0              40           Cuba  <=50K  3.332205   12.732011   \n",
      "\n",
      "   log_education_num  log_capital_gain  log_capital_loss  log_hours_per_week  \n",
      "0           2.564949          7.684324        -13.815511            3.688879  \n",
      "1           2.564949        -13.815511        -13.815511            2.564949  \n",
      "2           2.197225        -13.815511        -13.815511            3.688879  \n",
      "3           1.945910        -13.815511        -13.815511            3.688879  \n",
      "4           2.564949        -13.815511        -13.815511            3.688879  \n"
     ]
    }
   ],
   "source": [
    "#Inspect the numeric features using describe()\n",
    "print(adult.describe())\n",
    "\n",
    "#Create log-transformed features (using log(value + epsilon) to avoid issues with zero values)\n",
    "epsilon = 1e-6\n",
    "adult['log_age'] = np.log(adult['age'] + epsilon)\n",
    "adult['log_fnlwgt'] = np.log(adult['fnlwgt'] + epsilon)\n",
    "adult['log_education_num'] = np.log(adult['education_num'] + epsilon)\n",
    "adult['log_capital_gain'] = np.log(adult['capital_gain'] + epsilon)\n",
    "adult['log_capital_loss'] = np.log(adult['capital_loss'] + epsilon)\n",
    "adult['log_hours_per_week'] = np.log(adult['hours_per_week'] + epsilon)\n",
    "\n",
    "#Inspect the first few rows to confirm the new columns\n",
    "print(adult.head())"
   ]
  },
  {
   "cell_type": "markdown",
   "id": "84295804-3813-4095-ac40-942155b3b717",
   "metadata": {},
   "source": [
    "Now let's create a model matrix Xfull that contains all first order interactions. How many degrees of freedom in this \"full model\"?"
   ]
  },
  {
   "cell_type": "code",
   "execution_count": 36,
   "id": "d1da2567-9001-40e3-8222-8bcbc92dd47a",
   "metadata": {},
   "outputs": [
    {
     "name": "stdout",
     "output_type": "stream",
     "text": [
      "Numeric columns: ['age', 'fnlwgt', 'education_num', 'capital_gain', 'capital_loss', 'hours_per_week']\n",
      "Categorical columns: ['workclass', 'education', 'marital_status', 'occupation', 'relationship', 'race', 'sex', 'native_country', 'income']\n",
      "Dimensions of Xfull: (32561, 4950)\n",
      "Degrees of freedom in the full model (including intercept): 4950\n"
     ]
    }
   ],
   "source": [
    "from sklearn.preprocessing import PolynomialFeatures\n",
    "\n",
    "#Load the adult data from the CSV file (exported from R)\n",
    "adult = pd.read_csv(\"adult_data.csv\")\n",
    "\n",
    "#Identify numeric and categorical columns.\n",
    "numeric_cols = adult.select_dtypes(include=['number']).columns.tolist()\n",
    "categorical_cols = adult.select_dtypes(include=['object', 'category']).columns.tolist()\n",
    "\n",
    "print(\"Numeric columns:\", numeric_cols)\n",
    "print(\"Categorical columns:\", categorical_cols)\n",
    "\n",
    "yfull = (adult['income'] == \">50K\").astype(int)\n",
    "\n",
    "#Convert categorical columns to dummy variables using drop_first=True (producing k-1 columns per factor).\n",
    "adult_numeric = adult[numeric_cols]\n",
    "adult_categorical =  adult[categorical_cols]\n",
    "adult_cat_dummies = pd.get_dummies(adult_categorical, drop_first = True)\n",
    "\n",
    "#Combine numeric and dummy columns\n",
    "adult_full = pd.concat([adult_numeric, adult_cat_dummies], axis=1)\n",
    "\n",
    "# Now create the full model matrix with main effects and all two-way interactions.\n",
    "pf = PolynomialFeatures(degree = 2, include_bias = True, interaction_only = False)\n",
    "Xfull_array = pf.fit_transform(adult_full)\n",
    "\n",
    "#Retrieve feature names\n",
    "try:\n",
    "    feature_names = pf.get_feature_names_out(adult_full.columns)\n",
    "except AttributeError:\n",
    "    feature_names = pf.get_feature_names(adult_full.columns)\n",
    "\n",
    "#Convert to a DataFrame\n",
    "Xfull = pd.DataFrame(Xfull_array, columns=feature_names)\n",
    "\n",
    "#Report the dimensions and degrees of freedom (number of columns)\n",
    "print(\"Dimensions of Xfull:\", Xfull.shape)\n",
    "print(\"Degrees of freedom in the full model (including intercept):\", Xfull.shape[1])"
   ]
  },
  {
   "cell_type": "markdown",
   "id": "1fcefc1b-1519-42c7-8606-fe7cd5948782",
   "metadata": {},
   "source": [
    "Now let's split it into train, select and test sets. Because this will be a glm, model-building (training) will be slow, so let's keep the training set small at 2,000. Since prediction is fast, we can divide the others evenly among select and test."
   ]
  },
  {
   "cell_type": "code",
   "execution_count": 38,
   "id": "7c0c8422-46e3-4270-94a5-4ef991fce4a7",
   "metadata": {},
   "outputs": [
    {
     "name": "stdout",
     "output_type": "stream",
     "text": [
      "Training set size: (2000, 4950)\n",
      "Select set size: (15280, 4950)\n",
      "Test set size: (15281, 4950)\n"
     ]
    }
   ],
   "source": [
    "# First split: 2000 for train, remainder (30561) for temp\n",
    "X_train, X_temp, y_train, y_temp = train_test_split(\n",
    "    Xfull,\n",
    "    yfull,\n",
    "    train_size= 2000,\n",
    "    random_state= 1\n",
    ")\n",
    "\n",
    "#From the remaining 206, split out 100 for select and 106 for test\n",
    "X_select, X_test, y_select, y_test = train_test_split(\n",
    "   X_temp,\n",
    "    y_temp,\n",
    "    test_size = .5,\n",
    "    random_state= 1    \n",
    ")\n",
    "\n",
    "print(\"Training set size:\", X_train.shape)\n",
    "print(\"Select set size:\", X_select.shape)\n",
    "print(\"Test set size:\", X_test.shape)"
   ]
  },
  {
   "cell_type": "markdown",
   "id": "2cfc22b2-4e6a-4738-84e0-f0bed99a7123",
   "metadata": {},
   "source": [
    "Now let's use the code from class to run the forward stepwise modeling. As this is binary classification, let's use logistic regression and to measure model performance, let's use the Brier score. Compute the Brier score in-sample (on training set) and oos (on selection set) for every iteration of j, the number of features selected from the greedy selection procedure."
   ]
  },
  {
   "cell_type": "code",
   "execution_count": 27,
   "id": "a589078b-91fd-4e3a-8b3e-db3a31c07973",
   "metadata": {},
   "outputs": [
    {
     "name": "stdout",
     "output_type": "stream",
     "text": [
      "Step 1: Added feature 98 | In-sample Brier: 0.00000 | OOS Brier: 0.00000\n"
     ]
    },
    {
     "ename": "KeyboardInterrupt",
     "evalue": "",
     "output_type": "error",
     "traceback": [
      "\u001b[1;31m---------------------------------------------------------------------------\u001b[0m",
      "\u001b[1;31mKeyboardInterrupt\u001b[0m                         Traceback (most recent call last)",
      "Cell \u001b[1;32mIn[27], line 45\u001b[0m\n\u001b[0;32m     43\u001b[0m \u001b[38;5;66;03m# Compute Brier scores\u001b[39;00m\n\u001b[0;32m     44\u001b[0m brier_train \u001b[38;5;241m=\u001b[39m brier_score_loss(y_train, y_train_pred_prob)\n\u001b[1;32m---> 45\u001b[0m brier_select \u001b[38;5;241m=\u001b[39m brier_score_loss(y_select, y_select_pred_prob)\n\u001b[0;32m     47\u001b[0m \u001b[38;5;66;03m# Keep best (lowest select Brier)\u001b[39;00m\n\u001b[0;32m     48\u001b[0m \u001b[38;5;28;01mif\u001b[39;00m brier_select \u001b[38;5;241m<\u001b[39m best_brier:\n",
      "File \u001b[1;32m~\\anaconda3\\Lib\\site-packages\\sklearn\\utils\\_param_validation.py:213\u001b[0m, in \u001b[0;36mvalidate_params.<locals>.decorator.<locals>.wrapper\u001b[1;34m(*args, **kwargs)\u001b[0m\n\u001b[0;32m    207\u001b[0m \u001b[38;5;28;01mtry\u001b[39;00m:\n\u001b[0;32m    208\u001b[0m     \u001b[38;5;28;01mwith\u001b[39;00m config_context(\n\u001b[0;32m    209\u001b[0m         skip_parameter_validation\u001b[38;5;241m=\u001b[39m(\n\u001b[0;32m    210\u001b[0m             prefer_skip_nested_validation \u001b[38;5;129;01mor\u001b[39;00m global_skip_validation\n\u001b[0;32m    211\u001b[0m         )\n\u001b[0;32m    212\u001b[0m     ):\n\u001b[1;32m--> 213\u001b[0m         \u001b[38;5;28;01mreturn\u001b[39;00m func(\u001b[38;5;241m*\u001b[39margs, \u001b[38;5;241m*\u001b[39m\u001b[38;5;241m*\u001b[39mkwargs)\n\u001b[0;32m    214\u001b[0m \u001b[38;5;28;01mexcept\u001b[39;00m InvalidParameterError \u001b[38;5;28;01mas\u001b[39;00m e:\n\u001b[0;32m    215\u001b[0m     \u001b[38;5;66;03m# When the function is just a wrapper around an estimator, we allow\u001b[39;00m\n\u001b[0;32m    216\u001b[0m     \u001b[38;5;66;03m# the function to delegate validation to the estimator, but we replace\u001b[39;00m\n\u001b[0;32m    217\u001b[0m     \u001b[38;5;66;03m# the name of the estimator by the name of the function in the error\u001b[39;00m\n\u001b[0;32m    218\u001b[0m     \u001b[38;5;66;03m# message to avoid confusion.\u001b[39;00m\n\u001b[0;32m    219\u001b[0m     msg \u001b[38;5;241m=\u001b[39m re\u001b[38;5;241m.\u001b[39msub(\n\u001b[0;32m    220\u001b[0m         \u001b[38;5;124mr\u001b[39m\u001b[38;5;124m\"\u001b[39m\u001b[38;5;124mparameter of \u001b[39m\u001b[38;5;124m\\\u001b[39m\u001b[38;5;124mw+ must be\u001b[39m\u001b[38;5;124m\"\u001b[39m,\n\u001b[0;32m    221\u001b[0m         \u001b[38;5;124mf\u001b[39m\u001b[38;5;124m\"\u001b[39m\u001b[38;5;124mparameter of \u001b[39m\u001b[38;5;132;01m{\u001b[39;00mfunc\u001b[38;5;241m.\u001b[39m\u001b[38;5;18m__qualname__\u001b[39m\u001b[38;5;132;01m}\u001b[39;00m\u001b[38;5;124m must be\u001b[39m\u001b[38;5;124m\"\u001b[39m,\n\u001b[0;32m    222\u001b[0m         \u001b[38;5;28mstr\u001b[39m(e),\n\u001b[0;32m    223\u001b[0m     )\n",
      "File \u001b[1;32m~\\anaconda3\\Lib\\site-packages\\sklearn\\metrics\\_classification.py:3254\u001b[0m, in \u001b[0;36mbrier_score_loss\u001b[1;34m(y_true, y_proba, sample_weight, pos_label, y_prob)\u001b[0m\n\u001b[0;32m   3251\u001b[0m assert_all_finite(y_proba)\n\u001b[0;32m   3252\u001b[0m check_consistent_length(y_true, y_proba, sample_weight)\n\u001b[1;32m-> 3254\u001b[0m y_type \u001b[38;5;241m=\u001b[39m type_of_target(y_true, input_name\u001b[38;5;241m=\u001b[39m\u001b[38;5;124m\"\u001b[39m\u001b[38;5;124my_true\u001b[39m\u001b[38;5;124m\"\u001b[39m)\n\u001b[0;32m   3255\u001b[0m \u001b[38;5;28;01mif\u001b[39;00m y_type \u001b[38;5;241m!=\u001b[39m \u001b[38;5;124m\"\u001b[39m\u001b[38;5;124mbinary\u001b[39m\u001b[38;5;124m\"\u001b[39m:\n\u001b[0;32m   3256\u001b[0m     \u001b[38;5;28;01mraise\u001b[39;00m \u001b[38;5;167;01mValueError\u001b[39;00m(\n\u001b[0;32m   3257\u001b[0m         \u001b[38;5;124m\"\u001b[39m\u001b[38;5;124mOnly binary classification is supported. The type of the target \u001b[39m\u001b[38;5;124m\"\u001b[39m\n\u001b[0;32m   3258\u001b[0m         \u001b[38;5;124mf\u001b[39m\u001b[38;5;124m\"\u001b[39m\u001b[38;5;124mis \u001b[39m\u001b[38;5;132;01m{\u001b[39;00my_type\u001b[38;5;132;01m}\u001b[39;00m\u001b[38;5;124m.\u001b[39m\u001b[38;5;124m\"\u001b[39m\n\u001b[0;32m   3259\u001b[0m     )\n",
      "File \u001b[1;32m~\\anaconda3\\Lib\\site-packages\\sklearn\\utils\\multiclass.py:404\u001b[0m, in \u001b[0;36mtype_of_target\u001b[1;34m(y, input_name)\u001b[0m\n\u001b[0;32m    402\u001b[0m \u001b[38;5;28;01mif\u001b[39;00m issparse(first_row_or_val):\n\u001b[0;32m    403\u001b[0m     first_row_or_val \u001b[38;5;241m=\u001b[39m first_row_or_val\u001b[38;5;241m.\u001b[39mdata\n\u001b[1;32m--> 404\u001b[0m \u001b[38;5;28;01mif\u001b[39;00m xp\u001b[38;5;241m.\u001b[39munique_values(y)\u001b[38;5;241m.\u001b[39mshape[\u001b[38;5;241m0\u001b[39m] \u001b[38;5;241m>\u001b[39m \u001b[38;5;241m2\u001b[39m \u001b[38;5;129;01mor\u001b[39;00m (y\u001b[38;5;241m.\u001b[39mndim \u001b[38;5;241m==\u001b[39m \u001b[38;5;241m2\u001b[39m \u001b[38;5;129;01mand\u001b[39;00m \u001b[38;5;28mlen\u001b[39m(first_row_or_val) \u001b[38;5;241m>\u001b[39m \u001b[38;5;241m1\u001b[39m):\n\u001b[0;32m    405\u001b[0m     \u001b[38;5;66;03m# [1, 2, 3] or [[1., 2., 3]] or [[1, 2]]\u001b[39;00m\n\u001b[0;32m    406\u001b[0m     \u001b[38;5;28;01mreturn\u001b[39;00m \u001b[38;5;124m\"\u001b[39m\u001b[38;5;124mmulticlass\u001b[39m\u001b[38;5;124m\"\u001b[39m \u001b[38;5;241m+\u001b[39m suffix\n\u001b[0;32m    407\u001b[0m \u001b[38;5;28;01melse\u001b[39;00m:\n",
      "File \u001b[1;32m~\\anaconda3\\Lib\\site-packages\\sklearn\\utils\\_array_api.py:407\u001b[0m, in \u001b[0;36m_NumPyAPIWrapper.unique_values\u001b[1;34m(self, x)\u001b[0m\n\u001b[0;32m    406\u001b[0m \u001b[38;5;28;01mdef\u001b[39;00m\u001b[38;5;250m \u001b[39m\u001b[38;5;21munique_values\u001b[39m(\u001b[38;5;28mself\u001b[39m, x):\n\u001b[1;32m--> 407\u001b[0m     \u001b[38;5;28;01mreturn\u001b[39;00m numpy\u001b[38;5;241m.\u001b[39munique(x)\n",
      "File \u001b[1;32m~\\anaconda3\\Lib\\site-packages\\numpy\\lib\\arraysetops.py:274\u001b[0m, in \u001b[0;36munique\u001b[1;34m(ar, return_index, return_inverse, return_counts, axis, equal_nan)\u001b[0m\n\u001b[0;32m    272\u001b[0m ar \u001b[38;5;241m=\u001b[39m np\u001b[38;5;241m.\u001b[39masanyarray(ar)\n\u001b[0;32m    273\u001b[0m \u001b[38;5;28;01mif\u001b[39;00m axis \u001b[38;5;129;01mis\u001b[39;00m \u001b[38;5;28;01mNone\u001b[39;00m:\n\u001b[1;32m--> 274\u001b[0m     ret \u001b[38;5;241m=\u001b[39m _unique1d(ar, return_index, return_inverse, return_counts, \n\u001b[0;32m    275\u001b[0m                     equal_nan\u001b[38;5;241m=\u001b[39mequal_nan)\n\u001b[0;32m    276\u001b[0m     \u001b[38;5;28;01mreturn\u001b[39;00m _unpack_tuple(ret)\n\u001b[0;32m    278\u001b[0m \u001b[38;5;66;03m# axis was specified and not None\u001b[39;00m\n",
      "File \u001b[1;32m~\\anaconda3\\Lib\\site-packages\\numpy\\lib\\arraysetops.py:336\u001b[0m, in \u001b[0;36m_unique1d\u001b[1;34m(ar, return_index, return_inverse, return_counts, equal_nan)\u001b[0m\n\u001b[0;32m    334\u001b[0m     aux \u001b[38;5;241m=\u001b[39m ar[perm]\n\u001b[0;32m    335\u001b[0m \u001b[38;5;28;01melse\u001b[39;00m:\n\u001b[1;32m--> 336\u001b[0m     ar\u001b[38;5;241m.\u001b[39msort()\n\u001b[0;32m    337\u001b[0m     aux \u001b[38;5;241m=\u001b[39m ar\n\u001b[0;32m    338\u001b[0m mask \u001b[38;5;241m=\u001b[39m np\u001b[38;5;241m.\u001b[39mempty(aux\u001b[38;5;241m.\u001b[39mshape, dtype\u001b[38;5;241m=\u001b[39mnp\u001b[38;5;241m.\u001b[39mbool_)\n",
      "\u001b[1;31mKeyboardInterrupt\u001b[0m: "
     ]
    }
   ],
   "source": [
    "import numpy as np\n",
    "from sklearn.linear_model import LogisticRegression\n",
    "from sklearn.metrics import brier_score_loss\n",
    "\n",
    "from sklearn.preprocessing import StandardScaler\n",
    "\n",
    "scaler = StandardScaler()\n",
    "scaler.fit(X_train)\n",
    "\n",
    "X_train_std = scaler.transform(X_train)\n",
    "X_select_std = scaler.transform(X_select)\n",
    "X_test_std = scaler.transform(X_test)\n",
    "\n",
    "# Set up\n",
    "n_features = X_train_std.shape[1]\n",
    "selected_features = []\n",
    "remaining_features = list(range(n_features))\n",
    "\n",
    "brier_in_sample = []\n",
    "brier_out_sample = []\n",
    "\n",
    "# Forward Stepwise Loop\n",
    "for j in range(1, n_features + 1):  # keep going until you have all features, or stop early\n",
    "    best_brier = np.inf\n",
    "    best_feature = None\n",
    "    best_brier_train = None\n",
    "\n",
    "    for feature in remaining_features:\n",
    "        current_features = selected_features + [feature]\n",
    "\n",
    "        # Subset the features\n",
    "        X_train_subset = X_train_std[:, current_features]\n",
    "        X_select_subset = X_select_std[:, current_features]\n",
    "\n",
    "        # Fit logistic regression\n",
    "        model = LogisticRegression(penalty=None, solver='lbfgs', max_iter=100)\n",
    "        model.fit(X_train_subset, y_train)\n",
    "\n",
    "        # Predict probabilities\n",
    "        y_train_pred_prob = model.predict_proba(X_train_subset)[:, 1]\n",
    "        y_select_pred_prob = model.predict_proba(X_select_subset)[:, 1]\n",
    "\n",
    "        # Compute Brier scores\n",
    "        brier_train = brier_score_loss(y_train, y_train_pred_prob)\n",
    "        brier_select = brier_score_loss(y_select, y_select_pred_prob)\n",
    "\n",
    "        # Keep best (lowest select Brier)\n",
    "        if brier_select < best_brier:\n",
    "            best_brier = brier_select\n",
    "            best_feature = feature\n",
    "            best_brier_train = brier_train\n",
    "\n",
    "    # Save the best feature\n",
    "    selected_features.append(best_feature)\n",
    "    remaining_features.remove(best_feature)\n",
    "\n",
    "    # Save the Brier scores\n",
    "    brier_in_sample.append(best_brier_train)\n",
    "    brier_out_sample.append(best_brier)\n",
    "\n",
    "    print(f\"Step {j}: Added feature {best_feature} | In-sample Brier: {best_brier_train:.5f} | OOS Brier: {best_brier:.5f}\")"
   ]
  },
  {
   "cell_type": "markdown",
   "id": "0e632e55-a649-47c2-a826-3e0564748979",
   "metadata": {},
   "source": [
    "Plot the in-sample Brier score (in red) and oos Brier score (in blue) by the number of features used."
   ]
  },
  {
   "cell_type": "code",
   "execution_count": 29,
   "id": "cd46da44-72f1-4bdf-a32e-f66148badfb3",
   "metadata": {},
   "outputs": [
    {
     "name": "stderr",
     "output_type": "stream",
     "text": [
      "C:\\Users\\polye\\anaconda3\\Lib\\site-packages\\plotnine\\geoms\\geom_path.py:113: PlotnineWarning: geom_path: Each group consist of only one observation. Do you need to adjust the group aesthetic?\n"
     ]
    },
    {
     "data": {
      "image/png": "[encoded data removed]"
     },
     "metadata": {
      "image/png": {
       "height": 480,
       "width": 640
      }
     },
     "output_type": "display_data"
    }
   ],
   "source": [
    "from plotnine import ggplot, aes, geom_line, labs, theme_minimal\n",
    "\n",
    "# Step 1: Prepare the data\n",
    "df_brier = pd.DataFrame({\n",
    "    'features_used': range(1, len(brier_in_sample) + 1),\n",
    "    'in_sample_brier': brier_in_sample,\n",
    "    'oos_brier': brier_out_sample\n",
    "})\n",
    "\n",
    "# Step 2: Melt into long format\n",
    "df_long = df_brier.melt(\n",
    "    id_vars='features_used',\n",
    "    value_vars=['in_sample_brier', 'oos_brier'],\n",
    "    var_name='type',\n",
    "    value_name='brier_score'\n",
    ")\n",
    "\n",
    "# Step 3: Plot using plotnine (ggplot)\n",
    "plot = (\n",
    "    ggplot(df_long, aes(x='features_used', y='brier_score', color='type')) +\n",
    "    geom_line() +\n",
    "    labs(\n",
    "        x='Number of Features Used',\n",
    "        y='Brier Score',\n",
    "        color='Dataset',\n",
    "        title='In-sample and Out-of-sample Brier Scores vs Number of Features'\n",
    "    ) +\n",
    "    theme_minimal()\n",
    ")\n",
    "\n",
    "plot"
   ]
  },
  {
   "cell_type": "markdown",
   "id": "efae726b-efa1-4c4a-acc9-06468158ab69",
   "metadata": {},
   "source": [
    "Select the model with the best oos Brier score on the select set and find its oos Brier score on the test set."
   ]
  },
  {
   "cell_type": "code",
   "execution_count": null,
   "id": "3be073e4-5a90-46cd-8b56-eba1baa6612a",
   "metadata": {},
   "outputs": [],
   "source": []
  },
  {
   "cell_type": "markdown",
   "id": "83aeeaa4-c4b4-4694-b597-bc9eab33c3af",
   "metadata": {},
   "source": [
    "Create the final model object `g_final`."
   ]
  },
  {
   "cell_type": "code",
   "execution_count": null,
   "id": "5056b290-a785-4f15-8d21-d09078695689",
   "metadata": {},
   "outputs": [],
   "source": []
  },
  {
   "cell_type": "markdown",
   "id": "b34f6828-5974-429a-9021-3a4e9579d2a1",
   "metadata": {},
   "source": [
    "# Data Wrangling / Munging / Carpentry\n",
    "\n",
    "We will be using Pandas for the rest of this section for Data Wrangling/Munging/Carpentry"
   ]
  },
  {
   "cell_type": "markdown",
   "id": "6ee4c497-f996-4062-8b1a-3164ec5dbb34",
   "metadata": {},
   "source": [
    "Load the `storms` dataset from the `dplyr` package and read about it using `?storms` and summarize its data via `skimr:skim`. "
   ]
  },
  {
   "cell_type": "code",
   "execution_count": 40,
   "id": "6229f8f8-8252-455c-a615-6231a26627db",
   "metadata": {
    "scrolled": true
   },
   "outputs": [
    {
     "name": "stdout",
     "output_type": "stream",
     "text": [
      "Requirement already satisfied: skimpy in c:\\users\\polye\\anaconda3\\lib\\site-packages (0.0.18)\n",
      "Requirement already satisfied: click>=8.1.7 in c:\\users\\polye\\anaconda3\\lib\\site-packages (from skimpy) (8.1.7)\n",
      "Requirement already satisfied: ipykernel>=6.29.5 in c:\\users\\polye\\anaconda3\\lib\\site-packages (from skimpy) (6.29.5)\n",
      "Collecting numpy>=2.0.2 (from skimpy)\n",
      "  Using cached numpy-2.2.5-cp312-cp312-win_amd64.whl.metadata (60 kB)\n",
      "Requirement already satisfied: pandas-stubs>=2.2.2.240807 in c:\\users\\polye\\anaconda3\\lib\\site-packages (from skimpy) (2.2.3.250308)\n",
      "Requirement already satisfied: pandas>=2.2.3 in c:\\users\\polye\\anaconda3\\lib\\site-packages (from skimpy) (2.2.3)\n",
      "Requirement already satisfied: polars>=1.17.1 in c:\\users\\polye\\anaconda3\\lib\\site-packages (from skimpy) (1.28.1)\n",
      "Requirement already satisfied: pygments>=2.18.0 in c:\\users\\polye\\anaconda3\\lib\\site-packages (from skimpy) (2.19.1)\n",
      "Requirement already satisfied: rich>=13.9.4 in c:\\users\\polye\\anaconda3\\lib\\site-packages (from skimpy) (14.0.0)\n",
      "Requirement already satisfied: typeguard>=4.4.1 in c:\\users\\polye\\anaconda3\\lib\\site-packages (from skimpy) (4.4.2)\n",
      "Requirement already satisfied: pyarrow>=17.0.0 in c:\\users\\polye\\anaconda3\\lib\\site-packages (from skimpy) (20.0.0)\n",
      "Requirement already satisfied: colorama in c:\\users\\polye\\anaconda3\\lib\\site-packages (from click>=8.1.7->skimpy) (0.4.6)\n",
      "Requirement already satisfied: comm>=0.1.1 in c:\\users\\polye\\anaconda3\\lib\\site-packages (from ipykernel>=6.29.5->skimpy) (0.2.1)\n",
      "Requirement already satisfied: debugpy>=1.6.5 in c:\\users\\polye\\anaconda3\\lib\\site-packages (from ipykernel>=6.29.5->skimpy) (1.6.7)\n",
      "Requirement already satisfied: ipython>=7.23.1 in c:\\users\\polye\\anaconda3\\lib\\site-packages (from ipykernel>=6.29.5->skimpy) (8.27.0)\n",
      "Requirement already satisfied: jupyter-client>=6.1.12 in c:\\users\\polye\\anaconda3\\lib\\site-packages (from ipykernel>=6.29.5->skimpy) (8.6.0)\n",
      "Requirement already satisfied: jupyter-core!=5.0.*,>=4.12 in c:\\users\\polye\\anaconda3\\lib\\site-packages (from ipykernel>=6.29.5->skimpy) (5.7.2)\n",
      "Requirement already satisfied: matplotlib-inline>=0.1 in c:\\users\\polye\\anaconda3\\lib\\site-packages (from ipykernel>=6.29.5->skimpy) (0.1.6)\n",
      "Requirement already satisfied: nest-asyncio in c:\\users\\polye\\anaconda3\\lib\\site-packages (from ipykernel>=6.29.5->skimpy) (1.6.0)\n",
      "Requirement already satisfied: packaging in c:\\users\\polye\\anaconda3\\lib\\site-packages (from ipykernel>=6.29.5->skimpy) (24.1)\n",
      "Requirement already satisfied: psutil in c:\\users\\polye\\anaconda3\\lib\\site-packages (from ipykernel>=6.29.5->skimpy) (5.9.0)\n",
      "Requirement already satisfied: pyzmq>=24 in c:\\users\\polye\\anaconda3\\lib\\site-packages (from ipykernel>=6.29.5->skimpy) (25.1.2)\n",
      "Requirement already satisfied: tornado>=6.1 in c:\\users\\polye\\anaconda3\\lib\\site-packages (from ipykernel>=6.29.5->skimpy) (6.4.1)\n",
      "Requirement already satisfied: traitlets>=5.4.0 in c:\\users\\polye\\anaconda3\\lib\\site-packages (from ipykernel>=6.29.5->skimpy) (5.14.3)\n",
      "Requirement already satisfied: python-dateutil>=2.8.2 in c:\\users\\polye\\anaconda3\\lib\\site-packages (from pandas>=2.2.3->skimpy) (2.9.0.post0)\n",
      "Requirement already satisfied: pytz>=2020.1 in c:\\users\\polye\\anaconda3\\lib\\site-packages (from pandas>=2.2.3->skimpy) (2024.1)\n",
      "Requirement already satisfied: tzdata>=2022.7 in c:\\users\\polye\\anaconda3\\lib\\site-packages (from pandas>=2.2.3->skimpy) (2023.3)\n",
      "Requirement already satisfied: types-pytz>=2022.1.1 in c:\\users\\polye\\anaconda3\\lib\\site-packages (from pandas-stubs>=2.2.2.240807->skimpy) (2025.2.0.20250326)\n",
      "Requirement already satisfied: markdown-it-py>=2.2.0 in c:\\users\\polye\\anaconda3\\lib\\site-packages (from rich>=13.9.4->skimpy) (2.2.0)\n",
      "Requirement already satisfied: typing_extensions>=4.10.0 in c:\\users\\polye\\anaconda3\\lib\\site-packages (from typeguard>=4.4.1->skimpy) (4.11.0)\n",
      "Requirement already satisfied: decorator in c:\\users\\polye\\anaconda3\\lib\\site-packages (from ipython>=7.23.1->ipykernel>=6.29.5->skimpy) (5.1.1)\n",
      "Requirement already satisfied: jedi>=0.16 in c:\\users\\polye\\anaconda3\\lib\\site-packages (from ipython>=7.23.1->ipykernel>=6.29.5->skimpy) (0.19.1)\n",
      "Requirement already satisfied: prompt-toolkit<3.1.0,>=3.0.41 in c:\\users\\polye\\anaconda3\\lib\\site-packages (from ipython>=7.23.1->ipykernel>=6.29.5->skimpy) (3.0.43)\n",
      "Requirement already satisfied: stack-data in c:\\users\\polye\\anaconda3\\lib\\site-packages (from ipython>=7.23.1->ipykernel>=6.29.5->skimpy) (0.2.0)\n",
      "Requirement already satisfied: platformdirs>=2.5 in c:\\users\\polye\\anaconda3\\lib\\site-packages (from jupyter-core!=5.0.*,>=4.12->ipykernel>=6.29.5->skimpy) (3.10.0)\n",
      "Requirement already satisfied: pywin32>=300 in c:\\users\\polye\\anaconda3\\lib\\site-packages (from jupyter-core!=5.0.*,>=4.12->ipykernel>=6.29.5->skimpy) (305.1)\n",
      "Requirement already satisfied: mdurl~=0.1 in c:\\users\\polye\\anaconda3\\lib\\site-packages (from markdown-it-py>=2.2.0->rich>=13.9.4->skimpy) (0.1.0)\n",
      "Requirement already satisfied: six>=1.5 in c:\\users\\polye\\anaconda3\\lib\\site-packages (from python-dateutil>=2.8.2->pandas>=2.2.3->skimpy) (1.16.0)\n",
      "Requirement already satisfied: parso<0.9.0,>=0.8.3 in c:\\users\\polye\\anaconda3\\lib\\site-packages (from jedi>=0.16->ipython>=7.23.1->ipykernel>=6.29.5->skimpy) (0.8.3)\n",
      "Requirement already satisfied: wcwidth in c:\\users\\polye\\anaconda3\\lib\\site-packages (from prompt-toolkit<3.1.0,>=3.0.41->ipython>=7.23.1->ipykernel>=6.29.5->skimpy) (0.2.5)\n",
      "Requirement already satisfied: executing in c:\\users\\polye\\anaconda3\\lib\\site-packages (from stack-data->ipython>=7.23.1->ipykernel>=6.29.5->skimpy) (0.8.3)\n",
      "Requirement already satisfied: asttokens in c:\\users\\polye\\anaconda3\\lib\\site-packages (from stack-data->ipython>=7.23.1->ipykernel>=6.29.5->skimpy) (2.0.5)\n",
      "Requirement already satisfied: pure-eval in c:\\users\\polye\\anaconda3\\lib\\site-packages (from stack-data->ipython>=7.23.1->ipykernel>=6.29.5->skimpy) (0.2.2)\n",
      "Using cached numpy-2.2.5-cp312-cp312-win_amd64.whl (12.6 MB)\n",
      "Installing collected packages: numpy\n",
      "  Attempting uninstall: numpy\n",
      "    Found existing installation: numpy 1.26.4\n",
      "    Uninstalling numpy-1.26.4:\n",
      "      Successfully uninstalled numpy-1.26.4\n",
      "Successfully installed numpy-2.2.5\n"
     ]
    },
    {
     "name": "stderr",
     "output_type": "stream",
     "text": [
      "  WARNING: Failed to remove contents in a temporary directory 'C:\\Users\\polye\\anaconda3\\Lib\\site-packages\\~-mpy.libs'.\n",
      "  You can safely remove it manually.\n",
      "  WARNING: Failed to remove contents in a temporary directory 'C:\\Users\\polye\\anaconda3\\Lib\\site-packages\\~-mpy'.\n",
      "  You can safely remove it manually.\n",
      "ERROR: pip's dependency resolver does not currently take into account all the packages that are installed. This behaviour is the source of the following dependency conflicts.\n",
      "contourpy 1.2.0 requires numpy<2.0,>=1.20, but you have numpy 2.2.5 which is incompatible.\n",
      "gensim 4.3.3 requires numpy<2.0,>=1.18.5, but you have numpy 2.2.5 which is incompatible.\n",
      "numba 0.60.0 requires numpy<2.1,>=1.22, but you have numpy 2.2.5 which is incompatible.\n",
      "scipy 1.11.4 requires numpy<1.28.0,>=1.21.6, but you have numpy 2.2.5 which is incompatible.\n",
      "streamlit 1.37.1 requires rich<14,>=10.14.0, but you have rich 14.0.0 which is incompatible.\n",
      "ydata-profiling 4.12.2 requires numpy<2.2,>=1.16.0, but you have numpy 2.2.5 which is incompatible.\n"
     ]
    }
   ],
   "source": [
    "!pip install skimpy"
   ]
  },
  {
   "cell_type": "code",
   "execution_count": 45,
   "id": "7aa8fe54-1757-47ec-be8b-0635fd149805",
   "metadata": {},
   "outputs": [
    {
     "data": {
      "text/html": [
       "<pre style=\"white-space:pre;overflow-x:auto;line-height:normal;font-family:Menlo,'DejaVu Sans Mono',consolas,'Courier New',monospace\">╭──────────────────────────────────────────────── skimpy summary ─────────────────────────────────────────────────╮\n",
       "│ <span style=\"font-style: italic\">         Data Summary         </span> <span style=\"font-style: italic\">      Data Types       </span>                                                          │\n",
       "│ ┏━━━━━━━━━━━━━━━━━━━┳━━━━━━━━┓ ┏━━━━━━━━━━━━━┳━━━━━━━┓                                                          │\n",
       "│ ┃<span style=\"color: #008080; text-decoration-color: #008080; font-weight: bold\"> Dataframe         </span>┃<span style=\"color: #008080; text-decoration-color: #008080; font-weight: bold\"> Values </span>┃ ┃<span style=\"color: #008080; text-decoration-color: #008080; font-weight: bold\"> Column Type </span>┃<span style=\"color: #008080; text-decoration-color: #008080; font-weight: bold\"> Count </span>┃                                                          │\n",
       "│ ┡━━━━━━━━━━━━━━━━━━━╇━━━━━━━━┩ ┡━━━━━━━━━━━━━╇━━━━━━━┩                                                          │\n",
       "│ │ Number of rows    │ 19537  │ │ int32       │ 6     │                                                          │\n",
       "│ │ Number of columns │ 13     │ │ float64     │ 5     │                                                          │\n",
       "│ └───────────────────┴────────┘ │ string      │ 2     │                                                          │\n",
       "│                                └─────────────┴───────┘                                                          │\n",
       "│ <span style=\"font-style: italic\">                                                    number                                                    </span>  │\n",
       "│ ┏━━━━━━━━━━━━━━━━┳━━━━━━━┳━━━━━━━━━━━━━━━━━┳━━━━━━━━┳━━━━━━━┳━━━━━━━━┳━━━━━━━┳━━━━━━━┳━━━━━━━┳━━━━━━┳━━━━━━━━┓  │\n",
       "│ ┃<span style=\"font-weight: bold\"> column         </span>┃<span style=\"font-weight: bold\"> NA    </span>┃<span style=\"font-weight: bold\"> NA %            </span>┃<span style=\"font-weight: bold\"> mean   </span>┃<span style=\"font-weight: bold\"> sd    </span>┃<span style=\"font-weight: bold\"> p0     </span>┃<span style=\"font-weight: bold\"> p25   </span>┃<span style=\"font-weight: bold\"> p50   </span>┃<span style=\"font-weight: bold\"> p75   </span>┃<span style=\"font-weight: bold\"> p100 </span>┃<span style=\"font-weight: bold\"> hist   </span>┃  │\n",
       "│ ┡━━━━━━━━━━━━━━━━╇━━━━━━━╇━━━━━━━━━━━━━━━━━╇━━━━━━━━╇━━━━━━━╇━━━━━━━━╇━━━━━━━╇━━━━━━━╇━━━━━━━╇━━━━━━╇━━━━━━━━┩  │\n",
       "│ │ <span style=\"color: #af87ff; text-decoration-color: #af87ff\">year          </span> │ <span style=\"color: #008080; text-decoration-color: #008080\">    0</span> │ <span style=\"color: #008080; text-decoration-color: #008080\">              0</span> │ <span style=\"color: #008080; text-decoration-color: #008080\">  2003</span> │ <span style=\"color: #008080; text-decoration-color: #008080\">12.77</span> │ <span style=\"color: #008080; text-decoration-color: #008080\">  1975</span> │ <span style=\"color: #008080; text-decoration-color: #008080\"> 1994</span> │ <span style=\"color: #008080; text-decoration-color: #008080\"> 2004</span> │ <span style=\"color: #008080; text-decoration-color: #008080\"> 2013</span> │ <span style=\"color: #008080; text-decoration-color: #008080\">2022</span> │ <span style=\"color: #008000; text-decoration-color: #008000\">▃▅▅▇▇▇</span> │  │\n",
       "│ │ <span style=\"color: #af87ff; text-decoration-color: #af87ff\">month         </span> │ <span style=\"color: #008080; text-decoration-color: #008080\">    0</span> │ <span style=\"color: #008080; text-decoration-color: #008080\">              0</span> │ <span style=\"color: #008080; text-decoration-color: #008080\"> 8.706</span> │ <span style=\"color: #008080; text-decoration-color: #008080\">1.352</span> │ <span style=\"color: #008080; text-decoration-color: #008080\">     1</span> │ <span style=\"color: #008080; text-decoration-color: #008080\">    8</span> │ <span style=\"color: #008080; text-decoration-color: #008080\">    9</span> │ <span style=\"color: #008080; text-decoration-color: #008080\">    9</span> │ <span style=\"color: #008080; text-decoration-color: #008080\">  12</span> │ <span style=\"color: #008000; text-decoration-color: #008000\">  ▁▅▇▁</span> │  │\n",
       "│ │ <span style=\"color: #af87ff; text-decoration-color: #af87ff\">day           </span> │ <span style=\"color: #008080; text-decoration-color: #008080\">    0</span> │ <span style=\"color: #008080; text-decoration-color: #008080\">              0</span> │ <span style=\"color: #008080; text-decoration-color: #008080\"> 15.73</span> │ <span style=\"color: #008080; text-decoration-color: #008080\">8.896</span> │ <span style=\"color: #008080; text-decoration-color: #008080\">     1</span> │ <span style=\"color: #008080; text-decoration-color: #008080\">    8</span> │ <span style=\"color: #008080; text-decoration-color: #008080\">   16</span> │ <span style=\"color: #008080; text-decoration-color: #008080\">   24</span> │ <span style=\"color: #008080; text-decoration-color: #008080\">  31</span> │ <span style=\"color: #008000; text-decoration-color: #008000\">▇▇▇▇▇▇</span> │  │\n",
       "│ │ <span style=\"color: #af87ff; text-decoration-color: #af87ff\">hour          </span> │ <span style=\"color: #008080; text-decoration-color: #008080\">    0</span> │ <span style=\"color: #008080; text-decoration-color: #008080\">              0</span> │ <span style=\"color: #008080; text-decoration-color: #008080\"> 9.101</span> │ <span style=\"color: #008080; text-decoration-color: #008080\">6.735</span> │ <span style=\"color: #008080; text-decoration-color: #008080\">     0</span> │ <span style=\"color: #008080; text-decoration-color: #008080\">    5</span> │ <span style=\"color: #008080; text-decoration-color: #008080\">   12</span> │ <span style=\"color: #008080; text-decoration-color: #008080\">   18</span> │ <span style=\"color: #008080; text-decoration-color: #008080\">  23</span> │ <span style=\"color: #008000; text-decoration-color: #008000\">▇▇ ▇▇ </span> │  │\n",
       "│ │ <span style=\"color: #af87ff; text-decoration-color: #af87ff\">lat           </span> │ <span style=\"color: #008080; text-decoration-color: #008080\">    0</span> │ <span style=\"color: #008080; text-decoration-color: #008080\">              0</span> │ <span style=\"color: #008080; text-decoration-color: #008080\"> 27.01</span> │ <span style=\"color: #008080; text-decoration-color: #008080\">10.47</span> │ <span style=\"color: #008080; text-decoration-color: #008080\">     7</span> │ <span style=\"color: #008080; text-decoration-color: #008080\"> 18.3</span> │ <span style=\"color: #008080; text-decoration-color: #008080\"> 26.6</span> │ <span style=\"color: #008080; text-decoration-color: #008080\"> 33.8</span> │ <span style=\"color: #008080; text-decoration-color: #008080\">70.7</span> │ <span style=\"color: #008000; text-decoration-color: #008000\">▅▇▇▂▁ </span> │  │\n",
       "│ │ <span style=\"color: #af87ff; text-decoration-color: #af87ff\">long          </span> │ <span style=\"color: #008080; text-decoration-color: #008080\">    0</span> │ <span style=\"color: #008080; text-decoration-color: #008080\">              0</span> │ <span style=\"color: #008080; text-decoration-color: #008080\">-61.56</span> │ <span style=\"color: #008080; text-decoration-color: #008080\">21.17</span> │ <span style=\"color: #008080; text-decoration-color: #008080\">-136.9</span> │ <span style=\"color: #008080; text-decoration-color: #008080\">-78.8</span> │ <span style=\"color: #008080; text-decoration-color: #008080\">-62.3</span> │ <span style=\"color: #008080; text-decoration-color: #008080\">-45.5</span> │ <span style=\"color: #008080; text-decoration-color: #008080\">13.5</span> │ <span style=\"color: #008000; text-decoration-color: #008000\"> ▃▇▇▃ </span> │  │\n",
       "│ │ <span style=\"color: #af87ff; text-decoration-color: #af87ff\">category      </span> │ <span style=\"color: #008080; text-decoration-color: #008080\">14734</span> │ <span style=\"color: #008080; text-decoration-color: #008080\">75.415877565644</span> │ <span style=\"color: #008080; text-decoration-color: #008080\"> 1.896</span> │ <span style=\"color: #008080; text-decoration-color: #008080\">1.149</span> │ <span style=\"color: #008080; text-decoration-color: #008080\">     1</span> │ <span style=\"color: #008080; text-decoration-color: #008080\">    1</span> │ <span style=\"color: #008080; text-decoration-color: #008080\">    1</span> │ <span style=\"color: #008080; text-decoration-color: #008080\">    3</span> │ <span style=\"color: #008080; text-decoration-color: #008080\">   5</span> │ <span style=\"color: #008000; text-decoration-color: #008000\">▇▃ ▂▂ </span> │  │\n",
       "│ │                │       │ <span style=\"color: #008080; text-decoration-color: #008080\">             68</span> │        │       │        │       │       │       │      │        │  │\n",
       "│ │ <span style=\"color: #af87ff; text-decoration-color: #af87ff\">wind          </span> │ <span style=\"color: #008080; text-decoration-color: #008080\">    0</span> │ <span style=\"color: #008080; text-decoration-color: #008080\">              0</span> │ <span style=\"color: #008080; text-decoration-color: #008080\"> 50.05</span> │ <span style=\"color: #008080; text-decoration-color: #008080\">25.46</span> │ <span style=\"color: #008080; text-decoration-color: #008080\">    10</span> │ <span style=\"color: #008080; text-decoration-color: #008080\">   30</span> │ <span style=\"color: #008080; text-decoration-color: #008080\">   45</span> │ <span style=\"color: #008080; text-decoration-color: #008080\">   65</span> │ <span style=\"color: #008080; text-decoration-color: #008080\"> 165</span> │ <span style=\"color: #008000; text-decoration-color: #008000\">▇▇▃▁▁ </span> │  │\n",
       "│ │ <span style=\"color: #af87ff; text-decoration-color: #af87ff\">pressure      </span> │ <span style=\"color: #008080; text-decoration-color: #008080\">    0</span> │ <span style=\"color: #008080; text-decoration-color: #008080\">              0</span> │ <span style=\"color: #008080; text-decoration-color: #008080\"> 993.5</span> │ <span style=\"color: #008080; text-decoration-color: #008080\">18.75</span> │ <span style=\"color: #008080; text-decoration-color: #008080\">   882</span> │ <span style=\"color: #008080; text-decoration-color: #008080\">  986</span> │ <span style=\"color: #008080; text-decoration-color: #008080\"> 1000</span> │ <span style=\"color: #008080; text-decoration-color: #008080\"> 1007</span> │ <span style=\"color: #008080; text-decoration-color: #008080\">1024</span> │ <span style=\"color: #008000; text-decoration-color: #008000\">  ▁▂▆▇</span> │  │\n",
       "│ │ <span style=\"color: #af87ff; text-decoration-color: #af87ff\">tropicalstorm_</span> │ <span style=\"color: #008080; text-decoration-color: #008080\"> 9512</span> │ <span style=\"color: #008080; text-decoration-color: #008080\">48.687106515841</span> │ <span style=\"color: #008080; text-decoration-color: #008080\"> 147.9</span> │ <span style=\"color: #008080; text-decoration-color: #008080\">157.5</span> │ <span style=\"color: #008080; text-decoration-color: #008080\">     0</span> │ <span style=\"color: #008080; text-decoration-color: #008080\">    0</span> │ <span style=\"color: #008080; text-decoration-color: #008080\">  110</span> │ <span style=\"color: #008080; text-decoration-color: #008080\">  220</span> │ <span style=\"color: #008080; text-decoration-color: #008080\">1440</span> │ <span style=\"color: #008000; text-decoration-color: #008000\">  ▇▂  </span> │  │\n",
       "│ │ <span style=\"color: #af87ff; text-decoration-color: #af87ff\">force_diameter</span> │       │ <span style=\"color: #008080; text-decoration-color: #008080\">            734</span> │        │       │        │       │       │       │      │        │  │\n",
       "│ │ <span style=\"color: #af87ff; text-decoration-color: #af87ff\">hurricane_forc</span> │ <span style=\"color: #008080; text-decoration-color: #008080\"> 9512</span> │ <span style=\"color: #008080; text-decoration-color: #008080\">48.687106515841</span> │ <span style=\"color: #008080; text-decoration-color: #008080\"> 14.92</span> │ <span style=\"color: #008080; text-decoration-color: #008080\">34.18</span> │ <span style=\"color: #008080; text-decoration-color: #008080\">     0</span> │ <span style=\"color: #008080; text-decoration-color: #008080\">    0</span> │ <span style=\"color: #008080; text-decoration-color: #008080\">    0</span> │ <span style=\"color: #008080; text-decoration-color: #008080\">    0</span> │ <span style=\"color: #008080; text-decoration-color: #008080\"> 300</span> │ <span style=\"color: #008000; text-decoration-color: #008000\">  ▇▁  </span> │  │\n",
       "│ │ <span style=\"color: #af87ff; text-decoration-color: #af87ff\">e_diameter    </span> │       │ <span style=\"color: #008080; text-decoration-color: #008080\">            734</span> │        │       │        │       │       │       │      │        │  │\n",
       "│ └────────────────┴───────┴─────────────────┴────────┴───────┴────────┴───────┴───────┴───────┴──────┴────────┘  │\n",
       "│ <span style=\"font-style: italic\">                                                    string                                                    </span>  │\n",
       "│ ┏━━━━━━━━┳━━━━┳━━━━━━┳━━━━━━━━━━━┳━━━━━━━━━━━━┳━━━━━━━━━━━━┳━━━━━━━━━━━┳━━━━━━━━━━━━┳━━━━━━━━━━━┳━━━━━━━━━━━━┓  │\n",
       "│ ┃<span style=\"font-weight: bold\">        </span>┃<span style=\"font-weight: bold\">    </span>┃<span style=\"font-weight: bold\">      </span>┃<span style=\"font-weight: bold\">           </span>┃<span style=\"font-weight: bold\">            </span>┃<span style=\"font-weight: bold\">            </span>┃<span style=\"font-weight: bold\">           </span>┃<span style=\"font-weight: bold\"> chars per  </span>┃<span style=\"font-weight: bold\"> words per </span>┃<span style=\"font-weight: bold\"> total      </span>┃  │\n",
       "│ ┃<span style=\"font-weight: bold\"> column </span>┃<span style=\"font-weight: bold\"> NA </span>┃<span style=\"font-weight: bold\"> NA % </span>┃<span style=\"font-weight: bold\"> shortest  </span>┃<span style=\"font-weight: bold\"> longest    </span>┃<span style=\"font-weight: bold\"> min        </span>┃<span style=\"font-weight: bold\"> max       </span>┃<span style=\"font-weight: bold\"> row        </span>┃<span style=\"font-weight: bold\"> row       </span>┃<span style=\"font-weight: bold\"> words      </span>┃  │\n",
       "│ ┡━━━━━━━━╇━━━━╇━━━━━━╇━━━━━━━━━━━╇━━━━━━━━━━━━╇━━━━━━━━━━━━╇━━━━━━━━━━━╇━━━━━━━━━━━━╇━━━━━━━━━━━╇━━━━━━━━━━━━┩  │\n",
       "│ │ <span style=\"color: #af87ff; text-decoration-color: #af87ff\">name  </span> │ <span style=\"color: #008080; text-decoration-color: #008080\"> 0</span> │ <span style=\"color: #008080; text-decoration-color: #008080\">   0</span> │ <span style=\"color: #af87ff; text-decoration-color: #af87ff\">Amy      </span> │ <span style=\"color: #af87ff; text-decoration-color: #af87ff\">Claudette </span> │ <span style=\"color: #af87ff; text-decoration-color: #af87ff\">AL011993  </span> │ <span style=\"color: #af87ff; text-decoration-color: #af87ff\">Zeta     </span> │ <span style=\"color: #008080; text-decoration-color: #008080\">       5.6</span> │ <span style=\"color: #008080; text-decoration-color: #008080\">        1</span> │ <span style=\"color: #008080; text-decoration-color: #008080\">     19537</span> │  │\n",
       "│ │ <span style=\"color: #af87ff; text-decoration-color: #af87ff\">status</span> │ <span style=\"color: #008080; text-decoration-color: #008080\"> 0</span> │ <span style=\"color: #008080; text-decoration-color: #008080\">   0</span> │ <span style=\"color: #af87ff; text-decoration-color: #af87ff\">hurricane</span> │ <span style=\"color: #af87ff; text-decoration-color: #af87ff\">subtropica</span> │ <span style=\"color: #af87ff; text-decoration-color: #af87ff\">disturbanc</span> │ <span style=\"color: #af87ff; text-decoration-color: #af87ff\">tropical </span> │ <span style=\"color: #008080; text-decoration-color: #008080\">      13.3</span> │ <span style=\"color: #008080; text-decoration-color: #008080\">      1.6</span> │ <span style=\"color: #008080; text-decoration-color: #008080\">     31949</span> │  │\n",
       "│ │        │    │      │           │ <span style=\"color: #af87ff; text-decoration-color: #af87ff\">l         </span> │ <span style=\"color: #af87ff; text-decoration-color: #af87ff\">e         </span> │ <span style=\"color: #af87ff; text-decoration-color: #af87ff\">wave     </span> │            │           │            │  │\n",
       "│ │        │    │      │           │ <span style=\"color: #af87ff; text-decoration-color: #af87ff\">depression</span> │            │           │            │           │            │  │\n",
       "│ └────────┴────┴──────┴───────────┴────────────┴────────────┴───────────┴────────────┴───────────┴────────────┘  │\n",
       "╰────────────────────────────────────────────────────── End ──────────────────────────────────────────────────────╯\n",
       "</pre>\n"
      ],
      "text/plain": [
       "╭──────────────────────────────────────────────── skimpy summary ─────────────────────────────────────────────────╮\n",
       "│ \u001b[3m         Data Summary         \u001b[0m \u001b[3m      Data Types       \u001b[0m                                                          │\n",
       "│ ┏━━━━━━━━━━━━━━━━━━━┳━━━━━━━━┓ ┏━━━━━━━━━━━━━┳━━━━━━━┓                                                          │\n",
       "│ ┃\u001b[1;36m \u001b[0m\u001b[1;36mDataframe        \u001b[0m\u001b[1;36m \u001b[0m┃\u001b[1;36m \u001b[0m\u001b[1;36mValues\u001b[0m\u001b[1;36m \u001b[0m┃ ┃\u001b[1;36m \u001b[0m\u001b[1;36mColumn Type\u001b[0m\u001b[1;36m \u001b[0m┃\u001b[1;36m \u001b[0m\u001b[1;36mCount\u001b[0m\u001b[1;36m \u001b[0m┃                                                          │\n",
       "│ ┡━━━━━━━━━━━━━━━━━━━╇━━━━━━━━┩ ┡━━━━━━━━━━━━━╇━━━━━━━┩                                                          │\n",
       "│ │ Number of rows    │ 19537  │ │ int32       │ 6     │                                                          │\n",
       "│ │ Number of columns │ 13     │ │ float64     │ 5     │                                                          │\n",
       "│ └───────────────────┴────────┘ │ string      │ 2     │                                                          │\n",
       "│                                └─────────────┴───────┘                                                          │\n",
       "│ \u001b[3m                                                    number                                                    \u001b[0m  │\n",
       "│ ┏━━━━━━━━━━━━━━━━┳━━━━━━━┳━━━━━━━━━━━━━━━━━┳━━━━━━━━┳━━━━━━━┳━━━━━━━━┳━━━━━━━┳━━━━━━━┳━━━━━━━┳━━━━━━┳━━━━━━━━┓  │\n",
       "│ ┃\u001b[1m \u001b[0m\u001b[1mcolumn        \u001b[0m\u001b[1m \u001b[0m┃\u001b[1m \u001b[0m\u001b[1mNA   \u001b[0m\u001b[1m \u001b[0m┃\u001b[1m \u001b[0m\u001b[1mNA %           \u001b[0m\u001b[1m \u001b[0m┃\u001b[1m \u001b[0m\u001b[1mmean  \u001b[0m\u001b[1m \u001b[0m┃\u001b[1m \u001b[0m\u001b[1msd   \u001b[0m\u001b[1m \u001b[0m┃\u001b[1m \u001b[0m\u001b[1mp0    \u001b[0m\u001b[1m \u001b[0m┃\u001b[1m \u001b[0m\u001b[1mp25  \u001b[0m\u001b[1m \u001b[0m┃\u001b[1m \u001b[0m\u001b[1mp50  \u001b[0m\u001b[1m \u001b[0m┃\u001b[1m \u001b[0m\u001b[1mp75  \u001b[0m\u001b[1m \u001b[0m┃\u001b[1m \u001b[0m\u001b[1mp100\u001b[0m\u001b[1m \u001b[0m┃\u001b[1m \u001b[0m\u001b[1mhist  \u001b[0m\u001b[1m \u001b[0m┃  │\n",
       "│ ┡━━━━━━━━━━━━━━━━╇━━━━━━━╇━━━━━━━━━━━━━━━━━╇━━━━━━━━╇━━━━━━━╇━━━━━━━━╇━━━━━━━╇━━━━━━━╇━━━━━━━╇━━━━━━╇━━━━━━━━┩  │\n",
       "│ │ \u001b[38;5;141myear          \u001b[0m │ \u001b[36m    0\u001b[0m │ \u001b[36m              0\u001b[0m │ \u001b[36m  2003\u001b[0m │ \u001b[36m12.77\u001b[0m │ \u001b[36m  1975\u001b[0m │ \u001b[36m 1994\u001b[0m │ \u001b[36m 2004\u001b[0m │ \u001b[36m 2013\u001b[0m │ \u001b[36m2022\u001b[0m │ \u001b[32m▃▅▅▇▇▇\u001b[0m │  │\n",
       "│ │ \u001b[38;5;141mmonth         \u001b[0m │ \u001b[36m    0\u001b[0m │ \u001b[36m              0\u001b[0m │ \u001b[36m 8.706\u001b[0m │ \u001b[36m1.352\u001b[0m │ \u001b[36m     1\u001b[0m │ \u001b[36m    8\u001b[0m │ \u001b[36m    9\u001b[0m │ \u001b[36m    9\u001b[0m │ \u001b[36m  12\u001b[0m │ \u001b[32m  ▁▅▇▁\u001b[0m │  │\n",
       "│ │ \u001b[38;5;141mday           \u001b[0m │ \u001b[36m    0\u001b[0m │ \u001b[36m              0\u001b[0m │ \u001b[36m 15.73\u001b[0m │ \u001b[36m8.896\u001b[0m │ \u001b[36m     1\u001b[0m │ \u001b[36m    8\u001b[0m │ \u001b[36m   16\u001b[0m │ \u001b[36m   24\u001b[0m │ \u001b[36m  31\u001b[0m │ \u001b[32m▇▇▇▇▇▇\u001b[0m │  │\n",
       "│ │ \u001b[38;5;141mhour          \u001b[0m │ \u001b[36m    0\u001b[0m │ \u001b[36m              0\u001b[0m │ \u001b[36m 9.101\u001b[0m │ \u001b[36m6.735\u001b[0m │ \u001b[36m     0\u001b[0m │ \u001b[36m    5\u001b[0m │ \u001b[36m   12\u001b[0m │ \u001b[36m   18\u001b[0m │ \u001b[36m  23\u001b[0m │ \u001b[32m▇▇ ▇▇ \u001b[0m │  │\n",
       "│ │ \u001b[38;5;141mlat           \u001b[0m │ \u001b[36m    0\u001b[0m │ \u001b[36m              0\u001b[0m │ \u001b[36m 27.01\u001b[0m │ \u001b[36m10.47\u001b[0m │ \u001b[36m     7\u001b[0m │ \u001b[36m 18.3\u001b[0m │ \u001b[36m 26.6\u001b[0m │ \u001b[36m 33.8\u001b[0m │ \u001b[36m70.7\u001b[0m │ \u001b[32m▅▇▇▂▁ \u001b[0m │  │\n",
       "│ │ \u001b[38;5;141mlong          \u001b[0m │ \u001b[36m    0\u001b[0m │ \u001b[36m              0\u001b[0m │ \u001b[36m-61.56\u001b[0m │ \u001b[36m21.17\u001b[0m │ \u001b[36m-136.9\u001b[0m │ \u001b[36m-78.8\u001b[0m │ \u001b[36m-62.3\u001b[0m │ \u001b[36m-45.5\u001b[0m │ \u001b[36m13.5\u001b[0m │ \u001b[32m ▃▇▇▃ \u001b[0m │  │\n",
       "│ │ \u001b[38;5;141mcategory      \u001b[0m │ \u001b[36m14734\u001b[0m │ \u001b[36m75.415877565644\u001b[0m │ \u001b[36m 1.896\u001b[0m │ \u001b[36m1.149\u001b[0m │ \u001b[36m     1\u001b[0m │ \u001b[36m    1\u001b[0m │ \u001b[36m    1\u001b[0m │ \u001b[36m    3\u001b[0m │ \u001b[36m   5\u001b[0m │ \u001b[32m▇▃ ▂▂ \u001b[0m │  │\n",
       "│ │                │       │ \u001b[36m             68\u001b[0m │        │       │        │       │       │       │      │        │  │\n",
       "│ │ \u001b[38;5;141mwind          \u001b[0m │ \u001b[36m    0\u001b[0m │ \u001b[36m              0\u001b[0m │ \u001b[36m 50.05\u001b[0m │ \u001b[36m25.46\u001b[0m │ \u001b[36m    10\u001b[0m │ \u001b[36m   30\u001b[0m │ \u001b[36m   45\u001b[0m │ \u001b[36m   65\u001b[0m │ \u001b[36m 165\u001b[0m │ \u001b[32m▇▇▃▁▁ \u001b[0m │  │\n",
       "│ │ \u001b[38;5;141mpressure      \u001b[0m │ \u001b[36m    0\u001b[0m │ \u001b[36m              0\u001b[0m │ \u001b[36m 993.5\u001b[0m │ \u001b[36m18.75\u001b[0m │ \u001b[36m   882\u001b[0m │ \u001b[36m  986\u001b[0m │ \u001b[36m 1000\u001b[0m │ \u001b[36m 1007\u001b[0m │ \u001b[36m1024\u001b[0m │ \u001b[32m  ▁▂▆▇\u001b[0m │  │\n",
       "│ │ \u001b[38;5;141mtropicalstorm_\u001b[0m │ \u001b[36m 9512\u001b[0m │ \u001b[36m48.687106515841\u001b[0m │ \u001b[36m 147.9\u001b[0m │ \u001b[36m157.5\u001b[0m │ \u001b[36m     0\u001b[0m │ \u001b[36m    0\u001b[0m │ \u001b[36m  110\u001b[0m │ \u001b[36m  220\u001b[0m │ \u001b[36m1440\u001b[0m │ \u001b[32m  ▇▂  \u001b[0m │  │\n",
       "│ │ \u001b[38;5;141mforce_diameter\u001b[0m │       │ \u001b[36m            734\u001b[0m │        │       │        │       │       │       │      │        │  │\n",
       "│ │ \u001b[38;5;141mhurricane_forc\u001b[0m │ \u001b[36m 9512\u001b[0m │ \u001b[36m48.687106515841\u001b[0m │ \u001b[36m 14.92\u001b[0m │ \u001b[36m34.18\u001b[0m │ \u001b[36m     0\u001b[0m │ \u001b[36m    0\u001b[0m │ \u001b[36m    0\u001b[0m │ \u001b[36m    0\u001b[0m │ \u001b[36m 300\u001b[0m │ \u001b[32m  ▇▁  \u001b[0m │  │\n",
       "│ │ \u001b[38;5;141me_diameter    \u001b[0m │       │ \u001b[36m            734\u001b[0m │        │       │        │       │       │       │      │        │  │\n",
       "│ └────────────────┴───────┴─────────────────┴────────┴───────┴────────┴───────┴───────┴───────┴──────┴────────┘  │\n",
       "│ \u001b[3m                                                    string                                                    \u001b[0m  │\n",
       "│ ┏━━━━━━━━┳━━━━┳━━━━━━┳━━━━━━━━━━━┳━━━━━━━━━━━━┳━━━━━━━━━━━━┳━━━━━━━━━━━┳━━━━━━━━━━━━┳━━━━━━━━━━━┳━━━━━━━━━━━━┓  │\n",
       "│ ┃\u001b[1m        \u001b[0m┃\u001b[1m    \u001b[0m┃\u001b[1m      \u001b[0m┃\u001b[1m           \u001b[0m┃\u001b[1m            \u001b[0m┃\u001b[1m            \u001b[0m┃\u001b[1m           \u001b[0m┃\u001b[1m \u001b[0m\u001b[1mchars per \u001b[0m\u001b[1m \u001b[0m┃\u001b[1m \u001b[0m\u001b[1mwords per\u001b[0m\u001b[1m \u001b[0m┃\u001b[1m \u001b[0m\u001b[1mtotal     \u001b[0m\u001b[1m \u001b[0m┃  │\n",
       "│ ┃\u001b[1m \u001b[0m\u001b[1mcolumn\u001b[0m\u001b[1m \u001b[0m┃\u001b[1m \u001b[0m\u001b[1mNA\u001b[0m\u001b[1m \u001b[0m┃\u001b[1m \u001b[0m\u001b[1mNA %\u001b[0m\u001b[1m \u001b[0m┃\u001b[1m \u001b[0m\u001b[1mshortest \u001b[0m\u001b[1m \u001b[0m┃\u001b[1m \u001b[0m\u001b[1mlongest   \u001b[0m\u001b[1m \u001b[0m┃\u001b[1m \u001b[0m\u001b[1mmin       \u001b[0m\u001b[1m \u001b[0m┃\u001b[1m \u001b[0m\u001b[1mmax      \u001b[0m\u001b[1m \u001b[0m┃\u001b[1m \u001b[0m\u001b[1mrow       \u001b[0m\u001b[1m \u001b[0m┃\u001b[1m \u001b[0m\u001b[1mrow      \u001b[0m\u001b[1m \u001b[0m┃\u001b[1m \u001b[0m\u001b[1mwords     \u001b[0m\u001b[1m \u001b[0m┃  │\n",
       "│ ┡━━━━━━━━╇━━━━╇━━━━━━╇━━━━━━━━━━━╇━━━━━━━━━━━━╇━━━━━━━━━━━━╇━━━━━━━━━━━╇━━━━━━━━━━━━╇━━━━━━━━━━━╇━━━━━━━━━━━━┩  │\n",
       "│ │ \u001b[38;5;141mname  \u001b[0m │ \u001b[36m 0\u001b[0m │ \u001b[36m   0\u001b[0m │ \u001b[38;5;141mAmy      \u001b[0m │ \u001b[38;5;141mClaudette \u001b[0m │ \u001b[38;5;141mAL011993  \u001b[0m │ \u001b[38;5;141mZeta     \u001b[0m │ \u001b[36m       5.6\u001b[0m │ \u001b[36m        1\u001b[0m │ \u001b[36m     19537\u001b[0m │  │\n",
       "│ │ \u001b[38;5;141mstatus\u001b[0m │ \u001b[36m 0\u001b[0m │ \u001b[36m   0\u001b[0m │ \u001b[38;5;141mhurricane\u001b[0m │ \u001b[38;5;141msubtropica\u001b[0m │ \u001b[38;5;141mdisturbanc\u001b[0m │ \u001b[38;5;141mtropical \u001b[0m │ \u001b[36m      13.3\u001b[0m │ \u001b[36m      1.6\u001b[0m │ \u001b[36m     31949\u001b[0m │  │\n",
       "│ │        │    │      │           │ \u001b[38;5;141ml         \u001b[0m │ \u001b[38;5;141me         \u001b[0m │ \u001b[38;5;141mwave     \u001b[0m │            │           │            │  │\n",
       "│ │        │    │      │           │ \u001b[38;5;141mdepression\u001b[0m │            │           │            │           │            │  │\n",
       "│ └────────┴────┴──────┴───────────┴────────────┴────────────┴───────────┴────────────┴───────────┴────────────┘  │\n",
       "╰────────────────────────────────────────────────────── End ──────────────────────────────────────────────────────╯\n"
      ]
     },
     "metadata": {},
     "output_type": "display_data"
    },
    {
     "name": "stdout",
     "output_type": "stream",
     "text": [
      "  name  year  month  day  hour   lat  long               status  category  \\\n",
      "0  Amy  1975      6   27     0  27.5 -79.0  tropical depression       NaN   \n",
      "1  Amy  1975      6   27     6  28.5 -79.0  tropical depression       NaN   \n",
      "2  Amy  1975      6   27    12  29.5 -79.0  tropical depression       NaN   \n",
      "3  Amy  1975      6   27    18  30.5 -79.0  tropical depression       NaN   \n",
      "4  Amy  1975      6   28     0  31.5 -78.8  tropical depression       NaN   \n",
      "\n",
      "   wind  pressure  tropicalstorm_force_diameter  hurricane_force_diameter  \n",
      "0    25      1013                           NaN                       NaN  \n",
      "1    25      1013                           NaN                       NaN  \n",
      "2    25      1013                           NaN                       NaN  \n",
      "3    25      1013                           NaN                       NaN  \n",
      "4    25      1012                           NaN                       NaN  \n"
     ]
    }
   ],
   "source": [
    "import pandas as pd\n",
    "from skimpy import skim\n",
    "\n",
    "#Load storms directly from dplyr’s GitHub (raw CSV) ———\n",
    "url = (\n",
    "    \"https://raw.githubusercontent.com/\"\n",
    "    \"tidyverse/dplyr/master/data-raw/storms.csv\"\n",
    ")\n",
    "storms = pd.read_csv(url)  \n",
    "\n",
    "#Summarize via skimpy (like skimr::skim) ———\n",
    "skim(storms)\n",
    "\n",
    "#Show the first few rows (like head()) ———\n",
    "print(storms.head())"
   ]
  },
  {
   "cell_type": "markdown",
   "id": "d7f1e843-2677-4660-90da-989456faf87f",
   "metadata": {},
   "source": [
    "To make the modeling exercise easier, let's eliminate rows that have missingness in `tropicalstorm_force_diameter` or `hurricane_force_diameter`."
   ]
  },
  {
   "cell_type": "code",
   "execution_count": 47,
   "id": "ce0b2d09-7e0a-468e-8afb-f08ad2fdd957",
   "metadata": {},
   "outputs": [
    {
     "name": "stdout",
     "output_type": "stream",
     "text": [
      "Kept 10025 of 19537 rows\n"
     ]
    },
    {
     "data": {
      "text/html": [
       "<pre style=\"white-space:pre;overflow-x:auto;line-height:normal;font-family:Menlo,'DejaVu Sans Mono',consolas,'Courier New',monospace\">╭──────────────────────────────────────────────── skimpy summary ─────────────────────────────────────────────────╮\n",
       "│ <span style=\"font-style: italic\">         Data Summary         </span> <span style=\"font-style: italic\">      Data Types       </span>                                                          │\n",
       "│ ┏━━━━━━━━━━━━━━━━━━━┳━━━━━━━━┓ ┏━━━━━━━━━━━━━┳━━━━━━━┓                                                          │\n",
       "│ ┃<span style=\"color: #008080; text-decoration-color: #008080; font-weight: bold\"> Dataframe         </span>┃<span style=\"color: #008080; text-decoration-color: #008080; font-weight: bold\"> Values </span>┃ ┃<span style=\"color: #008080; text-decoration-color: #008080; font-weight: bold\"> Column Type </span>┃<span style=\"color: #008080; text-decoration-color: #008080; font-weight: bold\"> Count </span>┃                                                          │\n",
       "│ ┡━━━━━━━━━━━━━━━━━━━╇━━━━━━━━┩ ┡━━━━━━━━━━━━━╇━━━━━━━┩                                                          │\n",
       "│ │ Number of rows    │ 10025  │ │ int32       │ 6     │                                                          │\n",
       "│ │ Number of columns │ 13     │ │ float64     │ 5     │                                                          │\n",
       "│ └───────────────────┴────────┘ │ string      │ 2     │                                                          │\n",
       "│                                └─────────────┴───────┘                                                          │\n",
       "│ <span style=\"font-style: italic\">                                                    number                                                    </span>  │\n",
       "│ ┏━━━━━━━━━━━━━━━━━┳━━━━━━┳━━━━━━━━━━━━━━━━━┳━━━━━━━━┳━━━━━━━┳━━━━━━━━┳━━━━━━━┳━━━━━━━┳━━━━━━━┳━━━━━━┳━━━━━━━━┓  │\n",
       "│ ┃<span style=\"font-weight: bold\"> column          </span>┃<span style=\"font-weight: bold\"> NA   </span>┃<span style=\"font-weight: bold\"> NA %            </span>┃<span style=\"font-weight: bold\"> mean   </span>┃<span style=\"font-weight: bold\"> sd    </span>┃<span style=\"font-weight: bold\"> p0     </span>┃<span style=\"font-weight: bold\"> p25   </span>┃<span style=\"font-weight: bold\"> p50   </span>┃<span style=\"font-weight: bold\"> p75   </span>┃<span style=\"font-weight: bold\"> p100 </span>┃<span style=\"font-weight: bold\"> hist   </span>┃  │\n",
       "│ ┡━━━━━━━━━━━━━━━━━╇━━━━━━╇━━━━━━━━━━━━━━━━━╇━━━━━━━━╇━━━━━━━╇━━━━━━━━╇━━━━━━━╇━━━━━━━╇━━━━━━━╇━━━━━━╇━━━━━━━━┩  │\n",
       "│ │ <span style=\"color: #af87ff; text-decoration-color: #af87ff\">year           </span> │ <span style=\"color: #008080; text-decoration-color: #008080\">   0</span> │ <span style=\"color: #008080; text-decoration-color: #008080\">              0</span> │ <span style=\"color: #008080; text-decoration-color: #008080\">  2013</span> │ <span style=\"color: #008080; text-decoration-color: #008080\">5.711</span> │ <span style=\"color: #008080; text-decoration-color: #008080\">  2004</span> │ <span style=\"color: #008080; text-decoration-color: #008080\"> 2008</span> │ <span style=\"color: #008080; text-decoration-color: #008080\"> 2013</span> │ <span style=\"color: #008080; text-decoration-color: #008080\"> 2018</span> │ <span style=\"color: #008080; text-decoration-color: #008080\">2022</span> │ <span style=\"color: #008000; text-decoration-color: #008000\">▆▃▆▃▆▇</span> │  │\n",
       "│ │ <span style=\"color: #af87ff; text-decoration-color: #af87ff\">month          </span> │ <span style=\"color: #008080; text-decoration-color: #008080\">   0</span> │ <span style=\"color: #008080; text-decoration-color: #008080\">              0</span> │ <span style=\"color: #008080; text-decoration-color: #008080\"> 8.629</span> │ <span style=\"color: #008080; text-decoration-color: #008080\"> 1.47</span> │ <span style=\"color: #008080; text-decoration-color: #008080\">     1</span> │ <span style=\"color: #008080; text-decoration-color: #008080\">    8</span> │ <span style=\"color: #008080; text-decoration-color: #008080\">    9</span> │ <span style=\"color: #008080; text-decoration-color: #008080\">    9</span> │ <span style=\"color: #008080; text-decoration-color: #008080\">  12</span> │ <span style=\"color: #008000; text-decoration-color: #008000\">  ▁▅▇▁</span> │  │\n",
       "│ │ <span style=\"color: #af87ff; text-decoration-color: #af87ff\">day            </span> │ <span style=\"color: #008080; text-decoration-color: #008080\">   0</span> │ <span style=\"color: #008080; text-decoration-color: #008080\">              0</span> │ <span style=\"color: #008080; text-decoration-color: #008080\"> 15.52</span> │ <span style=\"color: #008080; text-decoration-color: #008080\">8.818</span> │ <span style=\"color: #008080; text-decoration-color: #008080\">     1</span> │ <span style=\"color: #008080; text-decoration-color: #008080\">    8</span> │ <span style=\"color: #008080; text-decoration-color: #008080\">   15</span> │ <span style=\"color: #008080; text-decoration-color: #008080\">   23</span> │ <span style=\"color: #008080; text-decoration-color: #008080\">  31</span> │ <span style=\"color: #008000; text-decoration-color: #008000\">▇▇▇▇▇▇</span> │  │\n",
       "│ │ <span style=\"color: #af87ff; text-decoration-color: #af87ff\">hour           </span> │ <span style=\"color: #008080; text-decoration-color: #008080\">   0</span> │ <span style=\"color: #008080; text-decoration-color: #008080\">              0</span> │ <span style=\"color: #008080; text-decoration-color: #008080\">  9.07</span> │ <span style=\"color: #008080; text-decoration-color: #008080\"> 6.73</span> │ <span style=\"color: #008080; text-decoration-color: #008080\">     0</span> │ <span style=\"color: #008080; text-decoration-color: #008080\">    5</span> │ <span style=\"color: #008080; text-decoration-color: #008080\">   12</span> │ <span style=\"color: #008080; text-decoration-color: #008080\">   18</span> │ <span style=\"color: #008080; text-decoration-color: #008080\">  23</span> │ <span style=\"color: #008000; text-decoration-color: #008000\">▇▇ ▇▇ </span> │  │\n",
       "│ │ <span style=\"color: #af87ff; text-decoration-color: #af87ff\">lat            </span> │ <span style=\"color: #008080; text-decoration-color: #008080\">   0</span> │ <span style=\"color: #008080; text-decoration-color: #008080\">              0</span> │ <span style=\"color: #008080; text-decoration-color: #008080\"> 26.91</span> │ <span style=\"color: #008080; text-decoration-color: #008080\">10.69</span> │ <span style=\"color: #008080; text-decoration-color: #008080\">     7</span> │ <span style=\"color: #008080; text-decoration-color: #008080\">   18</span> │ <span style=\"color: #008080; text-decoration-color: #008080\"> 26.2</span> │ <span style=\"color: #008080; text-decoration-color: #008080\"> 33.8</span> │ <span style=\"color: #008080; text-decoration-color: #008080\">  69</span> │ <span style=\"color: #008000; text-decoration-color: #008000\">▆▇▇▃▁ </span> │  │\n",
       "│ │ <span style=\"color: #af87ff; text-decoration-color: #af87ff\">long           </span> │ <span style=\"color: #008080; text-decoration-color: #008080\">   0</span> │ <span style=\"color: #008080; text-decoration-color: #008080\">              0</span> │ <span style=\"color: #008080; text-decoration-color: #008080\">-60.65</span> │ <span style=\"color: #008080; text-decoration-color: #008080\">21.66</span> │ <span style=\"color: #008080; text-decoration-color: #008080\">-136.9</span> │ <span style=\"color: #008080; text-decoration-color: #008080\">-78.5</span> │ <span style=\"color: #008080; text-decoration-color: #008080\">-61.9</span> │ <span style=\"color: #008080; text-decoration-color: #008080\">-43.7</span> │ <span style=\"color: #008080; text-decoration-color: #008080\">13.5</span> │ <span style=\"color: #008000; text-decoration-color: #008000\"> ▃▇▇▃ </span> │  │\n",
       "│ │ <span style=\"color: #af87ff; text-decoration-color: #af87ff\">category       </span> │ <span style=\"color: #008080; text-decoration-color: #008080\">7855</span> │ <span style=\"color: #008080; text-decoration-color: #008080\">78.354114713216</span> │ <span style=\"color: #008080; text-decoration-color: #008080\"> 1.999</span> │ <span style=\"color: #008080; text-decoration-color: #008080\">1.205</span> │ <span style=\"color: #008080; text-decoration-color: #008080\">     1</span> │ <span style=\"color: #008080; text-decoration-color: #008080\">    1</span> │ <span style=\"color: #008080; text-decoration-color: #008080\">    2</span> │ <span style=\"color: #008080; text-decoration-color: #008080\">    3</span> │ <span style=\"color: #008080; text-decoration-color: #008080\">   5</span> │ <span style=\"color: #008000; text-decoration-color: #008000\">▇▃ ▂▂ </span> │  │\n",
       "│ │                 │      │ <span style=\"color: #008080; text-decoration-color: #008080\">             96</span> │        │       │        │       │       │       │      │        │  │\n",
       "│ │ <span style=\"color: #af87ff; text-decoration-color: #af87ff\">wind           </span> │ <span style=\"color: #008080; text-decoration-color: #008080\">   0</span> │ <span style=\"color: #008080; text-decoration-color: #008080\">              0</span> │ <span style=\"color: #008080; text-decoration-color: #008080\"> 49.29</span> │ <span style=\"color: #008080; text-decoration-color: #008080\">25.22</span> │ <span style=\"color: #008080; text-decoration-color: #008080\">    10</span> │ <span style=\"color: #008080; text-decoration-color: #008080\">   30</span> │ <span style=\"color: #008080; text-decoration-color: #008080\">   40</span> │ <span style=\"color: #008080; text-decoration-color: #008080\">   60</span> │ <span style=\"color: #008080; text-decoration-color: #008080\"> 160</span> │ <span style=\"color: #008000; text-decoration-color: #008000\">▅▇▃▁▁ </span> │  │\n",
       "│ │ <span style=\"color: #af87ff; text-decoration-color: #af87ff\">pressure       </span> │ <span style=\"color: #008080; text-decoration-color: #008080\">   0</span> │ <span style=\"color: #008080; text-decoration-color: #008080\">              0</span> │ <span style=\"color: #008080; text-decoration-color: #008080\"> 993.3</span> │ <span style=\"color: #008080; text-decoration-color: #008080\">19.21</span> │ <span style=\"color: #008080; text-decoration-color: #008080\">   882</span> │ <span style=\"color: #008080; text-decoration-color: #008080\">  987</span> │ <span style=\"color: #008080; text-decoration-color: #008080\"> 1000</span> │ <span style=\"color: #008080; text-decoration-color: #008080\"> 1007</span> │ <span style=\"color: #008080; text-decoration-color: #008080\">1021</span> │ <span style=\"color: #008000; text-decoration-color: #008000\">  ▁▁▅▇</span> │  │\n",
       "│ │ <span style=\"color: #af87ff; text-decoration-color: #af87ff\">tropicalstorm_f</span> │ <span style=\"color: #008080; text-decoration-color: #008080\">   0</span> │ <span style=\"color: #008080; text-decoration-color: #008080\">              0</span> │ <span style=\"color: #008080; text-decoration-color: #008080\"> 147.9</span> │ <span style=\"color: #008080; text-decoration-color: #008080\">157.5</span> │ <span style=\"color: #008080; text-decoration-color: #008080\">     0</span> │ <span style=\"color: #008080; text-decoration-color: #008080\">    0</span> │ <span style=\"color: #008080; text-decoration-color: #008080\">  110</span> │ <span style=\"color: #008080; text-decoration-color: #008080\">  220</span> │ <span style=\"color: #008080; text-decoration-color: #008080\">1440</span> │ <span style=\"color: #008000; text-decoration-color: #008000\">  ▇▂  </span> │  │\n",
       "│ │ <span style=\"color: #af87ff; text-decoration-color: #af87ff\">orce_diameter  </span> │      │                 │        │       │        │       │       │       │      │        │  │\n",
       "│ │ <span style=\"color: #af87ff; text-decoration-color: #af87ff\">hurricane_force</span> │ <span style=\"color: #008080; text-decoration-color: #008080\">   0</span> │ <span style=\"color: #008080; text-decoration-color: #008080\">              0</span> │ <span style=\"color: #008080; text-decoration-color: #008080\"> 14.92</span> │ <span style=\"color: #008080; text-decoration-color: #008080\">34.18</span> │ <span style=\"color: #008080; text-decoration-color: #008080\">     0</span> │ <span style=\"color: #008080; text-decoration-color: #008080\">    0</span> │ <span style=\"color: #008080; text-decoration-color: #008080\">    0</span> │ <span style=\"color: #008080; text-decoration-color: #008080\">    0</span> │ <span style=\"color: #008080; text-decoration-color: #008080\"> 300</span> │ <span style=\"color: #008000; text-decoration-color: #008000\">  ▇▁  </span> │  │\n",
       "│ │ <span style=\"color: #af87ff; text-decoration-color: #af87ff\">_diameter      </span> │      │                 │        │       │        │       │       │       │      │        │  │\n",
       "│ └─────────────────┴──────┴─────────────────┴────────┴───────┴────────┴───────┴───────┴───────┴──────┴────────┘  │\n",
       "│ <span style=\"font-style: italic\">                                                    string                                                    </span>  │\n",
       "│ ┏━━━━━━━━┳━━━━┳━━━━━━┳━━━━━━━━━━━┳━━━━━━━━━━━━┳━━━━━━━━━━━━┳━━━━━━━━━━━┳━━━━━━━━━━━━┳━━━━━━━━━━━┳━━━━━━━━━━━━┓  │\n",
       "│ ┃<span style=\"font-weight: bold\">        </span>┃<span style=\"font-weight: bold\">    </span>┃<span style=\"font-weight: bold\">      </span>┃<span style=\"font-weight: bold\">           </span>┃<span style=\"font-weight: bold\">            </span>┃<span style=\"font-weight: bold\">            </span>┃<span style=\"font-weight: bold\">           </span>┃<span style=\"font-weight: bold\"> chars per  </span>┃<span style=\"font-weight: bold\"> words per </span>┃<span style=\"font-weight: bold\"> total      </span>┃  │\n",
       "│ ┃<span style=\"font-weight: bold\"> column </span>┃<span style=\"font-weight: bold\"> NA </span>┃<span style=\"font-weight: bold\"> NA % </span>┃<span style=\"font-weight: bold\"> shortest  </span>┃<span style=\"font-weight: bold\"> longest    </span>┃<span style=\"font-weight: bold\"> min        </span>┃<span style=\"font-weight: bold\"> max       </span>┃<span style=\"font-weight: bold\"> row        </span>┃<span style=\"font-weight: bold\"> row       </span>┃<span style=\"font-weight: bold\"> words      </span>┃  │\n",
       "│ ┡━━━━━━━━╇━━━━╇━━━━━━╇━━━━━━━━━━━╇━━━━━━━━━━━━╇━━━━━━━━━━━━╇━━━━━━━━━━━╇━━━━━━━━━━━━╇━━━━━━━━━━━╇━━━━━━━━━━━━┩  │\n",
       "│ │ <span style=\"color: #af87ff; text-decoration-color: #af87ff\">name  </span> │ <span style=\"color: #008080; text-decoration-color: #008080\"> 0</span> │ <span style=\"color: #008080; text-decoration-color: #008080\">   0</span> │ <span style=\"color: #af87ff; text-decoration-color: #af87ff\">Ten      </span> │ <span style=\"color: #af87ff; text-decoration-color: #af87ff\">Gabrielle </span> │ <span style=\"color: #af87ff; text-decoration-color: #af87ff\">AL022006  </span> │ <span style=\"color: #af87ff; text-decoration-color: #af87ff\">Zeta     </span> │ <span style=\"color: #008080; text-decoration-color: #008080\">      5.45</span> │ <span style=\"color: #008080; text-decoration-color: #008080\">        1</span> │ <span style=\"color: #008080; text-decoration-color: #008080\">     10025</span> │  │\n",
       "│ │ <span style=\"color: #af87ff; text-decoration-color: #af87ff\">status</span> │ <span style=\"color: #008080; text-decoration-color: #008080\"> 0</span> │ <span style=\"color: #008080; text-decoration-color: #008080\">   0</span> │ <span style=\"color: #af87ff; text-decoration-color: #af87ff\">hurricane</span> │ <span style=\"color: #af87ff; text-decoration-color: #af87ff\">subtropica</span> │ <span style=\"color: #af87ff; text-decoration-color: #af87ff\">disturbanc</span> │ <span style=\"color: #af87ff; text-decoration-color: #af87ff\">tropical </span> │ <span style=\"color: #008080; text-decoration-color: #008080\">      12.8</span> │ <span style=\"color: #008080; text-decoration-color: #008080\">      1.6</span> │ <span style=\"color: #008080; text-decoration-color: #008080\">     16465</span> │  │\n",
       "│ │        │    │      │           │ <span style=\"color: #af87ff; text-decoration-color: #af87ff\">l         </span> │ <span style=\"color: #af87ff; text-decoration-color: #af87ff\">e         </span> │ <span style=\"color: #af87ff; text-decoration-color: #af87ff\">wave     </span> │            │           │            │  │\n",
       "│ │        │    │      │           │ <span style=\"color: #af87ff; text-decoration-color: #af87ff\">depression</span> │            │           │            │           │            │  │\n",
       "│ └────────┴────┴──────┴───────────┴────────────┴────────────┴───────────┴────────────┴───────────┴────────────┘  │\n",
       "╰────────────────────────────────────────────────────── End ──────────────────────────────────────────────────────╯\n",
       "</pre>\n"
      ],
      "text/plain": [
       "╭──────────────────────────────────────────────── skimpy summary ─────────────────────────────────────────────────╮\n",
       "│ \u001b[3m         Data Summary         \u001b[0m \u001b[3m      Data Types       \u001b[0m                                                          │\n",
       "│ ┏━━━━━━━━━━━━━━━━━━━┳━━━━━━━━┓ ┏━━━━━━━━━━━━━┳━━━━━━━┓                                                          │\n",
       "│ ┃\u001b[1;36m \u001b[0m\u001b[1;36mDataframe        \u001b[0m\u001b[1;36m \u001b[0m┃\u001b[1;36m \u001b[0m\u001b[1;36mValues\u001b[0m\u001b[1;36m \u001b[0m┃ ┃\u001b[1;36m \u001b[0m\u001b[1;36mColumn Type\u001b[0m\u001b[1;36m \u001b[0m┃\u001b[1;36m \u001b[0m\u001b[1;36mCount\u001b[0m\u001b[1;36m \u001b[0m┃                                                          │\n",
       "│ ┡━━━━━━━━━━━━━━━━━━━╇━━━━━━━━┩ ┡━━━━━━━━━━━━━╇━━━━━━━┩                                                          │\n",
       "│ │ Number of rows    │ 10025  │ │ int32       │ 6     │                                                          │\n",
       "│ │ Number of columns │ 13     │ │ float64     │ 5     │                                                          │\n",
       "│ └───────────────────┴────────┘ │ string      │ 2     │                                                          │\n",
       "│                                └─────────────┴───────┘                                                          │\n",
       "│ \u001b[3m                                                    number                                                    \u001b[0m  │\n",
       "│ ┏━━━━━━━━━━━━━━━━━┳━━━━━━┳━━━━━━━━━━━━━━━━━┳━━━━━━━━┳━━━━━━━┳━━━━━━━━┳━━━━━━━┳━━━━━━━┳━━━━━━━┳━━━━━━┳━━━━━━━━┓  │\n",
       "│ ┃\u001b[1m \u001b[0m\u001b[1mcolumn         \u001b[0m\u001b[1m \u001b[0m┃\u001b[1m \u001b[0m\u001b[1mNA  \u001b[0m\u001b[1m \u001b[0m┃\u001b[1m \u001b[0m\u001b[1mNA %           \u001b[0m\u001b[1m \u001b[0m┃\u001b[1m \u001b[0m\u001b[1mmean  \u001b[0m\u001b[1m \u001b[0m┃\u001b[1m \u001b[0m\u001b[1msd   \u001b[0m\u001b[1m \u001b[0m┃\u001b[1m \u001b[0m\u001b[1mp0    \u001b[0m\u001b[1m \u001b[0m┃\u001b[1m \u001b[0m\u001b[1mp25  \u001b[0m\u001b[1m \u001b[0m┃\u001b[1m \u001b[0m\u001b[1mp50  \u001b[0m\u001b[1m \u001b[0m┃\u001b[1m \u001b[0m\u001b[1mp75  \u001b[0m\u001b[1m \u001b[0m┃\u001b[1m \u001b[0m\u001b[1mp100\u001b[0m\u001b[1m \u001b[0m┃\u001b[1m \u001b[0m\u001b[1mhist  \u001b[0m\u001b[1m \u001b[0m┃  │\n",
       "│ ┡━━━━━━━━━━━━━━━━━╇━━━━━━╇━━━━━━━━━━━━━━━━━╇━━━━━━━━╇━━━━━━━╇━━━━━━━━╇━━━━━━━╇━━━━━━━╇━━━━━━━╇━━━━━━╇━━━━━━━━┩  │\n",
       "│ │ \u001b[38;5;141myear           \u001b[0m │ \u001b[36m   0\u001b[0m │ \u001b[36m              0\u001b[0m │ \u001b[36m  2013\u001b[0m │ \u001b[36m5.711\u001b[0m │ \u001b[36m  2004\u001b[0m │ \u001b[36m 2008\u001b[0m │ \u001b[36m 2013\u001b[0m │ \u001b[36m 2018\u001b[0m │ \u001b[36m2022\u001b[0m │ \u001b[32m▆▃▆▃▆▇\u001b[0m │  │\n",
       "│ │ \u001b[38;5;141mmonth          \u001b[0m │ \u001b[36m   0\u001b[0m │ \u001b[36m              0\u001b[0m │ \u001b[36m 8.629\u001b[0m │ \u001b[36m 1.47\u001b[0m │ \u001b[36m     1\u001b[0m │ \u001b[36m    8\u001b[0m │ \u001b[36m    9\u001b[0m │ \u001b[36m    9\u001b[0m │ \u001b[36m  12\u001b[0m │ \u001b[32m  ▁▅▇▁\u001b[0m │  │\n",
       "│ │ \u001b[38;5;141mday            \u001b[0m │ \u001b[36m   0\u001b[0m │ \u001b[36m              0\u001b[0m │ \u001b[36m 15.52\u001b[0m │ \u001b[36m8.818\u001b[0m │ \u001b[36m     1\u001b[0m │ \u001b[36m    8\u001b[0m │ \u001b[36m   15\u001b[0m │ \u001b[36m   23\u001b[0m │ \u001b[36m  31\u001b[0m │ \u001b[32m▇▇▇▇▇▇\u001b[0m │  │\n",
       "│ │ \u001b[38;5;141mhour           \u001b[0m │ \u001b[36m   0\u001b[0m │ \u001b[36m              0\u001b[0m │ \u001b[36m  9.07\u001b[0m │ \u001b[36m 6.73\u001b[0m │ \u001b[36m     0\u001b[0m │ \u001b[36m    5\u001b[0m │ \u001b[36m   12\u001b[0m │ \u001b[36m   18\u001b[0m │ \u001b[36m  23\u001b[0m │ \u001b[32m▇▇ ▇▇ \u001b[0m │  │\n",
       "│ │ \u001b[38;5;141mlat            \u001b[0m │ \u001b[36m   0\u001b[0m │ \u001b[36m              0\u001b[0m │ \u001b[36m 26.91\u001b[0m │ \u001b[36m10.69\u001b[0m │ \u001b[36m     7\u001b[0m │ \u001b[36m   18\u001b[0m │ \u001b[36m 26.2\u001b[0m │ \u001b[36m 33.8\u001b[0m │ \u001b[36m  69\u001b[0m │ \u001b[32m▆▇▇▃▁ \u001b[0m │  │\n",
       "│ │ \u001b[38;5;141mlong           \u001b[0m │ \u001b[36m   0\u001b[0m │ \u001b[36m              0\u001b[0m │ \u001b[36m-60.65\u001b[0m │ \u001b[36m21.66\u001b[0m │ \u001b[36m-136.9\u001b[0m │ \u001b[36m-78.5\u001b[0m │ \u001b[36m-61.9\u001b[0m │ \u001b[36m-43.7\u001b[0m │ \u001b[36m13.5\u001b[0m │ \u001b[32m ▃▇▇▃ \u001b[0m │  │\n",
       "│ │ \u001b[38;5;141mcategory       \u001b[0m │ \u001b[36m7855\u001b[0m │ \u001b[36m78.354114713216\u001b[0m │ \u001b[36m 1.999\u001b[0m │ \u001b[36m1.205\u001b[0m │ \u001b[36m     1\u001b[0m │ \u001b[36m    1\u001b[0m │ \u001b[36m    2\u001b[0m │ \u001b[36m    3\u001b[0m │ \u001b[36m   5\u001b[0m │ \u001b[32m▇▃ ▂▂ \u001b[0m │  │\n",
       "│ │                 │      │ \u001b[36m             96\u001b[0m │        │       │        │       │       │       │      │        │  │\n",
       "│ │ \u001b[38;5;141mwind           \u001b[0m │ \u001b[36m   0\u001b[0m │ \u001b[36m              0\u001b[0m │ \u001b[36m 49.29\u001b[0m │ \u001b[36m25.22\u001b[0m │ \u001b[36m    10\u001b[0m │ \u001b[36m   30\u001b[0m │ \u001b[36m   40\u001b[0m │ \u001b[36m   60\u001b[0m │ \u001b[36m 160\u001b[0m │ \u001b[32m▅▇▃▁▁ \u001b[0m │  │\n",
       "│ │ \u001b[38;5;141mpressure       \u001b[0m │ \u001b[36m   0\u001b[0m │ \u001b[36m              0\u001b[0m │ \u001b[36m 993.3\u001b[0m │ \u001b[36m19.21\u001b[0m │ \u001b[36m   882\u001b[0m │ \u001b[36m  987\u001b[0m │ \u001b[36m 1000\u001b[0m │ \u001b[36m 1007\u001b[0m │ \u001b[36m1021\u001b[0m │ \u001b[32m  ▁▁▅▇\u001b[0m │  │\n",
       "│ │ \u001b[38;5;141mtropicalstorm_f\u001b[0m │ \u001b[36m   0\u001b[0m │ \u001b[36m              0\u001b[0m │ \u001b[36m 147.9\u001b[0m │ \u001b[36m157.5\u001b[0m │ \u001b[36m     0\u001b[0m │ \u001b[36m    0\u001b[0m │ \u001b[36m  110\u001b[0m │ \u001b[36m  220\u001b[0m │ \u001b[36m1440\u001b[0m │ \u001b[32m  ▇▂  \u001b[0m │  │\n",
       "│ │ \u001b[38;5;141morce_diameter  \u001b[0m │      │                 │        │       │        │       │       │       │      │        │  │\n",
       "│ │ \u001b[38;5;141mhurricane_force\u001b[0m │ \u001b[36m   0\u001b[0m │ \u001b[36m              0\u001b[0m │ \u001b[36m 14.92\u001b[0m │ \u001b[36m34.18\u001b[0m │ \u001b[36m     0\u001b[0m │ \u001b[36m    0\u001b[0m │ \u001b[36m    0\u001b[0m │ \u001b[36m    0\u001b[0m │ \u001b[36m 300\u001b[0m │ \u001b[32m  ▇▁  \u001b[0m │  │\n",
       "│ │ \u001b[38;5;141m_diameter      \u001b[0m │      │                 │        │       │        │       │       │       │      │        │  │\n",
       "│ └─────────────────┴──────┴─────────────────┴────────┴───────┴────────┴───────┴───────┴───────┴──────┴────────┘  │\n",
       "│ \u001b[3m                                                    string                                                    \u001b[0m  │\n",
       "│ ┏━━━━━━━━┳━━━━┳━━━━━━┳━━━━━━━━━━━┳━━━━━━━━━━━━┳━━━━━━━━━━━━┳━━━━━━━━━━━┳━━━━━━━━━━━━┳━━━━━━━━━━━┳━━━━━━━━━━━━┓  │\n",
       "│ ┃\u001b[1m        \u001b[0m┃\u001b[1m    \u001b[0m┃\u001b[1m      \u001b[0m┃\u001b[1m           \u001b[0m┃\u001b[1m            \u001b[0m┃\u001b[1m            \u001b[0m┃\u001b[1m           \u001b[0m┃\u001b[1m \u001b[0m\u001b[1mchars per \u001b[0m\u001b[1m \u001b[0m┃\u001b[1m \u001b[0m\u001b[1mwords per\u001b[0m\u001b[1m \u001b[0m┃\u001b[1m \u001b[0m\u001b[1mtotal     \u001b[0m\u001b[1m \u001b[0m┃  │\n",
       "│ ┃\u001b[1m \u001b[0m\u001b[1mcolumn\u001b[0m\u001b[1m \u001b[0m┃\u001b[1m \u001b[0m\u001b[1mNA\u001b[0m\u001b[1m \u001b[0m┃\u001b[1m \u001b[0m\u001b[1mNA %\u001b[0m\u001b[1m \u001b[0m┃\u001b[1m \u001b[0m\u001b[1mshortest \u001b[0m\u001b[1m \u001b[0m┃\u001b[1m \u001b[0m\u001b[1mlongest   \u001b[0m\u001b[1m \u001b[0m┃\u001b[1m \u001b[0m\u001b[1mmin       \u001b[0m\u001b[1m \u001b[0m┃\u001b[1m \u001b[0m\u001b[1mmax      \u001b[0m\u001b[1m \u001b[0m┃\u001b[1m \u001b[0m\u001b[1mrow       \u001b[0m\u001b[1m \u001b[0m┃\u001b[1m \u001b[0m\u001b[1mrow      \u001b[0m\u001b[1m \u001b[0m┃\u001b[1m \u001b[0m\u001b[1mwords     \u001b[0m\u001b[1m \u001b[0m┃  │\n",
       "│ ┡━━━━━━━━╇━━━━╇━━━━━━╇━━━━━━━━━━━╇━━━━━━━━━━━━╇━━━━━━━━━━━━╇━━━━━━━━━━━╇━━━━━━━━━━━━╇━━━━━━━━━━━╇━━━━━━━━━━━━┩  │\n",
       "│ │ \u001b[38;5;141mname  \u001b[0m │ \u001b[36m 0\u001b[0m │ \u001b[36m   0\u001b[0m │ \u001b[38;5;141mTen      \u001b[0m │ \u001b[38;5;141mGabrielle \u001b[0m │ \u001b[38;5;141mAL022006  \u001b[0m │ \u001b[38;5;141mZeta     \u001b[0m │ \u001b[36m      5.45\u001b[0m │ \u001b[36m        1\u001b[0m │ \u001b[36m     10025\u001b[0m │  │\n",
       "│ │ \u001b[38;5;141mstatus\u001b[0m │ \u001b[36m 0\u001b[0m │ \u001b[36m   0\u001b[0m │ \u001b[38;5;141mhurricane\u001b[0m │ \u001b[38;5;141msubtropica\u001b[0m │ \u001b[38;5;141mdisturbanc\u001b[0m │ \u001b[38;5;141mtropical \u001b[0m │ \u001b[36m      12.8\u001b[0m │ \u001b[36m      1.6\u001b[0m │ \u001b[36m     16465\u001b[0m │  │\n",
       "│ │        │    │      │           │ \u001b[38;5;141ml         \u001b[0m │ \u001b[38;5;141me         \u001b[0m │ \u001b[38;5;141mwave     \u001b[0m │            │           │            │  │\n",
       "│ │        │    │      │           │ \u001b[38;5;141mdepression\u001b[0m │            │           │            │           │            │  │\n",
       "│ └────────┴────┴──────┴───────────┴────────────┴────────────┴───────────┴────────────┴───────────┴────────────┘  │\n",
       "╰────────────────────────────────────────────────────── End ──────────────────────────────────────────────────────╯\n"
      ]
     },
     "metadata": {},
     "output_type": "display_data"
    }
   ],
   "source": [
    "# Drop rows with NA in either diameter column\n",
    "storms_clean = storms.dropna(\n",
    "    subset=[\"tropicalstorm_force_diameter\", \"hurricane_force_diameter\"]\n",
    ")\n",
    "\n",
    "# Reset the index so skimpy’s argmin+loc hack works\n",
    "storms_clean = storms_clean.reset_index(drop=True)\n",
    "\n",
    "# See how many rows you kept\n",
    "print(f\"Kept {len(storms_clean)} of {len(storms)} rows\")\n",
    "\n",
    "#Summarize the cleaned data\n",
    "skim(storms_clean)"
   ]
  },
  {
   "cell_type": "markdown",
   "id": "19a955cb-fb5e-4a99-bbdc-e7c1fa4d5e6a",
   "metadata": {},
   "source": [
    "Which column(s) should be converted to type factor? Do the conversion:"
   ]
  },
  {
   "cell_type": "code",
   "execution_count": 49,
   "id": "36abcb53-4654-4b9e-9246-9ea2729fefb6",
   "metadata": {},
   "outputs": [
    {
     "name": "stdout",
     "output_type": "stream",
     "text": [
      "status      category\n",
      "category    category\n",
      "dtype: object\n"
     ]
    }
   ],
   "source": [
    "# Convert to categorical (factor) dtype\n",
    "storms_clean['status'] = storms_clean['status'].astype('category')\n",
    "storms_clean['category'] = storms_clean['category'].astype('category')\n",
    "\n",
    "# Verify\n",
    "print(storms_clean.dtypes[['status', 'category']])"
   ]
  },
  {
   "cell_type": "markdown",
   "id": "24fcb8ff-b95a-48cd-9399-517ef8af9232",
   "metadata": {},
   "source": [
    "Reorder the columns so name is first, status is second, category is third and the rest are the same."
   ]
  },
  {
   "cell_type": "code",
   "execution_count": 51,
   "id": "18fb1aa8-c5a7-4e1b-8944-735010c6a907",
   "metadata": {},
   "outputs": [
    {
     "name": "stdout",
     "output_type": "stream",
     "text": [
      "Index(['name', 'status', 'category', 'year', 'month', 'day', 'hour', 'lat',\n",
      "       'long', 'wind', 'pressure', 'tropicalstorm_force_diameter',\n",
      "       'hurricane_force_diameter'],\n",
      "      dtype='object')\n"
     ]
    }
   ],
   "source": [
    "# Reorder columns so that 'name', 'status', 'category' come first by using a list comprehension\n",
    "cols = ['name', 'status', 'category']\n",
    "new_order = cols + [col for col in storms_clean.columns if col not in cols]\n",
    "\n",
    "# Apply the new column order\n",
    "storms_clean = storms_clean[new_order]\n",
    "\n",
    "# (Optional) Verify the new order\n",
    "print(storms_clean.columns)"
   ]
  },
  {
   "cell_type": "markdown",
   "id": "be871e69-17d9-4a81-b6dc-a727b2a1c7ab",
   "metadata": {},
   "source": [
    "Find a subset of the data of storms only in the 1970's."
   ]
  },
  {
   "cell_type": "code",
   "execution_count": 53,
   "id": "5ea1c85e-633f-4d35-b083-3cbd2082baa1",
   "metadata": {},
   "outputs": [
    {
     "name": "stdout",
     "output_type": "stream",
     "text": [
      "Number of 1970s storm records: 0\n",
      "Empty DataFrame\n",
      "Columns: [name, status, category, year, month, day, hour, lat, long, wind, pressure, tropicalstorm_force_diameter, hurricane_force_diameter]\n",
      "Index: []\n"
     ]
    }
   ],
   "source": [
    "#Subset to storms in the 1970s (i.e. years 1970–1979 inclusive)\n",
    "storms_1970s = storms_clean.copy()\n",
    "storms_1970s = storms_1970s[(storms_1970s['year'] >= 1970) & (storms_1970s['year'] <= 1979)]\n",
    "\n",
    "#Check how many rows and peek at the first few\n",
    "print(f\"Number of 1970s storm records: {len(storms_1970s)}\")\n",
    "print(storms_1970s.head())"
   ]
  },
  {
   "cell_type": "markdown",
   "id": "ce6af50d-3beb-4c5b-83a9-e650605186d5",
   "metadata": {},
   "source": [
    "Find a subset of the data of storm observations only with category 4 and above and wind speed 100MPH and above."
   ]
  },
  {
   "cell_type": "code",
   "execution_count": 55,
   "id": "6b6541be-7f13-4a76-84db-761a7dba411b",
   "metadata": {},
   "outputs": [
    {
     "name": "stdout",
     "output_type": "stream",
     "text": [
      "Found 10025 records:\n",
      "   name               status  category  wind\n",
      "0  Alex  tropical depression       NaN    25\n",
      "1  Alex  tropical depression       NaN    25\n",
      "2  Alex  tropical depression       NaN    25\n",
      "3  Alex  tropical depression       NaN    30\n",
      "4  Alex       tropical storm       NaN    35\n"
     ]
    }
   ],
   "source": [
    "#Subset to Saffir–Simpson category 4 or 5 AND wind ≥ 100 mph\n",
    "storms_cat4plus = storms_clean.copy()\n",
    "\n",
    "#Ensure 'category' is numeric (coerce non‑numbers to NaN)\n",
    "storms_cat4plus['category'] = pd.to_numeric(storms_cat4plus['category'], errors='coerce')\n",
    "\n",
    "#Build your mask with explicit parentheses\n",
    "mask = (\n",
    "    (storms_cat4plus['category'].notna()) & # drop missing categories\n",
    "    (storms_cat4plus['category'].isin([4, 5])) & # keep only cat 4 or 5\n",
    "    (storms_cat4plus['wind'] >= 100) # wind at least 100 mph\n",
    ")\n",
    "\n",
    "#Apply to the same DataFrame and reset the index\n",
    "storms_cat4plus = storms_cat4plus.reset_index(drop=True)\n",
    "\n",
    "#Sanity check\n",
    "print(f\"Found {len(storms_cat4plus)} records:\")\n",
    "print(storms_cat4plus[['name','status','category','wind']].head())"
   ]
  },
  {
   "cell_type": "markdown",
   "id": "6f2716cd-5c44-47c1-9152-a34c8bf8c771",
   "metadata": {},
   "source": [
    "Create a new feature `wind_speed_per_unit_pressure`."
   ]
  },
  {
   "cell_type": "code",
   "execution_count": 63,
   "id": "c9e3f0ca-b187-41e7-b10c-3a42489de307",
   "metadata": {},
   "outputs": [
    {
     "name": "stdout",
     "output_type": "stream",
     "text": [
      "   wind  pressure  wind_speed_per_unit_pressure\n",
      "0    25      1010                      0.024752\n",
      "1    25      1009                      0.024777\n",
      "2    25      1009                      0.024777\n",
      "3    30      1009                      0.029732\n",
      "4    35      1009                      0.034688\n"
     ]
    },
    {
     "data": {
      "text/html": [
       "<div>\n",
       "<style scoped>\n",
       "    .dataframe tbody tr th:only-of-type {\n",
       "        vertical-align: middle;\n",
       "    }\n",
       "\n",
       "    .dataframe tbody tr th {\n",
       "        vertical-align: top;\n",
       "    }\n",
       "\n",
       "    .dataframe thead th {\n",
       "        text-align: right;\n",
       "    }\n",
       "</style>\n",
       "<table border=\"1\" class=\"dataframe\">\n",
       "  <thead>\n",
       "    <tr style=\"text-align: right;\">\n",
       "      <th></th>\n",
       "      <th>name</th>\n",
       "      <th>status</th>\n",
       "      <th>category</th>\n",
       "      <th>year</th>\n",
       "      <th>month</th>\n",
       "      <th>day</th>\n",
       "      <th>hour</th>\n",
       "      <th>lat</th>\n",
       "      <th>long</th>\n",
       "      <th>wind</th>\n",
       "      <th>pressure</th>\n",
       "      <th>tropicalstorm_force_diameter</th>\n",
       "      <th>hurricane_force_diameter</th>\n",
       "      <th>wind_speed_per_unit_pressure</th>\n",
       "      <th>average_diameter</th>\n",
       "    </tr>\n",
       "  </thead>\n",
       "  <tbody>\n",
       "    <tr>\n",
       "      <th>0</th>\n",
       "      <td>Alex</td>\n",
       "      <td>tropical depression</td>\n",
       "      <td>NaN</td>\n",
       "      <td>2004</td>\n",
       "      <td>7</td>\n",
       "      <td>31</td>\n",
       "      <td>18</td>\n",
       "      <td>30.3</td>\n",
       "      <td>-78.3</td>\n",
       "      <td>25</td>\n",
       "      <td>1010</td>\n",
       "      <td>0.0</td>\n",
       "      <td>0.0</td>\n",
       "      <td>0.024752</td>\n",
       "      <td>NaN</td>\n",
       "    </tr>\n",
       "    <tr>\n",
       "      <th>1</th>\n",
       "      <td>Alex</td>\n",
       "      <td>tropical depression</td>\n",
       "      <td>NaN</td>\n",
       "      <td>2004</td>\n",
       "      <td>8</td>\n",
       "      <td>1</td>\n",
       "      <td>0</td>\n",
       "      <td>31.0</td>\n",
       "      <td>-78.8</td>\n",
       "      <td>25</td>\n",
       "      <td>1009</td>\n",
       "      <td>0.0</td>\n",
       "      <td>0.0</td>\n",
       "      <td>0.024777</td>\n",
       "      <td>NaN</td>\n",
       "    </tr>\n",
       "    <tr>\n",
       "      <th>2</th>\n",
       "      <td>Alex</td>\n",
       "      <td>tropical depression</td>\n",
       "      <td>NaN</td>\n",
       "      <td>2004</td>\n",
       "      <td>8</td>\n",
       "      <td>1</td>\n",
       "      <td>6</td>\n",
       "      <td>31.5</td>\n",
       "      <td>-79.0</td>\n",
       "      <td>25</td>\n",
       "      <td>1009</td>\n",
       "      <td>0.0</td>\n",
       "      <td>0.0</td>\n",
       "      <td>0.024777</td>\n",
       "      <td>NaN</td>\n",
       "    </tr>\n",
       "    <tr>\n",
       "      <th>3</th>\n",
       "      <td>Alex</td>\n",
       "      <td>tropical depression</td>\n",
       "      <td>NaN</td>\n",
       "      <td>2004</td>\n",
       "      <td>8</td>\n",
       "      <td>1</td>\n",
       "      <td>12</td>\n",
       "      <td>31.6</td>\n",
       "      <td>-79.1</td>\n",
       "      <td>30</td>\n",
       "      <td>1009</td>\n",
       "      <td>0.0</td>\n",
       "      <td>0.0</td>\n",
       "      <td>0.029732</td>\n",
       "      <td>NaN</td>\n",
       "    </tr>\n",
       "    <tr>\n",
       "      <th>4</th>\n",
       "      <td>Alex</td>\n",
       "      <td>tropical storm</td>\n",
       "      <td>NaN</td>\n",
       "      <td>2004</td>\n",
       "      <td>8</td>\n",
       "      <td>1</td>\n",
       "      <td>18</td>\n",
       "      <td>31.6</td>\n",
       "      <td>-79.2</td>\n",
       "      <td>35</td>\n",
       "      <td>1009</td>\n",
       "      <td>50.0</td>\n",
       "      <td>0.0</td>\n",
       "      <td>0.034688</td>\n",
       "      <td>NaN</td>\n",
       "    </tr>\n",
       "    <tr>\n",
       "      <th>...</th>\n",
       "      <td>...</td>\n",
       "      <td>...</td>\n",
       "      <td>...</td>\n",
       "      <td>...</td>\n",
       "      <td>...</td>\n",
       "      <td>...</td>\n",
       "      <td>...</td>\n",
       "      <td>...</td>\n",
       "      <td>...</td>\n",
       "      <td>...</td>\n",
       "      <td>...</td>\n",
       "      <td>...</td>\n",
       "      <td>...</td>\n",
       "      <td>...</td>\n",
       "      <td>...</td>\n",
       "    </tr>\n",
       "    <tr>\n",
       "      <th>10020</th>\n",
       "      <td>Nicole</td>\n",
       "      <td>tropical storm</td>\n",
       "      <td>NaN</td>\n",
       "      <td>2022</td>\n",
       "      <td>11</td>\n",
       "      <td>10</td>\n",
       "      <td>19</td>\n",
       "      <td>29.2</td>\n",
       "      <td>-83.0</td>\n",
       "      <td>40</td>\n",
       "      <td>989</td>\n",
       "      <td>300.0</td>\n",
       "      <td>0.0</td>\n",
       "      <td>0.040445</td>\n",
       "      <td>NaN</td>\n",
       "    </tr>\n",
       "    <tr>\n",
       "      <th>10021</th>\n",
       "      <td>Nicole</td>\n",
       "      <td>tropical storm</td>\n",
       "      <td>NaN</td>\n",
       "      <td>2022</td>\n",
       "      <td>11</td>\n",
       "      <td>11</td>\n",
       "      <td>0</td>\n",
       "      <td>30.1</td>\n",
       "      <td>-84.0</td>\n",
       "      <td>35</td>\n",
       "      <td>992</td>\n",
       "      <td>300.0</td>\n",
       "      <td>0.0</td>\n",
       "      <td>0.035282</td>\n",
       "      <td>NaN</td>\n",
       "    </tr>\n",
       "    <tr>\n",
       "      <th>10022</th>\n",
       "      <td>Nicole</td>\n",
       "      <td>tropical depression</td>\n",
       "      <td>NaN</td>\n",
       "      <td>2022</td>\n",
       "      <td>11</td>\n",
       "      <td>11</td>\n",
       "      <td>6</td>\n",
       "      <td>31.2</td>\n",
       "      <td>-84.6</td>\n",
       "      <td>30</td>\n",
       "      <td>996</td>\n",
       "      <td>0.0</td>\n",
       "      <td>0.0</td>\n",
       "      <td>0.030120</td>\n",
       "      <td>NaN</td>\n",
       "    </tr>\n",
       "    <tr>\n",
       "      <th>10023</th>\n",
       "      <td>Nicole</td>\n",
       "      <td>tropical depression</td>\n",
       "      <td>NaN</td>\n",
       "      <td>2022</td>\n",
       "      <td>11</td>\n",
       "      <td>11</td>\n",
       "      <td>12</td>\n",
       "      <td>33.2</td>\n",
       "      <td>-84.6</td>\n",
       "      <td>25</td>\n",
       "      <td>999</td>\n",
       "      <td>0.0</td>\n",
       "      <td>0.0</td>\n",
       "      <td>0.025025</td>\n",
       "      <td>NaN</td>\n",
       "    </tr>\n",
       "    <tr>\n",
       "      <th>10024</th>\n",
       "      <td>Nicole</td>\n",
       "      <td>other low</td>\n",
       "      <td>NaN</td>\n",
       "      <td>2022</td>\n",
       "      <td>11</td>\n",
       "      <td>11</td>\n",
       "      <td>18</td>\n",
       "      <td>35.4</td>\n",
       "      <td>-83.8</td>\n",
       "      <td>25</td>\n",
       "      <td>1000</td>\n",
       "      <td>0.0</td>\n",
       "      <td>0.0</td>\n",
       "      <td>0.025000</td>\n",
       "      <td>NaN</td>\n",
       "    </tr>\n",
       "  </tbody>\n",
       "</table>\n",
       "<p>10025 rows × 15 columns</p>\n",
       "</div>"
      ],
      "text/plain": [
       "         name               status category  year  month  day  hour   lat  \\\n",
       "0        Alex  tropical depression      NaN  2004      7   31    18  30.3   \n",
       "1        Alex  tropical depression      NaN  2004      8    1     0  31.0   \n",
       "2        Alex  tropical depression      NaN  2004      8    1     6  31.5   \n",
       "3        Alex  tropical depression      NaN  2004      8    1    12  31.6   \n",
       "4        Alex       tropical storm      NaN  2004      8    1    18  31.6   \n",
       "...       ...                  ...      ...   ...    ...  ...   ...   ...   \n",
       "10020  Nicole       tropical storm      NaN  2022     11   10    19  29.2   \n",
       "10021  Nicole       tropical storm      NaN  2022     11   11     0  30.1   \n",
       "10022  Nicole  tropical depression      NaN  2022     11   11     6  31.2   \n",
       "10023  Nicole  tropical depression      NaN  2022     11   11    12  33.2   \n",
       "10024  Nicole            other low      NaN  2022     11   11    18  35.4   \n",
       "\n",
       "       long  wind  pressure  tropicalstorm_force_diameter  \\\n",
       "0     -78.3    25      1010                           0.0   \n",
       "1     -78.8    25      1009                           0.0   \n",
       "2     -79.0    25      1009                           0.0   \n",
       "3     -79.1    30      1009                           0.0   \n",
       "4     -79.2    35      1009                          50.0   \n",
       "...     ...   ...       ...                           ...   \n",
       "10020 -83.0    40       989                         300.0   \n",
       "10021 -84.0    35       992                         300.0   \n",
       "10022 -84.6    30       996                           0.0   \n",
       "10023 -84.6    25       999                           0.0   \n",
       "10024 -83.8    25      1000                           0.0   \n",
       "\n",
       "       hurricane_force_diameter  wind_speed_per_unit_pressure  \\\n",
       "0                           0.0                      0.024752   \n",
       "1                           0.0                      0.024777   \n",
       "2                           0.0                      0.024777   \n",
       "3                           0.0                      0.029732   \n",
       "4                           0.0                      0.034688   \n",
       "...                         ...                           ...   \n",
       "10020                       0.0                      0.040445   \n",
       "10021                       0.0                      0.035282   \n",
       "10022                       0.0                      0.030120   \n",
       "10023                       0.0                      0.025025   \n",
       "10024                       0.0                      0.025000   \n",
       "\n",
       "       average_diameter  \n",
       "0                   NaN  \n",
       "1                   NaN  \n",
       "2                   NaN  \n",
       "3                   NaN  \n",
       "4                   NaN  \n",
       "...                 ...  \n",
       "10020               NaN  \n",
       "10021               NaN  \n",
       "10022               NaN  \n",
       "10023               NaN  \n",
       "10024               NaN  \n",
       "\n",
       "[10025 rows x 15 columns]"
      ]
     },
     "execution_count": 63,
     "metadata": {},
     "output_type": "execute_result"
    }
   ],
   "source": [
    "storms_clean = storms_clean.copy()\n",
    "storms_clean['wind_speed_per_unit_pressure'] = (\n",
    "    storms_clean['wind'] / storms_clean['pressure']\n",
    ")\n",
    "\n",
    "# Verify it was added:\n",
    "print(storms_clean[['wind','pressure','wind_speed_per_unit_pressure']].head())\n",
    "storms_clean"
   ]
  },
  {
   "cell_type": "markdown",
   "id": "933494f7-bf4f-46de-8df6-d8c8c029d2a9",
   "metadata": {},
   "source": [
    "Create a new feature: `average_diameter` which averages the two diameter metrics. If one is missing, then use the value of the one that is present. If both are missing, leave missing."
   ]
  },
  {
   "cell_type": "code",
   "execution_count": 65,
   "id": "9ba567ad-cb46-48b0-b2c6-26165802412f",
   "metadata": {},
   "outputs": [
    {
     "name": "stdout",
     "output_type": "stream",
     "text": [
      "   tropicalstorm_force_diameter  hurricane_force_diameter  average_diameter\n",
      "0                           0.0                       0.0               0.0\n",
      "1                           0.0                       0.0               0.0\n",
      "2                           0.0                       0.0               0.0\n",
      "3                           0.0                       0.0               0.0\n",
      "4                          50.0                       0.0              25.0\n"
     ]
    },
    {
     "data": {
      "text/html": [
       "<div>\n",
       "<style scoped>\n",
       "    .dataframe tbody tr th:only-of-type {\n",
       "        vertical-align: middle;\n",
       "    }\n",
       "\n",
       "    .dataframe tbody tr th {\n",
       "        vertical-align: top;\n",
       "    }\n",
       "\n",
       "    .dataframe thead th {\n",
       "        text-align: right;\n",
       "    }\n",
       "</style>\n",
       "<table border=\"1\" class=\"dataframe\">\n",
       "  <thead>\n",
       "    <tr style=\"text-align: right;\">\n",
       "      <th></th>\n",
       "      <th>name</th>\n",
       "      <th>status</th>\n",
       "      <th>category</th>\n",
       "      <th>year</th>\n",
       "      <th>month</th>\n",
       "      <th>day</th>\n",
       "      <th>hour</th>\n",
       "      <th>lat</th>\n",
       "      <th>long</th>\n",
       "      <th>wind</th>\n",
       "      <th>pressure</th>\n",
       "      <th>tropicalstorm_force_diameter</th>\n",
       "      <th>hurricane_force_diameter</th>\n",
       "      <th>wind_speed_per_unit_pressure</th>\n",
       "      <th>average_diameter</th>\n",
       "    </tr>\n",
       "  </thead>\n",
       "  <tbody>\n",
       "    <tr>\n",
       "      <th>0</th>\n",
       "      <td>Alex</td>\n",
       "      <td>tropical depression</td>\n",
       "      <td>NaN</td>\n",
       "      <td>2004</td>\n",
       "      <td>7</td>\n",
       "      <td>31</td>\n",
       "      <td>18</td>\n",
       "      <td>30.3</td>\n",
       "      <td>-78.3</td>\n",
       "      <td>25</td>\n",
       "      <td>1010</td>\n",
       "      <td>0.0</td>\n",
       "      <td>0.0</td>\n",
       "      <td>0.024752</td>\n",
       "      <td>0.0</td>\n",
       "    </tr>\n",
       "    <tr>\n",
       "      <th>1</th>\n",
       "      <td>Alex</td>\n",
       "      <td>tropical depression</td>\n",
       "      <td>NaN</td>\n",
       "      <td>2004</td>\n",
       "      <td>8</td>\n",
       "      <td>1</td>\n",
       "      <td>0</td>\n",
       "      <td>31.0</td>\n",
       "      <td>-78.8</td>\n",
       "      <td>25</td>\n",
       "      <td>1009</td>\n",
       "      <td>0.0</td>\n",
       "      <td>0.0</td>\n",
       "      <td>0.024777</td>\n",
       "      <td>0.0</td>\n",
       "    </tr>\n",
       "    <tr>\n",
       "      <th>2</th>\n",
       "      <td>Alex</td>\n",
       "      <td>tropical depression</td>\n",
       "      <td>NaN</td>\n",
       "      <td>2004</td>\n",
       "      <td>8</td>\n",
       "      <td>1</td>\n",
       "      <td>6</td>\n",
       "      <td>31.5</td>\n",
       "      <td>-79.0</td>\n",
       "      <td>25</td>\n",
       "      <td>1009</td>\n",
       "      <td>0.0</td>\n",
       "      <td>0.0</td>\n",
       "      <td>0.024777</td>\n",
       "      <td>0.0</td>\n",
       "    </tr>\n",
       "    <tr>\n",
       "      <th>3</th>\n",
       "      <td>Alex</td>\n",
       "      <td>tropical depression</td>\n",
       "      <td>NaN</td>\n",
       "      <td>2004</td>\n",
       "      <td>8</td>\n",
       "      <td>1</td>\n",
       "      <td>12</td>\n",
       "      <td>31.6</td>\n",
       "      <td>-79.1</td>\n",
       "      <td>30</td>\n",
       "      <td>1009</td>\n",
       "      <td>0.0</td>\n",
       "      <td>0.0</td>\n",
       "      <td>0.029732</td>\n",
       "      <td>0.0</td>\n",
       "    </tr>\n",
       "    <tr>\n",
       "      <th>4</th>\n",
       "      <td>Alex</td>\n",
       "      <td>tropical storm</td>\n",
       "      <td>NaN</td>\n",
       "      <td>2004</td>\n",
       "      <td>8</td>\n",
       "      <td>1</td>\n",
       "      <td>18</td>\n",
       "      <td>31.6</td>\n",
       "      <td>-79.2</td>\n",
       "      <td>35</td>\n",
       "      <td>1009</td>\n",
       "      <td>50.0</td>\n",
       "      <td>0.0</td>\n",
       "      <td>0.034688</td>\n",
       "      <td>25.0</td>\n",
       "    </tr>\n",
       "    <tr>\n",
       "      <th>...</th>\n",
       "      <td>...</td>\n",
       "      <td>...</td>\n",
       "      <td>...</td>\n",
       "      <td>...</td>\n",
       "      <td>...</td>\n",
       "      <td>...</td>\n",
       "      <td>...</td>\n",
       "      <td>...</td>\n",
       "      <td>...</td>\n",
       "      <td>...</td>\n",
       "      <td>...</td>\n",
       "      <td>...</td>\n",
       "      <td>...</td>\n",
       "      <td>...</td>\n",
       "      <td>...</td>\n",
       "    </tr>\n",
       "    <tr>\n",
       "      <th>10020</th>\n",
       "      <td>Nicole</td>\n",
       "      <td>tropical storm</td>\n",
       "      <td>NaN</td>\n",
       "      <td>2022</td>\n",
       "      <td>11</td>\n",
       "      <td>10</td>\n",
       "      <td>19</td>\n",
       "      <td>29.2</td>\n",
       "      <td>-83.0</td>\n",
       "      <td>40</td>\n",
       "      <td>989</td>\n",
       "      <td>300.0</td>\n",
       "      <td>0.0</td>\n",
       "      <td>0.040445</td>\n",
       "      <td>150.0</td>\n",
       "    </tr>\n",
       "    <tr>\n",
       "      <th>10021</th>\n",
       "      <td>Nicole</td>\n",
       "      <td>tropical storm</td>\n",
       "      <td>NaN</td>\n",
       "      <td>2022</td>\n",
       "      <td>11</td>\n",
       "      <td>11</td>\n",
       "      <td>0</td>\n",
       "      <td>30.1</td>\n",
       "      <td>-84.0</td>\n",
       "      <td>35</td>\n",
       "      <td>992</td>\n",
       "      <td>300.0</td>\n",
       "      <td>0.0</td>\n",
       "      <td>0.035282</td>\n",
       "      <td>150.0</td>\n",
       "    </tr>\n",
       "    <tr>\n",
       "      <th>10022</th>\n",
       "      <td>Nicole</td>\n",
       "      <td>tropical depression</td>\n",
       "      <td>NaN</td>\n",
       "      <td>2022</td>\n",
       "      <td>11</td>\n",
       "      <td>11</td>\n",
       "      <td>6</td>\n",
       "      <td>31.2</td>\n",
       "      <td>-84.6</td>\n",
       "      <td>30</td>\n",
       "      <td>996</td>\n",
       "      <td>0.0</td>\n",
       "      <td>0.0</td>\n",
       "      <td>0.030120</td>\n",
       "      <td>0.0</td>\n",
       "    </tr>\n",
       "    <tr>\n",
       "      <th>10023</th>\n",
       "      <td>Nicole</td>\n",
       "      <td>tropical depression</td>\n",
       "      <td>NaN</td>\n",
       "      <td>2022</td>\n",
       "      <td>11</td>\n",
       "      <td>11</td>\n",
       "      <td>12</td>\n",
       "      <td>33.2</td>\n",
       "      <td>-84.6</td>\n",
       "      <td>25</td>\n",
       "      <td>999</td>\n",
       "      <td>0.0</td>\n",
       "      <td>0.0</td>\n",
       "      <td>0.025025</td>\n",
       "      <td>0.0</td>\n",
       "    </tr>\n",
       "    <tr>\n",
       "      <th>10024</th>\n",
       "      <td>Nicole</td>\n",
       "      <td>other low</td>\n",
       "      <td>NaN</td>\n",
       "      <td>2022</td>\n",
       "      <td>11</td>\n",
       "      <td>11</td>\n",
       "      <td>18</td>\n",
       "      <td>35.4</td>\n",
       "      <td>-83.8</td>\n",
       "      <td>25</td>\n",
       "      <td>1000</td>\n",
       "      <td>0.0</td>\n",
       "      <td>0.0</td>\n",
       "      <td>0.025000</td>\n",
       "      <td>0.0</td>\n",
       "    </tr>\n",
       "  </tbody>\n",
       "</table>\n",
       "<p>10025 rows × 15 columns</p>\n",
       "</div>"
      ],
      "text/plain": [
       "         name               status category  year  month  day  hour   lat  \\\n",
       "0        Alex  tropical depression      NaN  2004      7   31    18  30.3   \n",
       "1        Alex  tropical depression      NaN  2004      8    1     0  31.0   \n",
       "2        Alex  tropical depression      NaN  2004      8    1     6  31.5   \n",
       "3        Alex  tropical depression      NaN  2004      8    1    12  31.6   \n",
       "4        Alex       tropical storm      NaN  2004      8    1    18  31.6   \n",
       "...       ...                  ...      ...   ...    ...  ...   ...   ...   \n",
       "10020  Nicole       tropical storm      NaN  2022     11   10    19  29.2   \n",
       "10021  Nicole       tropical storm      NaN  2022     11   11     0  30.1   \n",
       "10022  Nicole  tropical depression      NaN  2022     11   11     6  31.2   \n",
       "10023  Nicole  tropical depression      NaN  2022     11   11    12  33.2   \n",
       "10024  Nicole            other low      NaN  2022     11   11    18  35.4   \n",
       "\n",
       "       long  wind  pressure  tropicalstorm_force_diameter  \\\n",
       "0     -78.3    25      1010                           0.0   \n",
       "1     -78.8    25      1009                           0.0   \n",
       "2     -79.0    25      1009                           0.0   \n",
       "3     -79.1    30      1009                           0.0   \n",
       "4     -79.2    35      1009                          50.0   \n",
       "...     ...   ...       ...                           ...   \n",
       "10020 -83.0    40       989                         300.0   \n",
       "10021 -84.0    35       992                         300.0   \n",
       "10022 -84.6    30       996                           0.0   \n",
       "10023 -84.6    25       999                           0.0   \n",
       "10024 -83.8    25      1000                           0.0   \n",
       "\n",
       "       hurricane_force_diameter  wind_speed_per_unit_pressure  \\\n",
       "0                           0.0                      0.024752   \n",
       "1                           0.0                      0.024777   \n",
       "2                           0.0                      0.024777   \n",
       "3                           0.0                      0.029732   \n",
       "4                           0.0                      0.034688   \n",
       "...                         ...                           ...   \n",
       "10020                       0.0                      0.040445   \n",
       "10021                       0.0                      0.035282   \n",
       "10022                       0.0                      0.030120   \n",
       "10023                       0.0                      0.025025   \n",
       "10024                       0.0                      0.025000   \n",
       "\n",
       "       average_diameter  \n",
       "0                   0.0  \n",
       "1                   0.0  \n",
       "2                   0.0  \n",
       "3                   0.0  \n",
       "4                  25.0  \n",
       "...                 ...  \n",
       "10020             150.0  \n",
       "10021             150.0  \n",
       "10022               0.0  \n",
       "10023               0.0  \n",
       "10024               0.0  \n",
       "\n",
       "[10025 rows x 15 columns]"
      ]
     },
     "execution_count": 65,
     "metadata": {},
     "output_type": "execute_result"
    }
   ],
   "source": [
    "storms_clean['average_diameter'] = storms_clean[\n",
    "    ['tropicalstorm_force_diameter', 'hurricane_force_diameter']\n",
    "].mean(axis = 1, skipna = True)\n",
    "\n",
    "#Verify it worked:\n",
    "print(storms_clean[['tropicalstorm_force_diameter', 'hurricane_force_diameter', 'average_diameter']].head())\n",
    "storms_clean"
   ]
  },
  {
   "cell_type": "markdown",
   "id": "4bfe5eeb-9d31-4381-b3bf-54b5857ef810",
   "metadata": {},
   "source": [
    "For each storm, summarize the maximum wind speed. \"Summarize\" means create a new dataframe with only the summary metrics you care about."
   ]
  },
  {
   "cell_type": "code",
   "execution_count": 67,
   "id": "162e4281-922d-4dbf-a90c-ae90c8304d46",
   "metadata": {},
   "outputs": [
    {
     "name": "stdout",
     "output_type": "stream",
     "text": [
      "       name  wind\n",
      "0  AL011993    35\n",
      "1  AL012000    25\n",
      "2  AL021992    30\n",
      "3  AL021994    30\n",
      "4  AL021999    30\n"
     ]
    }
   ],
   "source": [
    "#Group by storm name and compute the maximum wind speed\n",
    "max_wind_per_storm = (\n",
    "    storms.groupby('name')['wind']\n",
    "    .max()\n",
    "    .reset_index()\n",
    ")\n",
    "\n",
    "# Inspect the result\n",
    "print(max_wind_per_storm.head())\n"
   ]
  },
  {
   "cell_type": "markdown",
   "id": "68f76338-556d-45dc-95fa-f226cf5c25d2",
   "metadata": {},
   "source": [
    "Order your dataset by maximum wind speed storm but within the rows of storm show the observations in time order from early to late."
   ]
  },
  {
   "cell_type": "code",
   "execution_count": 71,
   "id": "493e98ab-234d-421a-b476-8c6a2a00ba0e",
   "metadata": {},
   "outputs": [
    {
     "data": {
      "text/html": [
       "<div>\n",
       "<style scoped>\n",
       "    .dataframe tbody tr th:only-of-type {\n",
       "        vertical-align: middle;\n",
       "    }\n",
       "\n",
       "    .dataframe tbody tr th {\n",
       "        vertical-align: top;\n",
       "    }\n",
       "\n",
       "    .dataframe thead th {\n",
       "        text-align: right;\n",
       "    }\n",
       "</style>\n",
       "<table border=\"1\" class=\"dataframe\">\n",
       "  <thead>\n",
       "    <tr style=\"text-align: right;\">\n",
       "      <th></th>\n",
       "      <th>name</th>\n",
       "      <th>year</th>\n",
       "      <th>month</th>\n",
       "      <th>day</th>\n",
       "      <th>hour</th>\n",
       "      <th>lat</th>\n",
       "      <th>long</th>\n",
       "      <th>status</th>\n",
       "      <th>category</th>\n",
       "      <th>wind</th>\n",
       "      <th>pressure</th>\n",
       "      <th>tropicalstorm_force_diameter</th>\n",
       "      <th>hurricane_force_diameter</th>\n",
       "      <th>datetime</th>\n",
       "      <th>max_wind</th>\n",
       "    </tr>\n",
       "  </thead>\n",
       "  <tbody>\n",
       "    <tr>\n",
       "      <th>0</th>\n",
       "      <td>Allen</td>\n",
       "      <td>1980</td>\n",
       "      <td>8</td>\n",
       "      <td>1</td>\n",
       "      <td>0</td>\n",
       "      <td>10.8</td>\n",
       "      <td>-34.3</td>\n",
       "      <td>tropical depression</td>\n",
       "      <td>NaN</td>\n",
       "      <td>30</td>\n",
       "      <td>1010</td>\n",
       "      <td>NaN</td>\n",
       "      <td>NaN</td>\n",
       "      <td>1980-08-01 00:00:00</td>\n",
       "      <td>165</td>\n",
       "    </tr>\n",
       "    <tr>\n",
       "      <th>1</th>\n",
       "      <td>Allen</td>\n",
       "      <td>1980</td>\n",
       "      <td>8</td>\n",
       "      <td>1</td>\n",
       "      <td>6</td>\n",
       "      <td>10.7</td>\n",
       "      <td>-36.4</td>\n",
       "      <td>tropical depression</td>\n",
       "      <td>NaN</td>\n",
       "      <td>30</td>\n",
       "      <td>1009</td>\n",
       "      <td>NaN</td>\n",
       "      <td>NaN</td>\n",
       "      <td>1980-08-01 06:00:00</td>\n",
       "      <td>165</td>\n",
       "    </tr>\n",
       "    <tr>\n",
       "      <th>2</th>\n",
       "      <td>Allen</td>\n",
       "      <td>1980</td>\n",
       "      <td>8</td>\n",
       "      <td>1</td>\n",
       "      <td>12</td>\n",
       "      <td>10.7</td>\n",
       "      <td>-38.6</td>\n",
       "      <td>tropical depression</td>\n",
       "      <td>NaN</td>\n",
       "      <td>30</td>\n",
       "      <td>1008</td>\n",
       "      <td>NaN</td>\n",
       "      <td>NaN</td>\n",
       "      <td>1980-08-01 12:00:00</td>\n",
       "      <td>165</td>\n",
       "    </tr>\n",
       "    <tr>\n",
       "      <th>3</th>\n",
       "      <td>Allen</td>\n",
       "      <td>1980</td>\n",
       "      <td>8</td>\n",
       "      <td>1</td>\n",
       "      <td>18</td>\n",
       "      <td>10.7</td>\n",
       "      <td>-40.7</td>\n",
       "      <td>tropical depression</td>\n",
       "      <td>NaN</td>\n",
       "      <td>30</td>\n",
       "      <td>1006</td>\n",
       "      <td>NaN</td>\n",
       "      <td>NaN</td>\n",
       "      <td>1980-08-01 18:00:00</td>\n",
       "      <td>165</td>\n",
       "    </tr>\n",
       "    <tr>\n",
       "      <th>4</th>\n",
       "      <td>Allen</td>\n",
       "      <td>1980</td>\n",
       "      <td>8</td>\n",
       "      <td>2</td>\n",
       "      <td>0</td>\n",
       "      <td>11.0</td>\n",
       "      <td>-42.8</td>\n",
       "      <td>tropical storm</td>\n",
       "      <td>NaN</td>\n",
       "      <td>35</td>\n",
       "      <td>1005</td>\n",
       "      <td>NaN</td>\n",
       "      <td>NaN</td>\n",
       "      <td>1980-08-02 00:00:00</td>\n",
       "      <td>165</td>\n",
       "    </tr>\n",
       "    <tr>\n",
       "      <th>...</th>\n",
       "      <td>...</td>\n",
       "      <td>...</td>\n",
       "      <td>...</td>\n",
       "      <td>...</td>\n",
       "      <td>...</td>\n",
       "      <td>...</td>\n",
       "      <td>...</td>\n",
       "      <td>...</td>\n",
       "      <td>...</td>\n",
       "      <td>...</td>\n",
       "      <td>...</td>\n",
       "      <td>...</td>\n",
       "      <td>...</td>\n",
       "      <td>...</td>\n",
       "      <td>...</td>\n",
       "    </tr>\n",
       "    <tr>\n",
       "      <th>19532</th>\n",
       "      <td>Four</td>\n",
       "      <td>2017</td>\n",
       "      <td>7</td>\n",
       "      <td>6</td>\n",
       "      <td>12</td>\n",
       "      <td>13.3</td>\n",
       "      <td>-42.2</td>\n",
       "      <td>tropical depression</td>\n",
       "      <td>NaN</td>\n",
       "      <td>25</td>\n",
       "      <td>1009</td>\n",
       "      <td>0.0</td>\n",
       "      <td>0.0</td>\n",
       "      <td>2017-07-06 12:00:00</td>\n",
       "      <td>25</td>\n",
       "    </tr>\n",
       "    <tr>\n",
       "      <th>19533</th>\n",
       "      <td>Four</td>\n",
       "      <td>2017</td>\n",
       "      <td>7</td>\n",
       "      <td>6</td>\n",
       "      <td>18</td>\n",
       "      <td>13.8</td>\n",
       "      <td>-44.1</td>\n",
       "      <td>tropical depression</td>\n",
       "      <td>NaN</td>\n",
       "      <td>25</td>\n",
       "      <td>1010</td>\n",
       "      <td>0.0</td>\n",
       "      <td>0.0</td>\n",
       "      <td>2017-07-06 18:00:00</td>\n",
       "      <td>25</td>\n",
       "    </tr>\n",
       "    <tr>\n",
       "      <th>19534</th>\n",
       "      <td>Four</td>\n",
       "      <td>2017</td>\n",
       "      <td>7</td>\n",
       "      <td>7</td>\n",
       "      <td>0</td>\n",
       "      <td>14.3</td>\n",
       "      <td>-46.0</td>\n",
       "      <td>tropical depression</td>\n",
       "      <td>NaN</td>\n",
       "      <td>25</td>\n",
       "      <td>1011</td>\n",
       "      <td>0.0</td>\n",
       "      <td>0.0</td>\n",
       "      <td>2017-07-07 00:00:00</td>\n",
       "      <td>25</td>\n",
       "    </tr>\n",
       "    <tr>\n",
       "      <th>19535</th>\n",
       "      <td>Four</td>\n",
       "      <td>2017</td>\n",
       "      <td>7</td>\n",
       "      <td>7</td>\n",
       "      <td>6</td>\n",
       "      <td>14.8</td>\n",
       "      <td>-47.9</td>\n",
       "      <td>tropical depression</td>\n",
       "      <td>NaN</td>\n",
       "      <td>25</td>\n",
       "      <td>1011</td>\n",
       "      <td>0.0</td>\n",
       "      <td>0.0</td>\n",
       "      <td>2017-07-07 06:00:00</td>\n",
       "      <td>25</td>\n",
       "    </tr>\n",
       "    <tr>\n",
       "      <th>19536</th>\n",
       "      <td>Four</td>\n",
       "      <td>2017</td>\n",
       "      <td>7</td>\n",
       "      <td>7</td>\n",
       "      <td>12</td>\n",
       "      <td>15.4</td>\n",
       "      <td>-49.7</td>\n",
       "      <td>tropical depression</td>\n",
       "      <td>NaN</td>\n",
       "      <td>25</td>\n",
       "      <td>1011</td>\n",
       "      <td>0.0</td>\n",
       "      <td>0.0</td>\n",
       "      <td>2017-07-07 12:00:00</td>\n",
       "      <td>25</td>\n",
       "    </tr>\n",
       "  </tbody>\n",
       "</table>\n",
       "<p>19537 rows × 15 columns</p>\n",
       "</div>"
      ],
      "text/plain": [
       "        name  year  month  day  hour   lat  long               status  \\\n",
       "0      Allen  1980      8    1     0  10.8 -34.3  tropical depression   \n",
       "1      Allen  1980      8    1     6  10.7 -36.4  tropical depression   \n",
       "2      Allen  1980      8    1    12  10.7 -38.6  tropical depression   \n",
       "3      Allen  1980      8    1    18  10.7 -40.7  tropical depression   \n",
       "4      Allen  1980      8    2     0  11.0 -42.8       tropical storm   \n",
       "...      ...   ...    ...  ...   ...   ...   ...                  ...   \n",
       "19532   Four  2017      7    6    12  13.3 -42.2  tropical depression   \n",
       "19533   Four  2017      7    6    18  13.8 -44.1  tropical depression   \n",
       "19534   Four  2017      7    7     0  14.3 -46.0  tropical depression   \n",
       "19535   Four  2017      7    7     6  14.8 -47.9  tropical depression   \n",
       "19536   Four  2017      7    7    12  15.4 -49.7  tropical depression   \n",
       "\n",
       "       category  wind  pressure  tropicalstorm_force_diameter  \\\n",
       "0           NaN    30      1010                           NaN   \n",
       "1           NaN    30      1009                           NaN   \n",
       "2           NaN    30      1008                           NaN   \n",
       "3           NaN    30      1006                           NaN   \n",
       "4           NaN    35      1005                           NaN   \n",
       "...         ...   ...       ...                           ...   \n",
       "19532       NaN    25      1009                           0.0   \n",
       "19533       NaN    25      1010                           0.0   \n",
       "19534       NaN    25      1011                           0.0   \n",
       "19535       NaN    25      1011                           0.0   \n",
       "19536       NaN    25      1011                           0.0   \n",
       "\n",
       "       hurricane_force_diameter            datetime  max_wind  \n",
       "0                           NaN 1980-08-01 00:00:00       165  \n",
       "1                           NaN 1980-08-01 06:00:00       165  \n",
       "2                           NaN 1980-08-01 12:00:00       165  \n",
       "3                           NaN 1980-08-01 18:00:00       165  \n",
       "4                           NaN 1980-08-02 00:00:00       165  \n",
       "...                         ...                 ...       ...  \n",
       "19532                       0.0 2017-07-06 12:00:00        25  \n",
       "19533                       0.0 2017-07-06 18:00:00        25  \n",
       "19534                       0.0 2017-07-07 00:00:00        25  \n",
       "19535                       0.0 2017-07-07 06:00:00        25  \n",
       "19536                       0.0 2017-07-07 12:00:00        25  \n",
       "\n",
       "[19537 rows x 15 columns]"
      ]
     },
     "execution_count": 71,
     "metadata": {},
     "output_type": "execute_result"
    }
   ],
   "source": [
    "#Create a datetime column from year, month, day, hour\n",
    "storms['datetime'] = pd.to_datetime(\n",
    "     dict(\n",
    "        year=storms['year'],\n",
    "        month=storms['month'],\n",
    "        day=storms['day'],\n",
    "        hour=storms['hour']\n",
    "     )\n",
    ")\n",
    "\n",
    "#Compute each storm’s maximum wind speed\n",
    "storms['max_wind'] = storms.groupby('name')['wind'].transform('max')\n",
    "\n",
    "\n",
    "#Sort storms by max_wind descending, and within each storm by datetime ascending\n",
    "storms_sorted = storms.sort_values(\n",
    "    by=['max_wind', 'datetime'], \n",
    "    ascending=[False, True]\n",
    ").reset_index(drop=True)\n",
    "\n",
    "storms_sorted"
   ]
  },
  {
   "cell_type": "markdown",
   "id": "92a09a1b-527b-4204-86e6-160e918ec3f2",
   "metadata": {},
   "source": [
    "Find the strongest storm by wind speed per year."
   ]
  },
  {
   "cell_type": "code",
   "execution_count": 75,
   "id": "478abe7a-218c-40e9-8074-42244b5e4714",
   "metadata": {},
   "outputs": [
    {
     "name": "stdout",
     "output_type": "stream",
     "text": [
      "     year       name  max_wind\n",
      "6    1975     Gladys       120\n",
      "8    1976      Belle       105\n",
      "15   1977      Anita       150\n",
      "25   1978       Ella       120\n",
      "35   1979      David       150\n",
      "40   1980      Allen       165\n",
      "58   1981     Harvey       115\n",
      "65   1982      Debby       115\n",
      "67   1983     Alicia       100\n",
      "74   1984      Diana       115\n",
      "89   1985     Gloria       125\n",
      "98   1986       Earl        90\n",
      "105  1987      Emily       110\n",
      "114  1988    Gilbert       160\n",
      "126  1989       Hugo       140\n",
      "136  1990     Gustav       105\n",
      "149  1991  Claudette       115\n",
      "157  1992     Andrew       150\n",
      "169  1993      Emily       100\n",
      "183  1994   Florence        95\n",
      "198  1995       Luis       130\n",
      "210  1996    Edouard       125\n",
      "224  1997      Erika       110\n",
      "239  1998      Mitch       155\n",
      "250  1999      Floyd       135\n",
      "269  2000      Isaac       120\n",
      "285  2001       Iris       125\n",
      "305  2002       Lili       125\n",
      "319  2003     Isabel       145\n",
      "336  2004       Ivan       145\n",
      "369  2005      Wilma       160\n",
      "378  2006     Gordon       105\n",
      "384  2007       Dean       150\n",
      "404  2008     Gustav       135\n",
      "416  2009       Bill       115\n",
      "435  2010       Igor       135\n",
      "458  2011      Katia       120\n",
      "479  2012    Michael       100\n",
      "494  2013   Humberto        80\n",
      "506  2014    Gonzalo       125\n",
      "518  2015    Joaquin       135\n",
      "534  2016    Matthew       145\n",
      "546  2017       Irma       155\n",
      "568  2018    Michael       140\n",
      "573  2019     Dorian       160\n",
      "602  2020       Iota       135\n",
      "636  2021        Sam       135\n",
      "648  2022        Ian       140\n"
     ]
    }
   ],
   "source": [
    "#Compute each storm’s maximum wind speed per year\n",
    "storm_max = (\n",
    "    storms\n",
    "    .groupby(['year', 'name'], as_index=False)\n",
    "    .agg(max_wind=('wind', 'max'))\n",
    ")\n",
    "\n",
    "#For each year, select the storm with the highest max_wind\n",
    "idx = storm_max.groupby('year')['max_wind'].idxmax()\n",
    "strongest_per_year = (storm_max.loc[idx]\n",
    "    \n",
    ")\n",
    "\n",
    "#Inspect the result\n",
    "print(strongest_per_year)"
   ]
  },
  {
   "cell_type": "markdown",
   "id": "dea509bd-d3b9-4f81-b330-6b033f300472",
   "metadata": {},
   "source": [
    "For each named storm, find its maximum category, wind speed, pressure and diameters. Do not allow the max to be NA (unless all the measurements for that storm were NA)."
   ]
  },
  {
   "cell_type": "code",
   "execution_count": 77,
   "id": "dc358951-c159-4a38-8ad9-be85c3129773",
   "metadata": {},
   "outputs": [
    {
     "name": "stdout",
     "output_type": "stream",
     "text": [
      "       name  max_category  max_wind  max_pressure  max_tropicalstorm_diameter  \\\n",
      "0  AL011993          <NA>        35          1003                         NaN   \n",
      "1  AL012000          <NA>        25          1010                         NaN   \n",
      "2  AL021992          <NA>        30          1009                         NaN   \n",
      "3  AL021994          <NA>        30          1017                         NaN   \n",
      "4  AL021999          <NA>        30          1006                         NaN   \n",
      "\n",
      "   max_hurricane_diameter  \n",
      "0                     NaN  \n",
      "1                     NaN  \n",
      "2                     NaN  \n",
      "3                     NaN  \n",
      "4                     NaN  \n"
     ]
    }
   ],
   "source": [
    "#Make sure 'category' is a nullable integer so max skips NA by default\n",
    "storms['category'] = pd.to_numeric(storms['category'], errors='coerce').astype('Int64')\n",
    "\n",
    "#Group by storm name and compute the maxima (skipna=True by default)\n",
    "summary = storms.groupby('name', as_index=False).agg(\n",
    "    max_category=('category', 'max'),\n",
    "    max_wind=('wind', 'max'),\n",
    "    max_pressure=('pressure', 'max'),\n",
    "    max_tropicalstorm_diameter=('tropicalstorm_force_diameter', 'max'),\n",
    "    max_hurricane_diameter=('hurricane_force_diameter', 'max')\n",
    ")\n",
    "\n",
    "#Inspect the first few rows\n",
    "print(summary.head())"
   ]
  },
  {
   "cell_type": "markdown",
   "id": "1287c97f-d64d-4cb9-a4dd-de7985d042c1",
   "metadata": {},
   "source": [
    "For each year in the dataset, tally the number of storms. \"Tally\" is a fancy word for \"count the number of\". Plot the number of storms by year. Any pattern?"
   ]
  },
  {
   "cell_type": "code",
   "execution_count": 85,
   "id": "e9a01653-c6f4-42a1-8768-3433755e9643",
   "metadata": {},
   "outputs": [
    {
     "data": {
      "image/png": "[encoded data removed]"
     },
     "metadata": {
      "image/png": {
       "height": 480,
       "width": 640
      }
     },
     "output_type": "display_data"
    }
   ],
   "source": [
    "from plotnine import ggplot, aes, geom_line, labs\n",
    "\n",
    "\n",
    "#Tally the number of unique named storms per year\n",
    "storms_per_year = storms.groupby('year')['name'].nunique().reset_index(name='count')\n",
    "\n",
    "#Plot with plotnine\n",
    "plot = (ggplot(storms_per_year, aes(x='year', y='count'))+\n",
    "        geom_line() +\n",
    "        geom_point() + \n",
    "        labs(x='Year', y='Number of Named Storms', title='Named Storms per Year')\n",
    "        )\n",
    "plot"
   ]
  },
  {
   "cell_type": "markdown",
   "id": "3220da96-097c-4889-b853-8d75b0f34736",
   "metadata": {},
   "source": [
    "For each year in the dataset, tally the storms by category."
   ]
  },
  {
   "cell_type": "code",
   "execution_count": 95,
   "id": "14d876d1-c353-4460-8b26-70fa865f0ecf",
   "metadata": {},
   "outputs": [
    {
     "name": "stdout",
     "output_type": "stream",
     "text": [
      "     year  category  count\n",
      "0    1975         1      6\n",
      "1    1975         2      5\n",
      "2    1975         3      3\n",
      "3    1975         4      1\n",
      "4    1976         1      6\n",
      "..    ...       ...    ...\n",
      "188  2022         1      9\n",
      "189  2022         2      4\n",
      "190  2022         3      3\n",
      "191  2022         4      2\n",
      "192  2022         5      1\n",
      "\n",
      "[193 rows x 3 columns]\n",
      "category     1    2    3    4    5\n",
      "year                              \n",
      "1975       6.0  5.0  3.0  1.0  0.0\n",
      "1976       6.0  4.0  2.0  0.0  0.0\n",
      "1977       5.0  1.0  1.0  1.0  1.0\n",
      "1978       5.0  3.0  2.0  2.0  0.0\n",
      "1979       5.0  3.0  2.0  2.0  1.0\n",
      "1980       9.0  5.0  2.0  1.0  1.0\n",
      "1981       7.0  4.0  3.0  1.0  0.0\n",
      "1982       2.0  1.0  1.0  1.0  0.0\n",
      "1983       3.0  1.0  1.0  0.0  0.0\n",
      "1984       5.0  2.0  1.0  1.0  0.0\n",
      "1985       7.0  3.0  3.0  1.0  0.0\n",
      "1986       4.0  1.0  0.0  0.0  0.0\n",
      "1987       3.0  1.0  1.0  0.0  0.0\n",
      "1988       5.0  3.0  3.0  3.0  1.0\n",
      "1989       7.0  4.0  2.0  2.0  1.0\n",
      "1990       8.0  3.0  1.0  0.0  0.0\n",
      "1991       4.0  3.0  2.0  1.0  0.0\n",
      "1992       4.0  3.0  1.0  1.0  1.0\n",
      "1993       4.0  2.0  1.0  0.0  0.0\n",
      "1994       3.0  1.0  0.0  0.0  0.0\n",
      "1995      11.0  8.0  5.0  3.0  0.0\n",
      "1996       9.0  6.0  6.0  2.0  0.0\n",
      "1997       3.0  1.0  1.0  0.0  0.0\n",
      "1998      10.0  7.0  3.0  2.0  1.0\n",
      "1999       8.0  8.0  5.0  5.0  0.0\n",
      "2000       8.0  3.0  3.0  2.0  0.0\n",
      "2001       9.0  5.0  3.0  2.0  0.0\n",
      "2002       4.0  3.0  2.0  1.0  0.0\n",
      "2003       7.0  4.0  3.0  2.0  1.0\n",
      "2004       9.0  7.0  6.0  4.0  1.0\n",
      "2005      15.0  8.0  7.0  5.0  4.0\n",
      "2006       5.0  2.0  2.0  0.0  0.0\n",
      "2007       6.0  2.0  1.0  2.0  2.0\n",
      "2008       8.0  6.0  4.0  4.0  0.0\n",
      "2009       3.0  3.0  2.0  1.0  0.0\n",
      "2010      12.0  9.0  5.0  4.0  0.0\n",
      "2011       7.0  4.0  4.0  2.0  0.0\n",
      "2012      10.0  5.0  2.0  0.0  0.0\n",
      "2013       2.0  0.0  0.0  0.0  0.0\n",
      "2014       6.0  3.0  2.0  1.0  0.0\n",
      "2015       4.0  2.0  2.0  1.0  0.0\n",
      "2016       7.0  4.0  4.0  2.0  1.0\n",
      "2017      10.0  8.0  6.0  4.0  2.0\n",
      "2018       8.0  5.0  2.0  2.0  1.0\n",
      "2019       6.0  4.0  3.0  2.0  2.0\n",
      "2020      14.0  9.0  6.0  5.0  0.0\n",
      "2021       7.0  4.0  4.0  2.0  0.0\n",
      "2022       9.0  4.0  3.0  2.0  1.0\n"
     ]
    }
   ],
   "source": [
    "#Ensure 'category' is numeric (so missing stays as NaN)\n",
    "storms['category'] = pd.to_numeric(storms['category'], errors='coerce')\n",
    "\n",
    "#Drop missing categories (if you only want actual hurricane categories)\n",
    "storms_cat = storms.dropna(subset=['category'])\n",
    "\n",
    "#Tally unique storms by year and category\n",
    "storms_by_category = (\n",
    "    storms_cat.groupby(['year', 'category'])['name']\n",
    "    .nunique()\n",
    "    .reset_index(name='count')\n",
    ") \n",
    "#Pivot to get categories as columns\n",
    "storms_by_category_wide = storms_by_category.pivot(\n",
    "    index='year', columns='category', values='count'\n",
    ").fillna(0)\n",
    "    \n",
    "#Inspect the long‐format tally:\n",
    "print(storms_by_category)\n",
    "\n",
    "#Inspect the wide‐format tally:\n",
    "print(storms_by_category_wide)"
   ]
  },
  {
   "cell_type": "markdown",
   "id": "584e96d1-d8d5-4f7f-a589-eff15f2cc43c",
   "metadata": {},
   "source": [
    "For each year in the dataset, find the maximum wind speed per status level."
   ]
  },
  {
   "cell_type": "code",
   "execution_count": 97,
   "id": "59fef352-75ce-4b20-b16c-8df2f80c8a78",
   "metadata": {},
   "outputs": [
    {
     "name": "stdout",
     "output_type": "stream",
     "text": [
      "    year                  status  max_wind\n",
      "0   1975           extratropical        75\n",
      "1   1975               hurricane       120\n",
      "2   1975  subtropical depression        30\n",
      "3   1975       subtropical storm        45\n",
      "4   1975     tropical depression        30\n",
      "5   1975          tropical storm        60\n",
      "6   1976           extratropical        55\n",
      "7   1976               hurricane       105\n",
      "8   1976     tropical depression        30\n",
      "9   1976          tropical storm        60\n",
      "10  1977           extratropical        60\n",
      "11  1977               hurricane       150\n",
      "12  1977  subtropical depression        25\n",
      "13  1977       subtropical storm        45\n",
      "14  1977     tropical depression        30\n",
      "15  1977          tropical storm        60\n",
      "16  1978           extratropical        45\n",
      "17  1978               hurricane       120\n",
      "18  1978  subtropical depression        30\n",
      "19  1978       subtropical storm        35\n"
     ]
    }
   ],
   "source": [
    "#Ensure 'status' is treated as a category\n",
    "storms['status'] = storms['status'].astype('category')\n",
    "\n",
    "#Group by year and status, then compute the max wind speed in each group\n",
    "max_wind_by_year_status = (\n",
    "    storms.groupby(['year', 'status'], observed = True)['wind']\n",
    "    .max()\n",
    "    .reset_index(name='max_wind')\n",
    ")\n",
    "\n",
    "#Note: Groupby on a categorical will produce all combinations of year and every possible status ... even those that never actually occur, \n",
    "# to prevent this we set observed=True\n",
    "\n",
    "\n",
    "#Inspect the result\n",
    "print(max_wind_by_year_status.head(20))"
   ]
  },
  {
   "cell_type": "markdown",
   "id": "7312bd56-656d-4006-859c-a305a05e84a1",
   "metadata": {},
   "source": [
    "For each storm, summarize its average location in latitude / longitude coordinates."
   ]
  },
  {
   "cell_type": "code",
   "execution_count": 99,
   "id": "45ba1e31-5a9d-4297-96b5-d14287d95575",
   "metadata": {},
   "outputs": [
    {
     "name": "stdout",
     "output_type": "stream",
     "text": [
      "         name    avg_lat   avg_long\n",
      "0    AL011993  25.745455 -75.218182\n",
      "1    AL012000  20.850000 -93.100000\n",
      "2    AL021992  26.660000 -84.480000\n",
      "3    AL021994  33.616667 -79.733333\n",
      "4    AL021999  20.425000 -96.400000\n",
      "..        ...        ...        ...\n",
      "255     Vince  34.673333 -15.620000\n",
      "256     Wanda  38.405556 -48.566667\n",
      "257   Wilfred  12.723529 -34.982353\n",
      "258     Wilma  22.908333 -79.775000\n",
      "259      Zeta  23.824590 -60.547541\n",
      "\n",
      "[260 rows x 3 columns]\n"
     ]
    }
   ],
   "source": [
    "# Group by storm name and compute average latitude & longitude\n",
    "avg_location = (\n",
    "    storms.groupby('name', as_index=False)\n",
    "    .agg(\n",
    "        avg_lat=('lat', 'mean'),\n",
    "        avg_long=('long', 'mean')\n",
    "    )\n",
    ")\n",
    "\n",
    "# Inspect the result\n",
    "print(avg_location)"
   ]
  },
  {
   "cell_type": "markdown",
   "id": "9cb3d9bf-6413-42ec-8341-b8f2e23b1322",
   "metadata": {},
   "source": [
    "For each storm, summarize its duration in number of hours (to the nearest 6hr increment)."
   ]
  },
  {
   "cell_type": "code",
   "execution_count": 111,
   "id": "12ced6c5-4c2a-4edd-8784-99d131093d55",
   "metadata": {},
   "outputs": [
    {
     "name": "stdout",
     "output_type": "stream",
     "text": [
      "         name  duration_hours  duration_6hr_increment\n",
      "0    AL011993            60.0                    60.0\n",
      "1    AL012000            18.0                    18.0\n",
      "2    AL021992            24.0                    24.0\n",
      "3    AL021994            24.0                    24.0\n",
      "4    AL021999            12.0                    12.0\n",
      "..        ...             ...                     ...\n",
      "255     Vince            78.0                    78.0\n",
      "256     Wanda           318.0                   318.0\n",
      "257   Wilfred            96.0                    96.0\n",
      "258     Wilma           264.0                   264.0\n",
      "259      Zeta        130032.0                130032.0\n",
      "\n",
      "[260 rows x 3 columns]\n"
     ]
    }
   ],
   "source": [
    "#Create a datetime column from year, month, day, hour\n",
    "storms['datetime'] = pd.to_datetime(\n",
    "    dict(\n",
    "        year=storms['year'],\n",
    "        month=storms['month'],\n",
    "        day=storms['day'],\n",
    "        hour=storms['hour']\n",
    "    )\n",
    ")\n",
    "\n",
    "#For each storm, find the earliest and latest observation\n",
    "duration = (\n",
    "      storms.groupby('name', as_index=False)\n",
    "      .agg(\n",
    "        first_datetime=('datetime', 'min'),\n",
    "        last_datetime=('datetime', 'max')\n",
    "    )\n",
    ")\n",
    "\n",
    "#Compute duration in hours\n",
    "duration['duration_hours'] = (\n",
    "    (duration['last_datetime'] - duration['first_datetime']).dt.total_seconds() / 3600\n",
    ")\n",
    ")\n",
    "\n",
    "#Round to the nearest 6‑hour increment\n",
    "duration['duration_6hr_increment'] = \n",
    "\n",
    "# Select the summary columns\n",
    "storm_durations = \n",
    "\n",
    "#Inspect the result\n",
    "print(storm_durations)"
   ]
  },
  {
   "cell_type": "markdown",
   "id": "503a0fa7-11ae-40a3-8a6b-0da25c899a34",
   "metadata": {},
   "source": [
    "For storm in a category, create a variable `storm_number` that enumerates the storms 1, 2, ... (in date order)."
   ]
  },
  {
   "cell_type": "code",
   "execution_count": 113,
   "id": "f3685ee9-4f30-46a4-854c-68ae02483184",
   "metadata": {},
   "outputs": [
    {
     "name": "stdout",
     "output_type": "stream",
     "text": [
      "        name          start_time  storm_category  storm_number\n",
      "60   Blanche 1975-07-24 00:00:00               1             1\n",
      "64   Candice 1976-08-18 12:00:00               1             2\n",
      "144    Holly 1976-10-22 18:00:00               1             3\n",
      "52      Babe 1977-09-03 06:00:00               1             4\n",
      "71     Clara 1977-09-05 12:00:00               1             5\n",
      "89   Dorothy 1977-09-26 18:00:00               1             6\n",
      "106   Evelyn 1977-10-13 18:00:00               1             7\n",
      "74      Cora 1978-08-07 12:00:00               1             8\n",
      "181   Kendra 1978-10-28 18:00:00               1             9\n",
      "142    Henri 1979-09-15 00:00:00               1            10\n",
      "         name  category            datetime  storm_number\n",
      "0         Amy      <NA> 1975-06-27 00:00:00           NaN\n",
      "1         Amy      <NA> 1975-06-27 06:00:00           NaN\n",
      "2         Amy      <NA> 1975-06-27 12:00:00           NaN\n",
      "3         Amy      <NA> 1975-06-27 18:00:00           NaN\n",
      "4         Amy      <NA> 1975-06-28 00:00:00           NaN\n",
      "...       ...       ...                 ...           ...\n",
      "19532  Nicole      <NA> 2022-11-10 19:00:00          37.0\n",
      "19533  Nicole      <NA> 2022-11-11 00:00:00          37.0\n",
      "19534  Nicole      <NA> 2022-11-11 06:00:00          37.0\n",
      "19535  Nicole      <NA> 2022-11-11 12:00:00          37.0\n",
      "19536  Nicole      <NA> 2022-11-11 18:00:00          37.0\n",
      "\n",
      "[19513 rows x 4 columns]\n",
      "         name  category            datetime  storm_number\n",
      "0         Amy      <NA> 1975-06-27 00:00:00           NaN\n",
      "1         Amy      <NA> 1975-06-27 06:00:00           NaN\n",
      "2         Amy      <NA> 1975-06-27 12:00:00           NaN\n",
      "3         Amy      <NA> 1975-06-27 18:00:00           NaN\n",
      "4         Amy      <NA> 1975-06-28 00:00:00           NaN\n",
      "...       ...       ...                 ...           ...\n",
      "19532  Nicole      <NA> 2022-11-10 19:00:00          37.0\n",
      "19533  Nicole      <NA> 2022-11-11 00:00:00          37.0\n",
      "19534  Nicole      <NA> 2022-11-11 06:00:00          37.0\n",
      "19535  Nicole      <NA> 2022-11-11 12:00:00          37.0\n",
      "19536  Nicole      <NA> 2022-11-11 18:00:00          37.0\n",
      "\n",
      "[19537 rows x 4 columns]\n"
     ]
    }
   ],
   "source": [
    "#Load the storms data\n",
    "url = (\n",
    "    \"https://raw.githubusercontent.com/\"\n",
    "    \"tidyverse/dplyr/master/data-raw/storms.csv\"\n",
    ")\n",
    "storms = pd.read_csv(url)\n",
    "\n",
    "#Coerce category to numeric (so blanks → NaN) and drop storms with no category\n",
    "storms['category'] = pd.to_numeric(storms['category'], errors='coerce').astype('Int64')\n",
    "\n",
    "#Build a datetime column for ordering\n",
    "storms['datetime'] = pd.to_datetime(\n",
    "    dict(\n",
    "        year=storms['year'],\n",
    "        month=storms['month'],\n",
    "        day=storms['day'],\n",
    "        hour=storms['hour']\n",
    "    )\n",
    ")\n",
    "\n",
    "#Summarize each storm’s start time and its (max) category\n",
    "storm_meta = (\n",
    "    storms\n",
    "    .groupby('name', as_index=False)\n",
    "    .agg(\n",
    "        start_time    = ('datetime', 'min'),\n",
    "        storm_category= ('category','max')\n",
    "    )\n",
    "    # drop any storms that never reached a hurricane category\n",
    "    .dropna(subset=['storm_category'])\n",
    ")\n",
    "storm_meta['storm_category'] = storm_meta['storm_category'].astype(int)\n",
    "\n",
    "#Sort by category, then by start_time\n",
    "storm_meta = storm_meta.sort_values(['storm_category','start_time'])\n",
    "\n",
    "#Within each category, enumerate storms in date order\n",
    "storm_meta['storm_number'] = storm_meta.groupby('storm_category').cumcount() + 1\n",
    "\n",
    "#Merge the storm_number back onto every observation\n",
    "storms = storms.merge(\n",
    "    storm_meta[['name','storm_number']],\n",
    "    on='name',\n",
    "    how='left'\n",
    ")\n",
    "\n",
    "#Now `storms` has a `storm_number` column that runs 1,2,3… within each category\n",
    "#Verify:\n",
    "print(storm_meta.head(10))\n",
    "print(storms[['name','category','datetime','storm_number']].drop_duplicates())\n",
    "print(storms[['name','category','datetime','storm_number']])"
   ]
  },
  {
   "cell_type": "markdown",
   "id": "fdc9c7da-7c69-46e8-a305-c41a6905ddd0",
   "metadata": {},
   "source": [
    "Convert year, month, day, hour into the variable `timestamp` using the `lubridate` package. Although the new package `clock` just came out, `lubridate` still seems to be standard. Next year I'll probably switch the class to be using `clock`."
   ]
  },
  {
   "cell_type": "code",
   "execution_count": 127,
   "id": "73cfac8d-a601-482d-8ba7-63b2e85193bf",
   "metadata": {},
   "outputs": [
    {
     "name": "stdout",
     "output_type": "stream",
     "text": [
      "   year  month  day  hour           timestamp\n",
      "0  1975      6   27     0 1975-06-27 00:00:00\n",
      "1  1975      6   27     6 1975-06-27 06:00:00\n",
      "2  1975      6   27    12 1975-06-27 12:00:00\n",
      "3  1975      6   27    18 1975-06-27 18:00:00\n",
      "4  1975      6   28     0 1975-06-28 00:00:00\n"
     ]
    }
   ],
   "source": [
    "#Use pandas' to_datetime on a dict of the separate columns\n",
    "storms['timestamp'] = pd.to_datetime({\n",
    "    'year': storms['year'],\n",
    "    'month': storms['month'],\n",
    "    'day': storms['day'],\n",
    "    'hour': storms['hour']\n",
    "})\n",
    "\n",
    "#Verify\n",
    "print(storms[['year','month','day','hour','timestamp']].head())"
   ]
  },
  {
   "cell_type": "markdown",
   "id": "719023d4-fe90-47f6-bbe1-7f5e9f3e9eea",
   "metadata": {},
   "source": [
    "Create new variables `day_of_week` which is a factor with levels \"Sunday\", \"Monday\", ... \"Saturday\" and `week_of_year` which is integer 1, 2, ..., 52."
   ]
  },
  {
   "cell_type": "code",
   "execution_count": 117,
   "id": "d520b495-fc51-4ade-a9ef-9c8a7d6494a2",
   "metadata": {},
   "outputs": [
    {
     "name": "stdout",
     "output_type": "stream",
     "text": [
      "            timestamp day_of_week  week_of_year\n",
      "0 1975-06-27 00:00:00      Friday            26\n",
      "1 1975-06-27 06:00:00      Friday            26\n",
      "2 1975-06-27 12:00:00      Friday            26\n",
      "3 1975-06-27 18:00:00      Friday            26\n",
      "4 1975-06-28 00:00:00    Saturday            26\n"
     ]
    }
   ],
   "source": [
    "#Create day_of_week as an ordered categorical (Sunday → Saturday)\n",
    "dow_order = ['Sunday', 'Monday', 'Tuesday', 'Wednesday', 'Thursday', 'Friday', 'Saturday']\n",
    "storms['day_of_week'] = pd.Categorical(\n",
    "    storms['timestamp'].dt.day_name(), categories = dow_order, ordered = True\n",
    ")\n",
    "\n",
    "# Create week_of_year as the ISO week number (1–52/53)\n",
    "storms['week_of_year'] = storms['timestamp'].dt.isocalendar().week\n",
    "\n",
    "#Verify\n",
    "print(storms[['timestamp','day_of_week','week_of_year']].head())"
   ]
  },
  {
   "cell_type": "markdown",
   "id": "ba161b03-d05d-471f-8ee2-9e35cdad793b",
   "metadata": {},
   "source": [
    "For each storm, summarize the day in which is started in the following format \"Friday, June 27, 1975\"."
   ]
  },
  {
   "cell_type": "code",
   "execution_count": 125,
   "id": "13aee056-e65c-4f56-a829-faf16a2797ab",
   "metadata": {},
   "outputs": [
    {
     "name": "stdout",
     "output_type": "stream",
     "text": [
      "       name                 start_day\n",
      "0  AL011993      Monday, May 31, 1993\n",
      "1  AL012000   Wednesday, June 7, 2000\n",
      "2  AL021992   Thursday, June 25, 1992\n",
      "3  AL021994  Wednesday, July 20, 1994\n",
      "4  AL021999      Friday, July 2, 1999\n"
     ]
    }
   ],
   "source": [
    "#For each storm, find its start time (earliest timestamp)\n",
    "start_times = storms.groupby('name', as_index=False)['timestamp'].min()\n",
    "\n",
    "#Format that start_time into \"Friday, June 27, 1975\"\n",
    "start_times['start_day'] = (\n",
    "    start_times['timestamp'].dt.day_name() + \", \"\n",
    "    + start_times['timestamp'].dt.month_name() + \" \"\n",
    "    + start_times['timestamp'].dt.day.astype(str) + \", \"\n",
    "    + start_times['timestamp'].dt.year.astype(str)\n",
    ")\n",
    "\n",
    "#Inspect the result\n",
    "print(start_times[['name', 'start_day']].head())"
   ]
  },
  {
   "cell_type": "markdown",
   "id": "42601271-2b69-424a-b780-f4b2909e96a1",
   "metadata": {},
   "source": [
    "Create a new factor variable `decile_windspeed` by binning wind speed into 10 bins."
   ]
  },
  {
   "cell_type": "code",
   "execution_count": 131,
   "id": "68f40799-e19a-40c3-a6cb-33dd8f1b6412",
   "metadata": {},
   "outputs": [
    {
     "name": "stdout",
     "output_type": "stream",
     "text": [
      "   wind decile_windspeed\n",
      "0    25                1\n",
      "1    25                1\n",
      "2    25                1\n",
      "3    25                1\n",
      "4    25                1\n",
      "5    25                1\n",
      "6    25                1\n",
      "7    30                2\n",
      "8    35                3\n",
      "9    40                4\n"
     ]
    }
   ],
   "source": [
    "# Create decile labels 1–10, pd.qcut will bin into 10 quantile‐based groups\n",
    "storms['decile_windspeed'] = pd.qcut(storms['wind'], 10, labels = False) + 1\n",
    "\n",
    "\n",
    "#Convert to a categorical dtype (ordered)\n",
    "storms['decile_windspeed'] = pd.Categorical(\n",
    "    storms['decile_windspeed'], \n",
    "    categories = range(1, 11), \n",
    "    ordered = True\n",
    ")\n",
    "\n",
    "#Verify\n",
    "print(storms[['wind', 'decile_windspeed']].head(10))"
   ]
  },
  {
   "cell_type": "markdown",
   "id": "0c8faa5c-eab0-4905-89e9-65445f66bbb4",
   "metadata": {},
   "source": [
    "Create a new data frame `serious_storms` which are category 3 and above hurricanes."
   ]
  },
  {
   "cell_type": "code",
   "execution_count": 133,
   "id": "bbaa7807-4634-46a6-a5be-c1e14d3bc47c",
   "metadata": {},
   "outputs": [
    {
     "name": "stdout",
     "output_type": "stream",
     "text": [
      "Found 1262 category 3+ storms\n",
      "         name     status  category  wind\n",
      "77   Caroline  hurricane         3   100\n",
      "78   Caroline  hurricane         3   100\n",
      "152    Eloise  hurricane         3   105\n",
      "153    Eloise  hurricane         3   110\n",
      "215    Gladys  hurricane         3   100\n"
     ]
    }
   ],
   "source": [
    "#Coerce 'category' to numeric so that non‑hurricanes become NaN\n",
    "storms['category'] = pd.to_numeric(storms['category'], errors='coerce')\n",
    "\n",
    "#Filter to only category 3, 4, or 5 storms\n",
    "serious_storms = storms[storms['category'].isin([3, 4, 5])]\n",
    "\n",
    "#Inspect\n",
    "print(f\"Found {serious_storms.shape[0]} category 3+ storms\")\n",
    "print(serious_storms[['name','status','category','wind']].head())"
   ]
  },
  {
   "cell_type": "markdown",
   "id": "8b35aa63-43f9-4353-9c50-ed8ece17aeff",
   "metadata": {},
   "source": [
    "In `serious_storms`, merge the variables lat and long together into `lat_long` with values `lat / long` as a string."
   ]
  },
  {
   "cell_type": "code",
   "execution_count": 135,
   "id": "bb521f89-8484-4468-a3aa-1fe08be6d50f",
   "metadata": {},
   "outputs": [
    {
     "name": "stdout",
     "output_type": "stream",
     "text": [
      "      lat  long     lat_long\n",
      "77   24.0 -97.0  24.0, -97.0\n",
      "78   24.1 -97.5  24.1, -97.5\n",
      "152  28.4 -87.3  28.4, -87.3\n",
      "153  30.2 -86.3  30.2, -86.3\n",
      "215  31.0 -73.0  31.0, -73.0\n"
     ]
    },
    {
     "name": "stderr",
     "output_type": "stream",
     "text": [
      "C:\\Users\\polye\\AppData\\Local\\Temp\\ipykernel_43472\\4291126853.py:2: SettingWithCopyWarning: \n",
      "A value is trying to be set on a copy of a slice from a DataFrame.\n",
      "Try using .loc[row_indexer,col_indexer] = value instead\n",
      "\n",
      "See the caveats in the documentation: https://pandas.pydata.org/pandas-docs/stable/user_guide/indexing.html#returning-a-view-versus-a-copy\n"
     ]
    }
   ],
   "source": [
    "# 1. Merge lat & long into a single string column \"lat_long\"\n",
    "serious_storms['lat_long'] = (\n",
    "     serious_storms['lat'].astype(str) + \", \" + serious_storms['long'].astype(str)\n",
    ")\n",
    "\n",
    "# 2. Inspect the new column\n",
    "print(serious_storms[['lat', 'long', 'lat_long']].head())"
   ]
  },
  {
   "cell_type": "markdown",
   "id": "498023d2-3106-48b5-a275-fd804edede03",
   "metadata": {},
   "source": [
    "Let's return now to the original storms data frame. For each category, find the average wind speed, pressure and diameters (do not count the NA's in your averaging)."
   ]
  },
  {
   "cell_type": "code",
   "execution_count": 137,
   "id": "241e6e7f-d942-4b34-9c9b-2b694feaad83",
   "metadata": {},
   "outputs": [
    {
     "name": "stdout",
     "output_type": "stream",
     "text": [
      "   category    avg_wind  avg_pressure  avg_tropicalstorm_diameter  \\\n",
      "0         1   70.973312    981.198980                  247.917821   \n",
      "1         2   89.456193    967.311178                  254.631336   \n",
      "2         3  104.300169    954.531197                  260.927835   \n",
      "3         4  121.844485    940.019892                  268.148148   \n",
      "4         5  146.465517    918.172414                  260.307692   \n",
      "\n",
      "   avg_hurricane_diameter  \n",
      "0               49.699908  \n",
      "1               70.737327  \n",
      "2               74.965636  \n",
      "3               81.481481  \n",
      "4               90.692308  \n"
     ]
    }
   ],
   "source": [
    "#Ensure 'category' is numeric (so non‑hurricanes become NaN)\n",
    "storms['category'] = pd.to_numeric(storms['category'], errors='coerce')\n",
    "\n",
    "#Drop rows with missing category (so we only average actual Saffir–Simpson categories)\n",
    "storms_cat = storms.dropna(subset=['category'])\n",
    "\n",
    "#Group by category and compute means (skipna=True by default)\n",
    "category_summary = (\n",
    "    storms_cat.groupby('category', as_index=False)\n",
    "    .agg(\n",
    "        avg_wind=('wind', 'mean'),\n",
    "        avg_pressure=('pressure', 'mean'),\n",
    "        avg_tropicalstorm_diameter=('tropicalstorm_force_diameter', 'mean'),\n",
    "        avg_hurricane_diameter=('hurricane_force_diameter', 'mean')\n",
    "    )\n",
    ")\n",
    "\n",
    "# 5. View the result\n",
    "print(category_summary)"
   ]
  },
  {
   "cell_type": "markdown",
   "id": "20a047ca-db58-49bf-a00d-7b7bf16fddca",
   "metadata": {},
   "source": [
    "For each named storm, find its maximum category, wind speed, pressure and diameters (do not allow the max to be NA) and the number of readings (i.e. observations)."
   ]
  },
  {
   "cell_type": "code",
   "execution_count": 139,
   "id": "2f85adb0-b9d9-4e74-944b-5f0de78c1b2f",
   "metadata": {},
   "outputs": [
    {
     "name": "stdout",
     "output_type": "stream",
     "text": [
      "     name  max_category  max_wind  max_pressure  max_tropicalstorm_diameter  \\\n",
      "0    Alex             3       105           986                       380.0   \n",
      "1  Arthur             2        85           987                       220.0   \n",
      "2   Barry             1        65           993                       220.0   \n",
      "3  Bertha             3       110          1001                       330.0   \n",
      "4   Beryl             1        70           995                        50.0   \n",
      "\n",
      "   max_hurricane_diameter  n_readings  \n",
      "0                    70.0          26  \n",
      "1                    90.0          11  \n",
      "2                    40.0           2  \n",
      "3                    75.0          34  \n",
      "4                    10.0           5  \n"
     ]
    }
   ],
   "source": [
    "import pandas as pd\n",
    "\n",
    "# 1. Load the raw storms data\n",
    "url = \"https://raw.githubusercontent.com/tidyverse/dplyr/master/data-raw/storms.csv\"\n",
    "storms = pd.read_csv(url)\n",
    "\n",
    "# 2. Coerce category to numeric (bad/missing → NaN)\n",
    "storms['category'] = pd.to_numeric(storms['category'], errors='coerce')\n",
    "\n",
    "# 3. Drop any rows where category, wind, pressure or either diameter is missing\n",
    "cols_to_keep = [\n",
    "    'category',\n",
    "    'wind',\n",
    "    'pressure',\n",
    "    'tropicalstorm_force_diameter',\n",
    "    'hurricane_force_diameter'\n",
    "]\n",
    "storms_clean = storms.dropna(subset=cols_to_keep)\n",
    "\n",
    "# 4. Now summarize per storm\n",
    "summary = storms_clean.groupby('name', as_index=False).agg(\n",
    "    max_category                 = ('category',                   'max'),\n",
    "    max_wind                     = ('wind',                       'max'),\n",
    "    max_pressure                 = ('pressure',                   'max'),\n",
    "    max_tropicalstorm_diameter   = ('tropicalstorm_force_diameter','max'),\n",
    "    max_hurricane_diameter       = ('hurricane_force_diameter',   'max'),\n",
    "    n_readings                   = ('name',                       'size')\n",
    ")\n",
    "\n",
    "# 5. If you want max_category as an integer:\n",
    "summary['max_category'] = summary['max_category'].astype(int)\n",
    "\n",
    "print(summary.head())"
   ]
  },
  {
   "cell_type": "markdown",
   "id": "bbd0e134-917f-42b4-a651-32285a95bacb",
   "metadata": {},
   "source": [
    "Calculate the distance from each storm observation to Miami in a new variable `distance_to_miami`. This is very challenging. You will need a function that computes distances from two sets of latitude / longitude coordinates. "
   ]
  },
  {
   "cell_type": "code",
   "execution_count": 159,
   "id": "2b7d87e7-2e9e-4a93-88a5-4b57e737a426",
   "metadata": {},
   "outputs": [
    {
     "name": "stdout",
     "output_type": "stream",
     "text": [
      "       lat  long  distance_to_miami_km  distance_to_miami_miles\n",
      "4544  21.5 -84.0            612.327259               380.482401\n",
      "4545  22.3 -82.0            426.463782               264.992226\n",
      "4546  23.2 -80.3            285.058364               177.127001\n",
      "4547  24.5 -79.0            184.597270               114.703390\n",
      "4548  25.4 -77.5            272.948805               169.602472\n"
     ]
    }
   ],
   "source": [
    "#Define a vectorized Haversine function (returns distance in kilometers)\n",
    "def haversine(lat1, lon1, lat2, lon2):\n",
    "    \"\"\"\n",
    "    Calculate the great‐circle distance between two points \n",
    "    on the Earth (specified in decimal degrees) using the Haversine formula.\n",
    "    \"\"\"\n",
    "    # convert decimal degrees to radians \n",
    "    φ1, φ2 = np.radians(lat1), np.radians(lat2)\n",
    "    Δφ    = np.radians(lat2 - lat1)\n",
    "    Δλ    = np.radians(lon2 - lon1)\n",
    "\n",
    "    a = np.sin(Δφ/2)**2 + np.cos(φ1) * np.cos(φ2) * np.sin(Δλ/2)**2\n",
    "    c = 2 * np.arctan2(np.sqrt(a), np.sqrt(1 - a))\n",
    "    R = 6371  # Earth radius in kilometers\n",
    "    return R * c\n",
    "\n",
    "# 3. Miami’s coordinates\n",
    "miami_lat, miami_lon = 25.7617, -80.1918\n",
    "\n",
    "# 4. Compute distance for every observation\n",
    "storms['distance_to_miami_km'] = haversine(\n",
    "    storms['lat'], storms['long'], miami_lat, miami_lon\n",
    ")\n",
    "\n",
    "#also in miles\n",
    "storms['distance_to_miami_miles'] = storms['distance_to_miami_km'] * 0.621371\n",
    "\n",
    "# 5. Verify\n",
    "print(storms[['lat','long','distance_to_miami_km','distance_to_miami_miles']].head())"
   ]
  },
  {
   "cell_type": "markdown",
   "id": "ef0731ce-dfc4-49ef-9f70-ecdbf0534a23",
   "metadata": {},
   "source": [
    "For each storm observation, use the function from the previous question to calculate the distance it moved since the previous observation."
   ]
  },
  {
   "cell_type": "code",
   "execution_count": 161,
   "id": "218aca14-3aa8-4b8f-9f0d-3a9091e94fe0",
   "metadata": {},
   "outputs": [
    {
     "name": "stdout",
     "output_type": "stream",
     "text": [
      "          name           timestamp  prev_lat  prev_long  distance_moved_km\n",
      "4544  AL011993 1993-05-31 12:00:00       NaN        NaN           0.000000\n",
      "4545  AL011993 1993-05-31 18:00:00      21.5      -84.0         224.695997\n",
      "4546  AL011993 1993-06-01 00:00:00      22.3      -82.0         201.004929\n",
      "4547  AL011993 1993-06-01 06:00:00      23.2      -80.3         195.892183\n",
      "4548  AL011993 1993-06-01 12:00:00      24.5      -79.0         181.338354\n"
     ]
    }
   ],
   "source": [
    "#Create a proper timestamp for ordering\n",
    "storms['timestamp'] = pd.to_datetime({\n",
    "    'year':  storms['year'],\n",
    "    'month': storms['month'],\n",
    "    'day':   storms['day'],\n",
    "    'hour':  storms['hour']\n",
    "})\n",
    "\n",
    "#Sort by storm name and time\n",
    "storms = storms.sort_values(['name', 'timestamp'])\n",
    "\n",
    "#Shift lat/long within each storm to get the previous observation\n",
    "storms['prev_lat']  = storms.groupby('name')['lat'].shift(1)\n",
    "storms['prev_long'] = storms.groupby('name')['long'].shift(1)\n",
    "\n",
    "#Compute distance moved since the previous observation\n",
    "storms['distance_moved_km'] = haversine(\n",
    "    storms['prev_lat'], storms['prev_long'],\n",
    "    storms['lat'], storms['long']\n",
    ")\n",
    "\n",
    "#Fill NaN for the first observation of each storm with 0\n",
    "storms['distance_moved_km'] = storms['distance_moved_km'].fillna(0)\n",
    "\n",
    "#Inspect the result\n",
    "print(storms[['name','timestamp','prev_lat','prev_long','distance_moved_km']].head())"
   ]
  },
  {
   "cell_type": "markdown",
   "id": "c2527af0-4251-4277-a3a6-65a20acbf424",
   "metadata": {},
   "source": [
    "For each storm, find the total distance it moved over its observations and its total displacement. \"Distance\" is a scalar quantity that refers to \"how much ground an object has covered\" during its motion. \"Displacement\" is a vector quantity that refers to \"how far out of place an object is\"; it is the object's overall change in position."
   ]
  },
  {
   "cell_type": "code",
   "execution_count": 163,
   "id": "144ebdaa-a1d8-4bb4-a642-192b92a6e68e",
   "metadata": {},
   "outputs": [
    {
     "name": "stdout",
     "output_type": "stream",
     "text": [
      "       name  total_distance_km  displacement_km\n",
      "0  AL011993        2080.702366      2046.444227\n",
      "1  AL012000         104.913658        56.500155\n",
      "2  AL021992         539.215150       514.510712\n",
      "3  AL021994         394.607894       386.002387\n",
      "4  AL021999         249.502307       240.890168\n"
     ]
    }
   ],
   "source": [
    "#Compute distance moved between consecutive observations\n",
    "storms['prev_lat']  = storms.groupby('name')['lat'].shift(1)\n",
    "storms['prev_long'] = storms.groupby('name')['long'].shift(1)\n",
    "storms['distance_moved_km'] = haversine(\n",
    "    storms['prev_lat'], storms['prev_long'],\n",
    "    storms['lat'],        storms['long']\n",
    ").fillna(0)\n",
    "\n",
    "#Summarize per storm: total distance and displacement\n",
    "summary = (\n",
    "    storms\n",
    "    .groupby('name', as_index=False)\n",
    "    .agg(\n",
    "        total_distance_km = ('distance_moved_km', 'sum'),\n",
    "        start_lat         = ('lat',               'first'),\n",
    "        start_long        = ('long',              'first'),\n",
    "        end_lat           = ('lat',               'last'),\n",
    "        end_long          = ('long',              'last')\n",
    "    )\n",
    ")\n",
    "\n",
    "#Compute displacement (straight‐line distance from start to end)\n",
    "summary['displacement_km'] = haversine(\n",
    "    summary['start_lat'], summary['start_long'],\n",
    "    summary['end_lat'], summary['end_long']\n",
    ")\n",
    "\n",
    "#Drop the start/end coords if you only want the metrics\n",
    "storm_movement = summary[['name', 'total_distance_km', 'displacement_km']]\n",
    "\n",
    "print(storm_movement.head())"
   ]
  },
  {
   "cell_type": "markdown",
   "id": "9762059f-c0b2-4089-a111-4f799a86443e",
   "metadata": {},
   "source": [
    "For each storm observation, calculate the average speed the storm moved in location."
   ]
  },
  {
   "cell_type": "code",
   "execution_count": 167,
   "id": "952c2042-e1df-466f-b84a-c6efa0b59bf2",
   "metadata": {},
   "outputs": [
    {
     "name": "stdout",
     "output_type": "stream",
     "text": [
      "          name           timestamp  distance_km  time_diff_hr  avg_speed_kmh\n",
      "4544  AL011993 1993-05-31 12:00:00     0.000000           0.0       0.000000\n",
      "4545  AL011993 1993-05-31 18:00:00   224.695997           6.0      37.449333\n",
      "4546  AL011993 1993-06-01 00:00:00   201.004929           6.0      33.500822\n",
      "4547  AL011993 1993-06-01 06:00:00   195.892183           6.0      32.648697\n",
      "4548  AL011993 1993-06-01 12:00:00   181.338354           6.0      30.223059\n",
      "4549  AL011993 1993-06-01 18:00:00   187.205886           6.0      31.200981\n",
      "4550  AL011993 1993-06-02 00:00:00   191.286528           6.0      31.881088\n",
      "4551  AL011993 1993-06-02 06:00:00   249.507927           6.0      41.584655\n",
      "4552  AL011993 1993-06-02 12:00:00   197.945985           6.0      32.990998\n",
      "4553  AL011993 1993-06-02 18:00:00   205.607405           6.0      34.267901\n"
     ]
    }
   ],
   "source": [
    "#Compute distance moved between consecutive observations\n",
    "storms['prev_lat'] = storms.groupby('name')['lat'].shift(1)\n",
    "storms['prev_long'] = storms.groupby('name')['long'].shift(1)\n",
    "storms['distance_km'] = haversine(\n",
    "    storms['prev_lat'], storms['prev_long'],\n",
    "    storms['lat'], storms['long']\n",
    ").fillna(0)\n",
    "\n",
    "#Compute time difference (in hours) since previous observation\n",
    "storms['prev_time'] = storms.groupby('name')['timestamp'].shift(1)\n",
    "storms['time_diff_hr'] = (storms['timestamp'] - storms['prev_time']).dt.total_seconds() / 3600\n",
    "storms['time_diff_hr'] = storms['time_diff_hr'].fillna(0)\n",
    "\n",
    "#Calculate average speed (km/h) for each observation\n",
    "storms['avg_speed_kmh'] = storms['distance_km'] / storms['time_diff_hr']\n",
    "\n",
    "#Handle the first observation of each storm (where time_diff_hr is 0)\n",
    "storms.loc[storms['time_diff_hr'] == 0, 'avg_speed_kmh'] = 0\n",
    "\n",
    "# Inspect the result\n",
    "print(storms[['name','timestamp','distance_km','time_diff_hr','avg_speed_kmh']].head(10))"
   ]
  },
  {
   "cell_type": "markdown",
   "id": "d246c8a1-58dd-4cb5-a407-7b04deddccd4",
   "metadata": {},
   "source": [
    "For each storm, calculate its average ground speed (how fast its eye is moving which is different from windspeed around the eye)."
   ]
  },
  {
   "cell_type": "code",
   "execution_count": 169,
   "id": "794dc7d6-cce5-4a32-9a74-172f3674f632",
   "metadata": {},
   "outputs": [
    {
     "name": "stdout",
     "output_type": "stream",
     "text": [
      "       name  avg_ground_speed_kmh\n",
      "0  AL011993             34.678373\n",
      "1  AL012000              5.828537\n",
      "2  AL021992             22.467298\n",
      "3  AL021994             16.441996\n",
      "4  AL021999             20.791859\n"
     ]
    }
   ],
   "source": [
    "#Group by storm name and sum distance and time\n",
    "storm_movement = (\n",
    "    storms.groupby('name', as_index=False)\n",
    "    .agg(\n",
    "        total_distance_km = ('distance_km', 'sum'),\n",
    "        total_time_hr = ('time_diff_hr', 'sum')\n",
    "    )\n",
    ")\n",
    "\n",
    "#Compute average ground speed (km/h)\n",
    "storm_movement['avg_ground_speed_kmh'] = (\n",
    "    storm_movement['total_distance_km'] / storm_movement['total_time_hr']\n",
    ")\n",
    "\n",
    "#Handle storms with only one observation (total_time_hr = 0)\n",
    "storm_movement.loc[storm_movement['total_time_hr'] == 0, 'avg_ground_speed_kmh'] = 0\n",
    "  \n",
    "#Inspect the result\n",
    "print(storm_movement[['name', 'avg_ground_speed_kmh']].head())"
   ]
  },
  {
   "cell_type": "markdown",
   "id": "0f5be41e-99f1-4642-bbe9-9385314c9b85",
   "metadata": {},
   "source": [
    "Is there a relationship between average ground speed and maximum category attained? Use a dataframe summary (not a regression)."
   ]
  },
  {
   "cell_type": "code",
   "execution_count": 171,
   "id": "c1ee75a4-d72f-4921-8087-dc249a1d3489",
   "metadata": {},
   "outputs": [
    {
     "name": "stdout",
     "output_type": "stream",
     "text": [
      "   max_category  avg_speed\n",
      "0             0  16.534196\n",
      "1             1  11.403669\n",
      "2             2  10.135244\n",
      "3             3   3.697033\n",
      "4             4   6.742332\n",
      "5             5   9.255917\n"
     ]
    }
   ],
   "source": [
    "#Compute maximum category per storm ---\n",
    "storms['category'] = pd.to_numeric(storms['category'], errors='coerce').astype('Int64')\n",
    "max_cat = (\n",
    "    storms\n",
    "    .groupby('name', as_index=False)\n",
    "    .agg(max_category=('category', 'max'))\n",
    "    .fillna(0)\n",
    ")\n",
    "max_cat['max_category'] = max_cat['max_category'].astype(int)\n",
    "\n",
    "#Merge avg ground speed with max category ---\n",
    "df = (\n",
    "    storm_movement\n",
    "    .merge(max_cat, left_on='name', right_on='name', how='left')  \n",
    ")\n",
    "\n",
    "#Summarize relationship by max_category ---\n",
    "relationship_summary = (\n",
    "    df.groupby('max_category', as_index=False)\n",
    "    .agg(\n",
    "        avg_speed=('avg_ground_speed_kmh', 'mean')\n",
    "    )\n",
    ")\n",
    "\n",
    "print(relationship_summary)"
   ]
  },
  {
   "cell_type": "markdown",
   "id": "2497e888-f57b-429c-a088-54a56784161c",
   "metadata": {},
   "source": [
    "Now we want to transition to building real design matrices for prediction. This is more in tune with what happens in the real world. Large data dump and you convert it into $X$ and $y$ how you see fit.\n",
    "\n",
    "Suppose we wish to predict the following: given the first three readings of a storm, can you predict its maximum wind speed? Identify the `y` and identify which features you need $x_1, ... x_p$ and build that matrix with `dplyr` functions. This is not easy, but it is what it's all about. Feel free to \"featurize\" as creatively as you would like. You aren't going to overfit if you only build a few features relative to the total 198 storms."
   ]
  },
  {
   "cell_type": "code",
   "execution_count": 173,
   "id": "43acb482-33c9-49ed-8e35-089480a37167",
   "metadata": {},
   "outputs": [
    {
     "name": "stdout",
     "output_type": "stream",
     "text": [
      "X shape: (100, 6)\n",
      "y shape: (100,)\n",
      "\n",
      "First few rows of X:\n",
      "   wind_mean3  pressure_mean3  ts_diameter_mean3  hurr_diameter_mean3  \\\n",
      "0   80.000000      976.333333         141.666667            43.333333   \n",
      "1   71.666667      984.000000         140.000000            16.666667   \n",
      "2   81.666667      974.000000         160.000000            20.000000   \n",
      "3   68.333333      992.000000          50.000000            10.000000   \n",
      "4   73.333333      982.333333          96.666667            30.000000   \n",
      "\n",
      "   category_first  time_of_day_first_hr  \n",
      "0             1.0                     6  \n",
      "1             1.0                     0  \n",
      "2             1.0                     6  \n",
      "3             1.0                     6  \n",
      "4             1.0                     6  \n",
      "\n",
      "First few values of y:\n",
      "0    105\n",
      "1     85\n",
      "2    110\n",
      "3     70\n",
      "4    100\n",
      "Name: max_wind, dtype: int64\n"
     ]
    }
   ],
   "source": [
    "import pandas as pd\n",
    "import numpy as np\n",
    "\n",
    "#Load the raw storms data\n",
    "url = \"https://raw.githubusercontent.com/tidyverse/dplyr/master/data-raw/storms.csv\"\n",
    "storms = pd.read_csv(url)\n",
    "\n",
    "#Build a proper timestamp and coerce numeric columns\n",
    "storms['timestamp'] = pd.to_datetime({\n",
    "    'year':  storms['year'],\n",
    "    'month': storms['month'],\n",
    "    'day':   storms['day'],\n",
    "    'hour':  storms['hour']\n",
    "})\n",
    "storms['category'] = pd.to_numeric(storms['category'], errors='coerce')\n",
    "\n",
    "#Drop any observation missing category or either diameter\n",
    "storms_clean = storms.dropna(subset=[\n",
    "    'category',\n",
    "    'tropicalstorm_force_diameter',\n",
    "    'hurricane_force_diameter'\n",
    "]).copy()\n",
    "\n",
    "#Sort by storm name & time\n",
    "storms_clean = storms_clean.sort_values(['name','timestamp'])\n",
    "\n",
    "#Keep only storms with at least 3 readings\n",
    "counts = storms_clean.groupby('name').size()\n",
    "valid_storms = counts[counts >= 3].index\n",
    "storms_clean = storms_clean[storms_clean['name'].isin(valid_storms)]\n",
    "\n",
    "#Define the target y: maximum wind per storm\n",
    "y = (\n",
    "    storms_clean\n",
    "    .groupby('name')['wind']\n",
    "    .max()\n",
    "    .rename('max_wind')\n",
    ")\n",
    "\n",
    "#Feature engineering on the *first three* readings of each storm\n",
    "first3 = (\n",
    "    storms_clean\n",
    "    .groupby('name')\n",
    "    .head(3)\n",
    "    .reset_index(drop=True)\n",
    ")\n",
    "\n",
    "#Aggregate features from those first 3 readings\n",
    "features = (\n",
    "    first3\n",
    "    .groupby('name')\n",
    "    .agg(\n",
    "        wind_mean3            = ('wind',                         'mean'),\n",
    "        pressure_mean3        = ('pressure',                     'mean'),\n",
    "        ts_diameter_mean3     = ('tropicalstorm_force_diameter', 'mean'),\n",
    "        hurr_diameter_mean3   = ('hurricane_force_diameter',    'mean'),\n",
    "        category_first        = ('category',                     'first'),\n",
    "        time_of_day_first_hr  = ('timestamp', \n",
    "                                 lambda x: x.dt.hour.iloc[0])\n",
    "    )\n",
    ")\n",
    "\n",
    "#Merge X and y into one DataFrame\n",
    "data = features.merge(y, left_index=True, right_index=True)\n",
    "\n",
    "#Separate X and y\n",
    "X = data.drop(columns='max_wind')\n",
    "y = data['max_wind']\n",
    "\n",
    "#Reset index\n",
    "X = X.reset_index(drop=True)\n",
    "y = y.reset_index(drop=True)\n",
    "\n",
    "#Inspect shapes\n",
    "print(\"X shape:\", X.shape)\n",
    "print(\"y shape:\", y.shape)\n",
    "print(\"\\nFirst few rows of X:\")\n",
    "print(X.head())\n",
    "print(\"\\nFirst few values of y:\")\n",
    "print(y.head())"
   ]
  },
  {
   "cell_type": "markdown",
   "id": "f134581d-f3f2-455f-8566-7aba6a1ca2e7",
   "metadata": {},
   "source": [
    "Fit your model. Validate it."
   ]
  },
  {
   "cell_type": "code",
   "execution_count": 177,
   "id": "a27e0dd6-aea2-4cda-9bf8-3f8fa8bbb82e",
   "metadata": {},
   "outputs": [
    {
     "name": "stdout",
     "output_type": "stream",
     "text": [
      "Test MSE:  534.20\n",
      "Test R²:   -0.06\n",
      "\n",
      "5‑Fold CV results:\n",
      "Mean CV MSE:  573.46 ± 144.41\n",
      "Mean CV R²:   0.10 ± 0.13\n"
     ]
    }
   ],
   "source": [
    "from sklearn.model_selection import train_test_split, cross_val_score\n",
    "from sklearn.ensemble import RandomForestRegressor\n",
    "from sklearn.metrics import mean_squared_error, r2_score\n",
    "\n",
    "\n",
    "#Split into train & test sets\n",
    "X_train, X_test, y_train, y_test = train_test_split(X, y, test_size=0.2, random_state=42)\n",
    "\n",
    "#Instantiate the model\n",
    "model = RandomForestRegressor(\n",
    "    n_estimators = 100, \n",
    "    random_state = 1\n",
    ")\n",
    "\n",
    "#Fit on the training data\n",
    "model.fit(X_train, y_train)\n",
    "\n",
    "#Predict on the test set\n",
    "y_pred = model.predict(X_test)\n",
    "\n",
    "#Evaluate performance\n",
    "mse   = mean_squared_error(y_test, y_pred)\n",
    "r2    = r2_score(y_test, y_pred)\n",
    "print(f\"Test MSE:  {mse:.2f}\")\n",
    "print(f\"Test R²:   {r2:.2f}\")\n",
    "\n",
    "#Cross‑validate (5‑fold) on the full dataset. We'll look at both MSE and R²\n",
    "cv_mse_scores = -cross_val_score(\n",
    "    model, X, y, cv=5, scoring='neg_mean_squared_error'\n",
    ")\n",
    "cv_r2_scores  = cross_val_score(\n",
    "    model, X, y, cv=5, scoring='r2'\n",
    ")\n",
    "\n",
    "print(\"\\n5‑Fold CV results:\")\n",
    "print(f\"Mean CV MSE:  {cv_mse_scores.mean():.2f} ± {cv_mse_scores.std():.2f}\")\n",
    "print(f\"Mean CV R²:   {cv_r2_scores.mean():.2f} ± {cv_r2_scores.std():.2f}\")"
   ]
  },
  {
   "cell_type": "markdown",
   "id": "5a87e4fe-e067-4ca5-9c68-d6ebef8cb50d",
   "metadata": {},
   "source": [
    "Assess your level of success at this endeavor."
   ]
  },
  {
   "cell_type": "markdown",
   "id": "d50a1e10-6ecd-452b-844e-294c242ab729",
   "metadata": {},
   "source": [
    "We didn't do to well predicting since our R squared value is low. "
   ]
  },
  {
   "cell_type": "markdown",
   "id": "76e030ab-357f-4ed6-9fd3-737670d095b0",
   "metadata": {},
   "source": [
    "# More data munging with table joins"
   ]
  },
  {
   "cell_type": "markdown",
   "id": "9de3ea0f-82b8-41c5-8362-008c89a84985",
   "metadata": {},
   "source": [
    "We will be using the `storms` dataset from the `dplyr` package. Filter this dataset on all storms that have no missing measurements for the two diameter variables, \"tropicalstorm_force_diameter\" and \"hurricane_force_diameter\". Zeroes count as missing as well."
   ]
  },
  {
   "cell_type": "code",
   "execution_count": 179,
   "id": "54864ba1-f1ca-4207-8391-48e7e87ab3ea",
   "metadata": {},
   "outputs": [
    {
     "name": "stdout",
     "output_type": "stream",
     "text": [
      "Kept 2265 rows out of 19537\n",
      "   tropicalstorm_force_diameter  hurricane_force_diameter\n",
      "0                         130.0                      40.0\n",
      "1                         130.0                      40.0\n",
      "2                         165.0                      50.0\n",
      "3                         155.0                      55.0\n",
      "4                         195.0                      65.0\n"
     ]
    }
   ],
   "source": [
    "import pandas as pd\n",
    "\n",
    "#Load the storms data from dplyr’s GitHub\n",
    "url = (\n",
    "    \"https://raw.githubusercontent.com/\"\n",
    "    \"tidyverse/dplyr/master/data-raw/storms.csv\"\n",
    ")\n",
    "storms = pd.read_csv(url)\n",
    "\n",
    "#Filter out rows where either diameter is missing or zero\n",
    "filtered = storms.loc[\n",
    "    storms['tropicalstorm_force_diameter'].notna()\n",
    "    & (storms['tropicalstorm_force_diameter'] != 0)\n",
    "    & storms['hurricane_force_diameter'].notna()\n",
    "    & (storms['hurricane_force_diameter'] != 0)\n",
    "].reset_index(drop=True)\n",
    "\n",
    "#Inspect the result\n",
    "print(f\"Kept {len(filtered)} rows out of {len(storms)}\")\n",
    "print(filtered[['tropicalstorm_force_diameter','hurricane_force_diameter']].head())"
   ]
  },
  {
   "cell_type": "markdown",
   "id": "7af8ae9c-5b5b-41b8-987f-eaa1e3d74bdd",
   "metadata": {},
   "source": [
    "From this subset, create a data frame that only has storm name, observation period number for each storm (i.e., 1, 2, ..., T) and the \"tropicalstorm_force_diameter\" and \"hurricane_force_diameter\" metrics."
   ]
  },
  {
   "cell_type": "code",
   "execution_count": 181,
   "id": "cb355857-c610-4168-b3b6-036400605fb9",
   "metadata": {},
   "outputs": [
    {
     "name": "stdout",
     "output_type": "stream",
     "text": [
      "   name  period  tropicalstorm_force_diameter  hurricane_force_diameter\n",
      "0  Alex       1                         130.0                      40.0\n",
      "1  Alex       2                         130.0                      40.0\n",
      "2  Alex       3                         165.0                      50.0\n",
      "3  Alex       4                         155.0                      55.0\n",
      "4  Alex       5                         195.0                      65.0\n",
      "5  Alex       6                         195.0                      65.0\n",
      "6  Alex       7                         225.0                      65.0\n",
      "7  Alex       8                         225.0                      70.0\n",
      "8  Alex       9                         300.0                      70.0\n",
      "9  Alex      10                         380.0                      70.0\n"
     ]
    }
   ],
   "source": [
    "#Create a timestamp so we can order observations chronologically\n",
    "filtered['timestamp'] = pd.to_datetime({\n",
    "    'year':  filtered['year'],\n",
    "    'month': filtered['month'],\n",
    "    'day':   filtered['day'],\n",
    "    'hour':  filtered['hour']\n",
    "})\n",
    "\n",
    "#Sort by storm name and time\n",
    "filtered = filtered.sort_values(by=['name', 'timestamp'])\n",
    "\n",
    "#Assign an observation period number within each storm\n",
    "filtered['period'] = filtered.groupby('name').cumcount() + 1\n",
    "\n",
    "#Select only the desired columns\n",
    "result = filtered[[\n",
    "    'name',\n",
    "    'period',\n",
    "    'tropicalstorm_force_diameter',\n",
    "    'hurricane_force_diameter'\n",
    "]]\n",
    "\n",
    "#Inspect\n",
    "print(result.head(10))"
   ]
  },
  {
   "cell_type": "markdown",
   "id": "22c3600d-0612-463a-85a7-140697d4f6c1",
   "metadata": {},
   "source": [
    "Create a data frame in long format with columns \"diameter\" for the measurement and \"diameter_type\" which will be categorical taking on the values \"hu\" or \"ts\"."
   ]
  },
  {
   "cell_type": "code",
   "execution_count": 187,
   "id": "e53a1a0d-a7b6-49a3-a324-61c68f3ce5f8",
   "metadata": {},
   "outputs": [
    {
     "name": "stdout",
     "output_type": "stream",
     "text": [
      "   name  period diameter_type  diameter\n",
      "0  Alex       1            ts     130.0\n",
      "1  Alex       2            ts     130.0\n",
      "2  Alex       3            ts     165.0\n",
      "3  Alex       4            ts     155.0\n",
      "4  Alex       5            ts     195.0\n"
     ]
    }
   ],
   "source": [
    "#Melt into long format\n",
    "long_df = result.melt(\n",
    "    id_vars = ['name', 'period'], \n",
    "    value_vars = ['tropicalstorm_force_diameter', 'hurricane_force_diameter'],\n",
    "    var_name = 'diameter_type', \n",
    "    value_name = 'diameter'\n",
    ")\n",
    "\n",
    "# Map the column names to 'ts' and 'hu' and make it categorical\n",
    "long_df['diameter_type'] = long_df['diameter_type'].map({\n",
    "    'tropicalstorm_force_diameter': 'ts',\n",
    "    'hurricane_force_diameter':     'hu'\n",
    "}).astype(pd.CategoricalDtype(categories=['ts', 'hu']))\n",
    "\n",
    "# 4. Inspect\n",
    "print(long_df.head())"
   ]
  },
  {
   "cell_type": "markdown",
   "id": "93656f54-772d-480b-8fe9-e7d94695ad8a",
   "metadata": {},
   "source": [
    "Using this long-formatted data frame, use a line plot to illustrate both \"tropicalstorm_force_diameter\" and \"hurricane_force_diameter\" metrics by observation period for four random storms using a 2x2 faceting. The two diameters should appear in two different colors and there should be an appropriate legend."
   ]
  },
  {
   "cell_type": "code",
   "execution_count": 191,
   "id": "f24e5c0b-73b9-4aa0-b1c8-8c729a3a3c48",
   "metadata": {},
   "outputs": [
    {
     "name": "stderr",
     "output_type": "stream",
     "text": [
      "C:\\Users\\polye\\anaconda3\\Lib\\site-packages\\plotnine\\geoms\\geom_path.py:113: PlotnineWarning: geom_path: Each group consist of only one observation. Do you need to adjust the group aesthetic?\n"
     ]
    },
    {
     "data": {
      "image/png": "[encoded data removed]"
     },
     "metadata": {
      "image/png": {
       "height": 480,
       "width": 640
      }
     },
     "output_type": "display_data"
    }
   ],
   "source": [
    "from plotnine import ggplot, aes, geom_line, facet_wrap, labs, theme_minimal\n",
    "\n",
    "#Pick four random storms\n",
    "np.random.seed(42)\n",
    "storm_names = long_df['name'].unique()\n",
    "selected = np.random.choice(storm_names, 4, replace = False)\n",
    "\n",
    "#Subset to those four storms\n",
    "plot_df = long_df[long_df['name'].isin(selected)].copy()\n",
    "\n",
    "#Build the line‐plot with 2×2 faceting\n",
    "plot = (\n",
    "    ggplot(plot_df, aes(x='period', y='diameter',\n",
    "                        color='diameter_type',\n",
    "                        group='diameter_type')) + \n",
    "    geom_line() +\n",
    "    facet_wrap('~name', ncol=2) +\n",
    "    labs(\n",
    "        x='Observation Period',\n",
    "        y='Diameter (nautical miles)',\n",
    "        color='Diameter Type',\n",
    "        title='Tropical Storm vs Hurricane Force Diameters\\nOver Observation Period for Four Random Storms'\n",
    "    ) +\n",
    "    theme_minimal()\n",
    ")\n",
    "\n",
    "plot"
   ]
  }
 ],
 "metadata": {
  "kernelspec": {
   "display_name": "Python [conda env:base] *",
   "language": "python",
   "name": "conda-base-py"
  },
  "language_info": {
   "codemirror_mode": {
    "name": "ipython",
    "version": 3
   },
   "file_extension": ".py",
   "mimetype": "text/x-python",
   "name": "python",
   "nbconvert_exporter": "python",
   "pygments_lexer": "ipython3",
   "version": "3.12.7"
  }
 },
 "nbformat": 4,
 "nbformat_minor": 5
}
