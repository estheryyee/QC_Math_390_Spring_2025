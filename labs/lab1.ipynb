{
 "cells": [
  {
   "cell_type": "markdown",
   "metadata": {},
   "source": [
    "## Course Assignment Instructions\n",
    "You should have Python (version 3.8 or later) and Jupyter Notebook installed to complete this assignment. You will write code in the empty cell/cells below the problem. While most of this will be a programming assignment, some questions will ask you to \"write a few sentences\" in markdown cells. \n",
    "\n",
    "Submission Instructions:\n",
    "\n",
    "Create a labs directory in your personal class repository (e.g., located in your home directory)\n",
    "Clone the class repository\n",
    "Copy this Jupyter notebook file (.ipynb) into your repo/labs directory\n",
    "Make your edits, commit changes, and push to your repository\n",
    "All submissions must be pushed before the due date to avoid late penalties"
   ]
  },
  {
   "cell_type": "markdown",
   "metadata": {},
   "source": [
    "* Install the numpy, scipy, statsmodels, and pandas packages (we will be using these throughout the semester)"
   ]
  },
  {
   "cell_type": "code",
   "execution_count": 12,
   "metadata": {},
   "outputs": [
    {
     "name": "stdout",
     "output_type": "stream",
     "text": [
      "Requirement already satisfied: numpy in c:\\users\\polye\\anaconda3\\lib\\site-packages (1.26.4)\n",
      "Requirement already satisfied: scipy in c:\\users\\polye\\anaconda3\\lib\\site-packages (1.13.1)\n",
      "Requirement already satisfied: statsmodels in c:\\users\\polye\\anaconda3\\lib\\site-packages (0.14.2)\n",
      "Requirement already satisfied: pandas in c:\\users\\polye\\anaconda3\\lib\\site-packages (2.2.2)\n",
      "Requirement already satisfied: patsy>=0.5.6 in c:\\users\\polye\\anaconda3\\lib\\site-packages (from statsmodels) (0.5.6)\n",
      "Requirement already satisfied: packaging>=21.3 in c:\\users\\polye\\anaconda3\\lib\\site-packages (from statsmodels) (24.1)\n",
      "Requirement already satisfied: python-dateutil>=2.8.2 in c:\\users\\polye\\anaconda3\\lib\\site-packages (from pandas) (2.9.0.post0)\n",
      "Requirement already satisfied: pytz>=2020.1 in c:\\users\\polye\\anaconda3\\lib\\site-packages (from pandas) (2024.1)\n",
      "Requirement already satisfied: tzdata>=2022.7 in c:\\users\\polye\\anaconda3\\lib\\site-packages (from pandas) (2023.3)\n",
      "Requirement already satisfied: six in c:\\users\\polye\\anaconda3\\lib\\site-packages (from patsy>=0.5.6->statsmodels) (1.16.0)\n",
      "Note: you may need to restart the kernel to use updated packages.\n"
     ]
    }
   ],
   "source": [
    "pip install numpy scipy statsmodels pandas"
   ]
  },
  {
   "cell_type": "markdown",
   "metadata": {},
   "source": [
    "* Print out the numerical constant pi with ten digits after the decimal point using constant 'pi'. You will need to use the math module in python for this. "
   ]
  },
  {
   "cell_type": "code",
   "execution_count": 14,
   "metadata": {
    "colab": {
     "base_uri": "https://localhost:8080/"
    },
    "id": "bnvDOejmkGVm",
    "outputId": "4c897e58-b256-48ec-8dd4-6a6b1ba72114"
   },
   "outputs": [
    {
     "name": "stdout",
     "output_type": "stream",
     "text": [
      "3.141592653589793\n",
      "3.1415926536\n"
     ]
    }
   ],
   "source": [
    "import math\n",
    "\n",
    "print(math.pi)\n",
    "print(round(math.pi,10))"
   ]
  },
  {
   "cell_type": "markdown",
   "metadata": {
    "id": "Uavy5yJm7sLm"
   },
   "source": [
    "* Sum up the first 103 terms of the series 1 + 1/2 + 1/4 + 1/8 + ... use base python"
   ]
  },
  {
   "cell_type": "code",
   "execution_count": 16,
   "metadata": {
    "colab": {
     "base_uri": "https://localhost:8080/"
    },
    "id": "xRoIK9LW70-z",
    "outputId": "fb7d981e-d80e-4a2b-cb5a-9037d1a8bba9"
   },
   "outputs": [
    {
     "data": {
      "text/plain": [
       "2.0"
      ]
     },
     "execution_count": 16,
     "metadata": {},
     "output_type": "execute_result"
    }
   ],
   "source": [
    "sum(1/(2**i) for i in range (103)) "
   ]
  },
  {
   "cell_type": "markdown",
   "metadata": {},
   "source": [
    "using numpy"
   ]
  },
  {
   "cell_type": "code",
   "execution_count": 18,
   "metadata": {
    "colab": {
     "base_uri": "https://localhost:8080/"
    },
    "id": "rn-pDnETQO7H",
    "outputId": "64add9d3-6314-46fc-a953-60e628a5dcf6"
   },
   "outputs": [
    {
     "name": "stdout",
     "output_type": "stream",
     "text": [
      "2.0\n"
     ]
    }
   ],
   "source": [
    "import numpy as np\n",
    "\n",
    "total = sum(1/(2**i) for i in range (103)) \n",
    "print(total)"
   ]
  },
  {
   "cell_type": "markdown",
   "metadata": {
    "id": "oQEj31GARHuP"
   },
   "source": [
    " * The issue here arises because NumPy's 2 ** np.arange(103) may overflow for very large exponents, leading to incorrect results. NumPy uses fixed-precision data types, which can cause problems when dealing with extremely large numbers.  * The issue here arises because NumPy's 2 ** np.arange(103) may overflow for very large exponents, leading to incorrect results. NumPy uses fixed-precision data types, which can cause problems when dealing with extremely large numbers."
   ]
  },
  {
   "cell_type": "code",
   "execution_count": 20,
   "metadata": {
    "colab": {
     "base_uri": "https://localhost:8080/"
    },
    "id": "4znUgZRjQwoD",
    "outputId": "d580e891-8291-4c4e-9abe-ff987a806201"
   },
   "outputs": [
    {
     "name": "stdout",
     "output_type": "stream",
     "text": [
      "2.0\n"
     ]
    }
   ],
   "source": [
    "import numpy as np\n",
    "\n",
    "total = sum(1/(2**i) for i in range (103)) \n",
    "print(total)"
   ]
  },
  {
   "cell_type": "markdown",
   "metadata": {
    "id": "p7X2hTJWRtuo"
   },
   "source": [
    "* Find the product of the first 387 terms of `1 * 1/2 * 1/4 * 1/8 *` ..."
   ]
  },
  {
   "cell_type": "markdown",
   "metadata": {
    "id": "fy1ZDTxJSL7_"
   },
   "source": [
    "using base python"
   ]
  },
  {
   "cell_type": "code",
   "execution_count": 23,
   "metadata": {
    "colab": {
     "base_uri": "https://localhost:8080/"
    },
    "id": "jp0AKiCiRxB9",
    "outputId": "d025dd82-9434-463f-f228-9d42d15ef398"
   },
   "outputs": [
    {
     "name": "stdout",
     "output_type": "stream",
     "text": [
      "0.0\n"
     ]
    }
   ],
   "source": [
    "bar = 1\n",
    "for i in range(387):\n",
    "    bar *= 1/2**i\n",
    "print(bar)"
   ]
  },
  {
   "cell_type": "markdown",
   "metadata": {
    "id": "EPMSU8pySJtw"
   },
   "source": [
    "using numpy"
   ]
  },
  {
   "cell_type": "code",
   "execution_count": 25,
   "metadata": {
    "colab": {
     "base_uri": "https://localhost:8080/"
    },
    "id": "A2ctxQ1iRvG7",
    "outputId": "86d4b076-a029-4342-a1fb-6e1f0ac53c12"
   },
   "outputs": [
    {
     "name": "stdout",
     "output_type": "stream",
     "text": [
      "0.0\n"
     ]
    }
   ],
   "source": [
    "num = np.prod(1/(2.0**np.arange(387)))\n",
    "print(num)"
   ]
  },
  {
   "cell_type": "markdown",
   "metadata": {
    "id": "B4VQOLKYTPCj"
   },
   "source": [
    "Is this answer *exactly* correct?\n",
    "\n",
    "No, this answer is not exactly correct. The number should be positive although very small and the answer generated is a result of numerical underflow."
   ]
  },
  {
   "cell_type": "markdown",
   "metadata": {
    "id": "zFA5JJfzTJtX"
   },
   "source": [
    "* Figure out a means to express the answer more exactly. Not compute exactly, but express more exactly."
   ]
  },
  {
   "cell_type": "code",
   "execution_count": 28,
   "metadata": {
    "colab": {
     "base_uri": "https://localhost:8080/"
    },
    "id": "VIjX6xzAS-gf",
    "outputId": "9c704c4c-5656-4106-f969-0ebc7664222f"
   },
   "outputs": [
    {
     "name": "stdout",
     "output_type": "stream",
     "text": [
      "-51771.856063202875\n"
     ]
    }
   ],
   "source": [
    "import math as m\n",
    "\n",
    "num = -m.log(2)*sum(range(387))\n",
    "print(num)"
   ]
  },
  {
   "cell_type": "markdown",
   "metadata": {},
   "source": [
    "* using numpy ... Hint: use the `log` and `sum` functions in numpy"
   ]
  },
  {
   "cell_type": "code",
   "execution_count": 30,
   "metadata": {
    "colab": {
     "base_uri": "https://localhost:8080/"
    },
    "id": "GUqiwC3nS-oh",
    "outputId": "a98e5f2b-8391-40c6-a1a4-7535d1b971c9"
   },
   "outputs": [
    {
     "data": {
      "text/plain": [
       "-51771.856063202875"
      ]
     },
     "execution_count": 30,
     "metadata": {},
     "output_type": "execute_result"
    }
   ],
   "source": [
    "-np.log(2) * np.sum(np.arange(387))"
   ]
  },
  {
   "cell_type": "markdown",
   "metadata": {
    "id": "aykGSWDVVIkE"
   },
   "source": [
    "* Create the sequence `x = [Inf, 20, 18, ..., -20]`."
   ]
  },
  {
   "cell_type": "markdown",
   "metadata": {
    "id": "mLlQPD-VVCle"
   },
   "source": [
    "Pure python"
   ]
  },
  {
   "cell_type": "code",
   "execution_count": 33,
   "metadata": {
    "colab": {
     "base_uri": "https://localhost:8080/"
    },
    "id": "S8Mnf42kU5D3",
    "outputId": "b69d220c-b166-4f37-b013-067e1adaf73b"
   },
   "outputs": [
    {
     "name": "stdout",
     "output_type": "stream",
     "text": [
      "[inf, 20, 18, 16, 14, 12, 10, 8, 6, 4, 2, 0, -2, -4, -6, -8, -10, -12, -14, -16, -18, -20]\n"
     ]
    }
   ],
   "source": [
    "# Create the sequence\n",
    "x = [float('inf')] + list(range(20, -21, -2))\n",
    "\n",
    "# Print the result\n",
    "print(x)"
   ]
  },
  {
   "cell_type": "markdown",
   "metadata": {
    "id": "ANVsEVzkU_N6"
   },
   "source": [
    "Using numpy"
   ]
  },
  {
   "cell_type": "code",
   "execution_count": 35,
   "metadata": {
    "colab": {
     "base_uri": "https://localhost:8080/"
    },
    "id": "pi0uutpUU5NA",
    "outputId": "db7fab14-b6d7-4619-9527-3b2aee8be37a"
   },
   "outputs": [
    {
     "name": "stdout",
     "output_type": "stream",
     "text": [
      "[inf, 20, 18, 16, 14, 12, 10, 8, 6, 4, 2, 0, -2, -4, -6, -8, -10, -12, -14, -16, -18, -20]\n"
     ]
    }
   ],
   "source": [
    "# Create the sequence\n",
    "x = [float('inf')] + list(np.arange(20, -22, -2))\n",
    "\n",
    "# Print the result\n",
    "print(x)"
   ]
  },
  {
   "cell_type": "markdown",
   "metadata": {
    "id": "8cu3L5kJVNU3"
   },
   "source": [
    "*   Create the sequence `x = [log_3(Inf), log_3(100), log_3(98), ... log_3(-20)]` ... Use `log` from numpy."
   ]
  },
  {
   "cell_type": "code",
   "execution_count": 37,
   "metadata": {
    "colab": {
     "base_uri": "https://localhost:8080/"
    },
    "id": "vud6_UONVRH8",
    "outputId": "d659e652-a527-4661-d651-1c23b6b61e88"
   },
   "outputs": [
    {
     "name": "stdout",
     "output_type": "stream",
     "text": [
      "[inf, 4.19180654857877, 4.173417251894302, 4.154648767857287, 4.135485128951194, 4.115909337343186, 4.095903274289384, 4.07544759935851, 4.0545216380691365, 4.0331032563043365, 4.011168719591413, 3.9886925350037563, 3.9656472730442496, 3.9420033663892897, 3.9177288817897304, 3.892789260714372, 3.8671470234508067, 3.8407614303054807, 3.813588092215595, 3.785578521428744, 3.756679610828472, 3.7268330278608417, 3.6959745056821194, 3.6640330098757947, 3.6309297535714573, 3.5965770266157073, 3.5608767950073115, 3.5237190142858297, 3.4849795837717283, 3.4445178457870527, 3.4021735027328797, 3.357762781432299, 3.3110736128178324, 3.2618595071429146, 3.2098316767340234, 3.154648767857287, 3.0959032742893844, 3.033103256304337, 2.96564727304425, 2.8927892607143724, 2.8135880922155954, 2.7268330278608417, 2.630929753571457, 2.5237190142858297, 2.402173502732879, 2.2618595071429146, 2.095903274289385, 1.892789260714372, 1.6309297535714573, 1.2618595071429148, 0.6309297535714574]\n"
     ]
    }
   ],
   "source": [
    "import numpy as np \n",
    "\n",
    "x = [float('inf')] + list(np.log(np.arange(100, 0, -2)) / np.log(3))\n",
    "\n",
    "print(x)"
   ]
  },
  {
   "cell_type": "markdown",
   "metadata": {
    "id": "Zb1X0R2Nav9g"
   },
   "source": [
    "* Create a vector of booleans where the entry is true if `x[i]` is positive and finite. Use `&` from base python along with `isnan` and `isinfinite` from numpy"
   ]
  },
  {
   "cell_type": "code",
   "execution_count": 39,
   "metadata": {
    "colab": {
     "base_uri": "https://localhost:8080/"
    },
    "id": "4Q_oZqgGViSO",
    "outputId": "93139bc4-3567-4408-b40e-34fb7fccdc0b"
   },
   "outputs": [
    {
     "name": "stdout",
     "output_type": "stream",
     "text": [
      "[False  True  True  True  True  True  True  True  True  True  True  True\n",
      "  True  True  True  True  True  True  True  True  True  True  True  True\n",
      "  True  True  True  True  True  True  True  True  True  True  True  True\n",
      "  True  True  True  True  True  True  True  True  True  True  True  True\n",
      "  True  True  True]\n"
     ]
    }
   ],
   "source": [
    "x = np.array(x)\n",
    "y = ~np.isnan(x) & np.isfinite(x) & (x > 0)\n",
    "\n",
    "print(y)"
   ]
  },
  {
   "cell_type": "markdown",
   "metadata": {
    "id": "9mtTSGAua4kJ"
   },
   "source": [
    "* Locate the indices of the non-real numbers in this vector. Numpy has a `where` function in lieu of R's `which`"
   ]
  },
  {
   "cell_type": "code",
   "execution_count": 41,
   "metadata": {
    "colab": {
     "base_uri": "https://localhost:8080/"
    },
    "id": "ROPylzDFaQ6C",
    "outputId": "dc23b4b7-acc9-49af-b2d0-19eb5ead974c"
   },
   "outputs": [
    {
     "data": {
      "text/plain": [
       "(array([0], dtype=int64),)"
      ]
     },
     "execution_count": 41,
     "metadata": {},
     "output_type": "execute_result"
    }
   ],
   "source": [
    "np.where(y == False)"
   ]
  },
  {
   "cell_type": "markdown",
   "metadata": {
    "id": "b0UOuLWlbCrX"
   },
   "source": [
    "* Locate the indices of the infinite quantities in this vector using `where` and `isinf` from numpy."
   ]
  },
  {
   "cell_type": "code",
   "execution_count": 43,
   "metadata": {
    "colab": {
     "base_uri": "https://localhost:8080/"
    },
    "id": "qxleb46Kah7O",
    "outputId": "bebf0016-acce-4df3-9317-faa1613e8dad"
   },
   "outputs": [
    {
     "name": "stdout",
     "output_type": "stream",
     "text": [
      "(array([0], dtype=int64),)\n"
     ]
    }
   ],
   "source": [
    "inf_reals = np.where(np.isinf(x))\n",
    "\n",
    "print(inf_reals)"
   ]
  },
  {
   "cell_type": "markdown",
   "metadata": {
    "id": "jy81AOKHbdtI"
   },
   "source": [
    "* Locate the indices of the min and max in this vector. Hint: use the `arg.min` and `arg.max` functions from numpy"
   ]
  },
  {
   "cell_type": "code",
   "execution_count": 45,
   "metadata": {
    "colab": {
     "base_uri": "https://localhost:8080/"
    },
    "id": "5aLvgov5bJ0D",
    "outputId": "880b4174-f433-47a3-bb1d-1caf83b97469"
   },
   "outputs": [
    {
     "name": "stdout",
     "output_type": "stream",
     "text": [
      "50 0\n"
     ]
    }
   ],
   "source": [
    "x_min = np.argmin(x)\n",
    "x_max = np.argmax(x)\n",
    "\n",
    "print(x_min, x_max)"
   ]
  },
  {
   "cell_type": "markdown",
   "metadata": {
    "id": "oRIpi-b2b9KD"
   },
   "source": [
    "* Count the number of unique values in `x`. Use `unique` from numpy."
   ]
  },
  {
   "cell_type": "code",
   "execution_count": 47,
   "metadata": {
    "colab": {
     "base_uri": "https://localhost:8080/"
    },
    "id": "no85_We5bry1",
    "outputId": "af1283fa-e34e-4472-bcb2-72210ff9eda6"
   },
   "outputs": [
    {
     "data": {
      "text/plain": [
       "51"
      ]
     },
     "execution_count": 47,
     "metadata": {},
     "output_type": "execute_result"
    }
   ],
   "source": [
    "len(np.unique(x))"
   ]
  },
  {
   "cell_type": "markdown",
   "metadata": {
    "id": "oHRN70mTcHsB"
   },
   "source": [
    "* Cast `x` to a factor. Do the number of levels make sense? Should be 53 unique values. Use `categorical` from pandas."
   ]
  },
  {
   "cell_type": "code",
   "execution_count": 49,
   "metadata": {
    "colab": {
     "base_uri": "https://localhost:8080/"
    },
    "id": "nduGObKldhd9",
    "outputId": "1abf3207-ffe6-4931-8c49-e1182162afa0"
   },
   "outputs": [
    {
     "name": "stdout",
     "output_type": "stream",
     "text": [
      "Factor levels: Index([0.6309297535714574, 1.2618595071429148, 1.6309297535714573,\n",
      "        1.892789260714372,  2.095903274289385, 2.2618595071429146,\n",
      "        2.402173502732879, 2.5237190142858297,  2.630929753571457,\n",
      "       2.7268330278608417, 2.8135880922155954, 2.8927892607143724,\n",
      "         2.96564727304425,  3.033103256304337, 3.0959032742893844,\n",
      "        3.154648767857287, 3.2098316767340234, 3.2618595071429146,\n",
      "       3.3110736128178324,  3.357762781432299, 3.4021735027328797,\n",
      "       3.4445178457870527, 3.4849795837717283, 3.5237190142858297,\n",
      "       3.5608767950073115, 3.5965770266157073, 3.6309297535714573,\n",
      "       3.6640330098757947, 3.6959745056821194, 3.7268330278608417,\n",
      "        3.756679610828472,  3.785578521428744,  3.813588092215595,\n",
      "       3.8407614303054807, 3.8671470234508067,  3.892789260714372,\n",
      "       3.9177288817897304, 3.9420033663892897, 3.9656472730442496,\n",
      "       3.9886925350037563,  4.011168719591413, 4.0331032563043365,\n",
      "       4.0545216380691365,   4.07544759935851,  4.095903274289384,\n",
      "        4.115909337343186,  4.135485128951194,  4.154648767857287,\n",
      "        4.173417251894302,   4.19180654857877,                inf],\n",
      "      dtype='float64')\n",
      "Number of levels: 51\n"
     ]
    }
   ],
   "source": [
    "import pandas as pd\n",
    "\n",
    "# Cast x to a categorical (similar to as.factor(x) in R)\n",
    "x_factor = pd.Categorical(x)\n",
    "\n",
    "# Check the unique levels (categories)\n",
    "levels = x_factor.categories\n",
    "num_levels = len(levels)\n",
    "\n",
    "print(f\"Factor levels: {levels}\")\n",
    "print(f\"Number of levels: {num_levels}\")\n",
    "\n",
    "#51 levels?"
   ]
  },
  {
   "cell_type": "markdown",
   "metadata": {
    "id": "IorrCNzsdnSe"
   },
   "source": [
    "* In Python, using pandas, NaN is not treated as a level in a categorical type by default. Pandas does not allow NaN to be a category. To include NaN as a level, you need to explicitly handle it by filling them with a placeholder value (like \"NaN\" or a specific number) before making the data categorical. Use `categorical` and `isna` from pandas."
   ]
  },
  {
   "cell_type": "code",
   "execution_count": 51,
   "metadata": {
    "colab": {
     "base_uri": "https://localhost:8080/"
    },
    "id": "hSd4wayScFtz",
    "outputId": "02f6d619-363c-49c3-e4e7-edd651a8d2c7"
   },
   "outputs": [
    {
     "name": "stdout",
     "output_type": "stream",
     "text": [
      "Factor levels (including NaN): Index([0.6309297535714574, 1.2618595071429148, 1.6309297535714573,\n",
      "        1.892789260714372,  2.095903274289385, 2.2618595071429146,\n",
      "        2.402173502732879, 2.5237190142858297,  2.630929753571457,\n",
      "       2.7268330278608417, 2.8135880922155954, 2.8927892607143724,\n",
      "         2.96564727304425,  3.033103256304337, 3.0959032742893844,\n",
      "        3.154648767857287, 3.2098316767340234, 3.2618595071429146,\n",
      "       3.3110736128178324,  3.357762781432299, 3.4021735027328797,\n",
      "       3.4445178457870527, 3.4849795837717283, 3.5237190142858297,\n",
      "       3.5608767950073115, 3.5965770266157073, 3.6309297535714573,\n",
      "       3.6640330098757947, 3.6959745056821194, 3.7268330278608417,\n",
      "        3.756679610828472,  3.785578521428744,  3.813588092215595,\n",
      "       3.8407614303054807, 3.8671470234508067,  3.892789260714372,\n",
      "       3.9177288817897304, 3.9420033663892897, 3.9656472730442496,\n",
      "       3.9886925350037563,  4.011168719591413, 4.0331032563043365,\n",
      "       4.0545216380691365,   4.07544759935851,  4.095903274289384,\n",
      "        4.115909337343186,  4.135485128951194,  4.154648767857287,\n",
      "        4.173417251894302,   4.19180654857877,                inf],\n",
      "      dtype='float64')\n",
      "Number of levels: 51\n"
     ]
    }
   ],
   "source": [
    "# Replace NaN with a placeholder value (e.g., 'NaN')\n",
    "x_filled = [val if not pd.isna(val) else 'NaN' for val in x]\n",
    "\n",
    "# Convert to categorical\n",
    "x_factor = pd.Categorical(x_filled)\n",
    "\n",
    "# Check the unique levels (including 'NaN' as a level)\n",
    "factor_levels = x_factor.categories\n",
    "num_levels = len(factor_levels)\n",
    "\n",
    "print(f\"Factor levels (including NaN): {factor_levels}\")\n",
    "print(f\"Number of levels: {num_levels}\")"
   ]
  },
  {
   "cell_type": "markdown",
   "metadata": {
    "id": "w4o3ULW7eICC"
   },
   "source": [
    "* Cast `x` to integers. Use `where`, `isinfinite` from numpy and `astype` from base python."
   ]
  },
  {
   "cell_type": "code",
   "execution_count": 53,
   "metadata": {
    "colab": {
     "base_uri": "https://localhost:8080/"
    },
    "id": "CHtCOU1wcfld",
    "outputId": "a1aefd63-5ffc-4dfa-9e8b-3c9e00bfaa25"
   },
   "outputs": [
    {
     "name": "stdout",
     "output_type": "stream",
     "text": [
      "Cleaned array: [0.         4.19180655 4.17341725 4.15464877 4.13548513 4.11590934\n",
      " 4.09590327 4.0754476  4.05452164 4.03310326 4.01116872 3.98869254\n",
      " 3.96564727 3.94200337 3.91772888 3.89278926 3.86714702 3.84076143\n",
      " 3.81358809 3.78557852 3.75667961 3.72683303 3.69597451 3.66403301\n",
      " 3.63092975 3.59657703 3.5608768  3.52371901 3.48497958 3.44451785\n",
      " 3.4021735  3.35776278 3.31107361 3.26185951 3.20983168 3.15464877\n",
      " 3.09590327 3.03310326 2.96564727 2.89278926 2.81358809 2.72683303\n",
      " 2.63092975 2.52371901 2.4021735  2.26185951 2.09590327 1.89278926\n",
      " 1.63092975 1.26185951 0.63092975]\n",
      "Interger array: [0 4 4 4 4 4 4 4 4 4 4 3 3 3 3 3 3 3 3 3 3 3 3 3 3 3 3 3 3 3 3 3 3 3 3 3 3\n",
      " 3 2 2 2 2 2 2 2 2 2 1 1 1 0]\n"
     ]
    }
   ],
   "source": [
    "x_clean = np.where(np.isfinite(x), x, 0)\n",
    "x_int = x_clean.astype(int)\n",
    "\n",
    "print(\"Cleaned array:\", x_clean)\n",
    "print(\"Interger array:\", x_int)"
   ]
  },
  {
   "cell_type": "markdown",
   "metadata": {
    "id": "X3zDD-zgeyRf"
   },
   "source": [
    "* Use `x` to create a new vector `y` containing only the real numbers in x. Use `isnan`, `logical_and`, and `reduce` from numpy"
   ]
  },
  {
   "cell_type": "code",
   "execution_count": 55,
   "metadata": {
    "colab": {
     "base_uri": "https://localhost:8080/"
    },
    "id": "nLNq9Pr8eiHD",
    "outputId": "0c69bf4b-5d73-4a03-dd85-726efe122b63"
   },
   "outputs": [
    {
     "name": "stdout",
     "output_type": "stream",
     "text": [
      "[False  True  True  True  True  True  True  True  True  True  True  True\n",
      "  True  True  True  True  True  True  True  True  True  True  True  True\n",
      "  True  True  True  True  True  True  True  True  True  True  True  True\n",
      "  True  True  True  True  True  True  True  True  True  True  True  True\n",
      "  True  True False]\n"
     ]
    }
   ],
   "source": [
    "y = ~np.isnan(x_int) & np.isfinite(x_int) & (x_int > 0)\n",
    "print(y)"
   ]
  },
  {
   "cell_type": "markdown",
   "metadata": {
    "id": "S8qnxXNqt3JE"
   },
   "source": [
    "* Use the left rectangle method to numerically integrate x^2 from 0 to 1 with rectangle width size 1e-6. Use `arrange` and `sum` from numpy"
   ]
  },
  {
   "cell_type": "code",
   "execution_count": 57,
   "metadata": {
    "colab": {
     "base_uri": "https://localhost:8080/"
    },
    "id": "W3zsckaxt32K",
    "outputId": "461405b1-dfc1-4f46-ed5c-5b4ce2fd3e93"
   },
   "outputs": [
    {
     "name": "stdout",
     "output_type": "stream",
     "text": [
      "0.33333283333349994\n"
     ]
    }
   ],
   "source": [
    "# Define the rectangle width\n",
    "width = 1e-6\n",
    "\n",
    "# Create the sequence for the left endpoints (similar to seq in R)\n",
    "x = np.arange(0, 1, width)\n",
    "\n",
    "# Compute the sum using the left rectangle method\n",
    "approximation = np.sum(x ** 2) * width\n",
    "\n",
    "# Print the result\n",
    "print(approximation)\n"
   ]
  },
  {
   "cell_type": "markdown",
   "metadata": {
    "id": "LFF_X0FKuyD4"
   },
   "source": [
    "* Calculate the average of 100 realizations of standard Bernoullis in one line using the numpy's random.choice function."
   ]
  },
  {
   "cell_type": "code",
   "execution_count": 59,
   "metadata": {
    "colab": {
     "base_uri": "https://localhost:8080/"
    },
    "id": "JdeauzBkuVTr",
    "outputId": "cdfb63d0-43b5-4fa9-e6ad-5f0d5cd9efdd"
   },
   "outputs": [
    {
     "name": "stdout",
     "output_type": "stream",
     "text": [
      "0.45\n"
     ]
    }
   ],
   "source": [
    "avg_bernoulli = np.mean(np.random.choice([0,1], size = 100, p = [.5, .5]))\n",
    "\n",
    "print(avg_bernoulli)"
   ]
  },
  {
   "cell_type": "markdown",
   "metadata": {
    "id": "I9wgl1ycvvTx"
   },
   "source": [
    "* Calculate the average of 500 realizations of Bernoullis with p = 0.9 in one line using the `random.choice` and `mean` functions in numpy."
   ]
  },
  {
   "cell_type": "code",
   "execution_count": 61,
   "metadata": {
    "colab": {
     "base_uri": "https://localhost:8080/"
    },
    "id": "ZcichNlevpph",
    "outputId": "b0b4181a-188d-4813-c5df-e907dac6c3a9"
   },
   "outputs": [
    {
     "name": "stdout",
     "output_type": "stream",
     "text": [
      "0.896\n"
     ]
    }
   ],
   "source": [
    "avg_bernoulli = np.mean(np.random.choice([0,1], size = 500, p = [.1, .9]))\n",
    "\n",
    "print(avg_bernoulli)"
   ]
  },
  {
   "cell_type": "markdown",
   "metadata": {
    "id": "pr9oLtR0wdqq"
   },
   "source": [
    "* Calculate the average of 1000 realizations of Bernoullis with p = 0.9 in one line using `binom` from scipy.stats."
   ]
  },
  {
   "cell_type": "code",
   "execution_count": 157,
   "metadata": {
    "colab": {
     "base_uri": "https://localhost:8080/"
    },
    "id": "iDMM_OyCwPc1",
    "outputId": "38864a97-d646-4025-952e-24504a7c056c"
   },
   "outputs": [
    {
     "name": "stdout",
     "output_type": "stream",
     "text": [
      "0.906\n"
     ]
    }
   ],
   "source": [
    "from scipy.stats import binom\n",
    "\n",
    "avg_bernoulli = binom.rvs(n = 1, p = .9, size = 1000).mean()\n",
    "\n",
    "print(avg_bernoulli)"
   ]
  },
  {
   "cell_type": "markdown",
   "metadata": {
    "id": "pZuC50jpw35z"
   },
   "source": [
    "* Let `n = 50`. Create a n x n matrix `R` of exactly 50% entries 0's, 25% 1's 25% 2's. These values should be in random locations."
   ]
  },
  {
   "cell_type": "code",
   "execution_count": 89,
   "metadata": {
    "colab": {
     "base_uri": "https://localhost:8080/"
    },
    "id": "YhA5CdjRwzIb",
    "outputId": "b95c17ad-e8af-4edd-cfa7-3f8260d6781c"
   },
   "outputs": [
    {
     "name": "stdout",
     "output_type": "stream",
     "text": [
      "    0   1   2   3   4   5   6   7   8   9   ...  40  41  42  43  44  45  46  \\\n",
      "0    0   1   1   0   1   2   0   0   2   1  ...   0   2   1   2   0   1   0   \n",
      "1    1   2   0   0   0   2   0   1   1   2  ...   2   1   0   1   0   1   0   \n",
      "2    0   1   2   2   0   2   2   0   1   1  ...   2   2   0   0   0   0   2   \n",
      "3    0   0   2   0   1   0   2   2   2   2  ...   0   0   1   0   0   1   0   \n",
      "4    2   1   0   0   1   1   2   2   2   1  ...   1   2   2   0   0   2   0   \n",
      "5    0   1   0   2   0   2   1   1   2   0  ...   1   0   0   0   0   0   0   \n",
      "6    1   0   0   0   0   1   0   0   1   2  ...   1   0   1   0   1   0   2   \n",
      "7    1   1   0   1   1   2   1   1   0   2  ...   0   0   2   0   2   0   0   \n",
      "8    1   2   1   0   0   2   1   1   0   0  ...   1   1   0   0   2   0   0   \n",
      "9    0   0   1   0   2   2   2   2   0   2  ...   0   2   0   1   0   1   1   \n",
      "10   2   0   2   0   1   0   0   2   0   0  ...   0   0   1   0   1   0   1   \n",
      "11   0   2   1   2   2   0   0   0   1   0  ...   0   0   2   0   1   0   1   \n",
      "12   0   2   1   1   1   0   1   0   0   1  ...   2   1   2   0   0   1   0   \n",
      "13   0   0   2   1   1   0   1   0   1   2  ...   0   2   2   2   0   2   0   \n",
      "14   2   0   0   2   0   2   0   0   0   2  ...   0   1   0   0   2   0   2   \n",
      "15   1   2   2   2   2   0   0   0   0   1  ...   2   1   0   0   2   0   2   \n",
      "16   1   0   0   1   1   0   2   2   2   2  ...   1   0   0   0   0   0   0   \n",
      "17   0   2   2   0   2   1   0   0   1   1  ...   0   0   0   1   0   0   2   \n",
      "18   0   0   1   0   0   1   0   0   2   0  ...   1   1   0   0   0   2   0   \n",
      "19   0   0   0   2   1   1   0   2   1   1  ...   0   2   0   0   0   1   0   \n",
      "20   2   0   1   0   0   0   0   2   2   0  ...   1   1   0   2   0   1   0   \n",
      "21   0   1   0   1   1   0   0   1   2   0  ...   0   2   1   0   1   2   2   \n",
      "22   2   0   0   2   0   0   0   0   0   0  ...   1   0   2   2   0   2   1   \n",
      "23   0   2   2   0   0   0   0   0   1   1  ...   0   0   1   1   2   0   2   \n",
      "24   1   1   1   0   2   1   0   0   1   0  ...   0   0   1   2   2   1   2   \n",
      "25   0   0   1   2   0   2   1   0   2   0  ...   1   2   1   0   2   0   2   \n",
      "26   2   0   2   0   0   0   0   0   2   2  ...   2   0   0   0   1   2   2   \n",
      "27   1   1   2   0   2   1   0   0   2   0  ...   1   1   2   2   0   0   0   \n",
      "28   1   0   0   0   2   0   0   0   1   2  ...   1   1   0   1   0   0   0   \n",
      "29   0   1   0   0   1   2   2   0   0   0  ...   0   0   0   0   1   0   2   \n",
      "30   0   2   0   0   1   2   2   2   0   0  ...   2   2   0   0   0   0   1   \n",
      "31   0   0   2   2   1   1   0   1   1   2  ...   0   1   0   1   1   1   2   \n",
      "32   0   1   0   0   0   0   2   0   1   0  ...   0   1   1   1   0   0   0   \n",
      "33   0   0   2   1   1   0   0   1   0   2  ...   0   1   1   1   0   0   0   \n",
      "34   0   0   0   1   2   0   2   2   1   2  ...   0   2   0   2   0   0   1   \n",
      "35   2   0   0   0   2   1   1   0   1   0  ...   2   1   0   2   0   1   1   \n",
      "36   1   2   0   2   0   0   0   0   0   2  ...   0   0   1   0   0   0   0   \n",
      "37   2   2   1   2   1   2   2   2   0   1  ...   0   0   2   1   0   0   2   \n",
      "38   0   0   0   0   0   1   1   0   0   0  ...   2   1   0   2   0   2   0   \n",
      "39   2   1   1   0   1   0   2   0   1   0  ...   1   2   2   0   1   2   1   \n",
      "40   2   0   2   1   2   2   0   0   0   1  ...   1   0   1   1   0   0   2   \n",
      "41   1   0   2   1   0   1   0   0   0   1  ...   0   2   1   0   2   0   0   \n",
      "42   2   1   0   0   0   0   0   1   0   0  ...   0   2   0   2   0   2   0   \n",
      "43   0   0   2   0   2   2   0   2   1   0  ...   2   0   0   1   2   2   0   \n",
      "44   2   0   0   1   0   1   0   0   1   0  ...   1   1   0   2   0   1   0   \n",
      "45   0   1   1   2   1   0   1   0   1   1  ...   0   1   1   2   0   1   2   \n",
      "46   0   0   1   0   0   0   0   0   1   1  ...   1   1   0   0   0   0   0   \n",
      "47   1   0   1   0   2   2   0   1   0   0  ...   0   1   0   0   0   0   0   \n",
      "48   2   1   1   0   2   0   0   1   0   0  ...   2   1   2   0   2   1   0   \n",
      "49   0   1   0   0   0   2   0   0   0   2  ...   0   0   2   0   2   2   0   \n",
      "\n",
      "    47  48  49  \n",
      "0    1   0   2  \n",
      "1    2   0   0  \n",
      "2    1   1   2  \n",
      "3    1   2   1  \n",
      "4    0   0   2  \n",
      "5    0   2   1  \n",
      "6    0   0   1  \n",
      "7    0   0   1  \n",
      "8    1   2   0  \n",
      "9    1   0   2  \n",
      "10   2   0   2  \n",
      "11   0   0   2  \n",
      "12   0   2   1  \n",
      "13   1   1   0  \n",
      "14   2   0   1  \n",
      "15   0   2   0  \n",
      "16   2   0   1  \n",
      "17   1   0   0  \n",
      "18   1   1   2  \n",
      "19   0   1   2  \n",
      "20   0   1   2  \n",
      "21   2   1   0  \n",
      "22   2   0   0  \n",
      "23   0   2   0  \n",
      "24   1   0   0  \n",
      "25   2   1   0  \n",
      "26   0   2   2  \n",
      "27   0   1   1  \n",
      "28   0   1   0  \n",
      "29   1   2   0  \n",
      "30   0   0   2  \n",
      "31   0   1   1  \n",
      "32   1   0   1  \n",
      "33   2   0   0  \n",
      "34   1   0   0  \n",
      "35   2   2   1  \n",
      "36   2   2   0  \n",
      "37   0   2   0  \n",
      "38   0   2   2  \n",
      "39   2   0   0  \n",
      "40   1   0   2  \n",
      "41   2   1   0  \n",
      "42   0   0   0  \n",
      "43   0   1   0  \n",
      "44   0   0   0  \n",
      "45   2   0   2  \n",
      "46   0   0   2  \n",
      "47   1   0   1  \n",
      "48   0   0   0  \n",
      "49   1   0   0  \n",
      "\n",
      "[50 rows x 50 columns]\n"
     ]
    }
   ],
   "source": [
    "import pandas as pd\n",
    "\n",
    "# Set n\n",
    "n = 50\n",
    "\n",
    "# Generate the random values with specified proportions\n",
    "values = np.random.permutation(\n",
    "    np.concatenate([\n",
    "        np.full(int(n * n * 0.5), 0),  # 50% 0's\n",
    "        np.full(int(n * n * 0.25), 1), # 25% 1's\n",
    "        np.full(int(n * n * 0.25), 2)  # 25% 2's\n",
    "    ])\n",
    ")\n",
    "\n",
    "# Reshape the values into an n x n matrix\n",
    "R = values.reshape(n, n)\n",
    "\n",
    "# Convert the matrix into a DataFrame\n",
    "df = pd.DataFrame(R)\n",
    "\n",
    "# Print the DataFrame\n",
    "print(df)"
   ]
  },
  {
   "cell_type": "markdown",
   "metadata": {
    "id": "nP6M8hfrxWUJ"
   },
   "source": [
    "* Randomly punch holes (i.e. `NA`) values in this matrix so that an each entry is missing with probability 30%."
   ]
  },
  {
   "cell_type": "code",
   "execution_count": 91,
   "metadata": {
    "colab": {
     "base_uri": "https://localhost:8080/"
    },
    "id": "ffLrQxVTydX9",
    "outputId": "971f187e-4642-4ae7-d01e-4629b165e40d"
   },
   "outputs": [
    {
     "name": "stdout",
     "output_type": "stream",
     "text": [
      "     0    1    2    3    4    5    6    7    8    9   ...   40   41   42   43  \\\n",
      "0   0.0  1.0  1.0  0.0  NaN  2.0  0.0  NaN  2.0  1.0  ...  0.0  2.0  1.0  2.0   \n",
      "1   1.0  2.0  0.0  0.0  0.0  NaN  0.0  NaN  1.0  NaN  ...  2.0  1.0  NaN  1.0   \n",
      "2   0.0  1.0  2.0  2.0  0.0  2.0  2.0  0.0  1.0  NaN  ...  2.0  2.0  0.0  0.0   \n",
      "3   0.0  0.0  2.0  0.0  1.0  NaN  NaN  2.0  2.0  NaN  ...  0.0  0.0  1.0  0.0   \n",
      "4   2.0  1.0  0.0  NaN  1.0  1.0  2.0  2.0  NaN  1.0  ...  1.0  2.0  NaN  0.0   \n",
      "5   0.0  1.0  0.0  NaN  0.0  2.0  1.0  1.0  NaN  0.0  ...  NaN  0.0  NaN  0.0   \n",
      "6   1.0  0.0  0.0  NaN  0.0  1.0  NaN  NaN  NaN  2.0  ...  NaN  0.0  1.0  NaN   \n",
      "7   1.0  NaN  0.0  1.0  1.0  2.0  1.0  1.0  0.0  2.0  ...  0.0  0.0  2.0  0.0   \n",
      "8   1.0  2.0  1.0  0.0  0.0  2.0  1.0  NaN  NaN  0.0  ...  NaN  1.0  NaN  0.0   \n",
      "9   NaN  0.0  NaN  NaN  2.0  2.0  2.0  NaN  0.0  2.0  ...  NaN  2.0  NaN  1.0   \n",
      "10  NaN  0.0  NaN  NaN  1.0  0.0  0.0  2.0  0.0  0.0  ...  0.0  NaN  NaN  0.0   \n",
      "11  0.0  2.0  1.0  2.0  2.0  0.0  0.0  0.0  NaN  0.0  ...  0.0  0.0  NaN  NaN   \n",
      "12  0.0  2.0  NaN  1.0  NaN  0.0  1.0  0.0  0.0  1.0  ...  2.0  1.0  2.0  NaN   \n",
      "13  0.0  NaN  NaN  1.0  1.0  NaN  1.0  NaN  NaN  2.0  ...  0.0  NaN  2.0  2.0   \n",
      "14  NaN  NaN  0.0  2.0  0.0  2.0  0.0  0.0  0.0  2.0  ...  0.0  1.0  0.0  0.0   \n",
      "15  1.0  NaN  2.0  2.0  NaN  0.0  NaN  0.0  0.0  NaN  ...  2.0  NaN  0.0  0.0   \n",
      "16  1.0  NaN  0.0  1.0  NaN  0.0  2.0  2.0  NaN  2.0  ...  1.0  NaN  0.0  0.0   \n",
      "17  0.0  2.0  2.0  0.0  2.0  1.0  0.0  0.0  1.0  1.0  ...  NaN  0.0  NaN  1.0   \n",
      "18  NaN  0.0  1.0  0.0  0.0  NaN  NaN  0.0  2.0  0.0  ...  1.0  NaN  0.0  0.0   \n",
      "19  0.0  0.0  0.0  NaN  1.0  1.0  NaN  2.0  1.0  NaN  ...  0.0  NaN  0.0  0.0   \n",
      "20  2.0  NaN  1.0  NaN  0.0  NaN  NaN  NaN  2.0  0.0  ...  NaN  NaN  0.0  2.0   \n",
      "21  0.0  1.0  0.0  1.0  1.0  NaN  0.0  1.0  2.0  NaN  ...  0.0  2.0  1.0  NaN   \n",
      "22  NaN  0.0  0.0  2.0  0.0  0.0  0.0  0.0  NaN  0.0  ...  1.0  NaN  NaN  2.0   \n",
      "23  0.0  2.0  NaN  0.0  0.0  0.0  0.0  NaN  1.0  1.0  ...  0.0  0.0  1.0  NaN   \n",
      "24  1.0  1.0  1.0  0.0  NaN  1.0  0.0  0.0  1.0  NaN  ...  0.0  0.0  NaN  2.0   \n",
      "25  0.0  0.0  NaN  NaN  0.0  NaN  1.0  0.0  NaN  0.0  ...  1.0  2.0  NaN  NaN   \n",
      "26  2.0  0.0  2.0  NaN  NaN  0.0  0.0  NaN  NaN  2.0  ...  2.0  0.0  0.0  0.0   \n",
      "27  NaN  NaN  2.0  NaN  NaN  NaN  0.0  0.0  2.0  0.0  ...  1.0  NaN  NaN  2.0   \n",
      "28  1.0  NaN  0.0  0.0  NaN  0.0  0.0  NaN  1.0  NaN  ...  NaN  1.0  0.0  1.0   \n",
      "29  0.0  NaN  0.0  0.0  1.0  NaN  2.0  NaN  0.0  0.0  ...  0.0  0.0  0.0  0.0   \n",
      "30  0.0  2.0  0.0  0.0  1.0  2.0  2.0  2.0  NaN  0.0  ...  2.0  2.0  0.0  0.0   \n",
      "31  0.0  0.0  NaN  2.0  NaN  1.0  0.0  1.0  NaN  2.0  ...  0.0  1.0  0.0  NaN   \n",
      "32  0.0  1.0  0.0  0.0  0.0  0.0  2.0  NaN  1.0  NaN  ...  0.0  1.0  1.0  NaN   \n",
      "33  0.0  0.0  2.0  1.0  1.0  NaN  0.0  1.0  0.0  2.0  ...  0.0  NaN  1.0  1.0   \n",
      "34  NaN  NaN  NaN  NaN  NaN  0.0  2.0  2.0  1.0  2.0  ...  0.0  2.0  NaN  2.0   \n",
      "35  2.0  NaN  0.0  0.0  2.0  1.0  NaN  0.0  1.0  0.0  ...  2.0  1.0  NaN  NaN   \n",
      "36  NaN  2.0  NaN  NaN  0.0  0.0  NaN  0.0  NaN  2.0  ...  0.0  0.0  NaN  0.0   \n",
      "37  NaN  2.0  1.0  NaN  1.0  2.0  2.0  2.0  0.0  1.0  ...  0.0  NaN  2.0  1.0   \n",
      "38  0.0  0.0  0.0  NaN  NaN  1.0  NaN  0.0  NaN  NaN  ...  NaN  NaN  0.0  2.0   \n",
      "39  2.0  1.0  NaN  0.0  1.0  0.0  2.0  0.0  1.0  0.0  ...  1.0  2.0  2.0  0.0   \n",
      "40  NaN  NaN  2.0  1.0  2.0  2.0  NaN  NaN  0.0  1.0  ...  1.0  0.0  NaN  1.0   \n",
      "41  1.0  0.0  2.0  1.0  0.0  1.0  0.0  0.0  0.0  1.0  ...  NaN  2.0  1.0  NaN   \n",
      "42  2.0  1.0  0.0  NaN  0.0  0.0  0.0  1.0  0.0  NaN  ...  0.0  2.0  0.0  2.0   \n",
      "43  0.0  0.0  2.0  0.0  2.0  2.0  0.0  2.0  1.0  NaN  ...  2.0  NaN  NaN  1.0   \n",
      "44  NaN  0.0  0.0  NaN  0.0  NaN  0.0  NaN  1.0  0.0  ...  1.0  NaN  0.0  2.0   \n",
      "45  0.0  1.0  NaN  NaN  1.0  NaN  NaN  0.0  NaN  1.0  ...  0.0  1.0  NaN  NaN   \n",
      "46  0.0  NaN  1.0  0.0  NaN  NaN  0.0  NaN  1.0  1.0  ...  1.0  NaN  0.0  NaN   \n",
      "47  1.0  0.0  1.0  0.0  2.0  2.0  0.0  NaN  0.0  NaN  ...  NaN  1.0  0.0  0.0   \n",
      "48  2.0  1.0  1.0  NaN  NaN  0.0  0.0  NaN  0.0  0.0  ...  2.0  1.0  NaN  0.0   \n",
      "49  0.0  1.0  0.0  0.0  0.0  NaN  0.0  NaN  0.0  NaN  ...  0.0  0.0  2.0  0.0   \n",
      "\n",
      "     44   45   46   47   48   49  \n",
      "0   0.0  1.0  0.0  1.0  0.0  2.0  \n",
      "1   0.0  1.0  NaN  2.0  NaN  0.0  \n",
      "2   0.0  NaN  2.0  1.0  1.0  NaN  \n",
      "3   0.0  NaN  NaN  1.0  NaN  1.0  \n",
      "4   NaN  NaN  0.0  NaN  0.0  2.0  \n",
      "5   0.0  0.0  0.0  0.0  2.0  1.0  \n",
      "6   1.0  NaN  2.0  0.0  NaN  NaN  \n",
      "7   2.0  0.0  0.0  0.0  0.0  1.0  \n",
      "8   2.0  0.0  0.0  1.0  2.0  0.0  \n",
      "9   0.0  1.0  NaN  1.0  0.0  2.0  \n",
      "10  1.0  0.0  NaN  2.0  0.0  NaN  \n",
      "11  NaN  0.0  1.0  0.0  NaN  2.0  \n",
      "12  0.0  1.0  0.0  0.0  2.0  1.0  \n",
      "13  0.0  2.0  0.0  NaN  1.0  0.0  \n",
      "14  2.0  NaN  2.0  2.0  0.0  1.0  \n",
      "15  2.0  0.0  2.0  0.0  2.0  0.0  \n",
      "16  0.0  NaN  NaN  2.0  0.0  1.0  \n",
      "17  0.0  0.0  2.0  1.0  0.0  NaN  \n",
      "18  0.0  2.0  0.0  1.0  1.0  2.0  \n",
      "19  0.0  1.0  0.0  0.0  1.0  2.0  \n",
      "20  NaN  1.0  0.0  0.0  1.0  2.0  \n",
      "21  1.0  NaN  NaN  2.0  1.0  0.0  \n",
      "22  NaN  2.0  1.0  2.0  NaN  0.0  \n",
      "23  2.0  0.0  2.0  0.0  2.0  0.0  \n",
      "24  2.0  NaN  2.0  1.0  0.0  0.0  \n",
      "25  2.0  0.0  2.0  2.0  NaN  0.0  \n",
      "26  NaN  2.0  2.0  0.0  2.0  2.0  \n",
      "27  0.0  NaN  0.0  0.0  1.0  1.0  \n",
      "28  0.0  0.0  NaN  0.0  1.0  NaN  \n",
      "29  1.0  NaN  2.0  NaN  2.0  0.0  \n",
      "30  0.0  0.0  NaN  0.0  0.0  NaN  \n",
      "31  NaN  1.0  NaN  0.0  1.0  1.0  \n",
      "32  0.0  0.0  NaN  NaN  0.0  NaN  \n",
      "33  0.0  0.0  NaN  NaN  0.0  0.0  \n",
      "34  0.0  0.0  1.0  1.0  0.0  NaN  \n",
      "35  NaN  1.0  1.0  2.0  NaN  NaN  \n",
      "36  0.0  NaN  NaN  2.0  2.0  0.0  \n",
      "37  0.0  0.0  2.0  0.0  2.0  0.0  \n",
      "38  0.0  2.0  0.0  0.0  2.0  2.0  \n",
      "39  1.0  2.0  1.0  NaN  0.0  NaN  \n",
      "40  0.0  0.0  NaN  1.0  0.0  NaN  \n",
      "41  2.0  NaN  NaN  NaN  NaN  0.0  \n",
      "42  NaN  NaN  NaN  0.0  0.0  0.0  \n",
      "43  NaN  2.0  0.0  0.0  1.0  NaN  \n",
      "44  NaN  1.0  0.0  NaN  NaN  NaN  \n",
      "45  0.0  1.0  NaN  NaN  NaN  2.0  \n",
      "46  0.0  NaN  0.0  NaN  0.0  2.0  \n",
      "47  NaN  NaN  0.0  1.0  0.0  1.0  \n",
      "48  2.0  1.0  0.0  0.0  NaN  0.0  \n",
      "49  2.0  2.0  0.0  1.0  0.0  0.0  \n",
      "\n",
      "[50 rows x 50 columns]\n"
     ]
    }
   ],
   "source": [
    "# Convert to float to allow NaN\n",
    "#df = df.astype(float)\n",
    "\n",
    "# Randomly punch holes with 30% probability\n",
    "mask = np.random.choice([True, False], size=df.shape, p=[0.3, 0.7])\n",
    "df[mask] = np.nan\n",
    "\n",
    "# View the resulting DataFrame\n",
    "print(df)"
   ]
  },
  {
   "cell_type": "code",
   "execution_count": 93,
   "metadata": {
    "colab": {
     "base_uri": "https://localhost:8080/"
    },
    "id": "LaCZ-_c4xPxp",
    "outputId": "198e2ee0-f845-4ec5-ae0d-10fe2ebc0aae"
   },
   "outputs": [
    {
     "name": "stdout",
     "output_type": "stream",
     "text": [
      "     0    1    2    3    4    5    6    7    8    9   ...   40   41   42   43  \\\n",
      "0   NaN  1.0  NaN  0.0  2.0  0.0  0.0  NaN  0.0  0.0  ...  1.0  2.0  0.0  0.0   \n",
      "1   0.0  0.0  0.0  0.0  2.0  0.0  0.0  NaN  NaN  0.0  ...  0.0  2.0  0.0  NaN   \n",
      "2   2.0  1.0  1.0  0.0  NaN  NaN  NaN  0.0  1.0  0.0  ...  1.0  1.0  1.0  0.0   \n",
      "3   NaN  NaN  2.0  NaN  2.0  0.0  NaN  0.0  NaN  NaN  ...  NaN  2.0  NaN  0.0   \n",
      "4   NaN  0.0  0.0  NaN  2.0  NaN  1.0  NaN  0.0  1.0  ...  2.0  NaN  2.0  2.0   \n",
      "5   0.0  2.0  NaN  0.0  NaN  NaN  0.0  2.0  0.0  0.0  ...  NaN  0.0  NaN  NaN   \n",
      "6   NaN  NaN  0.0  2.0  0.0  0.0  1.0  1.0  NaN  0.0  ...  1.0  NaN  NaN  0.0   \n",
      "7   0.0  NaN  0.0  NaN  NaN  0.0  NaN  NaN  0.0  0.0  ...  NaN  2.0  2.0  NaN   \n",
      "8   NaN  2.0  0.0  1.0  NaN  1.0  0.0  0.0  1.0  1.0  ...  1.0  1.0  2.0  1.0   \n",
      "9   0.0  NaN  NaN  0.0  2.0  NaN  1.0  1.0  2.0  NaN  ...  NaN  0.0  0.0  0.0   \n",
      "10  NaN  0.0  2.0  0.0  0.0  0.0  1.0  2.0  NaN  NaN  ...  0.0  1.0  NaN  1.0   \n",
      "11  0.0  0.0  1.0  NaN  2.0  2.0  1.0  2.0  NaN  1.0  ...  1.0  2.0  NaN  1.0   \n",
      "12  1.0  0.0  0.0  1.0  1.0  2.0  2.0  NaN  0.0  NaN  ...  0.0  NaN  0.0  2.0   \n",
      "13  0.0  2.0  1.0  NaN  2.0  0.0  1.0  NaN  2.0  0.0  ...  NaN  1.0  NaN  1.0   \n",
      "14  NaN  0.0  0.0  0.0  0.0  NaN  2.0  1.0  0.0  0.0  ...  0.0  1.0  2.0  1.0   \n",
      "15  1.0  0.0  0.0  NaN  1.0  2.0  1.0  NaN  2.0  0.0  ...  2.0  1.0  NaN  1.0   \n",
      "16  1.0  NaN  0.0  0.0  0.0  NaN  1.0  0.0  2.0  1.0  ...  NaN  NaN  NaN  0.0   \n",
      "17  2.0  2.0  1.0  0.0  NaN  0.0  NaN  0.0  1.0  2.0  ...  2.0  2.0  2.0  NaN   \n",
      "18  NaN  0.0  1.0  NaN  2.0  1.0  NaN  0.0  NaN  0.0  ...  2.0  0.0  NaN  NaN   \n",
      "19  0.0  0.0  0.0  2.0  2.0  1.0  NaN  NaN  0.0  0.0  ...  2.0  0.0  0.0  0.0   \n",
      "20  NaN  2.0  1.0  NaN  0.0  NaN  1.0  2.0  0.0  2.0  ...  1.0  NaN  0.0  1.0   \n",
      "21  1.0  0.0  2.0  NaN  0.0  2.0  0.0  0.0  0.0  0.0  ...  0.0  2.0  NaN  0.0   \n",
      "22  NaN  0.0  1.0  1.0  NaN  NaN  1.0  0.0  0.0  1.0  ...  2.0  NaN  0.0  NaN   \n",
      "23  NaN  0.0  2.0  0.0  NaN  1.0  NaN  NaN  0.0  1.0  ...  2.0  NaN  0.0  0.0   \n",
      "24  1.0  0.0  0.0  1.0  1.0  2.0  1.0  2.0  NaN  2.0  ...  2.0  NaN  NaN  1.0   \n",
      "25  NaN  1.0  1.0  NaN  0.0  1.0  2.0  NaN  NaN  NaN  ...  2.0  2.0  2.0  NaN   \n",
      "26  NaN  2.0  NaN  0.0  1.0  0.0  NaN  NaN  NaN  NaN  ...  0.0  0.0  1.0  0.0   \n",
      "27  NaN  NaN  0.0  0.0  0.0  2.0  NaN  NaN  2.0  NaN  ...  0.0  0.0  NaN  1.0   \n",
      "28  1.0  2.0  0.0  NaN  0.0  0.0  NaN  0.0  NaN  1.0  ...  2.0  1.0  0.0  NaN   \n",
      "29  2.0  1.0  1.0  NaN  0.0  2.0  0.0  NaN  0.0  0.0  ...  2.0  1.0  0.0  2.0   \n",
      "30  NaN  0.0  0.0  NaN  NaN  0.0  NaN  NaN  1.0  2.0  ...  1.0  NaN  0.0  NaN   \n",
      "31  2.0  2.0  NaN  0.0  2.0  1.0  0.0  1.0  NaN  NaN  ...  NaN  0.0  2.0  NaN   \n",
      "32  2.0  1.0  NaN  NaN  0.0  0.0  0.0  1.0  NaN  0.0  ...  NaN  2.0  2.0  0.0   \n",
      "33  1.0  NaN  NaN  NaN  0.0  NaN  0.0  NaN  1.0  0.0  ...  0.0  1.0  1.0  0.0   \n",
      "34  0.0  0.0  0.0  2.0  NaN  NaN  NaN  0.0  2.0  NaN  ...  2.0  NaN  NaN  2.0   \n",
      "35  NaN  1.0  NaN  0.0  NaN  NaN  1.0  1.0  NaN  1.0  ...  NaN  0.0  NaN  NaN   \n",
      "36  NaN  2.0  0.0  0.0  0.0  2.0  0.0  0.0  NaN  NaN  ...  0.0  0.0  2.0  NaN   \n",
      "37  0.0  1.0  0.0  1.0  1.0  0.0  2.0  NaN  1.0  2.0  ...  NaN  1.0  NaN  0.0   \n",
      "38  2.0  NaN  1.0  0.0  2.0  NaN  NaN  1.0  0.0  0.0  ...  1.0  0.0  0.0  0.0   \n",
      "39  1.0  NaN  NaN  2.0  0.0  NaN  2.0  1.0  0.0  2.0  ...  2.0  0.0  1.0  NaN   \n",
      "40  0.0  1.0  0.0  2.0  NaN  0.0  NaN  2.0  0.0  NaN  ...  NaN  0.0  NaN  0.0   \n",
      "41  0.0  2.0  0.0  NaN  NaN  2.0  NaN  0.0  0.0  2.0  ...  0.0  0.0  NaN  0.0   \n",
      "42  0.0  NaN  0.0  0.0  1.0  0.0  NaN  NaN  0.0  0.0  ...  0.0  0.0  1.0  0.0   \n",
      "43  0.0  NaN  NaN  NaN  1.0  2.0  0.0  2.0  2.0  NaN  ...  NaN  0.0  0.0  0.0   \n",
      "44  NaN  NaN  NaN  0.0  NaN  0.0  0.0  0.0  2.0  2.0  ...  0.0  0.0  0.0  NaN   \n",
      "45  0.0  1.0  NaN  1.0  2.0  NaN  0.0  1.0  1.0  0.0  ...  0.0  2.0  1.0  0.0   \n",
      "46  0.0  0.0  NaN  NaN  1.0  NaN  NaN  NaN  0.0  NaN  ...  NaN  NaN  2.0  NaN   \n",
      "47  0.0  NaN  2.0  0.0  2.0  NaN  0.0  2.0  1.0  NaN  ...  2.0  0.0  NaN  0.0   \n",
      "48  NaN  NaN  NaN  2.0  0.0  2.0  NaN  0.0  2.0  NaN  ...  0.0  NaN  NaN  0.0   \n",
      "49  1.0  NaN  1.0  2.0  0.0  2.0  NaN  0.0  0.0  NaN  ...  0.0  2.0  2.0  0.0   \n",
      "\n",
      "     44   45   46   47   48   49  \n",
      "0   2.0  2.0  NaN  0.0  0.0  2.0  \n",
      "1   0.0  0.0  0.0  NaN  NaN  NaN  \n",
      "2   1.0  NaN  0.0  0.0  NaN  0.0  \n",
      "3   1.0  2.0  0.0  0.0  NaN  1.0  \n",
      "4   0.0  0.0  0.0  1.0  0.0  0.0  \n",
      "5   1.0  2.0  1.0  0.0  0.0  NaN  \n",
      "6   2.0  NaN  1.0  0.0  0.0  1.0  \n",
      "7   0.0  NaN  NaN  1.0  0.0  NaN  \n",
      "8   NaN  1.0  2.0  NaN  2.0  2.0  \n",
      "9   NaN  1.0  2.0  2.0  2.0  2.0  \n",
      "10  NaN  NaN  0.0  NaN  NaN  1.0  \n",
      "11  0.0  1.0  NaN  NaN  0.0  1.0  \n",
      "12  1.0  2.0  0.0  2.0  0.0  2.0  \n",
      "13  1.0  0.0  NaN  2.0  0.0  2.0  \n",
      "14  NaN  0.0  NaN  NaN  0.0  2.0  \n",
      "15  0.0  2.0  2.0  0.0  0.0  1.0  \n",
      "16  1.0  NaN  0.0  1.0  0.0  0.0  \n",
      "17  NaN  NaN  2.0  1.0  NaN  0.0  \n",
      "18  NaN  1.0  NaN  NaN  0.0  1.0  \n",
      "19  NaN  1.0  0.0  0.0  NaN  0.0  \n",
      "20  0.0  1.0  NaN  NaN  2.0  0.0  \n",
      "21  1.0  0.0  2.0  1.0  0.0  NaN  \n",
      "22  0.0  1.0  0.0  2.0  0.0  0.0  \n",
      "23  NaN  2.0  2.0  2.0  NaN  1.0  \n",
      "24  2.0  1.0  2.0  0.0  0.0  NaN  \n",
      "25  NaN  NaN  NaN  0.0  2.0  NaN  \n",
      "26  0.0  1.0  0.0  2.0  1.0  1.0  \n",
      "27  NaN  0.0  NaN  0.0  1.0  NaN  \n",
      "28  NaN  NaN  0.0  0.0  2.0  2.0  \n",
      "29  2.0  0.0  NaN  NaN  0.0  NaN  \n",
      "30  0.0  2.0  0.0  1.0  2.0  2.0  \n",
      "31  0.0  2.0  2.0  NaN  0.0  1.0  \n",
      "32  2.0  0.0  2.0  NaN  NaN  0.0  \n",
      "33  2.0  0.0  0.0  1.0  NaN  NaN  \n",
      "34  NaN  2.0  1.0  NaN  1.0  1.0  \n",
      "35  2.0  NaN  1.0  NaN  1.0  NaN  \n",
      "36  0.0  0.0  0.0  0.0  NaN  1.0  \n",
      "37  0.0  0.0  1.0  NaN  NaN  0.0  \n",
      "38  0.0  1.0  0.0  NaN  0.0  NaN  \n",
      "39  1.0  1.0  0.0  NaN  2.0  NaN  \n",
      "40  NaN  0.0  0.0  2.0  NaN  0.0  \n",
      "41  2.0  0.0  2.0  NaN  NaN  0.0  \n",
      "42  0.0  2.0  1.0  NaN  0.0  1.0  \n",
      "43  0.0  NaN  0.0  2.0  0.0  1.0  \n",
      "44  0.0  2.0  1.0  1.0  1.0  NaN  \n",
      "45  0.0  0.0  0.0  2.0  NaN  NaN  \n",
      "46  NaN  NaN  NaN  2.0  0.0  0.0  \n",
      "47  NaN  2.0  NaN  0.0  1.0  1.0  \n",
      "48  0.0  2.0  NaN  0.0  0.0  0.0  \n",
      "49  1.0  1.0  1.0  1.0  0.0  2.0  \n",
      "\n",
      "[50 rows x 50 columns]\n"
     ]
    }
   ],
   "source": [
    "import numpy as np\n",
    "import pandas as pd\n",
    "\n",
    "# Set matrix dimensions and proportions\n",
    "n = 50\n",
    "values = np.random.permutation(\n",
    "    np.concatenate([\n",
    "        np.full(int(n * n * 0.5), 0),  # 50% 0's\n",
    "        np.full(int(n * n * 0.25), 1), # 25% 1's\n",
    "        np.full(int(n * n * 0.25), 2)  # 25% 2's\n",
    "    ])\n",
    ")\n",
    "\n",
    "# Reshape the matrix\n",
    "R = values.reshape(n, n)\n",
    "\n",
    "# Create a mask for punching holes with a 30% probability\n",
    "random_holes = np.random.choice([True, False], size=(n, n), p=[0.3, 0.7])\n",
    "\n",
    "# Assign NaN to the corresponding positions\n",
    "R = R.astype(float)  # Convert to float to support NaN\n",
    "R[random_holes] = np.nan\n",
    "\n",
    "# Convert to DataFrame\n",
    "df = pd.DataFrame(R)\n",
    "\n",
    "\n",
    "print(df)\n"
   ]
  },
  {
   "cell_type": "markdown",
   "metadata": {
    "id": "trL0Ltu4yp9m"
   },
   "source": [
    "* Sort the rows in matrix `R` by the largest row sum to lowest. Be careful about the NA's!"
   ]
  },
  {
   "cell_type": "code",
   "execution_count": 95,
   "metadata": {
    "colab": {
     "base_uri": "https://localhost:8080/"
    },
    "id": "QGPEL3Ba1ana",
    "outputId": "5fed490c-5567-42dd-f607-495500c373ed"
   },
   "outputs": [
    {
     "name": "stdout",
     "output_type": "stream",
     "text": [
      "[17 15 34 11 24 45 39 25  9 31 44 12  5 42 43 30 29 32  0 49  3 13  8  2\n",
      " 28 22 48 38 20 23 18 47  6 19 14 26 16 21 40  4 46 27  7 41 10 35 36 37\n",
      "  1 33]\n"
     ]
    }
   ],
   "source": [
    "#compute row sums, ignoring nan values\n",
    "\n",
    "row_sum = np.nansum(R, axis = 1)\n",
    "#print(row_sum)\n",
    "\n",
    "#get the row indices sorted by largest row sum to smallest\n",
    "\n",
    "row_sort = np.argsort(-row_sum)\n",
    "print(row_sort)"
   ]
  },
  {
   "cell_type": "markdown",
   "metadata": {
    "id": "1T_tkkym9FIP"
   },
   "source": [
    "* Python does not have an apply function. Instead use the nanstd function in numpy to calculate the standard devation of each column. Print them and combine then into a dataframe."
   ]
  },
  {
   "cell_type": "code",
   "execution_count": 97,
   "metadata": {
    "colab": {
     "base_uri": "https://localhost:8080/"
    },
    "id": "hc55J-CX0Jx-",
    "outputId": "086da3d7-5d85-4ea7-ee97-f565fcbc4987"
   },
   "outputs": [
    {
     "name": "stdout",
     "output_type": "stream",
     "text": [
      "[0.9131223741405675, 0.8134892168199607, 0.7870038119348597, 0.8441447440717649, 0.7810249675906653, 0.8660254037844386, 0.7130832029440798, 0.7806247497997998, 0.7810249675906654, 0.8857280869283211, 0.7473912964438374, 0.7528858528207633, 0.8546696378833457, 0.8569568250501305, 0.8261047025600549, 0.8351646544245033, 0.8379429798619952, 0.944013470085026, 0.7870051858976266, 0.8123867916017438, 0.8691737796972567, 0.7556372504853025, 0.7307192465536614, 0.8624393618641034, 0.8392220378474723, 0.8660254037844386, 0.6739081904346824, 0.7848725845546091, 0.8213137116947162, 0.8426193117902646, 0.8446711713768277, 0.9180269263480239, 0.7720238087298051, 0.6110100926607788, 0.8271701918685112, 0.6569540420811757, 0.7259519080762211, 0.6448992647913278, 0.8071991634090854, 0.8559031717046194, 0.8813963377120598, 0.8538789577942649, 0.8632220772029855, 0.8778452283278408, 0.8870956969291443, 0.8714212528966688, 0.8314794192830981, 0.8744417862270764, 0.8400146090767596, 0.8058380730643099]\n",
      "[0.7782153601170851, 0.8446711713768273, 0.7216878364870323, 0.81967981553775, 0.8815949421783832, 0.8998269729869619, 0.7270598496506222, 0.8190839013800723, 0.8370288429621867, 0.823529411764706, 0.8457652565369559, 0.7781745019952502, 0.7848725845546091, 0.8337321279561346, 0.7109700777278866, 0.8422440263961508, 0.7916636292890169, 0.8999963474248331, 0.8461538461538463, 0.8528028654224418, 0.8216777476527247, 0.8560940865748414, 0.8170618261189488, 0.8647283400240888, 0.7680128579652817, 0.7833176619561858, 0.8439325934114774, 0.8265564664839911, 0.8712076503814129, 0.7782153601170851, 0.8741176309016203, 0.8687730433896109, 0.6737043498600912, 0.7556372504853023, 0.7250615737399727, 0.83123217591775, 0.9180269263480239, 0.7964766161036996, 0.8043275457106727, 0.8454843286542927, 0.8849030023645891, 0.8437483969411262, 0.8927969356837449, 0.6916410535377259, 0.8131571126147262, 0.8316551148834287, 0.8512440944877635, 0.844144744071765, 0.7973722274670737, 0.773799348732451]\n",
      "Count of non-Nan values in row_sd: 50\n",
      "Count of non-Nan values in col_sd: 50\n"
     ]
    }
   ],
   "source": [
    "#compute row-wise and column-wise SD\n",
    "row_sd = np.nanstd(R, axis = 1)\n",
    "col_sd = np.nanstd(R, axis = 0)\n",
    "\n",
    "#combine the results into a dictionary\n",
    "result = {\"row_sd\": row_sd.tolist(), \"col_sd\": col_sd.tolist()}\n",
    "\n",
    "#print the results\n",
    "print(result[\"row_sd\"])\n",
    "print(result[\"col_sd\"])\n",
    "\n",
    "#Count of valid values in col_sd\n",
    "row_sd_count = sum(~np.isnan(result[\"row_sd\"]))\n",
    "col_sd_count = sum(~np.isnan(result[\"col_sd\"]))\n",
    "\n",
    "#print the counts\n",
    "print(\"Count of non-Nan values in row_sd:\", row_sd_count)\n",
    "print(\"Count of non-Nan values in col_sd:\", col_sd_count)"
   ]
  },
  {
   "cell_type": "markdown",
   "metadata": {},
   "source": [
    "* combine the results from the previous cell into a dataframe"
   ]
  },
  {
   "cell_type": "code",
   "execution_count": 99,
   "metadata": {
    "colab": {
     "base_uri": "https://localhost:8080/",
     "height": 1000
    },
    "id": "ZT3Gzrcm5pR2",
    "outputId": "89a7707e-c0e9-45be-cf24-8d7193609bae"
   },
   "outputs": [
    {
     "data": {
      "text/html": [
       "<div>\n",
       "<style scoped>\n",
       "    .dataframe tbody tr th:only-of-type {\n",
       "        vertical-align: middle;\n",
       "    }\n",
       "\n",
       "    .dataframe tbody tr th {\n",
       "        vertical-align: top;\n",
       "    }\n",
       "\n",
       "    .dataframe thead th {\n",
       "        text-align: right;\n",
       "    }\n",
       "</style>\n",
       "<table border=\"1\" class=\"dataframe\">\n",
       "  <thead>\n",
       "    <tr style=\"text-align: right;\">\n",
       "      <th></th>\n",
       "      <th>row_sd</th>\n",
       "      <th>col_sd</th>\n",
       "    </tr>\n",
       "  </thead>\n",
       "  <tbody>\n",
       "    <tr>\n",
       "      <th>0</th>\n",
       "      <td>0.913122</td>\n",
       "      <td>0.778215</td>\n",
       "    </tr>\n",
       "    <tr>\n",
       "      <th>1</th>\n",
       "      <td>0.813489</td>\n",
       "      <td>0.844671</td>\n",
       "    </tr>\n",
       "    <tr>\n",
       "      <th>2</th>\n",
       "      <td>0.787004</td>\n",
       "      <td>0.721688</td>\n",
       "    </tr>\n",
       "    <tr>\n",
       "      <th>3</th>\n",
       "      <td>0.844145</td>\n",
       "      <td>0.819680</td>\n",
       "    </tr>\n",
       "    <tr>\n",
       "      <th>4</th>\n",
       "      <td>0.781025</td>\n",
       "      <td>0.881595</td>\n",
       "    </tr>\n",
       "    <tr>\n",
       "      <th>5</th>\n",
       "      <td>0.866025</td>\n",
       "      <td>0.899827</td>\n",
       "    </tr>\n",
       "    <tr>\n",
       "      <th>6</th>\n",
       "      <td>0.713083</td>\n",
       "      <td>0.727060</td>\n",
       "    </tr>\n",
       "    <tr>\n",
       "      <th>7</th>\n",
       "      <td>0.780625</td>\n",
       "      <td>0.819084</td>\n",
       "    </tr>\n",
       "    <tr>\n",
       "      <th>8</th>\n",
       "      <td>0.781025</td>\n",
       "      <td>0.837029</td>\n",
       "    </tr>\n",
       "    <tr>\n",
       "      <th>9</th>\n",
       "      <td>0.885728</td>\n",
       "      <td>0.823529</td>\n",
       "    </tr>\n",
       "    <tr>\n",
       "      <th>10</th>\n",
       "      <td>0.747391</td>\n",
       "      <td>0.845765</td>\n",
       "    </tr>\n",
       "    <tr>\n",
       "      <th>11</th>\n",
       "      <td>0.752886</td>\n",
       "      <td>0.778175</td>\n",
       "    </tr>\n",
       "    <tr>\n",
       "      <th>12</th>\n",
       "      <td>0.854670</td>\n",
       "      <td>0.784873</td>\n",
       "    </tr>\n",
       "    <tr>\n",
       "      <th>13</th>\n",
       "      <td>0.856957</td>\n",
       "      <td>0.833732</td>\n",
       "    </tr>\n",
       "    <tr>\n",
       "      <th>14</th>\n",
       "      <td>0.826105</td>\n",
       "      <td>0.710970</td>\n",
       "    </tr>\n",
       "    <tr>\n",
       "      <th>15</th>\n",
       "      <td>0.835165</td>\n",
       "      <td>0.842244</td>\n",
       "    </tr>\n",
       "    <tr>\n",
       "      <th>16</th>\n",
       "      <td>0.837943</td>\n",
       "      <td>0.791664</td>\n",
       "    </tr>\n",
       "    <tr>\n",
       "      <th>17</th>\n",
       "      <td>0.944013</td>\n",
       "      <td>0.899996</td>\n",
       "    </tr>\n",
       "    <tr>\n",
       "      <th>18</th>\n",
       "      <td>0.787005</td>\n",
       "      <td>0.846154</td>\n",
       "    </tr>\n",
       "    <tr>\n",
       "      <th>19</th>\n",
       "      <td>0.812387</td>\n",
       "      <td>0.852803</td>\n",
       "    </tr>\n",
       "    <tr>\n",
       "      <th>20</th>\n",
       "      <td>0.869174</td>\n",
       "      <td>0.821678</td>\n",
       "    </tr>\n",
       "    <tr>\n",
       "      <th>21</th>\n",
       "      <td>0.755637</td>\n",
       "      <td>0.856094</td>\n",
       "    </tr>\n",
       "    <tr>\n",
       "      <th>22</th>\n",
       "      <td>0.730719</td>\n",
       "      <td>0.817062</td>\n",
       "    </tr>\n",
       "    <tr>\n",
       "      <th>23</th>\n",
       "      <td>0.862439</td>\n",
       "      <td>0.864728</td>\n",
       "    </tr>\n",
       "    <tr>\n",
       "      <th>24</th>\n",
       "      <td>0.839222</td>\n",
       "      <td>0.768013</td>\n",
       "    </tr>\n",
       "    <tr>\n",
       "      <th>25</th>\n",
       "      <td>0.866025</td>\n",
       "      <td>0.783318</td>\n",
       "    </tr>\n",
       "    <tr>\n",
       "      <th>26</th>\n",
       "      <td>0.673908</td>\n",
       "      <td>0.843933</td>\n",
       "    </tr>\n",
       "    <tr>\n",
       "      <th>27</th>\n",
       "      <td>0.784873</td>\n",
       "      <td>0.826556</td>\n",
       "    </tr>\n",
       "    <tr>\n",
       "      <th>28</th>\n",
       "      <td>0.821314</td>\n",
       "      <td>0.871208</td>\n",
       "    </tr>\n",
       "    <tr>\n",
       "      <th>29</th>\n",
       "      <td>0.842619</td>\n",
       "      <td>0.778215</td>\n",
       "    </tr>\n",
       "    <tr>\n",
       "      <th>30</th>\n",
       "      <td>0.844671</td>\n",
       "      <td>0.874118</td>\n",
       "    </tr>\n",
       "    <tr>\n",
       "      <th>31</th>\n",
       "      <td>0.918027</td>\n",
       "      <td>0.868773</td>\n",
       "    </tr>\n",
       "    <tr>\n",
       "      <th>32</th>\n",
       "      <td>0.772024</td>\n",
       "      <td>0.673704</td>\n",
       "    </tr>\n",
       "    <tr>\n",
       "      <th>33</th>\n",
       "      <td>0.611010</td>\n",
       "      <td>0.755637</td>\n",
       "    </tr>\n",
       "    <tr>\n",
       "      <th>34</th>\n",
       "      <td>0.827170</td>\n",
       "      <td>0.725062</td>\n",
       "    </tr>\n",
       "    <tr>\n",
       "      <th>35</th>\n",
       "      <td>0.656954</td>\n",
       "      <td>0.831232</td>\n",
       "    </tr>\n",
       "    <tr>\n",
       "      <th>36</th>\n",
       "      <td>0.725952</td>\n",
       "      <td>0.918027</td>\n",
       "    </tr>\n",
       "    <tr>\n",
       "      <th>37</th>\n",
       "      <td>0.644899</td>\n",
       "      <td>0.796477</td>\n",
       "    </tr>\n",
       "    <tr>\n",
       "      <th>38</th>\n",
       "      <td>0.807199</td>\n",
       "      <td>0.804328</td>\n",
       "    </tr>\n",
       "    <tr>\n",
       "      <th>39</th>\n",
       "      <td>0.855903</td>\n",
       "      <td>0.845484</td>\n",
       "    </tr>\n",
       "    <tr>\n",
       "      <th>40</th>\n",
       "      <td>0.881396</td>\n",
       "      <td>0.884903</td>\n",
       "    </tr>\n",
       "    <tr>\n",
       "      <th>41</th>\n",
       "      <td>0.853879</td>\n",
       "      <td>0.843748</td>\n",
       "    </tr>\n",
       "    <tr>\n",
       "      <th>42</th>\n",
       "      <td>0.863222</td>\n",
       "      <td>0.892797</td>\n",
       "    </tr>\n",
       "    <tr>\n",
       "      <th>43</th>\n",
       "      <td>0.877845</td>\n",
       "      <td>0.691641</td>\n",
       "    </tr>\n",
       "    <tr>\n",
       "      <th>44</th>\n",
       "      <td>0.887096</td>\n",
       "      <td>0.813157</td>\n",
       "    </tr>\n",
       "    <tr>\n",
       "      <th>45</th>\n",
       "      <td>0.871421</td>\n",
       "      <td>0.831655</td>\n",
       "    </tr>\n",
       "    <tr>\n",
       "      <th>46</th>\n",
       "      <td>0.831479</td>\n",
       "      <td>0.851244</td>\n",
       "    </tr>\n",
       "    <tr>\n",
       "      <th>47</th>\n",
       "      <td>0.874442</td>\n",
       "      <td>0.844145</td>\n",
       "    </tr>\n",
       "    <tr>\n",
       "      <th>48</th>\n",
       "      <td>0.840015</td>\n",
       "      <td>0.797372</td>\n",
       "    </tr>\n",
       "    <tr>\n",
       "      <th>49</th>\n",
       "      <td>0.805838</td>\n",
       "      <td>0.773799</td>\n",
       "    </tr>\n",
       "  </tbody>\n",
       "</table>\n",
       "</div>"
      ],
      "text/plain": [
       "      row_sd    col_sd\n",
       "0   0.913122  0.778215\n",
       "1   0.813489  0.844671\n",
       "2   0.787004  0.721688\n",
       "3   0.844145  0.819680\n",
       "4   0.781025  0.881595\n",
       "5   0.866025  0.899827\n",
       "6   0.713083  0.727060\n",
       "7   0.780625  0.819084\n",
       "8   0.781025  0.837029\n",
       "9   0.885728  0.823529\n",
       "10  0.747391  0.845765\n",
       "11  0.752886  0.778175\n",
       "12  0.854670  0.784873\n",
       "13  0.856957  0.833732\n",
       "14  0.826105  0.710970\n",
       "15  0.835165  0.842244\n",
       "16  0.837943  0.791664\n",
       "17  0.944013  0.899996\n",
       "18  0.787005  0.846154\n",
       "19  0.812387  0.852803\n",
       "20  0.869174  0.821678\n",
       "21  0.755637  0.856094\n",
       "22  0.730719  0.817062\n",
       "23  0.862439  0.864728\n",
       "24  0.839222  0.768013\n",
       "25  0.866025  0.783318\n",
       "26  0.673908  0.843933\n",
       "27  0.784873  0.826556\n",
       "28  0.821314  0.871208\n",
       "29  0.842619  0.778215\n",
       "30  0.844671  0.874118\n",
       "31  0.918027  0.868773\n",
       "32  0.772024  0.673704\n",
       "33  0.611010  0.755637\n",
       "34  0.827170  0.725062\n",
       "35  0.656954  0.831232\n",
       "36  0.725952  0.918027\n",
       "37  0.644899  0.796477\n",
       "38  0.807199  0.804328\n",
       "39  0.855903  0.845484\n",
       "40  0.881396  0.884903\n",
       "41  0.853879  0.843748\n",
       "42  0.863222  0.892797\n",
       "43  0.877845  0.691641\n",
       "44  0.887096  0.813157\n",
       "45  0.871421  0.831655\n",
       "46  0.831479  0.851244\n",
       "47  0.874442  0.844145\n",
       "48  0.840015  0.797372\n",
       "49  0.805838  0.773799"
      ]
     },
     "execution_count": 99,
     "metadata": {},
     "output_type": "execute_result"
    }
   ],
   "source": [
    "sd_df = pd.DataFrame({\"row_sd\": row_sd.tolist(), \"col_sd\": col_sd.tolist()})\n",
    "sd_df"
   ]
  },
  {
   "cell_type": "markdown",
   "metadata": {
    "id": "L-A7Cfa98DDg"
   },
   "source": [
    "* Use the Pandas apply function to compute a vector whose entries are the count of entries that are 1 or 2 in each column"
   ]
  },
  {
   "cell_type": "code",
   "execution_count": 101,
   "metadata": {
    "colab": {
     "base_uri": "https://localhost:8080/"
    },
    "id": "54XfftmJ77oY",
    "outputId": "8baa21e3-58dc-4348-d205-288750a36dd2"
   },
   "outputs": [],
   "source": [
    "R = pd.DataFrame(R)  \n",
    "\n",
    "#Compute the count of 1's and 2's in each column\n",
    "counts = R.apply(lambda col: ((col == 1) | (col == 2)).sum(), axis=0)\n",
    "\n",
    "#Print the counts\n",
    "#print(counts)"
   ]
  },
  {
   "cell_type": "markdown",
   "metadata": {
    "id": "YGsPbNYnGw7b"
   },
   "source": [
    "Since we just switched between Pandas dataframes and Numpy arrays. Here are some handy ways to check to see if you are working with a Pandas dataframe or a Numpy array"
   ]
  },
  {
   "cell_type": "code",
   "execution_count": 103,
   "metadata": {
    "colab": {
     "base_uri": "https://localhost:8080/"
    },
    "id": "XIaPkMlqHaN4",
    "outputId": "a1564ca8-68a0-4696-ac53-d7283a2bd919"
   },
   "outputs": [
    {
     "name": "stdout",
     "output_type": "stream",
     "text": [
      "R is a Pandas DataFrame\n"
     ]
    }
   ],
   "source": [
    "# Check type directly\n",
    "if type(R) == pd.DataFrame:\n",
    "    print(\"R is a Pandas DataFrame\")\n",
    "\n",
    "if type(R) == np.ndarray:\n",
    "    print(\"R is a NumPy array\")"
   ]
  },
  {
   "cell_type": "code",
   "execution_count": 105,
   "metadata": {
    "colab": {
     "base_uri": "https://localhost:8080/"
    },
    "id": "TbnwGrJzGAjI",
    "outputId": "54de6748-d7e4-420e-fb7e-3719496a1c90"
   },
   "outputs": [
    {
     "name": "stdout",
     "output_type": "stream",
     "text": [
      "Pandas DataFrame\n"
     ]
    }
   ],
   "source": [
    "# isinstance(object, classinfo): This function checks if an object is an instance of a specified class or subclass.\n",
    "# function utilizing this function to check\n",
    "def check_type(R):\n",
    "    if isinstance(R, pd.DataFrame):\n",
    "        return \"Pandas DataFrame\"\n",
    "    elif isinstance(R, np.ndarray):\n",
    "        return \"NumPy array\"\n",
    "    else:\n",
    "        return \"Unknown type\"\n",
    "\n",
    "# Test the function\n",
    "print(check_type(R))  # Output: Pandas DataFrame"
   ]
  },
  {
   "cell_type": "markdown",
   "metadata": {
    "id": "ys-3fJhOHrIq"
   },
   "source": [
    "* Create a list whose keys are the column number and values are the vector of the columns."
   ]
  },
  {
   "cell_type": "code",
   "execution_count": 107,
   "metadata": {
    "colab": {
     "base_uri": "https://localhost:8080/"
    },
    "id": "lbqjigOmGZe7",
    "outputId": "a34b842b-1010-407e-e732-603af3be95b5"
   },
   "outputs": [],
   "source": [
    "column_dict_from_R = {col: R[col].tolist() for col in R.columns}"
   ]
  },
  {
   "cell_type": "markdown",
   "metadata": {
    "id": "9nv5y7PcIjmO"
   },
   "source": [
    "* Create a list whose keys are the column number and values are themselves a list with keys: \"min\" whose value is the minimum of the column, \"max\" whose value is the maximum of the column, \"pct_missing\" is the proportion of missingness in the column and \"first_NA\" whose value is the row number of the first time the NA appears. In R this was accomplished using lappy. In Python we will use dictionary comprehension in tandem with Numpy and Pandas operations."
   ]
  },
  {
   "cell_type": "code",
   "execution_count": 109,
   "metadata": {
    "colab": {
     "base_uri": "https://localhost:8080/"
    },
    "id": "PA9Y8De_JBKy",
    "outputId": "b2414bb1-aba9-4798-9213-1be8cf957deb"
   },
   "outputs": [
    {
     "data": {
      "text/plain": [
       "{0: {'min': 0.0, 'max': 2.0, 'pct_missing': 0.38, 'first_NA': 0},\n",
       " 1: {'min': 0.0, 'max': 2.0, 'pct_missing': 0.3, 'first_NA': 3},\n",
       " 2: {'min': 0.0, 'max': 2.0, 'pct_missing': 0.28, 'first_NA': 0},\n",
       " 3: {'min': 0.0, 'max': 2.0, 'pct_missing': 0.36, 'first_NA': 3},\n",
       " 4: {'min': 0.0, 'max': 2.0, 'pct_missing': 0.26, 'first_NA': 2},\n",
       " 5: {'min': 0.0, 'max': 2.0, 'pct_missing': 0.32, 'first_NA': 2},\n",
       " 6: {'min': 0.0, 'max': 2.0, 'pct_missing': 0.38, 'first_NA': 2},\n",
       " 7: {'min': 0.0, 'max': 2.0, 'pct_missing': 0.36, 'first_NA': 0},\n",
       " 8: {'min': 0.0, 'max': 2.0, 'pct_missing': 0.28, 'first_NA': 1},\n",
       " 9: {'min': 0.0, 'max': 2.0, 'pct_missing': 0.32, 'first_NA': 3},\n",
       " 10: {'min': 0.0, 'max': 2.0, 'pct_missing': 0.22, 'first_NA': 1},\n",
       " 11: {'min': 0.0, 'max': 2.0, 'pct_missing': 0.4, 'first_NA': 0},\n",
       " 12: {'min': 0.0, 'max': 2.0, 'pct_missing': 0.38, 'first_NA': 1},\n",
       " 13: {'min': 0.0, 'max': 2.0, 'pct_missing': 0.38, 'first_NA': 1},\n",
       " 14: {'min': 0.0, 'max': 2.0, 'pct_missing': 0.26, 'first_NA': 2},\n",
       " 15: {'min': 0.0, 'max': 2.0, 'pct_missing': 0.2, 'first_NA': 6},\n",
       " 16: {'min': 0.0, 'max': 2.0, 'pct_missing': 0.24, 'first_NA': 0},\n",
       " 17: {'min': 0.0, 'max': 2.0, 'pct_missing': 0.22, 'first_NA': 0},\n",
       " 18: {'min': 0.0, 'max': 2.0, 'pct_missing': 0.48, 'first_NA': 0},\n",
       " 19: {'min': 0.0, 'max': 2.0, 'pct_missing': 0.34, 'first_NA': 4},\n",
       " 20: {'min': 0.0, 'max': 2.0, 'pct_missing': 0.28, 'first_NA': 0},\n",
       " 21: {'min': 0.0, 'max': 2.0, 'pct_missing': 0.18, 'first_NA': 6},\n",
       " 22: {'min': 0.0, 'max': 2.0, 'pct_missing': 0.24, 'first_NA': 6},\n",
       " 23: {'min': 0.0, 'max': 2.0, 'pct_missing': 0.3, 'first_NA': 3},\n",
       " 24: {'min': 0.0, 'max': 2.0, 'pct_missing': 0.36, 'first_NA': 0},\n",
       " 25: {'min': 0.0, 'max': 2.0, 'pct_missing': 0.26, 'first_NA': 1},\n",
       " 26: {'min': 0.0, 'max': 2.0, 'pct_missing': 0.4, 'first_NA': 0},\n",
       " 27: {'min': 0.0, 'max': 2.0, 'pct_missing': 0.34, 'first_NA': 4},\n",
       " 28: {'min': 0.0, 'max': 2.0, 'pct_missing': 0.24, 'first_NA': 0},\n",
       " 29: {'min': 0.0, 'max': 2.0, 'pct_missing': 0.38, 'first_NA': 0},\n",
       " 30: {'min': 0.0, 'max': 2.0, 'pct_missing': 0.3, 'first_NA': 0},\n",
       " 31: {'min': 0.0, 'max': 2.0, 'pct_missing': 0.22, 'first_NA': 1},\n",
       " 32: {'min': 0.0, 'max': 2.0, 'pct_missing': 0.3, 'first_NA': 3},\n",
       " 33: {'min': 0.0, 'max': 2.0, 'pct_missing': 0.28, 'first_NA': 3},\n",
       " 34: {'min': 0.0, 'max': 2.0, 'pct_missing': 0.3, 'first_NA': 0},\n",
       " 35: {'min': 0.0, 'max': 2.0, 'pct_missing': 0.38, 'first_NA': 0},\n",
       " 36: {'min': 0.0, 'max': 2.0, 'pct_missing': 0.36, 'first_NA': 0},\n",
       " 37: {'min': 0.0, 'max': 2.0, 'pct_missing': 0.2, 'first_NA': 3},\n",
       " 38: {'min': 0.0, 'max': 2.0, 'pct_missing': 0.22, 'first_NA': 1},\n",
       " 39: {'min': 0.0, 'max': 2.0, 'pct_missing': 0.36, 'first_NA': 4},\n",
       " 40: {'min': 0.0, 'max': 2.0, 'pct_missing': 0.26, 'first_NA': 3},\n",
       " 41: {'min': 0.0, 'max': 2.0, 'pct_missing': 0.24, 'first_NA': 4},\n",
       " 42: {'min': 0.0, 'max': 2.0, 'pct_missing': 0.38, 'first_NA': 3},\n",
       " 43: {'min': 0.0, 'max': 2.0, 'pct_missing': 0.3, 'first_NA': 1},\n",
       " 44: {'min': 0.0, 'max': 2.0, 'pct_missing': 0.3, 'first_NA': 8},\n",
       " 45: {'min': 0.0, 'max': 2.0, 'pct_missing': 0.22, 'first_NA': 2},\n",
       " 46: {'min': 0.0, 'max': 2.0, 'pct_missing': 0.26, 'first_NA': 0},\n",
       " 47: {'min': 0.0, 'max': 2.0, 'pct_missing': 0.34, 'first_NA': 1},\n",
       " 48: {'min': 0.0, 'max': 2.0, 'pct_missing': 0.28, 'first_NA': 1},\n",
       " 49: {'min': 0.0, 'max': 2.0, 'pct_missing': 0.28, 'first_NA': 1}}"
      ]
     },
     "execution_count": 109,
     "metadata": {},
     "output_type": "execute_result"
    }
   ],
   "source": [
    "# Create a dictionary with the required statistics for each column\n",
    "column_stats = {\n",
    "    col: {\n",
    "        \"min\": R[col].min(),  # Minimum value in the column\n",
    "        \"max\": R[col].max(),  # Maximum value in the column\n",
    "        \"pct_missing\": R[col].isna().mean(),  # Proportion of missing values\n",
    "        \"first_NA\": R[col].isna().idxmax() if R[col].isna().any() else None  # First NA index, None if no NA\n",
    "    }\n",
    "    for col in R.columns\n",
    "}\n",
    "\n",
    "# Display the dictionary\n",
    "column_stats\n"
   ]
  },
  {
   "cell_type": "markdown",
   "metadata": {
    "id": "ODDPcnZkJ5NC"
   },
   "source": [
    "* Set a seed and then create a vector `v` consisting of a sample of 1,000 iid normal realizations with mean -10 and variance 100."
   ]
  },
  {
   "cell_type": "code",
   "execution_count": 167,
   "metadata": {
    "colab": {
     "base_uri": "https://localhost:8080/"
    },
    "id": "nw2iaLlhJQqZ",
    "outputId": "f93873f8-979a-40c2-c95a-3d84a98fef3c"
   },
   "outputs": [],
   "source": [
    "np.random.seed(3)\n",
    "\n",
    "v = np.random.normal(loc=-10, scale=10, size=1000)\n",
    "#print(v)"
   ]
  },
  {
   "cell_type": "markdown",
   "metadata": {
    "id": "tnKYRW5AKI7I"
   },
   "source": [
    "* Repeat this exercise by resetting the seed to ensure you obtain the same results. You can use the random module built in python or random.seed from numpy."
   ]
  },
  {
   "cell_type": "code",
   "execution_count": 169,
   "metadata": {
    "colab": {
     "base_uri": "https://localhost:8080/"
    },
    "id": "1QHAam3_KCdD",
    "outputId": "9dd29024-89b8-4ab5-d150-0999b39876ae"
   },
   "outputs": [],
   "source": [
    "np.random.seed(3)\n",
    "\n",
    "v = np.random.normal(loc=-10, scale=10, size=1000)\n",
    "#print(v)"
   ]
  },
  {
   "cell_type": "markdown",
   "metadata": {
    "id": "RH1j1mgNKnc1"
   },
   "source": [
    "* Find the average of `v` and the standard error of `v`."
   ]
  },
  {
   "cell_type": "code",
   "execution_count": 171,
   "metadata": {
    "colab": {
     "base_uri": "https://localhost:8080/"
    },
    "id": "HWJZzmV3KPww",
    "outputId": "72de329e-cfa0-485a-f99f-afd0714804ef"
   },
   "outputs": [
    {
     "name": "stdout",
     "output_type": "stream",
     "text": [
      "-9.827156670191656\n",
      "0.31904424180550645\n"
     ]
    }
   ],
   "source": [
    "mean_v = np.mean(v)\n",
    "\n",
    "standard_error_v = np.std(v, ddof = 1) / np.sqrt(len(v))  \n",
    "\n",
    "print(mean_v)\n",
    "print(standard_error_v)\n"
   ]
  },
  {
   "cell_type": "markdown",
   "metadata": {
    "id": "rH-Sf7vqLBxz"
   },
   "source": [
    "* Find the 5%ile of `v` and use the `norm` function from scipy.stats to compute what it theoretically should be. Is the estimate about what is expected by theory?"
   ]
  },
  {
   "cell_type": "code",
   "execution_count": 173,
   "metadata": {
    "colab": {
     "base_uri": "https://localhost:8080/"
    },
    "id": "aBMMfyNBLAzS",
    "outputId": "644d6a5c-9cea-4d4b-b7b2-a21b82c6a347",
    "scrolled": true
   },
   "outputs": [
    {
     "name": "stdout",
     "output_type": "stream",
     "text": [
      "-26.422191473803032\n"
     ]
    }
   ],
   "source": [
    "import scipy.stats\n",
    "\n",
    "std_v = np.std(v, ddof=1) \n",
    "fifth_percentile_theoretical = scipy.stats.norm.ppf(0.05, loc=mean_v, scale=std_v)\n",
    "\n",
    "print(fifth_percentile_theoretical)"
   ]
  },
  {
   "cell_type": "markdown",
   "metadata": {
    "id": "8R9DHC_yLq57"
   },
   "source": [
    "* What is the percentile of `v` that corresponds to the value 0? What should it be theoretically? Is the estimate about what is expected by theory?"
   ]
  },
  {
   "cell_type": "code",
   "execution_count": 175,
   "metadata": {
    "colab": {
     "base_uri": "https://localhost:8080/"
    },
    "id": "zf-4WAiKLefJ",
    "outputId": "e131bf75-069c-42ba-b577-7b119d641679"
   },
   "outputs": [
    {
     "name": "stdout",
     "output_type": "stream",
     "text": [
      "nan\n"
     ]
    }
   ],
   "source": [
    "from scipy.stats import stats\n",
    "\n",
    "std_v = np.std(v[0], ddof = 1) \n",
    "fifth_percentile_theoretical = scipy.stats.norm.ppf(0.05, loc=mean_v, scale=std_v)\n",
    "\n",
    "print(fifth_percentile_theoretical)"
   ]
  },
  {
   "cell_type": "markdown",
   "metadata": {
    "id": "494OABRdM6CZ"
   },
   "source": [
    "* Create a function `my_reverse` which takes as required input a vector `v` and returns the vector in reverse where the first entry is the last entry, etc. No function calls are allowed inside your function otherwise that would defeat the purpose of the exercise! (Yes, there is a base R function that does this called `rev`). "
   ]
  },
  {
   "cell_type": "code",
   "execution_count": 177,
   "metadata": {
    "colab": {
     "base_uri": "https://localhost:8080/"
    },
    "id": "FNXIBb6ZM2yq",
    "outputId": "175eaaa6-2a71-46c5-b22c-9fc94d83ef15"
   },
   "outputs": [],
   "source": [
    "def my_reverse(v):\n",
    "    return v[::-1]\n",
    "\n",
    "#v = kist(range(10))\n",
    "#print(my_reverse(v))"
   ]
  },
  {
   "cell_type": "markdown",
   "metadata": {
    "id": "lCutgH2kOMDd"
   },
   "source": [
    " * Built in methods in python to reverse a list."
   ]
  },
  {
   "cell_type": "code",
   "execution_count": 125,
   "metadata": {
    "colab": {
     "base_uri": "https://localhost:8080/"
    },
    "id": "_F67NrC8N5nl",
    "outputId": "38ec40dc-3f57-4ada-d253-045c1b4bf985"
   },
   "outputs": [
    {
     "name": "stdout",
     "output_type": "stream",
     "text": [
      "[5, 4, 3, 2, 1]\n",
      "[5, 4, 3, 2, 1]\n"
     ]
    }
   ],
   "source": [
    "#reverse using slicing\n",
    "v = [1, 2, 3, 4, 5]\n",
    "v_reversed = v[::-1]\n",
    "print(v_reversed)\n",
    "\n",
    "#using the .reverse method\n",
    "v = [1, 2, 3, 4, 5]\n",
    "v.reverse()\n",
    "print(v)"
   ]
  },
  {
   "cell_type": "markdown",
   "metadata": {
    "id": "4VZDnJUFNp9d"
   },
   "source": [
    "* Create a function `flip_matrix` which takes as required input a matrix, an argument `dim_to_rev` that returns the matrix with the rows in reverse order or the columns in reverse order depending on the `dim_to_rev` argument. Let the default be the dimension of the matrix that is greater."
   ]
  },
  {
   "cell_type": "code",
   "execution_count": 127,
   "metadata": {
    "colab": {
     "base_uri": "https://localhost:8080/"
    },
    "id": "KJzPP76INONa",
    "outputId": "44dd9b1f-9e5b-48ed-edcb-37be5f026df9"
   },
   "outputs": [
    {
     "name": "stdout",
     "output_type": "stream",
     "text": [
      "[[3, 4], [1, 2]]\n",
      "[[2, 1], [4, 3]]\n"
     ]
    }
   ],
   "source": [
    "def flip_matrix(matrix, dim_to_rev = None):\n",
    "    if dim_to_rev is None:\n",
    "        dim_to_rev = 'row' if len(matrix) >= len(matrix[0]) else 'col'\n",
    "        \n",
    "    if dim_to_rev[0].lower() == 'r':\n",
    "        return matrix[::-1]\n",
    "    else:\n",
    "        return [row[::-1] for row in matrix]\n",
    "matrix = [\n",
    "    [1, 2],\n",
    "    [3, 4]\n",
    "]\n",
    "print(flip_matrix(matrix))\n",
    "print(flip_matrix(matrix, 'col'))"
   ]
  },
  {
   "cell_type": "markdown",
   "metadata": {
    "id": "1n-VzTJTPpoU"
   },
   "source": [
    "* Create a list named `my_list` with keys \"A\", \"B\", ... where the entries are arrays of size 1, 2 x 2, 3 x 3 x 3, etc. Fill the array with the numbers 1, 2, 3, etc. Make 8 entries according to this sequence."
   ]
  },
  {
   "cell_type": "code",
   "execution_count": 197,
   "metadata": {
    "colab": {
     "base_uri": "https://localhost:8080/"
    },
    "id": "vGYjxbVcPNLN",
    "outputId": "165888fb-2728-4a4c-daf3-5183e6e1c66b"
   },
   "outputs": [
    {
     "name": "stdout",
     "output_type": "stream",
     "text": [
      "Matrix 1: shape = (1,)\n",
      "[1] \n",
      "\n",
      "Matrix 2: shape = (2, 2)\n",
      "[[1 2]\n",
      " [3 4]] \n",
      "\n",
      "Matrix 3: shape = (3, 3, 3)\n",
      "[[[ 1  2  3]\n",
      "  [ 4  5  6]\n",
      "  [ 7  8  9]]\n",
      "\n",
      " [[10 11 12]\n",
      "  [13 14 15]\n",
      "  [16 17 18]]\n",
      "\n",
      " [[19 20 21]\n",
      "  [22 23 24]\n",
      "  [25 26 27]]] \n",
      "\n"
     ]
    }
   ],
   "source": [
    "import numpy as np\n",
    "\n",
    "my_list = [np.arange(1, i**i + 1).reshape([i] * i) for i in range(1, 4)]\n",
    "\n",
    "for i, matrix in enumerate(my_list[:8], start=1):\n",
    "    print(f\"Matrix {i}: shape = {matrix.shape}\")\n",
    "    print(matrix, \"\\n\")"
   ]
  },
  {
   "cell_type": "markdown",
   "metadata": {
    "id": "mZExH8G6Qr-s"
   },
   "source": [
    "* Run the following code:"
   ]
  },
  {
   "cell_type": "code",
   "execution_count": 199,
   "metadata": {
    "colab": {
     "base_uri": "https://localhost:8080/"
    },
    "id": "iV2anQ8cQBw_",
    "outputId": "c9bf96a4-5f98-41f8-9ef6-2b95f9ccfeb9"
   },
   "outputs": [
    {
     "name": "stdout",
     "output_type": "stream",
     "text": [
      "Matrix 1: Size: 112 bytes\n",
      "Matrix 2: Size: 128 bytes\n",
      "Matrix 3: Size: 144 bytes\n"
     ]
    }
   ],
   "source": [
    "import sys\n",
    "\n",
    "sizes = {i: sys.getsizeof(value) for i, value in enumerate(my_list, start=1)}\n",
    "\n",
    "# Print the sizes\n",
    "for key, size in sizes.items():\n",
    "    print(f\"Matrix {key}: Size: {size} bytes\")"
   ]
  },
  {
   "cell_type": "markdown",
   "metadata": {
    "id": "GG32YkXnSxqM"
   },
   "source": [
    "* Create vector `v` consisting of all numbers from -100 to 100 and test using the second line of code"
   ]
  },
  {
   "cell_type": "code",
   "execution_count": 193,
   "metadata": {
    "colab": {
     "base_uri": "https://localhost:8080/"
    },
    "id": "LnkySK_uSSlb",
    "outputId": "b0de8d3e-cc41-4123-f08c-0a03e395b3d5"
   },
   "outputs": [
    {
     "name": "stdout",
     "output_type": "stream",
     "text": [
      "Number: -100, Size: 28 bytes\n",
      "Number: -99, Size: 28 bytes\n",
      "Number: -98, Size: 28 bytes\n",
      "Number: -97, Size: 28 bytes\n",
      "Number: -96, Size: 28 bytes\n",
      "Number: -95, Size: 28 bytes\n",
      "Number: -94, Size: 28 bytes\n",
      "Number: -93, Size: 28 bytes\n",
      "Number: -92, Size: 28 bytes\n",
      "Number: -91, Size: 28 bytes\n",
      "Number: -90, Size: 28 bytes\n",
      "Number: -89, Size: 28 bytes\n",
      "Number: -88, Size: 28 bytes\n",
      "Number: -87, Size: 28 bytes\n",
      "Number: -86, Size: 28 bytes\n",
      "Number: -85, Size: 28 bytes\n",
      "Number: -84, Size: 28 bytes\n",
      "Number: -83, Size: 28 bytes\n",
      "Number: -82, Size: 28 bytes\n",
      "Number: -81, Size: 28 bytes\n",
      "Number: -80, Size: 28 bytes\n",
      "Number: -79, Size: 28 bytes\n",
      "Number: -78, Size: 28 bytes\n",
      "Number: -77, Size: 28 bytes\n",
      "Number: -76, Size: 28 bytes\n",
      "Number: -75, Size: 28 bytes\n",
      "Number: -74, Size: 28 bytes\n",
      "Number: -73, Size: 28 bytes\n",
      "Number: -72, Size: 28 bytes\n",
      "Number: -71, Size: 28 bytes\n",
      "Number: -70, Size: 28 bytes\n",
      "Number: -69, Size: 28 bytes\n",
      "Number: -68, Size: 28 bytes\n",
      "Number: -67, Size: 28 bytes\n",
      "Number: -66, Size: 28 bytes\n",
      "Number: -65, Size: 28 bytes\n",
      "Number: -64, Size: 28 bytes\n",
      "Number: -63, Size: 28 bytes\n",
      "Number: -62, Size: 28 bytes\n",
      "Number: -61, Size: 28 bytes\n",
      "Number: -60, Size: 28 bytes\n",
      "Number: -59, Size: 28 bytes\n",
      "Number: -58, Size: 28 bytes\n",
      "Number: -57, Size: 28 bytes\n",
      "Number: -56, Size: 28 bytes\n",
      "Number: -55, Size: 28 bytes\n",
      "Number: -54, Size: 28 bytes\n",
      "Number: -53, Size: 28 bytes\n",
      "Number: -52, Size: 28 bytes\n",
      "Number: -51, Size: 28 bytes\n",
      "Number: -50, Size: 28 bytes\n",
      "Number: -49, Size: 28 bytes\n",
      "Number: -48, Size: 28 bytes\n",
      "Number: -47, Size: 28 bytes\n",
      "Number: -46, Size: 28 bytes\n",
      "Number: -45, Size: 28 bytes\n",
      "Number: -44, Size: 28 bytes\n",
      "Number: -43, Size: 28 bytes\n",
      "Number: -42, Size: 28 bytes\n",
      "Number: -41, Size: 28 bytes\n",
      "Number: -40, Size: 28 bytes\n",
      "Number: -39, Size: 28 bytes\n",
      "Number: -38, Size: 28 bytes\n",
      "Number: -37, Size: 28 bytes\n",
      "Number: -36, Size: 28 bytes\n",
      "Number: -35, Size: 28 bytes\n",
      "Number: -34, Size: 28 bytes\n",
      "Number: -33, Size: 28 bytes\n",
      "Number: -32, Size: 28 bytes\n",
      "Number: -31, Size: 28 bytes\n",
      "Number: -30, Size: 28 bytes\n",
      "Number: -29, Size: 28 bytes\n",
      "Number: -28, Size: 28 bytes\n",
      "Number: -27, Size: 28 bytes\n",
      "Number: -26, Size: 28 bytes\n",
      "Number: -25, Size: 28 bytes\n",
      "Number: -24, Size: 28 bytes\n",
      "Number: -23, Size: 28 bytes\n",
      "Number: -22, Size: 28 bytes\n",
      "Number: -21, Size: 28 bytes\n",
      "Number: -20, Size: 28 bytes\n",
      "Number: -19, Size: 28 bytes\n",
      "Number: -18, Size: 28 bytes\n",
      "Number: -17, Size: 28 bytes\n",
      "Number: -16, Size: 28 bytes\n",
      "Number: -15, Size: 28 bytes\n",
      "Number: -14, Size: 28 bytes\n",
      "Number: -13, Size: 28 bytes\n",
      "Number: -12, Size: 28 bytes\n",
      "Number: -11, Size: 28 bytes\n",
      "Number: -10, Size: 28 bytes\n",
      "Number: -9, Size: 28 bytes\n",
      "Number: -8, Size: 28 bytes\n",
      "Number: -7, Size: 28 bytes\n",
      "Number: -6, Size: 28 bytes\n",
      "Number: -5, Size: 28 bytes\n",
      "Number: -4, Size: 28 bytes\n",
      "Number: -3, Size: 28 bytes\n",
      "Number: -2, Size: 28 bytes\n",
      "Number: -1, Size: 28 bytes\n",
      "Number: 0, Size: 28 bytes\n",
      "Number: 1, Size: 28 bytes\n",
      "Number: 2, Size: 28 bytes\n",
      "Number: 3, Size: 28 bytes\n",
      "Number: 4, Size: 28 bytes\n",
      "Number: 5, Size: 28 bytes\n",
      "Number: 6, Size: 28 bytes\n",
      "Number: 7, Size: 28 bytes\n",
      "Number: 8, Size: 28 bytes\n",
      "Number: 9, Size: 28 bytes\n",
      "Number: 10, Size: 28 bytes\n",
      "Number: 11, Size: 28 bytes\n",
      "Number: 12, Size: 28 bytes\n",
      "Number: 13, Size: 28 bytes\n",
      "Number: 14, Size: 28 bytes\n",
      "Number: 15, Size: 28 bytes\n",
      "Number: 16, Size: 28 bytes\n",
      "Number: 17, Size: 28 bytes\n",
      "Number: 18, Size: 28 bytes\n",
      "Number: 19, Size: 28 bytes\n",
      "Number: 20, Size: 28 bytes\n",
      "Number: 21, Size: 28 bytes\n",
      "Number: 22, Size: 28 bytes\n",
      "Number: 23, Size: 28 bytes\n",
      "Number: 24, Size: 28 bytes\n",
      "Number: 25, Size: 28 bytes\n",
      "Number: 26, Size: 28 bytes\n",
      "Number: 27, Size: 28 bytes\n",
      "Number: 28, Size: 28 bytes\n",
      "Number: 29, Size: 28 bytes\n",
      "Number: 30, Size: 28 bytes\n",
      "Number: 31, Size: 28 bytes\n",
      "Number: 32, Size: 28 bytes\n",
      "Number: 33, Size: 28 bytes\n",
      "Number: 34, Size: 28 bytes\n",
      "Number: 35, Size: 28 bytes\n",
      "Number: 36, Size: 28 bytes\n",
      "Number: 37, Size: 28 bytes\n",
      "Number: 38, Size: 28 bytes\n",
      "Number: 39, Size: 28 bytes\n",
      "Number: 40, Size: 28 bytes\n",
      "Number: 41, Size: 28 bytes\n",
      "Number: 42, Size: 28 bytes\n",
      "Number: 43, Size: 28 bytes\n",
      "Number: 44, Size: 28 bytes\n",
      "Number: 45, Size: 28 bytes\n",
      "Number: 46, Size: 28 bytes\n",
      "Number: 47, Size: 28 bytes\n",
      "Number: 48, Size: 28 bytes\n",
      "Number: 49, Size: 28 bytes\n",
      "Number: 50, Size: 28 bytes\n",
      "Number: 51, Size: 28 bytes\n",
      "Number: 52, Size: 28 bytes\n",
      "Number: 53, Size: 28 bytes\n",
      "Number: 54, Size: 28 bytes\n",
      "Number: 55, Size: 28 bytes\n",
      "Number: 56, Size: 28 bytes\n",
      "Number: 57, Size: 28 bytes\n",
      "Number: 58, Size: 28 bytes\n",
      "Number: 59, Size: 28 bytes\n",
      "Number: 60, Size: 28 bytes\n",
      "Number: 61, Size: 28 bytes\n",
      "Number: 62, Size: 28 bytes\n",
      "Number: 63, Size: 28 bytes\n",
      "Number: 64, Size: 28 bytes\n",
      "Number: 65, Size: 28 bytes\n",
      "Number: 66, Size: 28 bytes\n",
      "Number: 67, Size: 28 bytes\n",
      "Number: 68, Size: 28 bytes\n",
      "Number: 69, Size: 28 bytes\n",
      "Number: 70, Size: 28 bytes\n",
      "Number: 71, Size: 28 bytes\n",
      "Number: 72, Size: 28 bytes\n",
      "Number: 73, Size: 28 bytes\n",
      "Number: 74, Size: 28 bytes\n",
      "Number: 75, Size: 28 bytes\n",
      "Number: 76, Size: 28 bytes\n",
      "Number: 77, Size: 28 bytes\n",
      "Number: 78, Size: 28 bytes\n",
      "Number: 79, Size: 28 bytes\n",
      "Number: 80, Size: 28 bytes\n",
      "Number: 81, Size: 28 bytes\n",
      "Number: 82, Size: 28 bytes\n",
      "Number: 83, Size: 28 bytes\n",
      "Number: 84, Size: 28 bytes\n",
      "Number: 85, Size: 28 bytes\n",
      "Number: 86, Size: 28 bytes\n",
      "Number: 87, Size: 28 bytes\n",
      "Number: 88, Size: 28 bytes\n",
      "Number: 89, Size: 28 bytes\n",
      "Number: 90, Size: 28 bytes\n",
      "Number: 91, Size: 28 bytes\n",
      "Number: 92, Size: 28 bytes\n",
      "Number: 93, Size: 28 bytes\n",
      "Number: 94, Size: 28 bytes\n",
      "Number: 95, Size: 28 bytes\n",
      "Number: 96, Size: 28 bytes\n",
      "Number: 97, Size: 28 bytes\n",
      "Number: 98, Size: 28 bytes\n",
      "Number: 99, Size: 28 bytes\n",
      "Number: 100, Size: 28 bytes\n"
     ]
    }
   ],
   "source": [
    "import sys\n",
    "\n",
    "v = list(range(-100, 101))\n",
    "sizes = {number: sys.getsizeof(number) for number in v}\n",
    "\n",
    "for number, size in sizes.items():\n",
    "    print(f\"Number: {number}, Size: {size} bytes\")"
   ]
  },
  {
   "cell_type": "markdown",
   "metadata": {
    "id": "dH4AjtFUVphe"
   },
   "source": [
    "* Test the `my_reverse` function using the following code:"
   ]
  },
  {
   "cell_type": "code",
   "execution_count": 135,
   "metadata": {
    "colab": {
     "base_uri": "https://localhost:8080/"
    },
    "id": "zAJAaua1SbqD",
    "outputId": "f1922dde-f8d2-47a8-edd5-f0d70144d9c2"
   },
   "outputs": [
    {
     "name": "stdout",
     "output_type": "stream",
     "text": [
      "[1, 2, 3, 4, 5, 6, 7, 8, 9, 10]\n",
      "[10, 9, 8, 7, 6, 5, 4, 3, 2, 1]\n"
     ]
    }
   ],
   "source": [
    "# Test the function\n",
    "v = list(range(1, 11))\n",
    "v_reversed = my_reverse(v)\n",
    "print(v)\n",
    "print(v_reversed)\n",
    "type(v_reversed)\n",
    "\n",
    "assert my_reverse(v) == v[::-1], \"my_reverse failed for numerical vector\"\n",
    "\n",
    " # Test with character vector\n",
    "v_char = [\"A\", \"B\", \"C\"]\n",
    "assert my_reverse(v_char) == v_char[::-1], \"my_reverse failed for character vector\""
   ]
  },
  {
   "cell_type": "markdown",
   "metadata": {
    "id": "B4ch5SmkVzfz"
   },
   "source": [
    "## A little about strings\n",
    "\n",
    "* Use the `re.split` function by importing the re module and `random` from the random module to put the sentences in the string `lorem` below in random order. You will also need to manipulate the output of `re.split` which is a list. You may need to learn basic concepts of regular expressions."
   ]
  },
  {
   "cell_type": "code",
   "execution_count": 137,
   "metadata": {
    "colab": {
     "base_uri": "https://localhost:8080/"
    },
    "id": "tVRqWzFCVzAX",
    "outputId": "c58a0650-9033-4ef6-d02e-4f3f6ee21251"
   },
   "outputs": [
    {
     "name": "stdout",
     "output_type": "stream",
     "text": [
      "Morbi posuere varius volutpat.\n",
      "Aenean nulla ante, iaculis sed vehicula ac, finibus vel arcu.\n",
      "Mauris at sodales augue.\n",
      "Lorem ipsum dolor sit amet, consectetur adipiscing elit.\n",
      "Morbi faucibus ligula id massa ultricies viverra.\n",
      "Donec at tempor erat.\n",
      "Cras suscipit id nibh lacinia elementum.\n",
      "Curabitur est augue, congue eget quam in, scelerisque semper magna.\n",
      "Donec vehicula sagittis nisi non semper.\n",
      "Integer dapibus mi lectus, eu posuere arcu ultricies in.\n"
     ]
    }
   ],
   "source": [
    "import re\n",
    "import random\n",
    "\n",
    "lorem = \"\"\"Lorem ipsum dolor sit amet, consectetur adipiscing elit.\n",
    "Morbi posuere varius volutpat. Morbi faucibus ligula id massa ultricies viverra.\n",
    "Donec vehicula sagittis nisi non semper. Donec at tempor erat.\n",
    "Integer dapibus mi lectus, eu posuere arcu ultricies in.\n",
    "Cras suscipit id nibh lacinia elementum. Curabitur est augue, congue eget quam in, scelerisque semper magna.\n",
    "Aenean nulla ante, iaculis sed vehicula ac, finibus vel arcu. Mauris at sodales augue.\"\"\"\n",
    "\n",
    "sentences = re.split(r'(?<=[.!?])\\s+', lorem)\n",
    "sentences = [s.strip() for s in sentences if s.strip()]\n",
    "random.shuffle(sentences)\n",
    "for sentence in sentences:\n",
    "    print(sentence)\n",
    "\n"
   ]
  },
  {
   "cell_type": "markdown",
   "metadata": {
    "id": "40eoQu9LWrBo"
   },
   "source": [
    "* You have a set of names divided by gender (M / F) and generation (Boomer / GenX / Millenial):\n",
    "\n",
    "M / Boomer      \"Theodore, Bernard, Gene, Herbert, Ray, Tom, Lee, Alfred, Leroy, Eddie\"\n",
    "\n",
    "M / GenX        \"Marc, Jamie, Greg, Darryl, Tim, Dean, Jon, Chris, Troy, Jeff\"\n",
    "\n",
    "M / Millennial  \"Zachary, Dylan, Christian, Wesley, Seth, Austin, Gabriel, Evan, Casey, Luis\"\n",
    "\n",
    "F / Boomer      \"Gloria, Joan, Dorothy, Shirley, Betty, Dianne, Kay, Marjorie, Lorraine, Mildred\"\n",
    "\n",
    "F / GenX        \"Tracy, Dawn, Tina, Tammy, Melinda, Tamara, Tracey, Colleen, Sherri, Heidi\"\n",
    "\n",
    "F / Millennial  \"Samantha, Alexis, Brittany, Lauren, Taylor, Bethany, Latoya, Candice, Brittney, Cheyenne\"\n",
    "\n",
    "Create python dictionary to store this data.\n"
   ]
  },
  {
   "cell_type": "code",
   "execution_count": 139,
   "metadata": {
    "colab": {
     "base_uri": "https://localhost:8080/"
    },
    "id": "KMpxbhglWYoA",
    "outputId": "334af4d7-a902-4c79-c3fe-03988d6654ab"
   },
   "outputs": [
    {
     "name": "stdout",
     "output_type": "stream",
     "text": [
      "Millennial (M): ['Zachary', 'Dylan', 'Christian', 'Wesley', 'Seth', 'Austin', 'Gabriel', 'Evan', 'Casey', 'Luis']\n",
      "Boomer (F): ['Gloria', 'Joan', 'Dorothy', 'Shirley', 'Betty', 'Dianne', 'Kay', 'Marjorie', 'Lorraine', 'Mildred']\n"
     ]
    }
   ],
   "source": [
    "names = {\n",
    "    \"M\": {\n",
    "        \"Boomer\": [\"Theodore\", \"Bernard\", \"Gene\", \"Herbert\", \"Ray\", \"Tom\", \"Lee\", \"Alfred\", \"Leroy\", \"Eddie\"],\n",
    "        \"GenX\": [\"Marc\", \"Jamie\", \"Greg\", \"Darryl\", \"Tim\", \"Dean\", \"Jon\", \"Chris\", \"Troy\", \"Jeff\"],\n",
    "        \"Millennial\": [\"Zachary\", \"Dylan\", \"Christian\", \"Wesley\", \"Seth\", \"Austin\", \"Gabriel\", \"Evan\", \"Casey\", \"Luis\"]\n",
    "    },\n",
    "    \"F\": {\n",
    "        \"Boomer\": [\"Gloria\", \"Joan\", \"Dorothy\", \"Shirley\", \"Betty\", \"Dianne\", \"Kay\", \"Marjorie\", \"Lorraine\", \"Mildred\"],\n",
    "        \"GenX\": [\"Tracy\", \"Dawn\", \"Tina\", \"Tammy\", \"Melinda\", \"Tamara\", \"Tracey\", \"Colleen\", \"Sherri\", \"Heidi\"],\n",
    "        \"Millennial\": [\"Samantha\", \"Alexis\", \"Brittany\", \"Lauren\", \"Taylor\", \"Bethany\", \"Latoya\", \"Candice\", \"Brittney\", \"Cheyenne\"]\n",
    "    }\n",
    "}\n",
    "\n",
    "print(\"Millennial (M):\", names[\"M\"][\"Millennial\"])\n",
    "print(\"Boomer (F):\", names[\"F\"][\"Boomer\"])"
   ]
  },
  {
   "cell_type": "markdown",
   "metadata": {
    "id": "mE0YVNtiWzC2"
   },
   "source": [
    "* Now cleanup the namespace by deleting all stored objects and functions:"
   ]
  },
  {
   "cell_type": "code",
   "execution_count": 141,
   "metadata": {
    "colab": {
     "base_uri": "https://localhost:8080/"
    },
    "id": "cqUJBY1uWzty",
    "outputId": "7a5eae8c-2613-4e44-a460-25d06818e769"
   },
   "outputs": [],
   "source": [
    "for name in list(globals().keys()):\n",
    "    if name not in ('__builtins__', '__doc__', '__name__', '__package__'):\n",
    "        del globals()[name]"
   ]
  }
 ],
 "metadata": {
  "colab": {
   "provenance": []
  },
  "kernelspec": {
   "display_name": "Python [conda env:base] *",
   "language": "python",
   "name": "conda-base-py"
  },
  "language_info": {
   "codemirror_mode": {
    "name": "ipython",
    "version": 3
   },
   "file_extension": ".py",
   "mimetype": "text/x-python",
   "name": "python",
   "nbconvert_exporter": "python",
   "pygments_lexer": "ipython3",
   "version": "3.12.7"
  }
 },
 "nbformat": 4,
 "nbformat_minor": 4
}
